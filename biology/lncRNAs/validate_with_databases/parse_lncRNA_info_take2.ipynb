{
 "cells": [
  {
   "cell_type": "markdown",
   "metadata": {},
   "source": [
    "# Parse lncRNA take 2\n",
    "\n",
    "Here we are using 2 lncRNA databases, lnc2Cancer v2 (http://www.bio-bigdata.com/lnc2cancer/download.html) and CRlncRNA (http://crlnc.xtbg.ac.cn/download/)"
   ]
  },
  {
   "cell_type": "code",
   "execution_count": 1,
   "metadata": {},
   "outputs": [],
   "source": [
    "split_up_by_cancer = True\n",
    "uselnc2cancer3 = True # use new lnc2cancer3.0 instead of lnc2cancer2.0?"
   ]
  },
  {
   "cell_type": "markdown",
   "metadata": {},
   "source": [
    "# Read in the databases"
   ]
  },
  {
   "cell_type": "code",
   "execution_count": 2,
   "metadata": {},
   "outputs": [
    {
     "data": {
      "text/plain": [
       "LncRNA name                                                      AB073614\n",
       "Synonyms                                                              NaN\n",
       "geneid                                                                NaN\n",
       "ensg_name                                                             NaN\n",
       "refseq_id                                                             NaN\n",
       "position                                     GRCh38_3:149173591-149175492\n",
       "cancer type                                             colorectal cancer\n",
       "ICD-0-3                                                             C19.9\n",
       "ICD-0-3.1                                                             NaN\n",
       "methods                                                 qPCR,Western blot\n",
       "sample                  colorectal cancer tissues, cell lines (SW480 a...\n",
       "regulated                                                    up-regulated\n",
       "function description    lncRNA AB073614 was highly expressed in the co...\n",
       "pubmed id                                                        29439310\n",
       "year                                                                 2018\n",
       "title                   LncRNA AB073614 induces epithelial-mesenchymal...\n",
       "drug                                                                    0\n",
       "circulating                                                             0\n",
       "survival                                                                0\n",
       "miR                                                                     0\n",
       "variant                                                                 0\n",
       "TF                                                                      0\n",
       "methylation                                                             0\n",
       "Name: 13, dtype: object"
      ]
     },
     "execution_count": 2,
     "metadata": {},
     "output_type": "execute_result"
    },
    {
     "data": {
      "text/plain": [
       "'lncRNA AB073614 was highly expressed in the colorectal cancer tissues.lncRNA AB073614 can induce the expression of EMT cell markers and regulate the process of EMT of CRC cells through regulating the JAK/STAT3 pathway activation.'"
      ]
     },
     "execution_count": 2,
     "metadata": {},
     "output_type": "execute_result"
    },
    {
     "data": {
      "text/plain": [
       "{'Differential expression',\n",
       " 'differential expression',\n",
       " 'down-regulated',\n",
       " 'down-regulation',\n",
       " nan,\n",
       " 'up-Regulated',\n",
       " 'up-regulated',\n",
       " 'up-regulated             '}"
      ]
     },
     "execution_count": 2,
     "metadata": {},
     "output_type": "execute_result"
    }
   ],
   "source": [
    "import pandas as pd\n",
    "lnc2cancer_db = pd.read_csv('databases/all_lnc_2_cancer_associations.txt', sep = '\\t')\n",
    "# lnc2cancer_db\n",
    "\n",
    "lnc2cancer_db.loc[13]\n",
    "lnc2cancer_db.loc[13]['function description']\n",
    "\n",
    "import numpy as np\n",
    "set(lnc2cancer_db['regulated'])"
   ]
  },
  {
   "cell_type": "code",
   "execution_count": 3,
   "metadata": {},
   "outputs": [
    {
     "data": {
      "text/html": [
       "<div>\n",
       "<style scoped>\n",
       "    .dataframe tbody tr th:only-of-type {\n",
       "        vertical-align: middle;\n",
       "    }\n",
       "\n",
       "    .dataframe tbody tr th {\n",
       "        vertical-align: top;\n",
       "    }\n",
       "\n",
       "    .dataframe thead th {\n",
       "        text-align: right;\n",
       "    }\n",
       "</style>\n",
       "<table border=\"1\" class=\"dataframe\">\n",
       "  <thead>\n",
       "    <tr style=\"text-align: right;\">\n",
       "      <th></th>\n",
       "      <th>LncRNA name</th>\n",
       "      <th>Synonyms</th>\n",
       "      <th>geneid</th>\n",
       "      <th>ensg_name</th>\n",
       "      <th>refseq_id</th>\n",
       "      <th>position</th>\n",
       "      <th>cancer type</th>\n",
       "      <th>ICD-0-3</th>\n",
       "      <th>ICD-0-3.1</th>\n",
       "      <th>methods</th>\n",
       "      <th>...</th>\n",
       "      <th>pubmed id</th>\n",
       "      <th>year</th>\n",
       "      <th>title</th>\n",
       "      <th>drug</th>\n",
       "      <th>circulating</th>\n",
       "      <th>survival</th>\n",
       "      <th>miR</th>\n",
       "      <th>variant</th>\n",
       "      <th>TF</th>\n",
       "      <th>methylation</th>\n",
       "    </tr>\n",
       "  </thead>\n",
       "  <tbody>\n",
       "    <tr>\n",
       "      <th>0</th>\n",
       "      <td>6p22lncRNAs</td>\n",
       "      <td>NaN</td>\n",
       "      <td>NaN</td>\n",
       "      <td>NaN</td>\n",
       "      <td>NaN</td>\n",
       "      <td>NaN</td>\n",
       "      <td>neuroblastoma</td>\n",
       "      <td>NaN</td>\n",
       "      <td>M9500/3</td>\n",
       "      <td>qPCR etc.</td>\n",
       "      <td>...</td>\n",
       "      <td>29533783</td>\n",
       "      <td>2018</td>\n",
       "      <td>Sense-Antisense lncRNA Pair Encoded by Locus 6...</td>\n",
       "      <td>0</td>\n",
       "      <td>0</td>\n",
       "      <td>1</td>\n",
       "      <td>0</td>\n",
       "      <td>0</td>\n",
       "      <td>0</td>\n",
       "      <td>0</td>\n",
       "    </tr>\n",
       "    <tr>\n",
       "      <th>1</th>\n",
       "      <td>7SK</td>\n",
       "      <td>RN7SK, 7SK</td>\n",
       "      <td>125050.0</td>\n",
       "      <td>ENSG00000283293</td>\n",
       "      <td>NR_001445</td>\n",
       "      <td>GRCh38_6:52995621-52995948</td>\n",
       "      <td>hepatocellular carcinoma</td>\n",
       "      <td>C22.0</td>\n",
       "      <td>M8170/3</td>\n",
       "      <td>microarray, qPCR etc.</td>\n",
       "      <td>...</td>\n",
       "      <td>27894309</td>\n",
       "      <td>2016</td>\n",
       "      <td>Analysis of long noncoding RNA expression in h...</td>\n",
       "      <td>0</td>\n",
       "      <td>0</td>\n",
       "      <td>0</td>\n",
       "      <td>1</td>\n",
       "      <td>0</td>\n",
       "      <td>0</td>\n",
       "      <td>1</td>\n",
       "    </tr>\n",
       "    <tr>\n",
       "      <th>2</th>\n",
       "      <td>7SL</td>\n",
       "      <td>RN7SL1, 7L1a, 7SL, RN7SL, RNSRP1</td>\n",
       "      <td>6029.0</td>\n",
       "      <td>ENSG00000276168</td>\n",
       "      <td>NR_002715</td>\n",
       "      <td>GRCh38_14:49586580-49586878</td>\n",
       "      <td>breast cancer</td>\n",
       "      <td>C50</td>\n",
       "      <td>NaN</td>\n",
       "      <td>qPCR, Western blot, ChIP, Luciferase reporter ...</td>\n",
       "      <td>...</td>\n",
       "      <td>26718402</td>\n",
       "      <td>2016</td>\n",
       "      <td>Tumor FOXP3 represses the expression of long n...</td>\n",
       "      <td>0</td>\n",
       "      <td>0</td>\n",
       "      <td>0</td>\n",
       "      <td>1</td>\n",
       "      <td>1</td>\n",
       "      <td>0</td>\n",
       "      <td>0</td>\n",
       "    </tr>\n",
       "    <tr>\n",
       "      <th>3</th>\n",
       "      <td>91H</td>\n",
       "      <td>NaN</td>\n",
       "      <td>NaN</td>\n",
       "      <td>NaN</td>\n",
       "      <td>NaN</td>\n",
       "      <td>NaN</td>\n",
       "      <td>colorectal cancer</td>\n",
       "      <td>C19.9</td>\n",
       "      <td>NaN</td>\n",
       "      <td>qPCR, Western blot</td>\n",
       "      <td>...</td>\n",
       "      <td>29410604</td>\n",
       "      <td>2018</td>\n",
       "      <td>Exosomal lncRNA 91H is associated with poor de...</td>\n",
       "      <td>0</td>\n",
       "      <td>1</td>\n",
       "      <td>1</td>\n",
       "      <td>0</td>\n",
       "      <td>0</td>\n",
       "      <td>0</td>\n",
       "      <td>0</td>\n",
       "    </tr>\n",
       "    <tr>\n",
       "      <th>4</th>\n",
       "      <td>91H</td>\n",
       "      <td>NaN</td>\n",
       "      <td>NaN</td>\n",
       "      <td>NaN</td>\n",
       "      <td>NaN</td>\n",
       "      <td>NaN</td>\n",
       "      <td>breast cancer</td>\n",
       "      <td>C50</td>\n",
       "      <td>NaN</td>\n",
       "      <td>qPCR, RNAi, ChIP, Cell proliferation assay etc.</td>\n",
       "      <td>...</td>\n",
       "      <td>27780718</td>\n",
       "      <td>2017</td>\n",
       "      <td>The long non-coding RNA 91H increases aggressi...</td>\n",
       "      <td>0</td>\n",
       "      <td>0</td>\n",
       "      <td>0</td>\n",
       "      <td>0</td>\n",
       "      <td>0</td>\n",
       "      <td>0</td>\n",
       "      <td>1</td>\n",
       "    </tr>\n",
       "    <tr>\n",
       "      <th>...</th>\n",
       "      <td>...</td>\n",
       "      <td>...</td>\n",
       "      <td>...</td>\n",
       "      <td>...</td>\n",
       "      <td>...</td>\n",
       "      <td>...</td>\n",
       "      <td>...</td>\n",
       "      <td>...</td>\n",
       "      <td>...</td>\n",
       "      <td>...</td>\n",
       "      <td>...</td>\n",
       "      <td>...</td>\n",
       "      <td>...</td>\n",
       "      <td>...</td>\n",
       "      <td>...</td>\n",
       "      <td>...</td>\n",
       "      <td>...</td>\n",
       "      <td>...</td>\n",
       "      <td>...</td>\n",
       "      <td>...</td>\n",
       "      <td>...</td>\n",
       "    </tr>\n",
       "    <tr>\n",
       "      <th>4983</th>\n",
       "      <td>ZNF750</td>\n",
       "      <td>ZNF750, ZFP750</td>\n",
       "      <td>NaN</td>\n",
       "      <td>ENSG00000141579</td>\n",
       "      <td>NaN</td>\n",
       "      <td>GRCh38_17:82829435-82840578</td>\n",
       "      <td>lung squamous cell carcinoma</td>\n",
       "      <td>C34</td>\n",
       "      <td>M8070/3</td>\n",
       "      <td>qPCR, RNAi, Western blot, Cell proliferation a...</td>\n",
       "      <td>...</td>\n",
       "      <td>27819679</td>\n",
       "      <td>2016</td>\n",
       "      <td>ZNF750 is a lineage-specific tumour suppressor...</td>\n",
       "      <td>0</td>\n",
       "      <td>0</td>\n",
       "      <td>1</td>\n",
       "      <td>0</td>\n",
       "      <td>0</td>\n",
       "      <td>0</td>\n",
       "      <td>0</td>\n",
       "    </tr>\n",
       "    <tr>\n",
       "      <th>4984</th>\n",
       "      <td>ZNF750</td>\n",
       "      <td>ZNF750, ZFP750</td>\n",
       "      <td>NaN</td>\n",
       "      <td>ENSG00000141579</td>\n",
       "      <td>NaN</td>\n",
       "      <td>GRCh38_17:82829435-82840578</td>\n",
       "      <td>head and neck squamous cell carcinoma</td>\n",
       "      <td>C76.0</td>\n",
       "      <td>M8070/3</td>\n",
       "      <td>qPCR, RNAi, Western blot, ChIP, Cell prolifera...</td>\n",
       "      <td>...</td>\n",
       "      <td>27819679</td>\n",
       "      <td>2016</td>\n",
       "      <td>ZNF750 is a lineage-specific tumour suppressor...</td>\n",
       "      <td>0</td>\n",
       "      <td>0</td>\n",
       "      <td>1</td>\n",
       "      <td>0</td>\n",
       "      <td>0</td>\n",
       "      <td>0</td>\n",
       "      <td>0</td>\n",
       "    </tr>\n",
       "    <tr>\n",
       "      <th>4985</th>\n",
       "      <td>ZNRD1-AS1</td>\n",
       "      <td>ZNRD1ASP, C6orf12, HCG8, HCGVIII, HCGVIII-1, H...</td>\n",
       "      <td>NaN</td>\n",
       "      <td>NaN</td>\n",
       "      <td>NaN</td>\n",
       "      <td>NaN</td>\n",
       "      <td>endometrial cancer</td>\n",
       "      <td>NaN</td>\n",
       "      <td>M8380/3</td>\n",
       "      <td>microarray, qPCR etc.</td>\n",
       "      <td>...</td>\n",
       "      <td>26131074</td>\n",
       "      <td>2015</td>\n",
       "      <td>Expression profile of long non-coding RNAs is ...</td>\n",
       "      <td>0</td>\n",
       "      <td>0</td>\n",
       "      <td>0</td>\n",
       "      <td>0</td>\n",
       "      <td>0</td>\n",
       "      <td>0</td>\n",
       "      <td>0</td>\n",
       "    </tr>\n",
       "    <tr>\n",
       "      <th>4986</th>\n",
       "      <td>ZNRD1-AS1</td>\n",
       "      <td>ZNRD1ASP, C6orf12, HCG8, HCGVIII, HCGVIII-1, H...</td>\n",
       "      <td>NaN</td>\n",
       "      <td>NaN</td>\n",
       "      <td>NaN</td>\n",
       "      <td>NaN</td>\n",
       "      <td>lung cancer</td>\n",
       "      <td>C34</td>\n",
       "      <td>NaN</td>\n",
       "      <td>qPCR, Genotyping etc.</td>\n",
       "      <td>...</td>\n",
       "      <td>27166266</td>\n",
       "      <td>2016</td>\n",
       "      <td>Strong evidence for LncRNA ZNRD1-AS1, and its ...</td>\n",
       "      <td>0</td>\n",
       "      <td>1</td>\n",
       "      <td>0</td>\n",
       "      <td>0</td>\n",
       "      <td>1</td>\n",
       "      <td>0</td>\n",
       "      <td>0</td>\n",
       "    </tr>\n",
       "    <tr>\n",
       "      <th>4987</th>\n",
       "      <td>ZXF2</td>\n",
       "      <td>NaN</td>\n",
       "      <td>NaN</td>\n",
       "      <td>NaN</td>\n",
       "      <td>NaN</td>\n",
       "      <td>NaN</td>\n",
       "      <td>lung adenocarcinoma</td>\n",
       "      <td>C34</td>\n",
       "      <td>M8140/3</td>\n",
       "      <td>qPCR, RNAi, Western blot, Cell apoptosis assay...</td>\n",
       "      <td>...</td>\n",
       "      <td>25896422</td>\n",
       "      <td>2015</td>\n",
       "      <td>Overexpression of Long Non-Coding RNA ZXF2 Pro...</td>\n",
       "      <td>0</td>\n",
       "      <td>0</td>\n",
       "      <td>1</td>\n",
       "      <td>0</td>\n",
       "      <td>0</td>\n",
       "      <td>0</td>\n",
       "      <td>0</td>\n",
       "    </tr>\n",
       "  </tbody>\n",
       "</table>\n",
       "<p>4988 rows × 23 columns</p>\n",
       "</div>"
      ],
      "text/plain": [
       "      LncRNA name                                           Synonyms  \\\n",
       "0     6p22lncRNAs                                                NaN   \n",
       "1             7SK                                         RN7SK, 7SK   \n",
       "2             7SL                   RN7SL1, 7L1a, 7SL, RN7SL, RNSRP1   \n",
       "3             91H                                                NaN   \n",
       "4             91H                                                NaN   \n",
       "...           ...                                                ...   \n",
       "4983       ZNF750                                     ZNF750, ZFP750   \n",
       "4984       ZNF750                                     ZNF750, ZFP750   \n",
       "4985    ZNRD1-AS1  ZNRD1ASP, C6orf12, HCG8, HCGVIII, HCGVIII-1, H...   \n",
       "4986    ZNRD1-AS1  ZNRD1ASP, C6orf12, HCG8, HCGVIII, HCGVIII-1, H...   \n",
       "4987         ZXF2                                                NaN   \n",
       "\n",
       "        geneid        ensg_name  refseq_id                     position  \\\n",
       "0          NaN              NaN        NaN                          NaN   \n",
       "1     125050.0  ENSG00000283293  NR_001445   GRCh38_6:52995621-52995948   \n",
       "2       6029.0  ENSG00000276168  NR_002715  GRCh38_14:49586580-49586878   \n",
       "3          NaN              NaN        NaN                          NaN   \n",
       "4          NaN              NaN        NaN                          NaN   \n",
       "...        ...              ...        ...                          ...   \n",
       "4983       NaN  ENSG00000141579        NaN  GRCh38_17:82829435-82840578   \n",
       "4984       NaN  ENSG00000141579        NaN  GRCh38_17:82829435-82840578   \n",
       "4985       NaN              NaN        NaN                          NaN   \n",
       "4986       NaN              NaN        NaN                          NaN   \n",
       "4987       NaN              NaN        NaN                          NaN   \n",
       "\n",
       "                                cancer type ICD-0-3 ICD-0-3.1  \\\n",
       "0                             neuroblastoma     NaN   M9500/3   \n",
       "1                  hepatocellular carcinoma   C22.0   M8170/3   \n",
       "2                             breast cancer     C50       NaN   \n",
       "3                         colorectal cancer   C19.9       NaN   \n",
       "4                             breast cancer     C50       NaN   \n",
       "...                                     ...     ...       ...   \n",
       "4983           lung squamous cell carcinoma     C34   M8070/3   \n",
       "4984  head and neck squamous cell carcinoma   C76.0   M8070/3   \n",
       "4985                     endometrial cancer     NaN   M8380/3   \n",
       "4986                            lung cancer     C34       NaN   \n",
       "4987                    lung adenocarcinoma     C34   M8140/3   \n",
       "\n",
       "                                                methods  ... pubmed id  year  \\\n",
       "0                                             qPCR etc.  ...  29533783  2018   \n",
       "1                                 microarray, qPCR etc.  ...  27894309  2016   \n",
       "2     qPCR, Western blot, ChIP, Luciferase reporter ...  ...  26718402  2016   \n",
       "3                                    qPCR, Western blot  ...  29410604  2018   \n",
       "4       qPCR, RNAi, ChIP, Cell proliferation assay etc.  ...  27780718  2017   \n",
       "...                                                 ...  ...       ...   ...   \n",
       "4983  qPCR, RNAi, Western blot, Cell proliferation a...  ...  27819679  2016   \n",
       "4984  qPCR, RNAi, Western blot, ChIP, Cell prolifera...  ...  27819679  2016   \n",
       "4985                              microarray, qPCR etc.  ...  26131074  2015   \n",
       "4986                              qPCR, Genotyping etc.  ...  27166266  2016   \n",
       "4987  qPCR, RNAi, Western blot, Cell apoptosis assay...  ...  25896422  2015   \n",
       "\n",
       "                                                  title  drug  circulating  \\\n",
       "0     Sense-Antisense lncRNA Pair Encoded by Locus 6...     0            0   \n",
       "1     Analysis of long noncoding RNA expression in h...     0            0   \n",
       "2     Tumor FOXP3 represses the expression of long n...     0            0   \n",
       "3     Exosomal lncRNA 91H is associated with poor de...     0            1   \n",
       "4     The long non-coding RNA 91H increases aggressi...     0            0   \n",
       "...                                                 ...   ...          ...   \n",
       "4983  ZNF750 is a lineage-specific tumour suppressor...     0            0   \n",
       "4984  ZNF750 is a lineage-specific tumour suppressor...     0            0   \n",
       "4985  Expression profile of long non-coding RNAs is ...     0            0   \n",
       "4986  Strong evidence for LncRNA ZNRD1-AS1, and its ...     0            1   \n",
       "4987  Overexpression of Long Non-Coding RNA ZXF2 Pro...     0            0   \n",
       "\n",
       "     survival miR  variant  TF  methylation  \n",
       "0           1   0        0   0            0  \n",
       "1           0   1        0   0            1  \n",
       "2           0   1        1   0            0  \n",
       "3           1   0        0   0            0  \n",
       "4           0   0        0   0            1  \n",
       "...       ...  ..      ...  ..          ...  \n",
       "4983        1   0        0   0            0  \n",
       "4984        1   0        0   0            0  \n",
       "4985        0   0        0   0            0  \n",
       "4986        0   0        1   0            0  \n",
       "4987        1   0        0   0            0  \n",
       "\n",
       "[4988 rows x 23 columns]"
      ]
     },
     "execution_count": 3,
     "metadata": {},
     "output_type": "execute_result"
    }
   ],
   "source": [
    "lnc2cancer_db"
   ]
  },
  {
   "cell_type": "code",
   "execution_count": 4,
   "metadata": {},
   "outputs": [
    {
     "data": {
      "text/html": [
       "<div>\n",
       "<style scoped>\n",
       "    .dataframe tbody tr th:only-of-type {\n",
       "        vertical-align: middle;\n",
       "    }\n",
       "\n",
       "    .dataframe tbody tr th {\n",
       "        vertical-align: top;\n",
       "    }\n",
       "\n",
       "    .dataframe thead th {\n",
       "        text-align: right;\n",
       "    }\n",
       "</style>\n",
       "<table border=\"1\" class=\"dataframe\">\n",
       "  <thead>\n",
       "    <tr style=\"text-align: right;\">\n",
       "      <th></th>\n",
       "      <th>name1</th>\n",
       "      <th>cancer type</th>\n",
       "      <th>methods</th>\n",
       "      <th>sample</th>\n",
       "      <th>regulated</th>\n",
       "      <th>function description</th>\n",
       "      <th>pubmed id</th>\n",
       "      <th>year</th>\n",
       "      <th>title</th>\n",
       "    </tr>\n",
       "  </thead>\n",
       "  <tbody>\n",
       "    <tr>\n",
       "      <th>0</th>\n",
       "      <td>LINC001152</td>\n",
       "      <td>hepatocellular carcinoma</td>\n",
       "      <td>RT-PCR , Luciferase reporter assay , Western b...</td>\n",
       "      <td>HCC tissues and corresponding normal tissues, ...</td>\n",
       "      <td>up-regulated</td>\n",
       "      <td>The expression of LINC01152 was significantly ...</td>\n",
       "      <td>31054511</td>\n",
       "      <td>2019.0</td>\n",
       "      <td>HBx-related Long Non-Coding RNA 01152 Promotes...</td>\n",
       "    </tr>\n",
       "    <tr>\n",
       "      <th>1</th>\n",
       "      <td>LINC00152</td>\n",
       "      <td>cervical cancer</td>\n",
       "      <td>qRT-PCR , Luciferase reporter assay , Western ...</td>\n",
       "      <td>cervical cancer tissues and their adjacent non...</td>\n",
       "      <td>up-regulated</td>\n",
       "      <td>LINC00152 was up-regulated in CC tissues and c...</td>\n",
       "      <td>31114990</td>\n",
       "      <td>2019.0</td>\n",
       "      <td>Long Non-Coding RNA 00152 Promotes Cell Prolif...</td>\n",
       "    </tr>\n",
       "    <tr>\n",
       "      <th>2</th>\n",
       "      <td>6p22lncRNAs</td>\n",
       "      <td>neuroblastoma</td>\n",
       "      <td>qPCR etc.</td>\n",
       "      <td>cell line (SH-SY5Y, IMR32, SK-N-AS, SK-N-BE2)</td>\n",
       "      <td>down-regulated</td>\n",
       "      <td>A pair of sense/antisense lncRNA (6p22lncRNAs)...</td>\n",
       "      <td>29533783</td>\n",
       "      <td>2018.0</td>\n",
       "      <td>Sense-Antisense lncRNA Pair Encoded by Locus 6...</td>\n",
       "    </tr>\n",
       "    <tr>\n",
       "      <th>3</th>\n",
       "      <td>7SK</td>\n",
       "      <td>hepatocellular carcinoma</td>\n",
       "      <td>microarray, qPCR etc.</td>\n",
       "      <td>HCC tissues</td>\n",
       "      <td>up-regulated</td>\n",
       "      <td>The majority (14 out of 17) of these lncRNAs w...</td>\n",
       "      <td>27894309</td>\n",
       "      <td>2016.0</td>\n",
       "      <td>Analysis of long noncoding RNA expression in h...</td>\n",
       "    </tr>\n",
       "    <tr>\n",
       "      <th>4</th>\n",
       "      <td>7SL</td>\n",
       "      <td>breast cancer</td>\n",
       "      <td>qPCR, Western blot, ChIP, Luciferase reporter ...</td>\n",
       "      <td>cell lines (MCF-10A, MCF-7, HeLa, and HCT-116)</td>\n",
       "      <td>differentially expressed</td>\n",
       "      <td>In this study, we detected that over-expressio...</td>\n",
       "      <td>26718402</td>\n",
       "      <td>2016.0</td>\n",
       "      <td>Tumor FOXP3 represses the expression of long n...</td>\n",
       "    </tr>\n",
       "    <tr>\n",
       "      <th>...</th>\n",
       "      <td>...</td>\n",
       "      <td>...</td>\n",
       "      <td>...</td>\n",
       "      <td>...</td>\n",
       "      <td>...</td>\n",
       "      <td>...</td>\n",
       "      <td>...</td>\n",
       "      <td>...</td>\n",
       "      <td>...</td>\n",
       "    </tr>\n",
       "    <tr>\n",
       "      <th>9301</th>\n",
       "      <td>ZRANB2</td>\n",
       "      <td>glioma</td>\n",
       "      <td>qPCR, Western blot</td>\n",
       "      <td>glioma tissues, cell lines (U87, HEK293T, U251)</td>\n",
       "      <td>up-regulated</td>\n",
       "      <td>ZRANB2 is up-regulated in glioma tissues and g...</td>\n",
       "      <td>30744670</td>\n",
       "      <td>2019.0</td>\n",
       "      <td>ZRANB2/SNHG20/FOXK1 Axis regulates Vasculogeni...</td>\n",
       "    </tr>\n",
       "    <tr>\n",
       "      <th>9302</th>\n",
       "      <td>ZXF1</td>\n",
       "      <td>lung adenocarcinoma</td>\n",
       "      <td>qRT-PCR, Western blot</td>\n",
       "      <td>LA tissues, cell lines</td>\n",
       "      <td>down-regulated</td>\n",
       "      <td>ZXF1 could function as an oncogene partly by s...</td>\n",
       "      <td>32160453</td>\n",
       "      <td>2020.0</td>\n",
       "      <td>Downregulation of long non-coding RNA ZXF1 res...</td>\n",
       "    </tr>\n",
       "    <tr>\n",
       "      <th>9303</th>\n",
       "      <td>ZXF1</td>\n",
       "      <td>lung adenocarcinoma</td>\n",
       "      <td>microarray, qPCR, RNAi etc.</td>\n",
       "      <td>lung adenocarcinoma tissues, cell lines (A549)</td>\n",
       "      <td>up-regulated</td>\n",
       "      <td>Here we found that LncRNA ZXF1 levels were rem...</td>\n",
       "      <td>24721325</td>\n",
       "      <td>2014.0</td>\n",
       "      <td>Enhanced expression of long non-coding RNA ZXF...</td>\n",
       "    </tr>\n",
       "    <tr>\n",
       "      <th>9304</th>\n",
       "      <td>ZXF2</td>\n",
       "      <td>gastric cancer</td>\n",
       "      <td>qPCR etc</td>\n",
       "      <td>GC tissues, cell lines (MKN-45, NCI-N87, AGS a...</td>\n",
       "      <td>up-regulated</td>\n",
       "      <td>PTPRG-AS1, FOXP4-AS1, BLACAT2, ZXF2 and UCC ar...</td>\n",
       "      <td>32194743</td>\n",
       "      <td>2020.0</td>\n",
       "      <td>Expression Levels and Associations of Five Lon...</td>\n",
       "    </tr>\n",
       "    <tr>\n",
       "      <th>9305</th>\n",
       "      <td>ZXF2</td>\n",
       "      <td>lung adenocarcinoma</td>\n",
       "      <td>qPCR, RNAi, Western blot, Cell apoptosis assay...</td>\n",
       "      <td>lung adenocarcinoma tissues</td>\n",
       "      <td>up-regulated</td>\n",
       "      <td>The expression of ZXF2 was 2 fold or higher in...</td>\n",
       "      <td>25896422</td>\n",
       "      <td>2015.0</td>\n",
       "      <td>Overexpression of Long Non-Coding RNA ZXF2 Pro...</td>\n",
       "    </tr>\n",
       "  </tbody>\n",
       "</table>\n",
       "<p>9306 rows × 9 columns</p>\n",
       "</div>"
      ],
      "text/plain": [
       "            name1               cancer type  \\\n",
       "0      LINC001152  hepatocellular carcinoma   \n",
       "1       LINC00152           cervical cancer   \n",
       "2     6p22lncRNAs             neuroblastoma   \n",
       "3             7SK  hepatocellular carcinoma   \n",
       "4             7SL             breast cancer   \n",
       "...           ...                       ...   \n",
       "9301       ZRANB2                    glioma   \n",
       "9302         ZXF1       lung adenocarcinoma   \n",
       "9303         ZXF1       lung adenocarcinoma   \n",
       "9304         ZXF2            gastric cancer   \n",
       "9305         ZXF2       lung adenocarcinoma   \n",
       "\n",
       "                                                methods  \\\n",
       "0     RT-PCR , Luciferase reporter assay , Western b...   \n",
       "1     qRT-PCR , Luciferase reporter assay , Western ...   \n",
       "2                                             qPCR etc.   \n",
       "3                                 microarray, qPCR etc.   \n",
       "4     qPCR, Western blot, ChIP, Luciferase reporter ...   \n",
       "...                                                 ...   \n",
       "9301                                qPCR, Western blot    \n",
       "9302                              qRT-PCR, Western blot   \n",
       "9303                        microarray, qPCR, RNAi etc.   \n",
       "9304                                           qPCR etc   \n",
       "9305  qPCR, RNAi, Western blot, Cell apoptosis assay...   \n",
       "\n",
       "                                                 sample  \\\n",
       "0     HCC tissues and corresponding normal tissues, ...   \n",
       "1     cervical cancer tissues and their adjacent non...   \n",
       "2         cell line (SH-SY5Y, IMR32, SK-N-AS, SK-N-BE2)   \n",
       "3                                           HCC tissues   \n",
       "4        cell lines (MCF-10A, MCF-7, HeLa, and HCT-116)   \n",
       "...                                                 ...   \n",
       "9301    glioma tissues, cell lines (U87, HEK293T, U251)   \n",
       "9302                             LA tissues, cell lines   \n",
       "9303     lung adenocarcinoma tissues, cell lines (A549)   \n",
       "9304  GC tissues, cell lines (MKN-45, NCI-N87, AGS a...   \n",
       "9305                        lung adenocarcinoma tissues   \n",
       "\n",
       "                     regulated  \\\n",
       "0                 up-regulated   \n",
       "1                 up-regulated   \n",
       "2               down-regulated   \n",
       "3                 up-regulated   \n",
       "4     differentially expressed   \n",
       "...                        ...   \n",
       "9301              up-regulated   \n",
       "9302            down-regulated   \n",
       "9303              up-regulated   \n",
       "9304              up-regulated   \n",
       "9305              up-regulated   \n",
       "\n",
       "                                   function description  pubmed id    year  \\\n",
       "0     The expression of LINC01152 was significantly ...   31054511  2019.0   \n",
       "1     LINC00152 was up-regulated in CC tissues and c...   31114990  2019.0   \n",
       "2     A pair of sense/antisense lncRNA (6p22lncRNAs)...   29533783  2018.0   \n",
       "3     The majority (14 out of 17) of these lncRNAs w...   27894309  2016.0   \n",
       "4     In this study, we detected that over-expressio...   26718402  2016.0   \n",
       "...                                                 ...        ...     ...   \n",
       "9301  ZRANB2 is up-regulated in glioma tissues and g...   30744670  2019.0   \n",
       "9302  ZXF1 could function as an oncogene partly by s...   32160453  2020.0   \n",
       "9303  Here we found that LncRNA ZXF1 levels were rem...   24721325  2014.0   \n",
       "9304  PTPRG-AS1, FOXP4-AS1, BLACAT2, ZXF2 and UCC ar...   32194743  2020.0   \n",
       "9305  The expression of ZXF2 was 2 fold or higher in...   25896422  2015.0   \n",
       "\n",
       "                                                  title  \n",
       "0     HBx-related Long Non-Coding RNA 01152 Promotes...  \n",
       "1     Long Non-Coding RNA 00152 Promotes Cell Prolif...  \n",
       "2     Sense-Antisense lncRNA Pair Encoded by Locus 6...  \n",
       "3     Analysis of long noncoding RNA expression in h...  \n",
       "4     Tumor FOXP3 represses the expression of long n...  \n",
       "...                                                 ...  \n",
       "9301  ZRANB2/SNHG20/FOXK1 Axis regulates Vasculogeni...  \n",
       "9302  Downregulation of long non-coding RNA ZXF1 res...  \n",
       "9303  Enhanced expression of long non-coding RNA ZXF...  \n",
       "9304  Expression Levels and Associations of Five Lon...  \n",
       "9305  Overexpression of Long Non-Coding RNA ZXF2 Pro...  \n",
       "\n",
       "[9306 rows x 9 columns]"
      ]
     },
     "execution_count": 4,
     "metadata": {},
     "output_type": "execute_result"
    }
   ],
   "source": [
    "if uselnc2cancer3:\n",
    "    lnc2cancer_3 = pd.read_excel('databases/lnc2cancer_3.xlsx')\n",
    "    lnc2cancer_3"
   ]
  },
  {
   "cell_type": "markdown",
   "metadata": {},
   "source": [
    "Interesting info from this database: LncRNA name, Synonyms, regulated, function description\n",
    "Will need to extract hallmark keyword and relation out of function description\n",
    "Stuff to add in later: cancer type"
   ]
  },
  {
   "cell_type": "code",
   "execution_count": 5,
   "metadata": {},
   "outputs": [
    {
     "data": {
      "text/html": [
       "<div>\n",
       "<style scoped>\n",
       "    .dataframe tbody tr th:only-of-type {\n",
       "        vertical-align: middle;\n",
       "    }\n",
       "\n",
       "    .dataframe tbody tr th {\n",
       "        vertical-align: top;\n",
       "    }\n",
       "\n",
       "    .dataframe thead th {\n",
       "        text-align: right;\n",
       "    }\n",
       "</style>\n",
       "<table border=\"1\" class=\"dataframe\">\n",
       "  <thead>\n",
       "    <tr style=\"text-align: right;\">\n",
       "      <th></th>\n",
       "      <th>LncRNA</th>\n",
       "      <th>tissue</th>\n",
       "      <th>cancer type</th>\n",
       "      <th>expression level</th>\n",
       "      <th>oncogene/suppress gene</th>\n",
       "      <th>pathway</th>\n",
       "      <th>binding gene/factor</th>\n",
       "      <th>associated gene/factor</th>\n",
       "      <th>proliferation</th>\n",
       "      <th>apoptosis</th>\n",
       "      <th>migration</th>\n",
       "      <th>EMT</th>\n",
       "      <th>invasion</th>\n",
       "      <th>metastasis</th>\n",
       "      <th>prognosis</th>\n",
       "      <th>tag</th>\n",
       "      <th>PMID</th>\n",
       "    </tr>\n",
       "  </thead>\n",
       "  <tbody>\n",
       "    <tr>\n",
       "      <th>0</th>\n",
       "      <td>91H</td>\n",
       "      <td>breast</td>\n",
       "      <td>breast cancer</td>\n",
       "      <td>up</td>\n",
       "      <td>onco</td>\n",
       "      <td>NaN</td>\n",
       "      <td>NaN</td>\n",
       "      <td>IGF2+</td>\n",
       "      <td>NaN</td>\n",
       "      <td>NaN</td>\n",
       "      <td>NaN</td>\n",
       "      <td>NaN</td>\n",
       "      <td>NaN</td>\n",
       "      <td>NaN</td>\n",
       "      <td>NaN</td>\n",
       "      <td>NaN</td>\n",
       "      <td>18794369</td>\n",
       "    </tr>\n",
       "    <tr>\n",
       "      <th>1</th>\n",
       "      <td>91H</td>\n",
       "      <td>esophagus</td>\n",
       "      <td>esophageal squamous cell cancer</td>\n",
       "      <td>down</td>\n",
       "      <td>TS</td>\n",
       "      <td>NaN</td>\n",
       "      <td>NaN</td>\n",
       "      <td>IGF2-</td>\n",
       "      <td>NaN</td>\n",
       "      <td>NaN</td>\n",
       "      <td>NaN</td>\n",
       "      <td>NaN</td>\n",
       "      <td>NaN</td>\n",
       "      <td>NaN</td>\n",
       "      <td>NaN</td>\n",
       "      <td>epigenetic modification</td>\n",
       "      <td>24706416</td>\n",
       "    </tr>\n",
       "    <tr>\n",
       "      <th>2</th>\n",
       "      <td>91H</td>\n",
       "      <td>colorectum</td>\n",
       "      <td>colorectal cancer</td>\n",
       "      <td>up</td>\n",
       "      <td>onco</td>\n",
       "      <td>NaN</td>\n",
       "      <td>NaN</td>\n",
       "      <td>NaN</td>\n",
       "      <td>+</td>\n",
       "      <td>NaN</td>\n",
       "      <td>+</td>\n",
       "      <td>NaN</td>\n",
       "      <td>NaN</td>\n",
       "      <td>+</td>\n",
       "      <td>-</td>\n",
       "      <td>NaN</td>\n",
       "      <td>25058480</td>\n",
       "    </tr>\n",
       "    <tr>\n",
       "      <th>3</th>\n",
       "      <td>91H</td>\n",
       "      <td>bone</td>\n",
       "      <td>osteosarcoma</td>\n",
       "      <td>up</td>\n",
       "      <td>onco</td>\n",
       "      <td>NaN</td>\n",
       "      <td>NaN</td>\n",
       "      <td>NaN</td>\n",
       "      <td>+</td>\n",
       "      <td>NaN</td>\n",
       "      <td>+</td>\n",
       "      <td>NaN</td>\n",
       "      <td>NaN</td>\n",
       "      <td>+</td>\n",
       "      <td>-</td>\n",
       "      <td>chemotherapy resistance</td>\n",
       "      <td>27555785</td>\n",
       "    </tr>\n",
       "    <tr>\n",
       "      <th>4</th>\n",
       "      <td>AATBC</td>\n",
       "      <td>bladder</td>\n",
       "      <td>bladder cancer</td>\n",
       "      <td>up</td>\n",
       "      <td>onco</td>\n",
       "      <td>JNK signaling</td>\n",
       "      <td>NaN</td>\n",
       "      <td>cyclin D1+,CDK4+,p18-,pRb+,caspase-9 -,caspase...</td>\n",
       "      <td>NaN</td>\n",
       "      <td>NaN</td>\n",
       "      <td>NaN</td>\n",
       "      <td>NaN</td>\n",
       "      <td>NaN</td>\n",
       "      <td>NaN</td>\n",
       "      <td>NaN</td>\n",
       "      <td>NaN</td>\n",
       "      <td>25473900</td>\n",
       "    </tr>\n",
       "    <tr>\n",
       "      <th>...</th>\n",
       "      <td>...</td>\n",
       "      <td>...</td>\n",
       "      <td>...</td>\n",
       "      <td>...</td>\n",
       "      <td>...</td>\n",
       "      <td>...</td>\n",
       "      <td>...</td>\n",
       "      <td>...</td>\n",
       "      <td>...</td>\n",
       "      <td>...</td>\n",
       "      <td>...</td>\n",
       "      <td>...</td>\n",
       "      <td>...</td>\n",
       "      <td>...</td>\n",
       "      <td>...</td>\n",
       "      <td>...</td>\n",
       "      <td>...</td>\n",
       "    </tr>\n",
       "    <tr>\n",
       "      <th>1067</th>\n",
       "      <td>ZNF300P1</td>\n",
       "      <td>ovary</td>\n",
       "      <td>type 2 epithelial ovarian cancer</td>\n",
       "      <td>/</td>\n",
       "      <td>onco</td>\n",
       "      <td>NaN</td>\n",
       "      <td>NaN</td>\n",
       "      <td>NaN</td>\n",
       "      <td>+</td>\n",
       "      <td>NaN</td>\n",
       "      <td>+</td>\n",
       "      <td>NaN</td>\n",
       "      <td>NaN</td>\n",
       "      <td>+</td>\n",
       "      <td>NaN</td>\n",
       "      <td>epigenetic modification</td>\n",
       "      <td>24393131</td>\n",
       "    </tr>\n",
       "    <tr>\n",
       "      <th>1068</th>\n",
       "      <td>ZNRD1-AS1</td>\n",
       "      <td>liver</td>\n",
       "      <td>hepatic cancer</td>\n",
       "      <td>/</td>\n",
       "      <td>/</td>\n",
       "      <td>NaN</td>\n",
       "      <td>NaN</td>\n",
       "      <td>NaN</td>\n",
       "      <td>+</td>\n",
       "      <td>NaN</td>\n",
       "      <td>NaN</td>\n",
       "      <td>NaN</td>\n",
       "      <td>NaN</td>\n",
       "      <td>NaN</td>\n",
       "      <td>NaN</td>\n",
       "      <td>SNP</td>\n",
       "      <td>25110835</td>\n",
       "    </tr>\n",
       "    <tr>\n",
       "      <th>1069</th>\n",
       "      <td>ZNRD1-AS1</td>\n",
       "      <td>lung</td>\n",
       "      <td>lung cancer</td>\n",
       "      <td>up</td>\n",
       "      <td>onco</td>\n",
       "      <td>NaN</td>\n",
       "      <td>NaN</td>\n",
       "      <td>ZNRD1</td>\n",
       "      <td>NaN</td>\n",
       "      <td>NaN</td>\n",
       "      <td>NaN</td>\n",
       "      <td>NaN</td>\n",
       "      <td>NaN</td>\n",
       "      <td>NaN</td>\n",
       "      <td>NaN</td>\n",
       "      <td>SNP</td>\n",
       "      <td>27166266</td>\n",
       "    </tr>\n",
       "    <tr>\n",
       "      <th>1070</th>\n",
       "      <td>ZXF1</td>\n",
       "      <td>lung</td>\n",
       "      <td>lung adenocarcinoma</td>\n",
       "      <td>up</td>\n",
       "      <td>onco</td>\n",
       "      <td>NaN</td>\n",
       "      <td>NaN</td>\n",
       "      <td>NaN</td>\n",
       "      <td>NaN</td>\n",
       "      <td>NaN</td>\n",
       "      <td>+</td>\n",
       "      <td>NaN</td>\n",
       "      <td>+</td>\n",
       "      <td>NaN</td>\n",
       "      <td>-</td>\n",
       "      <td>NaN</td>\n",
       "      <td>24721325</td>\n",
       "    </tr>\n",
       "    <tr>\n",
       "      <th>1071</th>\n",
       "      <td>ZXF2</td>\n",
       "      <td>lung</td>\n",
       "      <td>lung adenocarcinoma</td>\n",
       "      <td>up</td>\n",
       "      <td>onco</td>\n",
       "      <td>c-Myc signaling</td>\n",
       "      <td>NaN</td>\n",
       "      <td>NaN</td>\n",
       "      <td>+</td>\n",
       "      <td>NaN</td>\n",
       "      <td>+</td>\n",
       "      <td>NaN</td>\n",
       "      <td>+</td>\n",
       "      <td>NaN</td>\n",
       "      <td>NaN</td>\n",
       "      <td>NaN</td>\n",
       "      <td>25896422</td>\n",
       "    </tr>\n",
       "  </tbody>\n",
       "</table>\n",
       "<p>1072 rows × 17 columns</p>\n",
       "</div>"
      ],
      "text/plain": [
       "         LncRNA      tissue                       cancer type  \\\n",
       "0           91H      breast                     breast cancer   \n",
       "1           91H   esophagus   esophageal squamous cell cancer   \n",
       "2           91H  colorectum                 colorectal cancer   \n",
       "3           91H        bone                      osteosarcoma   \n",
       "4         AATBC     bladder                    bladder cancer   \n",
       "...         ...         ...                               ...   \n",
       "1067   ZNF300P1       ovary  type 2 epithelial ovarian cancer   \n",
       "1068  ZNRD1-AS1       liver                    hepatic cancer   \n",
       "1069  ZNRD1-AS1        lung                       lung cancer   \n",
       "1070       ZXF1        lung               lung adenocarcinoma   \n",
       "1071       ZXF2        lung               lung adenocarcinoma   \n",
       "\n",
       "     expression level oncogene/suppress gene          pathway  \\\n",
       "0                  up                   onco              NaN   \n",
       "1                down                     TS              NaN   \n",
       "2                  up                   onco              NaN   \n",
       "3                  up                   onco              NaN   \n",
       "4                  up                   onco    JNK signaling   \n",
       "...               ...                    ...              ...   \n",
       "1067                /                   onco              NaN   \n",
       "1068                /                      /              NaN   \n",
       "1069               up                   onco              NaN   \n",
       "1070               up                   onco              NaN   \n",
       "1071               up                   onco  c-Myc signaling   \n",
       "\n",
       "     binding gene/factor                             associated gene/factor  \\\n",
       "0                    NaN                                              IGF2+   \n",
       "1                    NaN                                              IGF2-   \n",
       "2                    NaN                                                NaN   \n",
       "3                    NaN                                                NaN   \n",
       "4                    NaN  cyclin D1+,CDK4+,p18-,pRb+,caspase-9 -,caspase...   \n",
       "...                  ...                                                ...   \n",
       "1067                 NaN                                                NaN   \n",
       "1068                 NaN                                                NaN   \n",
       "1069                 NaN                                             ZNRD1    \n",
       "1070                 NaN                                                NaN   \n",
       "1071                 NaN                                                NaN   \n",
       "\n",
       "     proliferation apoptosis migration  EMT invasion metastasis prognosis  \\\n",
       "0              NaN       NaN       NaN  NaN      NaN        NaN       NaN   \n",
       "1              NaN       NaN       NaN  NaN      NaN        NaN       NaN   \n",
       "2                +       NaN         +  NaN      NaN          +         -   \n",
       "3                +       NaN         +  NaN      NaN          +         -   \n",
       "4              NaN       NaN       NaN  NaN      NaN        NaN       NaN   \n",
       "...            ...       ...       ...  ...      ...        ...       ...   \n",
       "1067             +       NaN         +  NaN      NaN          +       NaN   \n",
       "1068             +       NaN       NaN  NaN      NaN        NaN       NaN   \n",
       "1069           NaN       NaN       NaN  NaN      NaN        NaN       NaN   \n",
       "1070           NaN       NaN         +  NaN        +        NaN         -   \n",
       "1071             +       NaN         +  NaN        +        NaN       NaN   \n",
       "\n",
       "                          tag      PMID  \n",
       "0                         NaN  18794369  \n",
       "1     epigenetic modification  24706416  \n",
       "2                         NaN  25058480  \n",
       "3     chemotherapy resistance  27555785  \n",
       "4                         NaN  25473900  \n",
       "...                       ...       ...  \n",
       "1067  epigenetic modification  24393131  \n",
       "1068                      SNP  25110835  \n",
       "1069                      SNP  27166266  \n",
       "1070                      NaN  24721325  \n",
       "1071                      NaN  25896422  \n",
       "\n",
       "[1072 rows x 17 columns]"
      ]
     },
     "execution_count": 5,
     "metadata": {},
     "output_type": "execute_result"
    }
   ],
   "source": [
    "CRlncRNA_db = pd.read_excel('databases/CRlncRNA_cancer_related_lncRNA.xlsx')\n",
    "CRlncRNA_db"
   ]
  },
  {
   "cell_type": "markdown",
   "metadata": {},
   "source": [
    "Interesting info: LncRNA, expression level, proliferation, apoptosis, migration, EMT, invasion, metastasis, prognosis\n",
    "To add in later: oncogene/surpress gene, cancer type"
   ]
  },
  {
   "cell_type": "markdown",
   "metadata": {},
   "source": [
    "For now:\n",
    "Extract out whether expression is up in cancer or not, and get methylation data. Put in graph and try to see any correlation??"
   ]
  },
  {
   "cell_type": "code",
   "execution_count": 6,
   "metadata": {},
   "outputs": [
    {
     "data": {
      "text/plain": [
       "array(['RBL2', 'ACTN1', 'MAEL', ..., 'DEGS1', 'TBCE', 'OR14I1'],\n",
       "      dtype=object)"
      ]
     },
     "execution_count": 6,
     "metadata": {},
     "output_type": "execute_result"
    },
    {
     "data": {
      "text/plain": [
       "3175"
      ]
     },
     "execution_count": 6,
     "metadata": {},
     "output_type": "execute_result"
    }
   ],
   "source": [
    "# read in multiclass genes from the PCCs\n",
    "our_genes = pd.read_csv('../../../mapping_to_genes/gene_lists/genes__1500.csv', sep = ',')['gene_name'].unique()\n",
    "our_genes\n",
    "len(our_genes)"
   ]
  },
  {
   "cell_type": "markdown",
   "metadata": {},
   "source": [
    "# Finding the info about our multiclass genes"
   ]
  },
  {
   "cell_type": "code",
   "execution_count": 8,
   "metadata": {},
   "outputs": [],
   "source": [
    "# finding database rows with info on our multiclass genes:\n",
    "\n",
    "lncRNAs_found = pd.DataFrame()\n",
    "lncRNAs_found_CR = pd.DataFrame()\n",
    "\n",
    "def gene_in(gene_list):\n",
    "    return(gene in gene_list)\n",
    "    \n",
    "    \n",
    "\n",
    "for gene in np.unique(our_genes):\n",
    "    # get genes found in lnc2cancer:\n",
    "    if uselnc2cancer3:\n",
    "        if sum(lnc2cancer_3['name1'].str.lower().str.match('^' + gene.lower() + '$')) != 0:\n",
    "            lncRNAs_found = lncRNAs_found.append(lnc2cancer_3[lnc2cancer_3['name1'].str.lower().str.match('^' + gene.lower() + '$')])\n",
    "        # unfortunately no synonyms to look through\n",
    "    else:\n",
    "        if sum(lnc2cancer_db['LncRNA name'].str.lower().str.match('^' + gene.lower() + '$')) != 0:\n",
    "    #         lnc2cancer_db[lnc2cancer_db['LncRNA name'].str.lower().str.match('^' + gene.lower() + '$')]\n",
    "            lncRNAs_found = lncRNAs_found.append(lnc2cancer_db[lnc2cancer_db['LncRNA name'].str.lower().str.match('^' + gene.lower() + '$')])\n",
    "        elif sum(lnc2cancer_db['Synonyms'].str.lower().str.split(', ').dropna().apply(gene_in)) != 0: # look through synonyms, and here we can drop na as na means the row has no synonyms\n",
    "                print(gene)\n",
    "                print(lnc2cancer_db[lnc2cancer_db['Synonyms'].str.lower().str.split(', ').dropna().apply(gene_in)])\n",
    "                # we don't acutally find any synonyms here so we don't add it... If it starts to print then need to add it here!\n",
    "            \n",
    "    # now genes found in CRlncRNA:\n",
    "    if sum(CRlncRNA_db['LncRNA'].str.lower().str.match(gene.lower())) != 0:\n",
    "        lncRNAs_found_CR = lncRNAs_found_CR.append(CRlncRNA_db[CRlncRNA_db['LncRNA'].str.lower().str.match('^' + gene.lower() + '$')])\n",
    "        "
   ]
  },
  {
   "cell_type": "code",
   "execution_count": 9,
   "metadata": {
    "scrolled": true
   },
   "outputs": [
    {
     "data": {
      "text/html": [
       "<div>\n",
       "<style scoped>\n",
       "    .dataframe tbody tr th:only-of-type {\n",
       "        vertical-align: middle;\n",
       "    }\n",
       "\n",
       "    .dataframe tbody tr th {\n",
       "        vertical-align: top;\n",
       "    }\n",
       "\n",
       "    .dataframe thead th {\n",
       "        text-align: right;\n",
       "    }\n",
       "</style>\n",
       "<table border=\"1\" class=\"dataframe\">\n",
       "  <thead>\n",
       "    <tr style=\"text-align: right;\">\n",
       "      <th></th>\n",
       "      <th>name1</th>\n",
       "      <th>cancer type</th>\n",
       "      <th>methods</th>\n",
       "      <th>sample</th>\n",
       "      <th>regulated</th>\n",
       "      <th>function description</th>\n",
       "      <th>pubmed id</th>\n",
       "      <th>year</th>\n",
       "      <th>title</th>\n",
       "    </tr>\n",
       "  </thead>\n",
       "  <tbody>\n",
       "    <tr>\n",
       "      <th>10</th>\n",
       "      <td>A1BG-AS1</td>\n",
       "      <td>hepatocellular carcinoma</td>\n",
       "      <td>qPCR, Western blot, Luciferase reporter assay,...</td>\n",
       "      <td>HCC tissue, HCC cell lines including HepG2, He...</td>\n",
       "      <td>down-regulated</td>\n",
       "      <td>Further analyses confirmed that A1BG AS1 expre...</td>\n",
       "      <td>30556161</td>\n",
       "      <td>2018.0</td>\n",
       "      <td>lncRNA A1BG-AS1 Suppresses Proliferation and I...</td>\n",
       "    </tr>\n",
       "    <tr>\n",
       "      <th>112</th>\n",
       "      <td>ADAMTS9-AS1</td>\n",
       "      <td>prostate cancer</td>\n",
       "      <td>qRT-PCR</td>\n",
       "      <td>PCa tissues, cell lines</td>\n",
       "      <td>differentially expressed</td>\n",
       "      <td>ADAMTS9-AS1 significantly influences tumor cel...</td>\n",
       "      <td>32153626</td>\n",
       "      <td>2019.0</td>\n",
       "      <td>Data mining and expression analysis of differe...</td>\n",
       "    </tr>\n",
       "    <tr>\n",
       "      <th>113</th>\n",
       "      <td>ADAMTS9-AS1</td>\n",
       "      <td>bladder cancer</td>\n",
       "      <td>qPCR</td>\n",
       "      <td>human bladder cancer cell lines (T24, J82, UM-...</td>\n",
       "      <td>differentially expressed</td>\n",
       "      <td>The ceRNA network was constructed with 30 lncR...</td>\n",
       "      <td>31308745</td>\n",
       "      <td>2019.0</td>\n",
       "      <td>Integrative analysis of the lncRNA-associated ...</td>\n",
       "    </tr>\n",
       "    <tr>\n",
       "      <th>455</th>\n",
       "      <td>AP003555.2</td>\n",
       "      <td>colorectal cancer</td>\n",
       "      <td>qRT-PCR</td>\n",
       "      <td>TCGA</td>\n",
       "      <td>up-regulated</td>\n",
       "      <td>Multivariable Cox regression analysis was used...</td>\n",
       "      <td>31824849</td>\n",
       "      <td>2019.0</td>\n",
       "      <td>An Integrated Three-Long Non-coding RNA Signat...</td>\n",
       "    </tr>\n",
       "    <tr>\n",
       "      <th>798</th>\n",
       "      <td>CAHM</td>\n",
       "      <td>colorectal cancer</td>\n",
       "      <td>qPCR, MSP-PCR etc.</td>\n",
       "      <td>blood, CRC tissues</td>\n",
       "      <td>down-regulated</td>\n",
       "      <td>A reverse transcriptase-qPCR assay showed that...</td>\n",
       "      <td>24799664</td>\n",
       "      <td>2014.0</td>\n",
       "      <td>CAHM, a long non-coding RNA gene hypermethylat...</td>\n",
       "    </tr>\n",
       "  </tbody>\n",
       "</table>\n",
       "</div>"
      ],
      "text/plain": [
       "           name1               cancer type  \\\n",
       "10      A1BG-AS1  hepatocellular carcinoma   \n",
       "112  ADAMTS9-AS1           prostate cancer   \n",
       "113  ADAMTS9-AS1            bladder cancer   \n",
       "455   AP003555.2         colorectal cancer   \n",
       "798         CAHM         colorectal cancer   \n",
       "\n",
       "                                               methods  \\\n",
       "10   qPCR, Western blot, Luciferase reporter assay,...   \n",
       "112                                            qRT-PCR   \n",
       "113                                               qPCR   \n",
       "455                                            qRT-PCR   \n",
       "798                                 qPCR, MSP-PCR etc.   \n",
       "\n",
       "                                                sample  \\\n",
       "10   HCC tissue, HCC cell lines including HepG2, He...   \n",
       "112                            PCa tissues, cell lines   \n",
       "113  human bladder cancer cell lines (T24, J82, UM-...   \n",
       "455                                               TCGA   \n",
       "798                                 blood, CRC tissues   \n",
       "\n",
       "                    regulated  \\\n",
       "10             down-regulated   \n",
       "112  differentially expressed   \n",
       "113  differentially expressed   \n",
       "455              up-regulated   \n",
       "798            down-regulated   \n",
       "\n",
       "                                  function description  pubmed id    year  \\\n",
       "10   Further analyses confirmed that A1BG AS1 expre...   30556161  2018.0   \n",
       "112  ADAMTS9-AS1 significantly influences tumor cel...   32153626  2019.0   \n",
       "113  The ceRNA network was constructed with 30 lncR...   31308745  2019.0   \n",
       "455  Multivariable Cox regression analysis was used...   31824849  2019.0   \n",
       "798  A reverse transcriptase-qPCR assay showed that...   24799664  2014.0   \n",
       "\n",
       "                                                 title  \n",
       "10   lncRNA A1BG-AS1 Suppresses Proliferation and I...  \n",
       "112  Data mining and expression analysis of differe...  \n",
       "113  Integrative analysis of the lncRNA-associated ...  \n",
       "455  An Integrated Three-Long Non-coding RNA Signat...  \n",
       "798  CAHM, a long non-coding RNA gene hypermethylat...  "
      ]
     },
     "execution_count": 9,
     "metadata": {},
     "output_type": "execute_result"
    },
    {
     "data": {
      "text/html": [
       "<div>\n",
       "<style scoped>\n",
       "    .dataframe tbody tr th:only-of-type {\n",
       "        vertical-align: middle;\n",
       "    }\n",
       "\n",
       "    .dataframe tbody tr th {\n",
       "        vertical-align: top;\n",
       "    }\n",
       "\n",
       "    .dataframe thead th {\n",
       "        text-align: right;\n",
       "    }\n",
       "</style>\n",
       "<table border=\"1\" class=\"dataframe\">\n",
       "  <thead>\n",
       "    <tr style=\"text-align: right;\">\n",
       "      <th></th>\n",
       "      <th>LncRNA</th>\n",
       "      <th>tissue</th>\n",
       "      <th>cancer type</th>\n",
       "      <th>expression level</th>\n",
       "      <th>oncogene/suppress gene</th>\n",
       "      <th>pathway</th>\n",
       "      <th>binding gene/factor</th>\n",
       "      <th>associated gene/factor</th>\n",
       "      <th>proliferation</th>\n",
       "      <th>apoptosis</th>\n",
       "      <th>migration</th>\n",
       "      <th>EMT</th>\n",
       "      <th>invasion</th>\n",
       "      <th>metastasis</th>\n",
       "      <th>prognosis</th>\n",
       "      <th>tag</th>\n",
       "      <th>PMID</th>\n",
       "    </tr>\n",
       "  </thead>\n",
       "  <tbody>\n",
       "    <tr>\n",
       "      <th>120</th>\n",
       "      <td>CAHM</td>\n",
       "      <td>colorectum</td>\n",
       "      <td>colorectal cancer</td>\n",
       "      <td>down</td>\n",
       "      <td>/</td>\n",
       "      <td>NaN</td>\n",
       "      <td>NaN</td>\n",
       "      <td>NaN</td>\n",
       "      <td>NaN</td>\n",
       "      <td>NaN</td>\n",
       "      <td>NaN</td>\n",
       "      <td>NaN</td>\n",
       "      <td>NaN</td>\n",
       "      <td>NaN</td>\n",
       "      <td>NaN</td>\n",
       "      <td>epigenetic modification</td>\n",
       "      <td>24799664</td>\n",
       "    </tr>\n",
       "    <tr>\n",
       "      <th>122</th>\n",
       "      <td>CASC11</td>\n",
       "      <td>colorectum</td>\n",
       "      <td>colorectal cancer</td>\n",
       "      <td>up</td>\n",
       "      <td>onco</td>\n",
       "      <td>WNT/β-catenin signaling</td>\n",
       "      <td>+c-Myc</td>\n",
       "      <td>hnRNP-K+</td>\n",
       "      <td>+</td>\n",
       "      <td>NaN</td>\n",
       "      <td>NaN</td>\n",
       "      <td>NaN</td>\n",
       "      <td>NaN</td>\n",
       "      <td>+</td>\n",
       "      <td>NaN</td>\n",
       "      <td>NaN</td>\n",
       "      <td>27012187</td>\n",
       "    </tr>\n",
       "    <tr>\n",
       "      <th>123</th>\n",
       "      <td>CASC15</td>\n",
       "      <td>others</td>\n",
       "      <td>melanoma</td>\n",
       "      <td>up</td>\n",
       "      <td>onco</td>\n",
       "      <td>NaN</td>\n",
       "      <td>NaN</td>\n",
       "      <td>NaN</td>\n",
       "      <td>+</td>\n",
       "      <td>NaN</td>\n",
       "      <td>NaN</td>\n",
       "      <td>NaN</td>\n",
       "      <td>+</td>\n",
       "      <td>NaN</td>\n",
       "      <td>-</td>\n",
       "      <td>NaN</td>\n",
       "      <td>26016895</td>\n",
       "    </tr>\n",
       "    <tr>\n",
       "      <th>184</th>\n",
       "      <td>DLX6-AS1</td>\n",
       "      <td>lung</td>\n",
       "      <td>lung adenocarcinoma</td>\n",
       "      <td>up</td>\n",
       "      <td>/</td>\n",
       "      <td>NaN</td>\n",
       "      <td>NaN</td>\n",
       "      <td>DLX6+</td>\n",
       "      <td>NaN</td>\n",
       "      <td>NaN</td>\n",
       "      <td>NaN</td>\n",
       "      <td>NaN</td>\n",
       "      <td>NaN</td>\n",
       "      <td>NaN</td>\n",
       "      <td>NaN</td>\n",
       "      <td>NaN</td>\n",
       "      <td>26052251</td>\n",
       "    </tr>\n",
       "    <tr>\n",
       "      <th>197</th>\n",
       "      <td>EWSAT1</td>\n",
       "      <td>bone</td>\n",
       "      <td>Ewing sarcoma</td>\n",
       "      <td>/</td>\n",
       "      <td>onco</td>\n",
       "      <td>NaN</td>\n",
       "      <td>HNRNPK</td>\n",
       "      <td>+EWS,-FLI1</td>\n",
       "      <td>+</td>\n",
       "      <td>NaN</td>\n",
       "      <td>NaN</td>\n",
       "      <td>NaN</td>\n",
       "      <td>NaN</td>\n",
       "      <td>NaN</td>\n",
       "      <td>NaN</td>\n",
       "      <td>NaN</td>\n",
       "      <td>25401475</td>\n",
       "    </tr>\n",
       "  </tbody>\n",
       "</table>\n",
       "</div>"
      ],
      "text/plain": [
       "       LncRNA      tissue          cancer type expression level  \\\n",
       "120      CAHM  colorectum    colorectal cancer             down   \n",
       "122    CASC11  colorectum    colorectal cancer               up   \n",
       "123    CASC15      others             melanoma               up   \n",
       "184  DLX6-AS1        lung  lung adenocarcinoma               up   \n",
       "197    EWSAT1        bone        Ewing sarcoma                /   \n",
       "\n",
       "    oncogene/suppress gene                  pathway binding gene/factor  \\\n",
       "120                      /                      NaN                 NaN   \n",
       "122                   onco  WNT/β-catenin signaling              +c-Myc   \n",
       "123                   onco                      NaN                 NaN   \n",
       "184                      /                      NaN                 NaN   \n",
       "197                   onco                      NaN              HNRNPK   \n",
       "\n",
       "    associated gene/factor proliferation apoptosis migration  EMT invasion  \\\n",
       "120                    NaN           NaN       NaN       NaN  NaN      NaN   \n",
       "122               hnRNP-K+             +       NaN       NaN  NaN      NaN   \n",
       "123                    NaN             +       NaN       NaN  NaN        +   \n",
       "184                  DLX6+           NaN       NaN       NaN  NaN      NaN   \n",
       "197             +EWS,-FLI1             +       NaN       NaN  NaN      NaN   \n",
       "\n",
       "    metastasis prognosis                      tag      PMID  \n",
       "120        NaN       NaN  epigenetic modification  24799664  \n",
       "122          +       NaN                      NaN  27012187  \n",
       "123        NaN         -                      NaN  26016895  \n",
       "184        NaN       NaN                      NaN  26052251  \n",
       "197        NaN       NaN                      NaN  25401475  "
      ]
     },
     "execution_count": 9,
     "metadata": {},
     "output_type": "execute_result"
    }
   ],
   "source": [
    "lncRNAs_found.head()\n",
    "lncRNAs_found_CR.head()"
   ]
  },
  {
   "cell_type": "code",
   "execution_count": 10,
   "metadata": {},
   "outputs": [
    {
     "data": {
      "text/html": [
       "<div>\n",
       "<style scoped>\n",
       "    .dataframe tbody tr th:only-of-type {\n",
       "        vertical-align: middle;\n",
       "    }\n",
       "\n",
       "    .dataframe tbody tr th {\n",
       "        vertical-align: top;\n",
       "    }\n",
       "\n",
       "    .dataframe thead th {\n",
       "        text-align: right;\n",
       "    }\n",
       "</style>\n",
       "<table border=\"1\" class=\"dataframe\">\n",
       "  <thead>\n",
       "    <tr style=\"text-align: right;\">\n",
       "      <th></th>\n",
       "      <th>name1</th>\n",
       "      <th>cancer type</th>\n",
       "      <th>methods</th>\n",
       "      <th>sample</th>\n",
       "      <th>regulated</th>\n",
       "      <th>function description</th>\n",
       "      <th>pubmed id</th>\n",
       "      <th>year</th>\n",
       "      <th>title</th>\n",
       "    </tr>\n",
       "  </thead>\n",
       "  <tbody>\n",
       "    <tr>\n",
       "      <th>10</th>\n",
       "      <td>A1BG-AS1</td>\n",
       "      <td>hepatocellular carcinoma</td>\n",
       "      <td>qPCR, Western blot, Luciferase reporter assay,...</td>\n",
       "      <td>HCC tissue, HCC cell lines including HepG2, He...</td>\n",
       "      <td>down-regulated</td>\n",
       "      <td>Further analyses confirmed that A1BG AS1 expre...</td>\n",
       "      <td>30556161</td>\n",
       "      <td>2018.0</td>\n",
       "      <td>lncRNA A1BG-AS1 Suppresses Proliferation and I...</td>\n",
       "    </tr>\n",
       "    <tr>\n",
       "      <th>112</th>\n",
       "      <td>ADAMTS9-AS1</td>\n",
       "      <td>prostate cancer</td>\n",
       "      <td>qRT-PCR</td>\n",
       "      <td>PCa tissues, cell lines</td>\n",
       "      <td>differentially expressed</td>\n",
       "      <td>ADAMTS9-AS1 significantly influences tumor cel...</td>\n",
       "      <td>32153626</td>\n",
       "      <td>2019.0</td>\n",
       "      <td>Data mining and expression analysis of differe...</td>\n",
       "    </tr>\n",
       "    <tr>\n",
       "      <th>113</th>\n",
       "      <td>ADAMTS9-AS1</td>\n",
       "      <td>bladder cancer</td>\n",
       "      <td>qPCR</td>\n",
       "      <td>human bladder cancer cell lines (T24, J82, UM-...</td>\n",
       "      <td>differentially expressed</td>\n",
       "      <td>The ceRNA network was constructed with 30 lncR...</td>\n",
       "      <td>31308745</td>\n",
       "      <td>2019.0</td>\n",
       "      <td>Integrative analysis of the lncRNA-associated ...</td>\n",
       "    </tr>\n",
       "    <tr>\n",
       "      <th>455</th>\n",
       "      <td>AP003555.2</td>\n",
       "      <td>colorectal cancer</td>\n",
       "      <td>qRT-PCR</td>\n",
       "      <td>TCGA</td>\n",
       "      <td>up-regulated</td>\n",
       "      <td>Multivariable Cox regression analysis was used...</td>\n",
       "      <td>31824849</td>\n",
       "      <td>2019.0</td>\n",
       "      <td>An Integrated Three-Long Non-coding RNA Signat...</td>\n",
       "    </tr>\n",
       "    <tr>\n",
       "      <th>798</th>\n",
       "      <td>CAHM</td>\n",
       "      <td>colorectal cancer</td>\n",
       "      <td>qPCR, MSP-PCR etc.</td>\n",
       "      <td>blood, CRC tissues</td>\n",
       "      <td>down-regulated</td>\n",
       "      <td>A reverse transcriptase-qPCR assay showed that...</td>\n",
       "      <td>24799664</td>\n",
       "      <td>2014.0</td>\n",
       "      <td>CAHM, a long non-coding RNA gene hypermethylat...</td>\n",
       "    </tr>\n",
       "    <tr>\n",
       "      <th>...</th>\n",
       "      <td>...</td>\n",
       "      <td>...</td>\n",
       "      <td>...</td>\n",
       "      <td>...</td>\n",
       "      <td>...</td>\n",
       "      <td>...</td>\n",
       "      <td>...</td>\n",
       "      <td>...</td>\n",
       "      <td>...</td>\n",
       "    </tr>\n",
       "    <tr>\n",
       "      <th>9290</th>\n",
       "      <td>ZNF674-AS1</td>\n",
       "      <td>hepatocellular carcinoma</td>\n",
       "      <td>qPCR etc.</td>\n",
       "      <td>HCC tissues, cell lines (HepG2, HCCLM3, SK-Hep...</td>\n",
       "      <td>down-regulated</td>\n",
       "      <td>The expression of ZNF674-AS1 in the HCC cell l...</td>\n",
       "      <td>27896271</td>\n",
       "      <td>2016.0</td>\n",
       "      <td>Expression and Clinical Significance of the No...</td>\n",
       "    </tr>\n",
       "    <tr>\n",
       "      <th>9292</th>\n",
       "      <td>ZNF750</td>\n",
       "      <td>skin squamous cell carcinoma</td>\n",
       "      <td>qPCR, RNAi, Western blot, Cell proliferation a...</td>\n",
       "      <td>cell line (SCC13)</td>\n",
       "      <td>down-regulated</td>\n",
       "      <td>In this study, we report that ZNF750 is exclus...</td>\n",
       "      <td>27819679</td>\n",
       "      <td>2016.0</td>\n",
       "      <td>ZNF750 is a lineage-specific tumour suppressor...</td>\n",
       "    </tr>\n",
       "    <tr>\n",
       "      <th>9293</th>\n",
       "      <td>ZNF750</td>\n",
       "      <td>cervical squamous cell carcinoma</td>\n",
       "      <td>qPCR, RNAi, Western blot, Cell proliferation a...</td>\n",
       "      <td>cell lines (C33A, CaSki, HT-3, ME180 and SiHa)</td>\n",
       "      <td>down-regulated</td>\n",
       "      <td>In this study, we report that ZNF750 is exclus...</td>\n",
       "      <td>27819679</td>\n",
       "      <td>2016.0</td>\n",
       "      <td>ZNF750 is a lineage-specific tumour suppressor...</td>\n",
       "    </tr>\n",
       "    <tr>\n",
       "      <th>9294</th>\n",
       "      <td>ZNF750</td>\n",
       "      <td>lung squamous cell carcinoma</td>\n",
       "      <td>qPCR, RNAi, Western blot, Cell proliferation a...</td>\n",
       "      <td>cell lines (Calu-1, ChagoK1, H2170 and H226)</td>\n",
       "      <td>down-regulated</td>\n",
       "      <td>In this study, we report that ZNF750 is exclus...</td>\n",
       "      <td>27819679</td>\n",
       "      <td>2016.0</td>\n",
       "      <td>ZNF750 is a lineage-specific tumour suppressor...</td>\n",
       "    </tr>\n",
       "    <tr>\n",
       "      <th>9295</th>\n",
       "      <td>ZNF750</td>\n",
       "      <td>head and neck squamous cell carcinoma</td>\n",
       "      <td>qPCR, RNAi, Western blot, ChIP, Cell prolifera...</td>\n",
       "      <td>cell lines (UMSCC1 and 93UV147)</td>\n",
       "      <td>down-regulated</td>\n",
       "      <td>In this study, we report that ZNF750 is exclus...</td>\n",
       "      <td>27819679</td>\n",
       "      <td>2016.0</td>\n",
       "      <td>ZNF750 is a lineage-specific tumour suppressor...</td>\n",
       "    </tr>\n",
       "  </tbody>\n",
       "</table>\n",
       "<p>1349 rows × 9 columns</p>\n",
       "</div>"
      ],
      "text/plain": [
       "            name1                            cancer type  \\\n",
       "10       A1BG-AS1               hepatocellular carcinoma   \n",
       "112   ADAMTS9-AS1                        prostate cancer   \n",
       "113   ADAMTS9-AS1                         bladder cancer   \n",
       "455    AP003555.2                      colorectal cancer   \n",
       "798          CAHM                      colorectal cancer   \n",
       "...           ...                                    ...   \n",
       "9290   ZNF674-AS1               hepatocellular carcinoma   \n",
       "9292       ZNF750           skin squamous cell carcinoma   \n",
       "9293       ZNF750       cervical squamous cell carcinoma   \n",
       "9294       ZNF750           lung squamous cell carcinoma   \n",
       "9295       ZNF750  head and neck squamous cell carcinoma   \n",
       "\n",
       "                                                methods  \\\n",
       "10    qPCR, Western blot, Luciferase reporter assay,...   \n",
       "112                                             qRT-PCR   \n",
       "113                                                qPCR   \n",
       "455                                             qRT-PCR   \n",
       "798                                  qPCR, MSP-PCR etc.   \n",
       "...                                                 ...   \n",
       "9290                                          qPCR etc.   \n",
       "9292  qPCR, RNAi, Western blot, Cell proliferation a...   \n",
       "9293  qPCR, RNAi, Western blot, Cell proliferation a...   \n",
       "9294  qPCR, RNAi, Western blot, Cell proliferation a...   \n",
       "9295  qPCR, RNAi, Western blot, ChIP, Cell prolifera...   \n",
       "\n",
       "                                                 sample  \\\n",
       "10    HCC tissue, HCC cell lines including HepG2, He...   \n",
       "112                             PCa tissues, cell lines   \n",
       "113   human bladder cancer cell lines (T24, J82, UM-...   \n",
       "455                                                TCGA   \n",
       "798                                  blood, CRC tissues   \n",
       "...                                                 ...   \n",
       "9290  HCC tissues, cell lines (HepG2, HCCLM3, SK-Hep...   \n",
       "9292                                  cell line (SCC13)   \n",
       "9293     cell lines (C33A, CaSki, HT-3, ME180 and SiHa)   \n",
       "9294       cell lines (Calu-1, ChagoK1, H2170 and H226)   \n",
       "9295                    cell lines (UMSCC1 and 93UV147)   \n",
       "\n",
       "                     regulated  \\\n",
       "10              down-regulated   \n",
       "112   differentially expressed   \n",
       "113   differentially expressed   \n",
       "455               up-regulated   \n",
       "798             down-regulated   \n",
       "...                        ...   \n",
       "9290            down-regulated   \n",
       "9292            down-regulated   \n",
       "9293            down-regulated   \n",
       "9294            down-regulated   \n",
       "9295            down-regulated   \n",
       "\n",
       "                                   function description  pubmed id    year  \\\n",
       "10    Further analyses confirmed that A1BG AS1 expre...   30556161  2018.0   \n",
       "112   ADAMTS9-AS1 significantly influences tumor cel...   32153626  2019.0   \n",
       "113   The ceRNA network was constructed with 30 lncR...   31308745  2019.0   \n",
       "455   Multivariable Cox regression analysis was used...   31824849  2019.0   \n",
       "798   A reverse transcriptase-qPCR assay showed that...   24799664  2014.0   \n",
       "...                                                 ...        ...     ...   \n",
       "9290  The expression of ZNF674-AS1 in the HCC cell l...   27896271  2016.0   \n",
       "9292  In this study, we report that ZNF750 is exclus...   27819679  2016.0   \n",
       "9293  In this study, we report that ZNF750 is exclus...   27819679  2016.0   \n",
       "9294  In this study, we report that ZNF750 is exclus...   27819679  2016.0   \n",
       "9295  In this study, we report that ZNF750 is exclus...   27819679  2016.0   \n",
       "\n",
       "                                                  title  \n",
       "10    lncRNA A1BG-AS1 Suppresses Proliferation and I...  \n",
       "112   Data mining and expression analysis of differe...  \n",
       "113   Integrative analysis of the lncRNA-associated ...  \n",
       "455   An Integrated Three-Long Non-coding RNA Signat...  \n",
       "798   CAHM, a long non-coding RNA gene hypermethylat...  \n",
       "...                                                 ...  \n",
       "9290  Expression and Clinical Significance of the No...  \n",
       "9292  ZNF750 is a lineage-specific tumour suppressor...  \n",
       "9293  ZNF750 is a lineage-specific tumour suppressor...  \n",
       "9294  ZNF750 is a lineage-specific tumour suppressor...  \n",
       "9295  ZNF750 is a lineage-specific tumour suppressor...  \n",
       "\n",
       "[1349 rows x 9 columns]"
      ]
     },
     "execution_count": 10,
     "metadata": {},
     "output_type": "execute_result"
    }
   ],
   "source": [
    "lncRNAs_found"
   ]
  },
  {
   "cell_type": "code",
   "execution_count": 12,
   "metadata": {},
   "outputs": [
    {
     "data": {
      "text/plain": [
       "120"
      ]
     },
     "execution_count": 12,
     "metadata": {},
     "output_type": "execute_result"
    },
    {
     "data": {
      "text/plain": [
       "28"
      ]
     },
     "execution_count": 12,
     "metadata": {},
     "output_type": "execute_result"
    },
    {
     "data": {
      "text/plain": [
       "120"
      ]
     },
     "execution_count": 12,
     "metadata": {},
     "output_type": "execute_result"
    }
   ],
   "source": [
    "# number of unique genes found from each dataset:\n",
    "\n",
    "if uselnc2cancer3:\n",
    "    lncRNAs_found = lncRNAs_found.rename(columns = {'name1': 'LncRNA name'})\n",
    "\n",
    "\n",
    "len(set(lncRNAs_found['LncRNA name']))\n",
    "len(set(lncRNAs_found_CR['LncRNA']))\n",
    "len(set(lncRNAs_found['LncRNA name'].str.upper()).union(set(lncRNAs_found_CR['LncRNA'].str.upper())))\n",
    "lncRNAs = set(lncRNAs_found['LncRNA name'].str.upper()).union(set(lncRNAs_found_CR['LncRNA'].str.upper()))\n",
    "\n",
    "\n",
    "# so when using lnc2cancer3, no extra lncRNAs are found in CRlncRNA!"
   ]
  },
  {
   "cell_type": "markdown",
   "metadata": {},
   "source": [
    "# Getting mean methylation value for each gene"
   ]
  },
  {
   "cell_type": "code",
   "execution_count": 13,
   "metadata": {},
   "outputs": [],
   "source": [
    "# read in m values and diagnoses - takes around 10 mins! (or just read in relevant values, see next cell)\n",
    "\n",
    "values = pd.read_csv('../../../data_preprocessing/dataset/pandas/m_values/TCGA-all.csv', sep='\\t', index_col=0)\n",
    "diagnoses = pd.read_csv('../../../data_preprocessing/dataset/pandas/diagnoses/TCGA-all.csv', sep='\\t', index_col = 0)\n",
    "diagnoses = np.matrix(diagnoses)\n",
    "diagnoses = np.ravel(diagnoses)"
   ]
  },
  {
   "cell_type": "code",
   "execution_count": 14,
   "metadata": {},
   "outputs": [
    {
     "data": {
      "text/plain": [
       "Index(['cg00000029', 'cg17634650', 'cg17444849', 'cg17445120', 'cg17460449',\n",
       "       'cg17467287', 'cg17474004', 'cg17477818', 'cg17490981', 'cg17491091',\n",
       "       ...\n",
       "       'cg07580128', 'cg07581365', 'cg07581484', 'cg07592216', 'cg07596065',\n",
       "       'cg07598021', 'cg07605754', 'cg07616871', 'cg07618175', 'ch.8.484254F'],\n",
       "      dtype='object', name='probe', length=3388)"
      ]
     },
     "execution_count": 14,
     "metadata": {},
     "output_type": "execute_result"
    }
   ],
   "source": [
    "# get only the PCCs so this is easier to manage:\n",
    "features = pd.read_csv('../../../xgboost/depth3est800lr189/feature_importances/_concatenated.csv') # get features found by best performing multiclass xgboost\n",
    "\n",
    "probe_set = values.index[features['feature']]\n",
    "probe_set # the PCC probes (for the multiclass model)"
   ]
  },
  {
   "cell_type": "code",
   "execution_count": 21,
   "metadata": {},
   "outputs": [],
   "source": [
    "# now map probes to ensembl ids\n",
    "# read in the mapping file (relaxed)\n",
    "mapping = pd.read_csv('../../../mapping_to_genes/specific_mappings/mapping_human_refined_.csv')\n",
    "to_take = mapping['probe'].isin(probe_set) # find which probes are in the set\n",
    "relevant_mapping = mapping[to_take][['probe', 'ensembl_gene_id']]\n",
    "\n",
    "# now map ensembl ids to names\n",
    "gene_names = pd.read_csv('../../../mapping_to_genes/gene_lists/genes__1500.csv', sep = ',')\n",
    "relevant_mapping = relevant_mapping.merge(gene_names, on = 'ensembl_gene_id')\n",
    "relevant_mapping = relevant_mapping.drop_duplicates()\n",
    "relevant_mapping = relevant_mapping.reset_index().drop('index', axis = 1)\n",
    "\n",
    "# finding the average methylation value at each probe\n",
    "\n",
    "# pick out wanted probes\n",
    "wanted_values = values.loc[relevant_mapping['probe'], :]\n",
    "# pick out cancer samples\n",
    "wanted_values_cancer = wanted_values.loc[:, diagnoses != 0] # for now, taking average value across all cancer samples (this probably isn't the best thing to do)"
   ]
  },
  {
   "cell_type": "code",
   "execution_count": null,
   "metadata": {},
   "outputs": [],
   "source": []
  },
  {
   "cell_type": "code",
   "execution_count": 22,
   "metadata": {},
   "outputs": [
    {
     "data": {
      "text/html": [
       "<div>\n",
       "<style scoped>\n",
       "    .dataframe tbody tr th:only-of-type {\n",
       "        vertical-align: middle;\n",
       "    }\n",
       "\n",
       "    .dataframe tbody tr th {\n",
       "        vertical-align: top;\n",
       "    }\n",
       "\n",
       "    .dataframe thead th {\n",
       "        text-align: right;\n",
       "    }\n",
       "</style>\n",
       "<table border=\"1\" class=\"dataframe\">\n",
       "  <thead>\n",
       "    <tr style=\"text-align: right;\">\n",
       "      <th></th>\n",
       "      <th>Normal</th>\n",
       "      <th>BLCA</th>\n",
       "      <th>BRCA</th>\n",
       "      <th>COAD</th>\n",
       "      <th>ESCA</th>\n",
       "      <th>HNSC</th>\n",
       "      <th>KIRC</th>\n",
       "      <th>KIRP</th>\n",
       "      <th>LIHC</th>\n",
       "      <th>LUAD</th>\n",
       "      <th>LUSC</th>\n",
       "      <th>PRAD</th>\n",
       "      <th>THCA</th>\n",
       "      <th>UCEC</th>\n",
       "    </tr>\n",
       "    <tr>\n",
       "      <th>probe</th>\n",
       "      <th></th>\n",
       "      <th></th>\n",
       "      <th></th>\n",
       "      <th></th>\n",
       "      <th></th>\n",
       "      <th></th>\n",
       "      <th></th>\n",
       "      <th></th>\n",
       "      <th></th>\n",
       "      <th></th>\n",
       "      <th></th>\n",
       "      <th></th>\n",
       "      <th></th>\n",
       "      <th></th>\n",
       "    </tr>\n",
       "  </thead>\n",
       "  <tbody>\n",
       "    <tr>\n",
       "      <th>cg00000029</th>\n",
       "      <td>-1.264486</td>\n",
       "      <td>-2.472405</td>\n",
       "      <td>-2.185765</td>\n",
       "      <td>-2.283721</td>\n",
       "      <td>-1.591603</td>\n",
       "      <td>-1.168706</td>\n",
       "      <td>0.354451</td>\n",
       "      <td>-0.333907</td>\n",
       "      <td>-0.937555</td>\n",
       "      <td>-1.304488</td>\n",
       "      <td>-1.762487</td>\n",
       "      <td>-2.841474</td>\n",
       "      <td>-1.583096</td>\n",
       "      <td>-2.338385</td>\n",
       "    </tr>\n",
       "    <tr>\n",
       "      <th>cg00000289</th>\n",
       "      <td>1.395215</td>\n",
       "      <td>0.951450</td>\n",
       "      <td>1.124514</td>\n",
       "      <td>1.282839</td>\n",
       "      <td>1.003967</td>\n",
       "      <td>1.397013</td>\n",
       "      <td>1.209840</td>\n",
       "      <td>1.326872</td>\n",
       "      <td>0.910516</td>\n",
       "      <td>0.761159</td>\n",
       "      <td>1.075288</td>\n",
       "      <td>1.084609</td>\n",
       "      <td>1.472345</td>\n",
       "      <td>1.384275</td>\n",
       "    </tr>\n",
       "    <tr>\n",
       "      <th>cg13777668</th>\n",
       "      <td>0.820811</td>\n",
       "      <td>0.871589</td>\n",
       "      <td>1.526258</td>\n",
       "      <td>-0.684237</td>\n",
       "      <td>-0.110018</td>\n",
       "      <td>0.009244</td>\n",
       "      <td>-0.036882</td>\n",
       "      <td>-0.859719</td>\n",
       "      <td>-1.039907</td>\n",
       "      <td>1.293844</td>\n",
       "      <td>0.415461</td>\n",
       "      <td>0.272640</td>\n",
       "      <td>-0.072715</td>\n",
       "      <td>1.665523</td>\n",
       "    </tr>\n",
       "    <tr>\n",
       "      <th>cg18585512</th>\n",
       "      <td>2.961630</td>\n",
       "      <td>2.393638</td>\n",
       "      <td>2.913586</td>\n",
       "      <td>2.575775</td>\n",
       "      <td>2.318031</td>\n",
       "      <td>2.550751</td>\n",
       "      <td>2.821130</td>\n",
       "      <td>2.971930</td>\n",
       "      <td>2.762272</td>\n",
       "      <td>2.258813</td>\n",
       "      <td>2.450318</td>\n",
       "      <td>2.759952</td>\n",
       "      <td>3.142150</td>\n",
       "      <td>2.805053</td>\n",
       "    </tr>\n",
       "    <tr>\n",
       "      <th>cg00001349</th>\n",
       "      <td>2.242961</td>\n",
       "      <td>2.409288</td>\n",
       "      <td>2.374256</td>\n",
       "      <td>2.377359</td>\n",
       "      <td>2.452963</td>\n",
       "      <td>2.188730</td>\n",
       "      <td>2.656698</td>\n",
       "      <td>3.292792</td>\n",
       "      <td>2.580540</td>\n",
       "      <td>2.138426</td>\n",
       "      <td>1.843510</td>\n",
       "      <td>2.702546</td>\n",
       "      <td>2.051877</td>\n",
       "      <td>2.273664</td>\n",
       "    </tr>\n",
       "    <tr>\n",
       "      <th>...</th>\n",
       "      <td>...</td>\n",
       "      <td>...</td>\n",
       "      <td>...</td>\n",
       "      <td>...</td>\n",
       "      <td>...</td>\n",
       "      <td>...</td>\n",
       "      <td>...</td>\n",
       "      <td>...</td>\n",
       "      <td>...</td>\n",
       "      <td>...</td>\n",
       "      <td>...</td>\n",
       "      <td>...</td>\n",
       "      <td>...</td>\n",
       "      <td>...</td>\n",
       "    </tr>\n",
       "    <tr>\n",
       "      <th>cg18084450</th>\n",
       "      <td>-4.790059</td>\n",
       "      <td>-4.788896</td>\n",
       "      <td>-4.841518</td>\n",
       "      <td>-4.721139</td>\n",
       "      <td>-4.811943</td>\n",
       "      <td>-4.784170</td>\n",
       "      <td>-4.882853</td>\n",
       "      <td>-4.819855</td>\n",
       "      <td>-4.757968</td>\n",
       "      <td>-3.729077</td>\n",
       "      <td>-4.824740</td>\n",
       "      <td>-4.845587</td>\n",
       "      <td>-4.848081</td>\n",
       "      <td>-4.788618</td>\n",
       "    </tr>\n",
       "    <tr>\n",
       "      <th>cg01819912</th>\n",
       "      <td>1.812489</td>\n",
       "      <td>1.710977</td>\n",
       "      <td>2.176381</td>\n",
       "      <td>0.720263</td>\n",
       "      <td>2.186652</td>\n",
       "      <td>4.148357</td>\n",
       "      <td>3.460999</td>\n",
       "      <td>3.795128</td>\n",
       "      <td>-1.531566</td>\n",
       "      <td>1.776197</td>\n",
       "      <td>3.313886</td>\n",
       "      <td>0.636291</td>\n",
       "      <td>1.054508</td>\n",
       "      <td>3.275498</td>\n",
       "    </tr>\n",
       "    <tr>\n",
       "      <th>cg18084450</th>\n",
       "      <td>-4.790059</td>\n",
       "      <td>-4.788896</td>\n",
       "      <td>-4.841518</td>\n",
       "      <td>-4.721139</td>\n",
       "      <td>-4.811943</td>\n",
       "      <td>-4.784170</td>\n",
       "      <td>-4.882853</td>\n",
       "      <td>-4.819855</td>\n",
       "      <td>-4.757968</td>\n",
       "      <td>-3.729077</td>\n",
       "      <td>-4.824740</td>\n",
       "      <td>-4.845587</td>\n",
       "      <td>-4.848081</td>\n",
       "      <td>-4.788618</td>\n",
       "    </tr>\n",
       "    <tr>\n",
       "      <th>cg01819912</th>\n",
       "      <td>1.812489</td>\n",
       "      <td>1.710977</td>\n",
       "      <td>2.176381</td>\n",
       "      <td>0.720263</td>\n",
       "      <td>2.186652</td>\n",
       "      <td>4.148357</td>\n",
       "      <td>3.460999</td>\n",
       "      <td>3.795128</td>\n",
       "      <td>-1.531566</td>\n",
       "      <td>1.776197</td>\n",
       "      <td>3.313886</td>\n",
       "      <td>0.636291</td>\n",
       "      <td>1.054508</td>\n",
       "      <td>3.275498</td>\n",
       "    </tr>\n",
       "    <tr>\n",
       "      <th>cg01165362</th>\n",
       "      <td>1.556408</td>\n",
       "      <td>-0.750748</td>\n",
       "      <td>-0.461040</td>\n",
       "      <td>0.397232</td>\n",
       "      <td>-0.348858</td>\n",
       "      <td>-0.261737</td>\n",
       "      <td>1.744016</td>\n",
       "      <td>2.515044</td>\n",
       "      <td>-1.036355</td>\n",
       "      <td>-0.077063</td>\n",
       "      <td>-0.505531</td>\n",
       "      <td>2.453604</td>\n",
       "      <td>1.553385</td>\n",
       "      <td>-0.384349</td>\n",
       "    </tr>\n",
       "  </tbody>\n",
       "</table>\n",
       "<p>4006 rows × 14 columns</p>\n",
       "</div>"
      ],
      "text/plain": [
       "              Normal      BLCA      BRCA      COAD      ESCA      HNSC  \\\n",
       "probe                                                                    \n",
       "cg00000029 -1.264486 -2.472405 -2.185765 -2.283721 -1.591603 -1.168706   \n",
       "cg00000289  1.395215  0.951450  1.124514  1.282839  1.003967  1.397013   \n",
       "cg13777668  0.820811  0.871589  1.526258 -0.684237 -0.110018  0.009244   \n",
       "cg18585512  2.961630  2.393638  2.913586  2.575775  2.318031  2.550751   \n",
       "cg00001349  2.242961  2.409288  2.374256  2.377359  2.452963  2.188730   \n",
       "...              ...       ...       ...       ...       ...       ...   \n",
       "cg18084450 -4.790059 -4.788896 -4.841518 -4.721139 -4.811943 -4.784170   \n",
       "cg01819912  1.812489  1.710977  2.176381  0.720263  2.186652  4.148357   \n",
       "cg18084450 -4.790059 -4.788896 -4.841518 -4.721139 -4.811943 -4.784170   \n",
       "cg01819912  1.812489  1.710977  2.176381  0.720263  2.186652  4.148357   \n",
       "cg01165362  1.556408 -0.750748 -0.461040  0.397232 -0.348858 -0.261737   \n",
       "\n",
       "                KIRC      KIRP      LIHC      LUAD      LUSC      PRAD  \\\n",
       "probe                                                                    \n",
       "cg00000029  0.354451 -0.333907 -0.937555 -1.304488 -1.762487 -2.841474   \n",
       "cg00000289  1.209840  1.326872  0.910516  0.761159  1.075288  1.084609   \n",
       "cg13777668 -0.036882 -0.859719 -1.039907  1.293844  0.415461  0.272640   \n",
       "cg18585512  2.821130  2.971930  2.762272  2.258813  2.450318  2.759952   \n",
       "cg00001349  2.656698  3.292792  2.580540  2.138426  1.843510  2.702546   \n",
       "...              ...       ...       ...       ...       ...       ...   \n",
       "cg18084450 -4.882853 -4.819855 -4.757968 -3.729077 -4.824740 -4.845587   \n",
       "cg01819912  3.460999  3.795128 -1.531566  1.776197  3.313886  0.636291   \n",
       "cg18084450 -4.882853 -4.819855 -4.757968 -3.729077 -4.824740 -4.845587   \n",
       "cg01819912  3.460999  3.795128 -1.531566  1.776197  3.313886  0.636291   \n",
       "cg01165362  1.744016  2.515044 -1.036355 -0.077063 -0.505531  2.453604   \n",
       "\n",
       "                THCA      UCEC  \n",
       "probe                           \n",
       "cg00000029 -1.583096 -2.338385  \n",
       "cg00000289  1.472345  1.384275  \n",
       "cg13777668 -0.072715  1.665523  \n",
       "cg18585512  3.142150  2.805053  \n",
       "cg00001349  2.051877  2.273664  \n",
       "...              ...       ...  \n",
       "cg18084450 -4.848081 -4.788618  \n",
       "cg01819912  1.054508  3.275498  \n",
       "cg18084450 -4.848081 -4.788618  \n",
       "cg01819912  1.054508  3.275498  \n",
       "cg01165362  1.553385 -0.384349  \n",
       "\n",
       "[4006 rows x 14 columns]"
      ]
     },
     "execution_count": 22,
     "metadata": {},
     "output_type": "execute_result"
    },
    {
     "data": {
      "text/plain": [
       "Normal    0\n",
       "BLCA      0\n",
       "BRCA      0\n",
       "COAD      0\n",
       "ESCA      0\n",
       "HNSC      0\n",
       "KIRC      0\n",
       "KIRP      0\n",
       "LIHC      0\n",
       "LUAD      0\n",
       "LUSC      0\n",
       "PRAD      0\n",
       "THCA      0\n",
       "UCEC      0\n",
       "dtype: int64"
      ]
     },
     "execution_count": 22,
     "metadata": {},
     "output_type": "execute_result"
    }
   ],
   "source": [
    "if split_up_by_cancer == True:\n",
    "    wanted_values_grouped = wanted_values.transpose()\n",
    "    wanted_values_grouped['diagnoses'] = diagnoses\n",
    "    wanted_values_grouped = wanted_values_grouped.groupby(['diagnoses']).mean()\n",
    "    wanted_values_grouped = wanted_values_grouped.transpose()\n",
    "    wanted_values_grouped.columns = [\"Normal\", \"BLCA\", \"BRCA\", \"COAD\", \"ESCA\", \"HNSC\", \"KIRC\", \"KIRP\", \"LIHC\", \"LUAD\", \"LUSC\", \"PRAD\", \"THCA\", \"UCEC\"]\n",
    "    wanted_values_grouped\n",
    "    # transform to betas\n",
    "    wanted_values_grouped = (2**wanted_values_grouped)/((2**wanted_values_grouped) + 1)\n",
    "    # get rid of infs\n",
    "    wanted_values_grouped[np.isinf(wanted_values_grouped) & (wanted_values_grouped > 0)] = 1\n",
    "    wanted_values_grouped[np.isinf(wanted_values_grouped) & (wanted_values_grouped < 0)] = 0\n",
    "\n",
    "    np.isinf(wanted_values_grouped).sum()\n",
    "    \n",
    "    relevant_mapping = relevant_mapping.merge(wanted_values_grouped,left_on = 'probe', how='left', right_index = True).drop_duplicates()\n",
    "    \n",
    "else:\n",
    "    averages = wanted_values_cancer.mean(axis = 1)\n",
    "    averages = pd.DataFrame(averages, columns=['m_value']).reset_index() # put in dataframe\n",
    "    relevant_mapping = relevant_mapping.merge(averages, on = 'probe')\n",
    "    relevant_mapping = relevant_mapping.drop_duplicates()\n",
    "\n",
    "    # convert to beta values so it's more interpretable and there are no inf values\n",
    "    relevant_mapping['m_value']\n",
    "\n",
    "    relevant_mapping['beta'] = (2**relevant_mapping['m_value'])/((2**relevant_mapping['m_value']) + 1)\n"
   ]
  },
  {
   "cell_type": "code",
   "execution_count": 23,
   "metadata": {},
   "outputs": [],
   "source": [
    "# save so we can load later:\n",
    "if split_up_by_cancer:\n",
    "    relevant_mapping.to_csv('revelant_mapping_split_by_cancer.csv')\n",
    "else:\n",
    "    # setting inf m values to finite beta values (0 and 1)\n",
    "    relevant_mapping.loc[np.isinf(relevant_mapping['m_value']) & (relevant_mapping['m_value'] > 0), 'beta'] = 1\n",
    "    relevant_mapping.loc[np.isinf(relevant_mapping['m_value']) & (relevant_mapping['m_value'] < 0), 'beta'] = 0\n",
    "    relevant_mapping.to_csv('revelant_mapping.csv')"
   ]
  },
  {
   "cell_type": "code",
   "execution_count": 24,
   "metadata": {},
   "outputs": [
    {
     "data": {
      "text/html": [
       "<div>\n",
       "<style scoped>\n",
       "    .dataframe tbody tr th:only-of-type {\n",
       "        vertical-align: middle;\n",
       "    }\n",
       "\n",
       "    .dataframe tbody tr th {\n",
       "        vertical-align: top;\n",
       "    }\n",
       "\n",
       "    .dataframe thead th {\n",
       "        text-align: right;\n",
       "    }\n",
       "</style>\n",
       "<table border=\"1\" class=\"dataframe\">\n",
       "  <thead>\n",
       "    <tr style=\"text-align: right;\">\n",
       "      <th></th>\n",
       "      <th>probe</th>\n",
       "      <th>ensembl_gene_id</th>\n",
       "      <th>gene_name</th>\n",
       "      <th>Normal</th>\n",
       "      <th>BLCA</th>\n",
       "      <th>BRCA</th>\n",
       "      <th>COAD</th>\n",
       "      <th>ESCA</th>\n",
       "      <th>HNSC</th>\n",
       "      <th>KIRC</th>\n",
       "      <th>KIRP</th>\n",
       "      <th>LIHC</th>\n",
       "      <th>LUAD</th>\n",
       "      <th>LUSC</th>\n",
       "      <th>PRAD</th>\n",
       "      <th>THCA</th>\n",
       "      <th>UCEC</th>\n",
       "    </tr>\n",
       "  </thead>\n",
       "  <tbody>\n",
       "    <tr>\n",
       "      <th>0</th>\n",
       "      <td>cg00000029</td>\n",
       "      <td>ENSG00000103479</td>\n",
       "      <td>RBL2</td>\n",
       "      <td>0.293909</td>\n",
       "      <td>0.152679</td>\n",
       "      <td>0.180191</td>\n",
       "      <td>0.170377</td>\n",
       "      <td>0.249138</td>\n",
       "      <td>0.307872</td>\n",
       "      <td>0.561115</td>\n",
       "      <td>0.442395</td>\n",
       "      <td>0.343020</td>\n",
       "      <td>0.288188</td>\n",
       "      <td>0.227644</td>\n",
       "      <td>0.122436</td>\n",
       "      <td>0.250243</td>\n",
       "      <td>0.165088</td>\n",
       "    </tr>\n",
       "    <tr>\n",
       "      <th>1</th>\n",
       "      <td>cg00000289</td>\n",
       "      <td>ENSG00000072110</td>\n",
       "      <td>ACTN1</td>\n",
       "      <td>0.724539</td>\n",
       "      <td>0.659147</td>\n",
       "      <td>0.685562</td>\n",
       "      <td>0.708724</td>\n",
       "      <td>0.667277</td>\n",
       "      <td>0.724788</td>\n",
       "      <td>0.698170</td>\n",
       "      <td>0.714985</td>\n",
       "      <td>0.652744</td>\n",
       "      <td>0.628922</td>\n",
       "      <td>0.678161</td>\n",
       "      <td>0.679569</td>\n",
       "      <td>0.735080</td>\n",
       "      <td>0.723023</td>\n",
       "    </tr>\n",
       "    <tr>\n",
       "      <th>2</th>\n",
       "      <td>cg13777668</td>\n",
       "      <td>ENSG00000072110</td>\n",
       "      <td>ACTN1</td>\n",
       "      <td>0.638519</td>\n",
       "      <td>0.646603</td>\n",
       "      <td>0.742293</td>\n",
       "      <td>0.383604</td>\n",
       "      <td>0.480945</td>\n",
       "      <td>0.501602</td>\n",
       "      <td>0.493609</td>\n",
       "      <td>0.355280</td>\n",
       "      <td>0.327215</td>\n",
       "      <td>0.710296</td>\n",
       "      <td>0.571500</td>\n",
       "      <td>0.547105</td>\n",
       "      <td>0.487402</td>\n",
       "      <td>0.760323</td>\n",
       "    </tr>\n",
       "    <tr>\n",
       "      <th>3</th>\n",
       "      <td>cg18585512</td>\n",
       "      <td>ENSG00000072110</td>\n",
       "      <td>ACTN1</td>\n",
       "      <td>0.886235</td>\n",
       "      <td>0.840123</td>\n",
       "      <td>0.882834</td>\n",
       "      <td>0.856361</td>\n",
       "      <td>0.832958</td>\n",
       "      <td>0.854214</td>\n",
       "      <td>0.876041</td>\n",
       "      <td>0.886953</td>\n",
       "      <td>0.871542</td>\n",
       "      <td>0.827168</td>\n",
       "      <td>0.845330</td>\n",
       "      <td>0.871362</td>\n",
       "      <td>0.898254</td>\n",
       "      <td>0.874825</td>\n",
       "    </tr>\n",
       "    <tr>\n",
       "      <th>4</th>\n",
       "      <td>cg00001349</td>\n",
       "      <td>ENSG00000143194</td>\n",
       "      <td>MAEL</td>\n",
       "      <td>0.825592</td>\n",
       "      <td>0.841575</td>\n",
       "      <td>0.838310</td>\n",
       "      <td>0.838602</td>\n",
       "      <td>0.845569</td>\n",
       "      <td>0.820113</td>\n",
       "      <td>0.863124</td>\n",
       "      <td>0.907408</td>\n",
       "      <td>0.856767</td>\n",
       "      <td>0.814911</td>\n",
       "      <td>0.782079</td>\n",
       "      <td>0.866835</td>\n",
       "      <td>0.805691</td>\n",
       "      <td>0.828635</td>\n",
       "    </tr>\n",
       "    <tr>\n",
       "      <th>...</th>\n",
       "      <td>...</td>\n",
       "      <td>...</td>\n",
       "      <td>...</td>\n",
       "      <td>...</td>\n",
       "      <td>...</td>\n",
       "      <td>...</td>\n",
       "      <td>...</td>\n",
       "      <td>...</td>\n",
       "      <td>...</td>\n",
       "      <td>...</td>\n",
       "      <td>...</td>\n",
       "      <td>...</td>\n",
       "      <td>...</td>\n",
       "      <td>...</td>\n",
       "      <td>...</td>\n",
       "      <td>...</td>\n",
       "      <td>...</td>\n",
       "    </tr>\n",
       "    <tr>\n",
       "      <th>4001</th>\n",
       "      <td>cg18084450</td>\n",
       "      <td>ENSG00000284770</td>\n",
       "      <td>TBCE</td>\n",
       "      <td>0.034884</td>\n",
       "      <td>0.034911</td>\n",
       "      <td>0.033703</td>\n",
       "      <td>0.036529</td>\n",
       "      <td>0.034377</td>\n",
       "      <td>0.035022</td>\n",
       "      <td>0.032782</td>\n",
       "      <td>0.034195</td>\n",
       "      <td>0.035641</td>\n",
       "      <td>0.070123</td>\n",
       "      <td>0.034084</td>\n",
       "      <td>0.033611</td>\n",
       "      <td>0.033555</td>\n",
       "      <td>0.034918</td>\n",
       "    </tr>\n",
       "    <tr>\n",
       "      <th>4002</th>\n",
       "      <td>cg01819912</td>\n",
       "      <td>ENSG00000284770</td>\n",
       "      <td>TBCE</td>\n",
       "      <td>0.778392</td>\n",
       "      <td>0.766018</td>\n",
       "      <td>0.818847</td>\n",
       "      <td>0.622283</td>\n",
       "      <td>0.819900</td>\n",
       "      <td>0.946618</td>\n",
       "      <td>0.916750</td>\n",
       "      <td>0.932804</td>\n",
       "      <td>0.257004</td>\n",
       "      <td>0.774023</td>\n",
       "      <td>0.908629</td>\n",
       "      <td>0.608508</td>\n",
       "      <td>0.675009</td>\n",
       "      <td>0.906396</td>\n",
       "    </tr>\n",
       "    <tr>\n",
       "      <th>4003</th>\n",
       "      <td>cg18084450</td>\n",
       "      <td>ENSG00000282984</td>\n",
       "      <td>TBCE</td>\n",
       "      <td>0.034884</td>\n",
       "      <td>0.034911</td>\n",
       "      <td>0.033703</td>\n",
       "      <td>0.036529</td>\n",
       "      <td>0.034377</td>\n",
       "      <td>0.035022</td>\n",
       "      <td>0.032782</td>\n",
       "      <td>0.034195</td>\n",
       "      <td>0.035641</td>\n",
       "      <td>0.070123</td>\n",
       "      <td>0.034084</td>\n",
       "      <td>0.033611</td>\n",
       "      <td>0.033555</td>\n",
       "      <td>0.034918</td>\n",
       "    </tr>\n",
       "    <tr>\n",
       "      <th>4004</th>\n",
       "      <td>cg01819912</td>\n",
       "      <td>ENSG00000282984</td>\n",
       "      <td>TBCE</td>\n",
       "      <td>0.778392</td>\n",
       "      <td>0.766018</td>\n",
       "      <td>0.818847</td>\n",
       "      <td>0.622283</td>\n",
       "      <td>0.819900</td>\n",
       "      <td>0.946618</td>\n",
       "      <td>0.916750</td>\n",
       "      <td>0.932804</td>\n",
       "      <td>0.257004</td>\n",
       "      <td>0.774023</td>\n",
       "      <td>0.908629</td>\n",
       "      <td>0.608508</td>\n",
       "      <td>0.675009</td>\n",
       "      <td>0.906396</td>\n",
       "    </tr>\n",
       "    <tr>\n",
       "      <th>4005</th>\n",
       "      <td>cg01165362</td>\n",
       "      <td>ENSG00000189181</td>\n",
       "      <td>OR14I1</td>\n",
       "      <td>0.746271</td>\n",
       "      <td>0.372764</td>\n",
       "      <td>0.420781</td>\n",
       "      <td>0.568404</td>\n",
       "      <td>0.439840</td>\n",
       "      <td>0.454768</td>\n",
       "      <td>0.770097</td>\n",
       "      <td>0.851105</td>\n",
       "      <td>0.327757</td>\n",
       "      <td>0.486649</td>\n",
       "      <td>0.413284</td>\n",
       "      <td>0.845627</td>\n",
       "      <td>0.745874</td>\n",
       "      <td>0.433789</td>\n",
       "    </tr>\n",
       "  </tbody>\n",
       "</table>\n",
       "<p>4006 rows × 17 columns</p>\n",
       "</div>"
      ],
      "text/plain": [
       "           probe  ensembl_gene_id gene_name    Normal      BLCA      BRCA  \\\n",
       "0     cg00000029  ENSG00000103479      RBL2  0.293909  0.152679  0.180191   \n",
       "1     cg00000289  ENSG00000072110     ACTN1  0.724539  0.659147  0.685562   \n",
       "2     cg13777668  ENSG00000072110     ACTN1  0.638519  0.646603  0.742293   \n",
       "3     cg18585512  ENSG00000072110     ACTN1  0.886235  0.840123  0.882834   \n",
       "4     cg00001349  ENSG00000143194      MAEL  0.825592  0.841575  0.838310   \n",
       "...          ...              ...       ...       ...       ...       ...   \n",
       "4001  cg18084450  ENSG00000284770      TBCE  0.034884  0.034911  0.033703   \n",
       "4002  cg01819912  ENSG00000284770      TBCE  0.778392  0.766018  0.818847   \n",
       "4003  cg18084450  ENSG00000282984      TBCE  0.034884  0.034911  0.033703   \n",
       "4004  cg01819912  ENSG00000282984      TBCE  0.778392  0.766018  0.818847   \n",
       "4005  cg01165362  ENSG00000189181    OR14I1  0.746271  0.372764  0.420781   \n",
       "\n",
       "          COAD      ESCA      HNSC      KIRC      KIRP      LIHC      LUAD  \\\n",
       "0     0.170377  0.249138  0.307872  0.561115  0.442395  0.343020  0.288188   \n",
       "1     0.708724  0.667277  0.724788  0.698170  0.714985  0.652744  0.628922   \n",
       "2     0.383604  0.480945  0.501602  0.493609  0.355280  0.327215  0.710296   \n",
       "3     0.856361  0.832958  0.854214  0.876041  0.886953  0.871542  0.827168   \n",
       "4     0.838602  0.845569  0.820113  0.863124  0.907408  0.856767  0.814911   \n",
       "...        ...       ...       ...       ...       ...       ...       ...   \n",
       "4001  0.036529  0.034377  0.035022  0.032782  0.034195  0.035641  0.070123   \n",
       "4002  0.622283  0.819900  0.946618  0.916750  0.932804  0.257004  0.774023   \n",
       "4003  0.036529  0.034377  0.035022  0.032782  0.034195  0.035641  0.070123   \n",
       "4004  0.622283  0.819900  0.946618  0.916750  0.932804  0.257004  0.774023   \n",
       "4005  0.568404  0.439840  0.454768  0.770097  0.851105  0.327757  0.486649   \n",
       "\n",
       "          LUSC      PRAD      THCA      UCEC  \n",
       "0     0.227644  0.122436  0.250243  0.165088  \n",
       "1     0.678161  0.679569  0.735080  0.723023  \n",
       "2     0.571500  0.547105  0.487402  0.760323  \n",
       "3     0.845330  0.871362  0.898254  0.874825  \n",
       "4     0.782079  0.866835  0.805691  0.828635  \n",
       "...        ...       ...       ...       ...  \n",
       "4001  0.034084  0.033611  0.033555  0.034918  \n",
       "4002  0.908629  0.608508  0.675009  0.906396  \n",
       "4003  0.034084  0.033611  0.033555  0.034918  \n",
       "4004  0.908629  0.608508  0.675009  0.906396  \n",
       "4005  0.413284  0.845627  0.745874  0.433789  \n",
       "\n",
       "[4006 rows x 17 columns]"
      ]
     },
     "execution_count": 24,
     "metadata": {},
     "output_type": "execute_result"
    }
   ],
   "source": [
    "if split_up_by_cancer:\n",
    "    relevant_mapping = pd.read_csv('revelant_mapping_split_by_cancer.csv', index_col=0)\n",
    "else:\n",
    "    relevant_mapping = pd.read_csv('revelant_mapping.csv', index_col=0)\n",
    "relevant_mapping\n"
   ]
  },
  {
   "cell_type": "code",
   "execution_count": 29,
   "metadata": {},
   "outputs": [
    {
     "data": {
      "text/html": [
       "<div>\n",
       "<style scoped>\n",
       "    .dataframe tbody tr th:only-of-type {\n",
       "        vertical-align: middle;\n",
       "    }\n",
       "\n",
       "    .dataframe tbody tr th {\n",
       "        vertical-align: top;\n",
       "    }\n",
       "\n",
       "    .dataframe thead th {\n",
       "        text-align: right;\n",
       "    }\n",
       "</style>\n",
       "<table border=\"1\" class=\"dataframe\">\n",
       "  <thead>\n",
       "    <tr style=\"text-align: right;\">\n",
       "      <th></th>\n",
       "      <th>lncRNA</th>\n",
       "      <th>Normal_mean</th>\n",
       "      <th>BLCA_mean</th>\n",
       "      <th>BRCA_mean</th>\n",
       "      <th>COAD_mean</th>\n",
       "      <th>ESCA_mean</th>\n",
       "      <th>HNSC_mean</th>\n",
       "      <th>KIRC_mean</th>\n",
       "      <th>KIRP_mean</th>\n",
       "      <th>LIHC_mean</th>\n",
       "      <th>...</th>\n",
       "      <th>ESCA_std</th>\n",
       "      <th>HNSC_std</th>\n",
       "      <th>KIRC_std</th>\n",
       "      <th>KIRP_std</th>\n",
       "      <th>LIHC_std</th>\n",
       "      <th>LUAD_std</th>\n",
       "      <th>LUSC_std</th>\n",
       "      <th>PRAD_std</th>\n",
       "      <th>THCA_std</th>\n",
       "      <th>UCEC_std</th>\n",
       "    </tr>\n",
       "  </thead>\n",
       "  <tbody>\n",
       "    <tr>\n",
       "      <th>0</th>\n",
       "      <td>A1BG</td>\n",
       "      <td>0.405592</td>\n",
       "      <td>0.500569</td>\n",
       "      <td>0.825744</td>\n",
       "      <td>0.738657</td>\n",
       "      <td>0.740589</td>\n",
       "      <td>0.775472</td>\n",
       "      <td>0.476751</td>\n",
       "      <td>0.442501</td>\n",
       "      <td>0.382410</td>\n",
       "      <td>...</td>\n",
       "      <td>0.016731</td>\n",
       "      <td>0.019757</td>\n",
       "      <td>0.070500</td>\n",
       "      <td>0.041942</td>\n",
       "      <td>0.036751</td>\n",
       "      <td>0.003966</td>\n",
       "      <td>0.017031</td>\n",
       "      <td>0.067437</td>\n",
       "      <td>0.045929</td>\n",
       "      <td>0.042493</td>\n",
       "    </tr>\n",
       "    <tr>\n",
       "      <th>1</th>\n",
       "      <td>A1BG-AS1</td>\n",
       "      <td>0.405592</td>\n",
       "      <td>0.500569</td>\n",
       "      <td>0.825744</td>\n",
       "      <td>0.738657</td>\n",
       "      <td>0.740589</td>\n",
       "      <td>0.775472</td>\n",
       "      <td>0.476751</td>\n",
       "      <td>0.442501</td>\n",
       "      <td>0.382410</td>\n",
       "      <td>...</td>\n",
       "      <td>0.016731</td>\n",
       "      <td>0.019757</td>\n",
       "      <td>0.070500</td>\n",
       "      <td>0.041942</td>\n",
       "      <td>0.036751</td>\n",
       "      <td>0.003966</td>\n",
       "      <td>0.017031</td>\n",
       "      <td>0.067437</td>\n",
       "      <td>0.045929</td>\n",
       "      <td>0.042493</td>\n",
       "    </tr>\n",
       "    <tr>\n",
       "      <th>2</th>\n",
       "      <td>AARS2</td>\n",
       "      <td>0.820048</td>\n",
       "      <td>0.679843</td>\n",
       "      <td>0.771873</td>\n",
       "      <td>0.717650</td>\n",
       "      <td>0.686465</td>\n",
       "      <td>0.702253</td>\n",
       "      <td>0.872154</td>\n",
       "      <td>0.898451</td>\n",
       "      <td>0.802697</td>\n",
       "      <td>...</td>\n",
       "      <td>0.000000</td>\n",
       "      <td>0.000000</td>\n",
       "      <td>0.000000</td>\n",
       "      <td>0.000000</td>\n",
       "      <td>0.000000</td>\n",
       "      <td>0.000000</td>\n",
       "      <td>0.000000</td>\n",
       "      <td>0.000000</td>\n",
       "      <td>0.000000</td>\n",
       "      <td>0.000000</td>\n",
       "    </tr>\n",
       "    <tr>\n",
       "      <th>3</th>\n",
       "      <td>ABCA13</td>\n",
       "      <td>0.927687</td>\n",
       "      <td>0.879908</td>\n",
       "      <td>0.718736</td>\n",
       "      <td>0.911357</td>\n",
       "      <td>0.908513</td>\n",
       "      <td>0.927319</td>\n",
       "      <td>0.888223</td>\n",
       "      <td>0.911068</td>\n",
       "      <td>0.659780</td>\n",
       "      <td>...</td>\n",
       "      <td>0.000000</td>\n",
       "      <td>0.000000</td>\n",
       "      <td>0.000000</td>\n",
       "      <td>0.000000</td>\n",
       "      <td>0.000000</td>\n",
       "      <td>0.000000</td>\n",
       "      <td>0.000000</td>\n",
       "      <td>0.000000</td>\n",
       "      <td>0.000000</td>\n",
       "      <td>0.000000</td>\n",
       "    </tr>\n",
       "    <tr>\n",
       "      <th>4</th>\n",
       "      <td>ABCA2</td>\n",
       "      <td>0.944753</td>\n",
       "      <td>0.915171</td>\n",
       "      <td>0.950469</td>\n",
       "      <td>0.945461</td>\n",
       "      <td>0.891903</td>\n",
       "      <td>0.847505</td>\n",
       "      <td>0.951836</td>\n",
       "      <td>0.954142</td>\n",
       "      <td>0.944926</td>\n",
       "      <td>...</td>\n",
       "      <td>0.017614</td>\n",
       "      <td>0.002842</td>\n",
       "      <td>0.034388</td>\n",
       "      <td>0.032810</td>\n",
       "      <td>0.039922</td>\n",
       "      <td>NaN</td>\n",
       "      <td>0.028310</td>\n",
       "      <td>0.036387</td>\n",
       "      <td>0.036286</td>\n",
       "      <td>0.019775</td>\n",
       "    </tr>\n",
       "    <tr>\n",
       "      <th>...</th>\n",
       "      <td>...</td>\n",
       "      <td>...</td>\n",
       "      <td>...</td>\n",
       "      <td>...</td>\n",
       "      <td>...</td>\n",
       "      <td>...</td>\n",
       "      <td>...</td>\n",
       "      <td>...</td>\n",
       "      <td>...</td>\n",
       "      <td>...</td>\n",
       "      <td>...</td>\n",
       "      <td>...</td>\n",
       "      <td>...</td>\n",
       "      <td>...</td>\n",
       "      <td>...</td>\n",
       "      <td>...</td>\n",
       "      <td>...</td>\n",
       "      <td>...</td>\n",
       "      <td>...</td>\n",
       "      <td>...</td>\n",
       "      <td>...</td>\n",
       "    </tr>\n",
       "    <tr>\n",
       "      <th>3170</th>\n",
       "      <td>ZSCAN12</td>\n",
       "      <td>0.024832</td>\n",
       "      <td>0.196157</td>\n",
       "      <td>0.096020</td>\n",
       "      <td>0.240913</td>\n",
       "      <td>0.184454</td>\n",
       "      <td>0.182112</td>\n",
       "      <td>0.023328</td>\n",
       "      <td>0.027580</td>\n",
       "      <td>0.037337</td>\n",
       "      <td>...</td>\n",
       "      <td>0.000000</td>\n",
       "      <td>0.000000</td>\n",
       "      <td>0.000000</td>\n",
       "      <td>0.000000</td>\n",
       "      <td>0.000000</td>\n",
       "      <td>0.000000</td>\n",
       "      <td>0.000000</td>\n",
       "      <td>0.000000</td>\n",
       "      <td>0.000000</td>\n",
       "      <td>0.000000</td>\n",
       "    </tr>\n",
       "    <tr>\n",
       "      <th>3171</th>\n",
       "      <td>ZSWIM4</td>\n",
       "      <td>0.591306</td>\n",
       "      <td>0.763479</td>\n",
       "      <td>0.803018</td>\n",
       "      <td>0.708416</td>\n",
       "      <td>0.768871</td>\n",
       "      <td>0.814807</td>\n",
       "      <td>0.783484</td>\n",
       "      <td>0.909269</td>\n",
       "      <td>0.851788</td>\n",
       "      <td>...</td>\n",
       "      <td>0.000000</td>\n",
       "      <td>0.000000</td>\n",
       "      <td>0.000000</td>\n",
       "      <td>0.000000</td>\n",
       "      <td>0.000000</td>\n",
       "      <td>NaN</td>\n",
       "      <td>0.000000</td>\n",
       "      <td>0.000000</td>\n",
       "      <td>0.000000</td>\n",
       "      <td>0.000000</td>\n",
       "    </tr>\n",
       "    <tr>\n",
       "      <th>3172</th>\n",
       "      <td>ZSWIM9</td>\n",
       "      <td>0.012563</td>\n",
       "      <td>0.013498</td>\n",
       "      <td>0.013018</td>\n",
       "      <td>0.013631</td>\n",
       "      <td>0.013638</td>\n",
       "      <td>0.014183</td>\n",
       "      <td>0.012235</td>\n",
       "      <td>0.013282</td>\n",
       "      <td>0.013543</td>\n",
       "      <td>...</td>\n",
       "      <td>0.000000</td>\n",
       "      <td>0.000000</td>\n",
       "      <td>0.000000</td>\n",
       "      <td>0.000000</td>\n",
       "      <td>0.000000</td>\n",
       "      <td>0.000000</td>\n",
       "      <td>0.000000</td>\n",
       "      <td>0.000000</td>\n",
       "      <td>0.000000</td>\n",
       "      <td>0.000000</td>\n",
       "    </tr>\n",
       "    <tr>\n",
       "      <th>3173</th>\n",
       "      <td>ZW10</td>\n",
       "      <td>0.916193</td>\n",
       "      <td>0.912293</td>\n",
       "      <td>0.914966</td>\n",
       "      <td>0.928057</td>\n",
       "      <td>0.909390</td>\n",
       "      <td>0.930916</td>\n",
       "      <td>0.932809</td>\n",
       "      <td>0.931605</td>\n",
       "      <td>0.913060</td>\n",
       "      <td>...</td>\n",
       "      <td>0.000000</td>\n",
       "      <td>0.000000</td>\n",
       "      <td>0.000000</td>\n",
       "      <td>0.000000</td>\n",
       "      <td>0.000000</td>\n",
       "      <td>NaN</td>\n",
       "      <td>0.000000</td>\n",
       "      <td>0.000000</td>\n",
       "      <td>0.000000</td>\n",
       "      <td>0.000000</td>\n",
       "    </tr>\n",
       "    <tr>\n",
       "      <th>3174</th>\n",
       "      <td>ZZEF1</td>\n",
       "      <td>0.911648</td>\n",
       "      <td>0.916665</td>\n",
       "      <td>0.927873</td>\n",
       "      <td>0.450762</td>\n",
       "      <td>0.836465</td>\n",
       "      <td>0.919097</td>\n",
       "      <td>0.926399</td>\n",
       "      <td>0.927181</td>\n",
       "      <td>0.919828</td>\n",
       "      <td>...</td>\n",
       "      <td>0.000000</td>\n",
       "      <td>0.000000</td>\n",
       "      <td>0.000000</td>\n",
       "      <td>0.000000</td>\n",
       "      <td>0.000000</td>\n",
       "      <td>0.000000</td>\n",
       "      <td>0.000000</td>\n",
       "      <td>0.000000</td>\n",
       "      <td>0.000000</td>\n",
       "      <td>0.000000</td>\n",
       "    </tr>\n",
       "  </tbody>\n",
       "</table>\n",
       "<p>3175 rows × 29 columns</p>\n",
       "</div>"
      ],
      "text/plain": [
       "        lncRNA  Normal_mean  BLCA_mean  BRCA_mean  COAD_mean  ESCA_mean  \\\n",
       "0         A1BG     0.405592   0.500569   0.825744   0.738657   0.740589   \n",
       "1     A1BG-AS1     0.405592   0.500569   0.825744   0.738657   0.740589   \n",
       "2        AARS2     0.820048   0.679843   0.771873   0.717650   0.686465   \n",
       "3       ABCA13     0.927687   0.879908   0.718736   0.911357   0.908513   \n",
       "4        ABCA2     0.944753   0.915171   0.950469   0.945461   0.891903   \n",
       "...        ...          ...        ...        ...        ...        ...   \n",
       "3170   ZSCAN12     0.024832   0.196157   0.096020   0.240913   0.184454   \n",
       "3171    ZSWIM4     0.591306   0.763479   0.803018   0.708416   0.768871   \n",
       "3172    ZSWIM9     0.012563   0.013498   0.013018   0.013631   0.013638   \n",
       "3173      ZW10     0.916193   0.912293   0.914966   0.928057   0.909390   \n",
       "3174     ZZEF1     0.911648   0.916665   0.927873   0.450762   0.836465   \n",
       "\n",
       "      HNSC_mean  KIRC_mean  KIRP_mean  LIHC_mean  ...  ESCA_std  HNSC_std  \\\n",
       "0      0.775472   0.476751   0.442501   0.382410  ...  0.016731  0.019757   \n",
       "1      0.775472   0.476751   0.442501   0.382410  ...  0.016731  0.019757   \n",
       "2      0.702253   0.872154   0.898451   0.802697  ...  0.000000  0.000000   \n",
       "3      0.927319   0.888223   0.911068   0.659780  ...  0.000000  0.000000   \n",
       "4      0.847505   0.951836   0.954142   0.944926  ...  0.017614  0.002842   \n",
       "...         ...        ...        ...        ...  ...       ...       ...   \n",
       "3170   0.182112   0.023328   0.027580   0.037337  ...  0.000000  0.000000   \n",
       "3171   0.814807   0.783484   0.909269   0.851788  ...  0.000000  0.000000   \n",
       "3172   0.014183   0.012235   0.013282   0.013543  ...  0.000000  0.000000   \n",
       "3173   0.930916   0.932809   0.931605   0.913060  ...  0.000000  0.000000   \n",
       "3174   0.919097   0.926399   0.927181   0.919828  ...  0.000000  0.000000   \n",
       "\n",
       "      KIRC_std  KIRP_std  LIHC_std  LUAD_std  LUSC_std  PRAD_std  THCA_std  \\\n",
       "0     0.070500  0.041942  0.036751  0.003966  0.017031  0.067437  0.045929   \n",
       "1     0.070500  0.041942  0.036751  0.003966  0.017031  0.067437  0.045929   \n",
       "2     0.000000  0.000000  0.000000  0.000000  0.000000  0.000000  0.000000   \n",
       "3     0.000000  0.000000  0.000000  0.000000  0.000000  0.000000  0.000000   \n",
       "4     0.034388  0.032810  0.039922       NaN  0.028310  0.036387  0.036286   \n",
       "...        ...       ...       ...       ...       ...       ...       ...   \n",
       "3170  0.000000  0.000000  0.000000  0.000000  0.000000  0.000000  0.000000   \n",
       "3171  0.000000  0.000000  0.000000       NaN  0.000000  0.000000  0.000000   \n",
       "3172  0.000000  0.000000  0.000000  0.000000  0.000000  0.000000  0.000000   \n",
       "3173  0.000000  0.000000  0.000000       NaN  0.000000  0.000000  0.000000   \n",
       "3174  0.000000  0.000000  0.000000  0.000000  0.000000  0.000000  0.000000   \n",
       "\n",
       "      UCEC_std  \n",
       "0     0.042493  \n",
       "1     0.042493  \n",
       "2     0.000000  \n",
       "3     0.000000  \n",
       "4     0.019775  \n",
       "...        ...  \n",
       "3170  0.000000  \n",
       "3171  0.000000  \n",
       "3172  0.000000  \n",
       "3173  0.000000  \n",
       "3174  0.000000  \n",
       "\n",
       "[3175 rows x 29 columns]"
      ]
     },
     "execution_count": 29,
     "metadata": {},
     "output_type": "execute_result"
    }
   ],
   "source": [
    "# work out mean and sd of the mean m_values over all lncRNAs - so we get one value for each gene even when it has more than one probe\n",
    "# note this is mean and sd of means\n",
    "if split_up_by_cancer:\n",
    "    cols = []\n",
    "    cols.extend(relevant_mapping.columns[3:17] + '_mean')\n",
    "    cols.extend(relevant_mapping.columns[3:17] + '_std')\n",
    "    \n",
    "    lncRNA_and_beta_values = pd.DataFrame(columns = ['lncRNA'] + cols)\n",
    "    \n",
    "    for lncRNA in np.unique(relevant_mapping['gene_name']):\n",
    "        beta_values = relevant_mapping[relevant_mapping['gene_name'] == lncRNA][relevant_mapping.columns[3:17]].values\n",
    "        means_per_cancer = np.mean(beta_values, axis = 0)\n",
    "        stds_per_cancer = np.std(beta_values, axis = 0)\n",
    "        row = [lncRNA]\n",
    "        row.extend(means_per_cancer)\n",
    "        row.extend(stds_per_cancer)\n",
    "        keys = ['lncRNA'] + cols\n",
    "        row = {k:v for k, v in zip(keys, row)}\n",
    "        lncRNA_and_beta_values = lncRNA_and_beta_values.append(row, ignore_index =True)  \n",
    "    \n",
    "    \n",
    "else:\n",
    "    \n",
    "    lncRNA_and_beta_values = pd.DataFrame(columns = ['lncRNA', 'mean', 'std'])\n",
    "\n",
    "    for lncRNA in np.unique(relevant_mapping['gene_name']):\n",
    "        beta_values = relevant_mapping[relevant_mapping['gene_name'] == lncRNA]['beta'].values\n",
    "        row = {'lncRNA':lncRNA, 'mean': np.mean(beta_values), 'std':np.std(beta_values)}\n",
    "        lncRNA_and_beta_values = lncRNA_and_beta_values.append(row, ignore_index =True)\n",
    "\n",
    "\n",
    "lncRNA_and_beta_values"
   ]
  },
  {
   "cell_type": "code",
   "execution_count": 30,
   "metadata": {},
   "outputs": [
    {
     "data": {
      "text/html": [
       "<div>\n",
       "<style scoped>\n",
       "    .dataframe tbody tr th:only-of-type {\n",
       "        vertical-align: middle;\n",
       "    }\n",
       "\n",
       "    .dataframe tbody tr th {\n",
       "        vertical-align: top;\n",
       "    }\n",
       "\n",
       "    .dataframe thead th {\n",
       "        text-align: right;\n",
       "    }\n",
       "</style>\n",
       "<table border=\"1\" class=\"dataframe\">\n",
       "  <thead>\n",
       "    <tr style=\"text-align: right;\">\n",
       "      <th></th>\n",
       "      <th>LncRNA name</th>\n",
       "      <th>cancer type</th>\n",
       "      <th>methods</th>\n",
       "      <th>sample</th>\n",
       "      <th>regulated</th>\n",
       "      <th>function description</th>\n",
       "      <th>pubmed id</th>\n",
       "      <th>year</th>\n",
       "      <th>title</th>\n",
       "    </tr>\n",
       "  </thead>\n",
       "  <tbody>\n",
       "    <tr>\n",
       "      <th>10</th>\n",
       "      <td>A1BG-AS1</td>\n",
       "      <td>hepatocellular carcinoma</td>\n",
       "      <td>qPCR, Western blot, Luciferase reporter assay,...</td>\n",
       "      <td>HCC tissue, HCC cell lines including HepG2, He...</td>\n",
       "      <td>down-regulated</td>\n",
       "      <td>Further analyses confirmed that A1BG AS1 expre...</td>\n",
       "      <td>30556161</td>\n",
       "      <td>2018.0</td>\n",
       "      <td>lncRNA A1BG-AS1 Suppresses Proliferation and I...</td>\n",
       "    </tr>\n",
       "    <tr>\n",
       "      <th>112</th>\n",
       "      <td>ADAMTS9-AS1</td>\n",
       "      <td>prostate cancer</td>\n",
       "      <td>qRT-PCR</td>\n",
       "      <td>PCa tissues, cell lines</td>\n",
       "      <td>differentially expressed</td>\n",
       "      <td>ADAMTS9-AS1 significantly influences tumor cel...</td>\n",
       "      <td>32153626</td>\n",
       "      <td>2019.0</td>\n",
       "      <td>Data mining and expression analysis of differe...</td>\n",
       "    </tr>\n",
       "    <tr>\n",
       "      <th>113</th>\n",
       "      <td>ADAMTS9-AS1</td>\n",
       "      <td>bladder cancer</td>\n",
       "      <td>qPCR</td>\n",
       "      <td>human bladder cancer cell lines (T24, J82, UM-...</td>\n",
       "      <td>differentially expressed</td>\n",
       "      <td>The ceRNA network was constructed with 30 lncR...</td>\n",
       "      <td>31308745</td>\n",
       "      <td>2019.0</td>\n",
       "      <td>Integrative analysis of the lncRNA-associated ...</td>\n",
       "    </tr>\n",
       "    <tr>\n",
       "      <th>455</th>\n",
       "      <td>AP003555.2</td>\n",
       "      <td>colorectal cancer</td>\n",
       "      <td>qRT-PCR</td>\n",
       "      <td>TCGA</td>\n",
       "      <td>up-regulated</td>\n",
       "      <td>Multivariable Cox regression analysis was used...</td>\n",
       "      <td>31824849</td>\n",
       "      <td>2019.0</td>\n",
       "      <td>An Integrated Three-Long Non-coding RNA Signat...</td>\n",
       "    </tr>\n",
       "    <tr>\n",
       "      <th>798</th>\n",
       "      <td>CAHM</td>\n",
       "      <td>colorectal cancer</td>\n",
       "      <td>qPCR, MSP-PCR etc.</td>\n",
       "      <td>blood, CRC tissues</td>\n",
       "      <td>down-regulated</td>\n",
       "      <td>A reverse transcriptase-qPCR assay showed that...</td>\n",
       "      <td>24799664</td>\n",
       "      <td>2014.0</td>\n",
       "      <td>CAHM, a long non-coding RNA gene hypermethylat...</td>\n",
       "    </tr>\n",
       "    <tr>\n",
       "      <th>...</th>\n",
       "      <td>...</td>\n",
       "      <td>...</td>\n",
       "      <td>...</td>\n",
       "      <td>...</td>\n",
       "      <td>...</td>\n",
       "      <td>...</td>\n",
       "      <td>...</td>\n",
       "      <td>...</td>\n",
       "      <td>...</td>\n",
       "    </tr>\n",
       "    <tr>\n",
       "      <th>9290</th>\n",
       "      <td>ZNF674-AS1</td>\n",
       "      <td>hepatocellular carcinoma</td>\n",
       "      <td>qPCR etc.</td>\n",
       "      <td>HCC tissues, cell lines (HepG2, HCCLM3, SK-Hep...</td>\n",
       "      <td>down-regulated</td>\n",
       "      <td>The expression of ZNF674-AS1 in the HCC cell l...</td>\n",
       "      <td>27896271</td>\n",
       "      <td>2016.0</td>\n",
       "      <td>Expression and Clinical Significance of the No...</td>\n",
       "    </tr>\n",
       "    <tr>\n",
       "      <th>9292</th>\n",
       "      <td>ZNF750</td>\n",
       "      <td>skin squamous cell carcinoma</td>\n",
       "      <td>qPCR, RNAi, Western blot, Cell proliferation a...</td>\n",
       "      <td>cell line (SCC13)</td>\n",
       "      <td>down-regulated</td>\n",
       "      <td>In this study, we report that ZNF750 is exclus...</td>\n",
       "      <td>27819679</td>\n",
       "      <td>2016.0</td>\n",
       "      <td>ZNF750 is a lineage-specific tumour suppressor...</td>\n",
       "    </tr>\n",
       "    <tr>\n",
       "      <th>9293</th>\n",
       "      <td>ZNF750</td>\n",
       "      <td>cervical squamous cell carcinoma</td>\n",
       "      <td>qPCR, RNAi, Western blot, Cell proliferation a...</td>\n",
       "      <td>cell lines (C33A, CaSki, HT-3, ME180 and SiHa)</td>\n",
       "      <td>down-regulated</td>\n",
       "      <td>In this study, we report that ZNF750 is exclus...</td>\n",
       "      <td>27819679</td>\n",
       "      <td>2016.0</td>\n",
       "      <td>ZNF750 is a lineage-specific tumour suppressor...</td>\n",
       "    </tr>\n",
       "    <tr>\n",
       "      <th>9294</th>\n",
       "      <td>ZNF750</td>\n",
       "      <td>lung squamous cell carcinoma</td>\n",
       "      <td>qPCR, RNAi, Western blot, Cell proliferation a...</td>\n",
       "      <td>cell lines (Calu-1, ChagoK1, H2170 and H226)</td>\n",
       "      <td>down-regulated</td>\n",
       "      <td>In this study, we report that ZNF750 is exclus...</td>\n",
       "      <td>27819679</td>\n",
       "      <td>2016.0</td>\n",
       "      <td>ZNF750 is a lineage-specific tumour suppressor...</td>\n",
       "    </tr>\n",
       "    <tr>\n",
       "      <th>9295</th>\n",
       "      <td>ZNF750</td>\n",
       "      <td>head and neck squamous cell carcinoma</td>\n",
       "      <td>qPCR, RNAi, Western blot, ChIP, Cell prolifera...</td>\n",
       "      <td>cell lines (UMSCC1 and 93UV147)</td>\n",
       "      <td>down-regulated</td>\n",
       "      <td>In this study, we report that ZNF750 is exclus...</td>\n",
       "      <td>27819679</td>\n",
       "      <td>2016.0</td>\n",
       "      <td>ZNF750 is a lineage-specific tumour suppressor...</td>\n",
       "    </tr>\n",
       "  </tbody>\n",
       "</table>\n",
       "<p>1349 rows × 9 columns</p>\n",
       "</div>"
      ],
      "text/plain": [
       "      LncRNA name                            cancer type  \\\n",
       "10       A1BG-AS1               hepatocellular carcinoma   \n",
       "112   ADAMTS9-AS1                        prostate cancer   \n",
       "113   ADAMTS9-AS1                         bladder cancer   \n",
       "455    AP003555.2                      colorectal cancer   \n",
       "798          CAHM                      colorectal cancer   \n",
       "...           ...                                    ...   \n",
       "9290   ZNF674-AS1               hepatocellular carcinoma   \n",
       "9292       ZNF750           skin squamous cell carcinoma   \n",
       "9293       ZNF750       cervical squamous cell carcinoma   \n",
       "9294       ZNF750           lung squamous cell carcinoma   \n",
       "9295       ZNF750  head and neck squamous cell carcinoma   \n",
       "\n",
       "                                                methods  \\\n",
       "10    qPCR, Western blot, Luciferase reporter assay,...   \n",
       "112                                             qRT-PCR   \n",
       "113                                                qPCR   \n",
       "455                                             qRT-PCR   \n",
       "798                                  qPCR, MSP-PCR etc.   \n",
       "...                                                 ...   \n",
       "9290                                          qPCR etc.   \n",
       "9292  qPCR, RNAi, Western blot, Cell proliferation a...   \n",
       "9293  qPCR, RNAi, Western blot, Cell proliferation a...   \n",
       "9294  qPCR, RNAi, Western blot, Cell proliferation a...   \n",
       "9295  qPCR, RNAi, Western blot, ChIP, Cell prolifera...   \n",
       "\n",
       "                                                 sample  \\\n",
       "10    HCC tissue, HCC cell lines including HepG2, He...   \n",
       "112                             PCa tissues, cell lines   \n",
       "113   human bladder cancer cell lines (T24, J82, UM-...   \n",
       "455                                                TCGA   \n",
       "798                                  blood, CRC tissues   \n",
       "...                                                 ...   \n",
       "9290  HCC tissues, cell lines (HepG2, HCCLM3, SK-Hep...   \n",
       "9292                                  cell line (SCC13)   \n",
       "9293     cell lines (C33A, CaSki, HT-3, ME180 and SiHa)   \n",
       "9294       cell lines (Calu-1, ChagoK1, H2170 and H226)   \n",
       "9295                    cell lines (UMSCC1 and 93UV147)   \n",
       "\n",
       "                     regulated  \\\n",
       "10              down-regulated   \n",
       "112   differentially expressed   \n",
       "113   differentially expressed   \n",
       "455               up-regulated   \n",
       "798             down-regulated   \n",
       "...                        ...   \n",
       "9290            down-regulated   \n",
       "9292            down-regulated   \n",
       "9293            down-regulated   \n",
       "9294            down-regulated   \n",
       "9295            down-regulated   \n",
       "\n",
       "                                   function description  pubmed id    year  \\\n",
       "10    Further analyses confirmed that A1BG AS1 expre...   30556161  2018.0   \n",
       "112   ADAMTS9-AS1 significantly influences tumor cel...   32153626  2019.0   \n",
       "113   The ceRNA network was constructed with 30 lncR...   31308745  2019.0   \n",
       "455   Multivariable Cox regression analysis was used...   31824849  2019.0   \n",
       "798   A reverse transcriptase-qPCR assay showed that...   24799664  2014.0   \n",
       "...                                                 ...        ...     ...   \n",
       "9290  The expression of ZNF674-AS1 in the HCC cell l...   27896271  2016.0   \n",
       "9292  In this study, we report that ZNF750 is exclus...   27819679  2016.0   \n",
       "9293  In this study, we report that ZNF750 is exclus...   27819679  2016.0   \n",
       "9294  In this study, we report that ZNF750 is exclus...   27819679  2016.0   \n",
       "9295  In this study, we report that ZNF750 is exclus...   27819679  2016.0   \n",
       "\n",
       "                                                  title  \n",
       "10    lncRNA A1BG-AS1 Suppresses Proliferation and I...  \n",
       "112   Data mining and expression analysis of differe...  \n",
       "113   Integrative analysis of the lncRNA-associated ...  \n",
       "455   An Integrated Three-Long Non-coding RNA Signat...  \n",
       "798   CAHM, a long non-coding RNA gene hypermethylat...  \n",
       "...                                                 ...  \n",
       "9290  Expression and Clinical Significance of the No...  \n",
       "9292  ZNF750 is a lineage-specific tumour suppressor...  \n",
       "9293  ZNF750 is a lineage-specific tumour suppressor...  \n",
       "9294  ZNF750 is a lineage-specific tumour suppressor...  \n",
       "9295  ZNF750 is a lineage-specific tumour suppressor...  \n",
       "\n",
       "[1349 rows x 9 columns]"
      ]
     },
     "execution_count": 30,
     "metadata": {},
     "output_type": "execute_result"
    }
   ],
   "source": [
    "lncRNAs_found"
   ]
  },
  {
   "cell_type": "code",
   "execution_count": 70,
   "metadata": {},
   "outputs": [
    {
     "data": {
      "text/html": [
       "<div>\n",
       "<style scoped>\n",
       "    .dataframe tbody tr th:only-of-type {\n",
       "        vertical-align: middle;\n",
       "    }\n",
       "\n",
       "    .dataframe tbody tr th {\n",
       "        vertical-align: top;\n",
       "    }\n",
       "\n",
       "    .dataframe thead th {\n",
       "        text-align: right;\n",
       "    }\n",
       "</style>\n",
       "<table border=\"1\" class=\"dataframe\">\n",
       "  <thead>\n",
       "    <tr style=\"text-align: right;\">\n",
       "      <th></th>\n",
       "      <th>LncRNA name</th>\n",
       "      <th>cancer type</th>\n",
       "      <th>methods</th>\n",
       "      <th>sample</th>\n",
       "      <th>regulated</th>\n",
       "      <th>function description</th>\n",
       "      <th>pubmed id</th>\n",
       "      <th>year</th>\n",
       "      <th>title</th>\n",
       "    </tr>\n",
       "  </thead>\n",
       "  <tbody>\n",
       "    <tr>\n",
       "      <th>2907</th>\n",
       "      <td>HOTAIR</td>\n",
       "      <td>colorectal cancer</td>\n",
       "      <td>RT-qPCR, Western blot</td>\n",
       "      <td>CRC tissues, cell lines (HT29, SW20, HCT116, a...</td>\n",
       "      <td>up-regulated</td>\n",
       "      <td>HOTAIR functioned as a molecular sponge of miR...</td>\n",
       "      <td>32144238</td>\n",
       "      <td>2020.0</td>\n",
       "      <td>Long non-coding RNA HOTAIR knockdown enhances ...</td>\n",
       "    </tr>\n",
       "    <tr>\n",
       "      <th>2908</th>\n",
       "      <td>HOTAIR</td>\n",
       "      <td>hepatocellular carcinoma</td>\n",
       "      <td>qRT-PCR, Western blot</td>\n",
       "      <td>HCC tissues, cell lines (HepG2 and Huh7)</td>\n",
       "      <td>up-regulated</td>\n",
       "      <td>knockdown of HOTAIR suppressed glycolysis by r...</td>\n",
       "      <td>32062551</td>\n",
       "      <td>2019.0</td>\n",
       "      <td>LncRNA HOTAIR knockdown inhibits glycolysis by...</td>\n",
       "    </tr>\n",
       "    <tr>\n",
       "      <th>2909</th>\n",
       "      <td>HOTAIR</td>\n",
       "      <td>oral squamous cell carcinoma</td>\n",
       "      <td>qRT-PCR, Western blot</td>\n",
       "      <td>OSCC tissues, cell lines</td>\n",
       "      <td>up-regulated</td>\n",
       "      <td>HOTAIR acted as a competitive endogenous RNA e...</td>\n",
       "      <td>31995261</td>\n",
       "      <td>2020.0</td>\n",
       "      <td>LncRNA HOTAIR promotes the invasion and metast...</td>\n",
       "    </tr>\n",
       "    <tr>\n",
       "      <th>2910</th>\n",
       "      <td>HOTAIR</td>\n",
       "      <td>medulloblastoma</td>\n",
       "      <td>qPCR, Western blot</td>\n",
       "      <td>medulloblastoma tissues, cell lines</td>\n",
       "      <td>up-regulated</td>\n",
       "      <td>HOTAIR knockdown suppressed medulloblastoma ce...</td>\n",
       "      <td>31986414</td>\n",
       "      <td>2020.0</td>\n",
       "      <td>Long noncoding RNA HOTAIR promotes medulloblas...</td>\n",
       "    </tr>\n",
       "    <tr>\n",
       "      <th>2911</th>\n",
       "      <td>HOTAIR</td>\n",
       "      <td>prostate cancer</td>\n",
       "      <td>RNA-seq, qPCR, Western blot, in vitro knockdown</td>\n",
       "      <td>prostate cancer tissues, cell lines (LNCaP, LN...</td>\n",
       "      <td>up-regulated</td>\n",
       "      <td>HOTAIR as a novel REST-repressed lncRNA that i...</td>\n",
       "      <td>29944905</td>\n",
       "      <td>2018.0</td>\n",
       "      <td>HOTAIR Is a REST-regulated lncRNA That Promote...</td>\n",
       "    </tr>\n",
       "    <tr>\n",
       "      <th>...</th>\n",
       "      <td>...</td>\n",
       "      <td>...</td>\n",
       "      <td>...</td>\n",
       "      <td>...</td>\n",
       "      <td>...</td>\n",
       "      <td>...</td>\n",
       "      <td>...</td>\n",
       "      <td>...</td>\n",
       "      <td>...</td>\n",
       "    </tr>\n",
       "    <tr>\n",
       "      <th>3225</th>\n",
       "      <td>HOTAIR</td>\n",
       "      <td>prostate cancer</td>\n",
       "      <td>qPCR, Western blot etc.</td>\n",
       "      <td>cell lines</td>\n",
       "      <td>differentially expressed</td>\n",
       "      <td>Conversely, exogenously expressed HOTAIR resis...</td>\n",
       "      <td>29807357</td>\n",
       "      <td>2018.0</td>\n",
       "      <td>Crosstalk of NF-kB/P65 and LncRNA HOTAIR-Media...</td>\n",
       "    </tr>\n",
       "    <tr>\n",
       "      <th>3226</th>\n",
       "      <td>HOTAIR</td>\n",
       "      <td>colorectal cancer</td>\n",
       "      <td>qPCR, western blot etc.</td>\n",
       "      <td>CRC tissues, cell lines (SW480, HT29, HCT116, ...</td>\n",
       "      <td>down-regulated</td>\n",
       "      <td>HOTAIR was found to be expressed at high level...</td>\n",
       "      <td>29808247</td>\n",
       "      <td>2018.0</td>\n",
       "      <td>Down-Regulated LncRNA-HOTAIR Suppressed Colore...</td>\n",
       "    </tr>\n",
       "    <tr>\n",
       "      <th>3227</th>\n",
       "      <td>HOTAIR</td>\n",
       "      <td>liver cancer</td>\n",
       "      <td>qPCR, western blot etc.</td>\n",
       "      <td>Liver cancer tissues, cell lines (MHCC 97H, He...</td>\n",
       "      <td>up-regulated</td>\n",
       "      <td>It was demonstrated that the expression of HOT...</td>\n",
       "      <td>29849802</td>\n",
       "      <td>2018.0</td>\n",
       "      <td>HOTAIR contributes to the growth of liver canc...</td>\n",
       "    </tr>\n",
       "    <tr>\n",
       "      <th>3228</th>\n",
       "      <td>HOTAIR</td>\n",
       "      <td>prostate cancer</td>\n",
       "      <td>qPCR, RNA-seq, ChIP-Seq, etc.</td>\n",
       "      <td>cell lines (LNCaP-TR, CWR22Rv1, CWR22Rv1-TR, P...</td>\n",
       "      <td>up-regulated</td>\n",
       "      <td>HOTAIR overexpression is sufficient to induce,...</td>\n",
       "      <td>29944905</td>\n",
       "      <td>2018.0</td>\n",
       "      <td>HOTAIR is a REST-regulated lncRNA that promote...</td>\n",
       "    </tr>\n",
       "    <tr>\n",
       "      <th>3229</th>\n",
       "      <td>HOTAIR</td>\n",
       "      <td>colorectal cancer</td>\n",
       "      <td>qPCR, Western blot etc.</td>\n",
       "      <td>colorectal cancer tissues, cell line (SW480, H...</td>\n",
       "      <td>up-regulated</td>\n",
       "      <td>HOTAIR was found to be expressed at high level...</td>\n",
       "      <td>29808247</td>\n",
       "      <td>2018.0</td>\n",
       "      <td>Down-Regulated LncRNA-HOTAIR Suppressed Colore...</td>\n",
       "    </tr>\n",
       "  </tbody>\n",
       "</table>\n",
       "<p>323 rows × 9 columns</p>\n",
       "</div>"
      ],
      "text/plain": [
       "     LncRNA name                   cancer type  \\\n",
       "2907      HOTAIR             colorectal cancer   \n",
       "2908      HOTAIR      hepatocellular carcinoma   \n",
       "2909      HOTAIR  oral squamous cell carcinoma   \n",
       "2910      HOTAIR               medulloblastoma   \n",
       "2911      HOTAIR               prostate cancer   \n",
       "...          ...                           ...   \n",
       "3225      HOTAIR               prostate cancer   \n",
       "3226      HOTAIR             colorectal cancer   \n",
       "3227      HOTAIR                  liver cancer   \n",
       "3228      HOTAIR               prostate cancer   \n",
       "3229      HOTAIR             colorectal cancer   \n",
       "\n",
       "                                              methods  \\\n",
       "2907                            RT-qPCR, Western blot   \n",
       "2908                            qRT-PCR, Western blot   \n",
       "2909                           qRT-PCR, Western blot    \n",
       "2910                               qPCR, Western blot   \n",
       "2911  RNA-seq, qPCR, Western blot, in vitro knockdown   \n",
       "...                                               ...   \n",
       "3225                          qPCR, Western blot etc.   \n",
       "3226                          qPCR, western blot etc.   \n",
       "3227                          qPCR, western blot etc.   \n",
       "3228                    qPCR, RNA-seq, ChIP-Seq, etc.   \n",
       "3229                          qPCR, Western blot etc.   \n",
       "\n",
       "                                                 sample  \\\n",
       "2907  CRC tissues, cell lines (HT29, SW20, HCT116, a...   \n",
       "2908           HCC tissues, cell lines (HepG2 and Huh7)   \n",
       "2909                          OSCC tissues, cell lines    \n",
       "2910                medulloblastoma tissues, cell lines   \n",
       "2911  prostate cancer tissues, cell lines (LNCaP, LN...   \n",
       "...                                                 ...   \n",
       "3225                                         cell lines   \n",
       "3226  CRC tissues, cell lines (SW480, HT29, HCT116, ...   \n",
       "3227  Liver cancer tissues, cell lines (MHCC 97H, He...   \n",
       "3228  cell lines (LNCaP-TR, CWR22Rv1, CWR22Rv1-TR, P...   \n",
       "3229  colorectal cancer tissues, cell line (SW480, H...   \n",
       "\n",
       "                     regulated  \\\n",
       "2907              up-regulated   \n",
       "2908              up-regulated   \n",
       "2909              up-regulated   \n",
       "2910              up-regulated   \n",
       "2911              up-regulated   \n",
       "...                        ...   \n",
       "3225  differentially expressed   \n",
       "3226            down-regulated   \n",
       "3227              up-regulated   \n",
       "3228              up-regulated   \n",
       "3229              up-regulated   \n",
       "\n",
       "                                   function description  pubmed id    year  \\\n",
       "2907  HOTAIR functioned as a molecular sponge of miR...   32144238  2020.0   \n",
       "2908  knockdown of HOTAIR suppressed glycolysis by r...   32062551  2019.0   \n",
       "2909  HOTAIR acted as a competitive endogenous RNA e...   31995261  2020.0   \n",
       "2910  HOTAIR knockdown suppressed medulloblastoma ce...   31986414  2020.0   \n",
       "2911  HOTAIR as a novel REST-repressed lncRNA that i...   29944905  2018.0   \n",
       "...                                                 ...        ...     ...   \n",
       "3225  Conversely, exogenously expressed HOTAIR resis...   29807357  2018.0   \n",
       "3226  HOTAIR was found to be expressed at high level...   29808247  2018.0   \n",
       "3227  It was demonstrated that the expression of HOT...   29849802  2018.0   \n",
       "3228  HOTAIR overexpression is sufficient to induce,...   29944905  2018.0   \n",
       "3229  HOTAIR was found to be expressed at high level...   29808247  2018.0   \n",
       "\n",
       "                                                  title  \n",
       "2907  Long non-coding RNA HOTAIR knockdown enhances ...  \n",
       "2908  LncRNA HOTAIR knockdown inhibits glycolysis by...  \n",
       "2909  LncRNA HOTAIR promotes the invasion and metast...  \n",
       "2910  Long noncoding RNA HOTAIR promotes medulloblas...  \n",
       "2911  HOTAIR Is a REST-regulated lncRNA That Promote...  \n",
       "...                                                 ...  \n",
       "3225  Crosstalk of NF-kB/P65 and LncRNA HOTAIR-Media...  \n",
       "3226  Down-Regulated LncRNA-HOTAIR Suppressed Colore...  \n",
       "3227  HOTAIR contributes to the growth of liver canc...  \n",
       "3228  HOTAIR is a REST-regulated lncRNA that promote...  \n",
       "3229  Down-Regulated LncRNA-HOTAIR Suppressed Colore...  \n",
       "\n",
       "[323 rows x 9 columns]"
      ]
     },
     "execution_count": 70,
     "metadata": {},
     "output_type": "execute_result"
    }
   ],
   "source": [
    "lncRNAs_found[(lncRNAs_found['LncRNA name'] == 'HOTAIR')]"
   ]
  },
  {
   "cell_type": "markdown",
   "metadata": {},
   "source": [
    "# lncRNA -  down or up regulation vs methylation\n",
    "\n",
    "Is there any pattern between the mean cancer methylation value and the reported down/up regulation?"
   ]
  },
  {
   "cell_type": "code",
   "execution_count": 76,
   "metadata": {},
   "outputs": [
    {
     "data": {
      "text/plain": [
       "{'A1BG-AS1',\n",
       " 'ADAMTS9-AS1',\n",
       " 'AP003555.2',\n",
       " 'CAHM',\n",
       " 'CANT1',\n",
       " 'CASC11',\n",
       " 'CASC15',\n",
       " 'CCND2-AS1',\n",
       " 'CES1P1',\n",
       " 'DAPK1',\n",
       " 'DHRS4-AS1',\n",
       " 'DLX6-AS1',\n",
       " 'DRAIC',\n",
       " 'EMX2OS',\n",
       " 'EWSAT1',\n",
       " 'FAM87A',\n",
       " 'FENDRR',\n",
       " 'FER1L4',\n",
       " 'FOXCUT',\n",
       " 'FOXE1',\n",
       " 'FRMD6-AS2',\n",
       " 'FTX',\n",
       " 'GAB2',\n",
       " 'GADD45G',\n",
       " 'GATA2-AS1',\n",
       " 'GATA3-AS1',\n",
       " 'GATA6-AS1',\n",
       " 'GHRLOS',\n",
       " 'GMDS-DT',\n",
       " 'GSEC',\n",
       " 'HAGLR',\n",
       " 'HCG11',\n",
       " 'HHIP-AS1',\n",
       " 'HMGA2',\n",
       " 'HOTAIR',\n",
       " 'HOTTIP',\n",
       " 'HOXA-AS2',\n",
       " 'HOXA-AS3',\n",
       " 'HOXA10',\n",
       " 'HOXA10-AS',\n",
       " 'HOXA11-AS',\n",
       " 'HOXA13',\n",
       " 'HOXB-AS3',\n",
       " 'HOXC-AS1',\n",
       " 'HOXC-AS3',\n",
       " 'HOXD-AS2',\n",
       " 'ID2-AS1',\n",
       " 'INHBA-AS1',\n",
       " 'ITPRIPL1',\n",
       " 'JPX',\n",
       " 'KCNA3',\n",
       " 'KCNK15-AS1',\n",
       " 'KRT7',\n",
       " 'LIFR-AS1',\n",
       " 'LINC00174',\n",
       " 'LINC00239',\n",
       " 'LINC00261',\n",
       " 'LINC00311',\n",
       " 'LINC00336',\n",
       " 'LINC00461',\n",
       " 'LINC00511',\n",
       " 'LINC00526',\n",
       " 'LINC00629',\n",
       " 'LINC00667',\n",
       " 'LINC00683',\n",
       " 'LINC00880',\n",
       " 'LINC00968',\n",
       " 'LINC01006',\n",
       " 'LINC01096',\n",
       " 'LINC01121',\n",
       " 'LINC02595',\n",
       " 'LMCD1-AS1',\n",
       " 'MAGI2-AS3',\n",
       " 'MEF2C-AS1',\n",
       " 'MIR155HG',\n",
       " 'MIR7-3HG',\n",
       " 'MYC',\n",
       " 'NBR2',\n",
       " 'NCOR2',\n",
       " 'NEAT1',\n",
       " 'NR2F1-AS1',\n",
       " 'OIP5-AS1',\n",
       " 'PAX8-AS1',\n",
       " 'PAXIP1-AS1',\n",
       " 'PCAT1',\n",
       " 'PDCD4-AS1',\n",
       " 'PEG10',\n",
       " 'PFKFB1',\n",
       " 'PRDM16',\n",
       " 'PROX1-AS1',\n",
       " 'PTCSC2',\n",
       " 'PVT1',\n",
       " 'RAP2C-AS1',\n",
       " 'RPSAP52',\n",
       " 'SATB2-AS1',\n",
       " 'SLC7A11-AS1',\n",
       " 'SMAD5-AS1',\n",
       " 'SMIM10L2A',\n",
       " 'SND1',\n",
       " 'SNHG14',\n",
       " 'SNHG15',\n",
       " 'SNHG17',\n",
       " 'SOX2',\n",
       " 'SOX2-OT',\n",
       " 'SOX9-AS1',\n",
       " 'SSTR5-AS1',\n",
       " 'STARD13',\n",
       " 'STAT3',\n",
       " 'TARID',\n",
       " 'TRIM52-AS1',\n",
       " 'TUBB2A',\n",
       " 'UPK1A-AS1',\n",
       " 'VIM-AS1',\n",
       " 'ZEB1',\n",
       " 'ZEB1-AS1',\n",
       " 'ZFAS1',\n",
       " 'ZFHX4-AS1',\n",
       " 'ZMAT1',\n",
       " 'ZNF674-AS1',\n",
       " 'ZNF750'}"
      ]
     },
     "execution_count": 76,
     "metadata": {},
     "output_type": "execute_result"
    }
   ],
   "source": [
    "lncRNAs"
   ]
  },
  {
   "cell_type": "code",
   "execution_count": 77,
   "metadata": {},
   "outputs": [
    {
     "name": "stdout",
     "output_type": "stream",
     "text": [
      "{'lncRNA': 'HOTAIR', 'num_up_regulated': 270, 'num_down_regulated': 25}\n",
      "2\n"
     ]
    }
   ],
   "source": [
    "data = pd.DataFrame(columns = ['lncRNA', 'num_up_regulated', 'num_down_regulated'])\n",
    "for g in lncRNAs:\n",
    "# for g in ['PCAT1']:\n",
    "    rows = lncRNAs_found[lncRNAs_found['LncRNA name'].str.upper() == g]\n",
    "#     rows['regulated']\n",
    "    if len(rows) != 0:\n",
    "        num_up = (rows['regulated'].str.lower().str.contains('up')).sum()\n",
    "        num_down = (rows['regulated'].str.lower().str.contains('down')).sum()\n",
    "        data_row = {'lncRNA': g, 'num_up_regulated': num_up, 'num_down_regulated':num_down}\n",
    "        data = data.append(data_row, ignore_index = True)\n",
    "        if g == 'HOTAIR':\n",
    "            print(data_row)\n",
    "            print(rows['regulated'].str.lower().str.contains('up').isna().sum())\n",
    "        \n",
    "    rows = lncRNAs_found_CR[lncRNAs_found_CR['LncRNA'].str.upper() == g]\n",
    "    if len(rows) != 0:\n",
    "        num_up = (rows['expression level'].str.lower().str.contains('up')).sum()\n",
    "        num_down = (rows['expression level'].str.lower().str.contains('down')).sum()\n",
    "        if sum(data['lncRNA'] == g) != 0: # if we already have a row\n",
    "            data_row = data[data['lncRNA'] == g]\n",
    "            \n",
    "            data.loc[data_row.index, 'num_up_regulated'] = data_row['num_up_regulated'] + num_up\n",
    "            data.loc[data_row.index, 'num_down_regulated'] = data_row['num_down_regulated'] + num_down\n",
    "        else:\n",
    "            data_row = {'lncRNA': g, 'num_up_regulated': num_up, 'num_down_regulated':num_down}\n",
    "            data = data.append(data_row, ignore_index = True)\n",
    "    "
   ]
  },
  {
   "cell_type": "code",
   "execution_count": 78,
   "metadata": {},
   "outputs": [
    {
     "data": {
      "text/html": [
       "<div>\n",
       "<style scoped>\n",
       "    .dataframe tbody tr th:only-of-type {\n",
       "        vertical-align: middle;\n",
       "    }\n",
       "\n",
       "    .dataframe tbody tr th {\n",
       "        vertical-align: top;\n",
       "    }\n",
       "\n",
       "    .dataframe thead th {\n",
       "        text-align: right;\n",
       "    }\n",
       "</style>\n",
       "<table border=\"1\" class=\"dataframe\">\n",
       "  <thead>\n",
       "    <tr style=\"text-align: right;\">\n",
       "      <th></th>\n",
       "      <th>lncRNA</th>\n",
       "      <th>num_up_regulated</th>\n",
       "      <th>num_down_regulated</th>\n",
       "    </tr>\n",
       "  </thead>\n",
       "  <tbody>\n",
       "    <tr>\n",
       "      <th>0</th>\n",
       "      <td>FENDRR</td>\n",
       "      <td>0</td>\n",
       "      <td>17</td>\n",
       "    </tr>\n",
       "    <tr>\n",
       "      <th>1</th>\n",
       "      <td>MIR155HG</td>\n",
       "      <td>5</td>\n",
       "      <td>2</td>\n",
       "    </tr>\n",
       "    <tr>\n",
       "      <th>2</th>\n",
       "      <td>HOXA10-AS</td>\n",
       "      <td>3</td>\n",
       "      <td>0</td>\n",
       "    </tr>\n",
       "    <tr>\n",
       "      <th>3</th>\n",
       "      <td>LINC01096</td>\n",
       "      <td>1</td>\n",
       "      <td>0</td>\n",
       "    </tr>\n",
       "    <tr>\n",
       "      <th>4</th>\n",
       "      <td>ZNF750</td>\n",
       "      <td>0</td>\n",
       "      <td>4</td>\n",
       "    </tr>\n",
       "    <tr>\n",
       "      <th>...</th>\n",
       "      <td>...</td>\n",
       "      <td>...</td>\n",
       "      <td>...</td>\n",
       "    </tr>\n",
       "    <tr>\n",
       "      <th>115</th>\n",
       "      <td>ZFHX4-AS1</td>\n",
       "      <td>1</td>\n",
       "      <td>0</td>\n",
       "    </tr>\n",
       "    <tr>\n",
       "      <th>116</th>\n",
       "      <td>ID2-AS1</td>\n",
       "      <td>0</td>\n",
       "      <td>1</td>\n",
       "    </tr>\n",
       "    <tr>\n",
       "      <th>117</th>\n",
       "      <td>SOX2</td>\n",
       "      <td>2</td>\n",
       "      <td>0</td>\n",
       "    </tr>\n",
       "    <tr>\n",
       "      <th>118</th>\n",
       "      <td>SOX2-OT</td>\n",
       "      <td>7</td>\n",
       "      <td>0</td>\n",
       "    </tr>\n",
       "    <tr>\n",
       "      <th>119</th>\n",
       "      <td>PAX8-AS1</td>\n",
       "      <td>1</td>\n",
       "      <td>0</td>\n",
       "    </tr>\n",
       "  </tbody>\n",
       "</table>\n",
       "<p>120 rows × 3 columns</p>\n",
       "</div>"
      ],
      "text/plain": [
       "        lncRNA num_up_regulated num_down_regulated\n",
       "0       FENDRR                0                 17\n",
       "1     MIR155HG                5                  2\n",
       "2    HOXA10-AS                3                  0\n",
       "3    LINC01096                1                  0\n",
       "4       ZNF750                0                  4\n",
       "..         ...              ...                ...\n",
       "115  ZFHX4-AS1                1                  0\n",
       "116    ID2-AS1                0                  1\n",
       "117       SOX2                2                  0\n",
       "118    SOX2-OT                7                  0\n",
       "119   PAX8-AS1                1                  0\n",
       "\n",
       "[120 rows x 3 columns]"
      ]
     },
     "execution_count": 78,
     "metadata": {},
     "output_type": "execute_result"
    },
    {
     "data": {
      "text/plain": [
       "set()"
      ]
     },
     "execution_count": 78,
     "metadata": {},
     "output_type": "execute_result"
    }
   ],
   "source": [
    "data\n",
    "set(data['lncRNA']).difference(lncRNAs)"
   ]
  },
  {
   "cell_type": "code",
   "execution_count": 79,
   "metadata": {},
   "outputs": [
    {
     "data": {
      "text/html": [
       "<div>\n",
       "<style scoped>\n",
       "    .dataframe tbody tr th:only-of-type {\n",
       "        vertical-align: middle;\n",
       "    }\n",
       "\n",
       "    .dataframe tbody tr th {\n",
       "        vertical-align: top;\n",
       "    }\n",
       "\n",
       "    .dataframe thead th {\n",
       "        text-align: right;\n",
       "    }\n",
       "</style>\n",
       "<table border=\"1\" class=\"dataframe\">\n",
       "  <thead>\n",
       "    <tr style=\"text-align: right;\">\n",
       "      <th></th>\n",
       "      <th>lncRNA</th>\n",
       "      <th>num_up_regulated</th>\n",
       "      <th>num_down_regulated</th>\n",
       "      <th>Normal_mean</th>\n",
       "      <th>BLCA_mean</th>\n",
       "      <th>BRCA_mean</th>\n",
       "      <th>COAD_mean</th>\n",
       "      <th>ESCA_mean</th>\n",
       "      <th>HNSC_mean</th>\n",
       "      <th>KIRC_mean</th>\n",
       "      <th>...</th>\n",
       "      <th>ESCA_std</th>\n",
       "      <th>HNSC_std</th>\n",
       "      <th>KIRC_std</th>\n",
       "      <th>KIRP_std</th>\n",
       "      <th>LIHC_std</th>\n",
       "      <th>LUAD_std</th>\n",
       "      <th>LUSC_std</th>\n",
       "      <th>PRAD_std</th>\n",
       "      <th>THCA_std</th>\n",
       "      <th>UCEC_std</th>\n",
       "    </tr>\n",
       "  </thead>\n",
       "  <tbody>\n",
       "    <tr>\n",
       "      <th>0</th>\n",
       "      <td>FENDRR</td>\n",
       "      <td>0</td>\n",
       "      <td>17</td>\n",
       "      <td>0.150327</td>\n",
       "      <td>0.233614</td>\n",
       "      <td>0.125174</td>\n",
       "      <td>0.497928</td>\n",
       "      <td>0.345182</td>\n",
       "      <td>0.311720</td>\n",
       "      <td>0.093627</td>\n",
       "      <td>...</td>\n",
       "      <td>0.000000</td>\n",
       "      <td>0.000000</td>\n",
       "      <td>0.000000</td>\n",
       "      <td>0.000000</td>\n",
       "      <td>0.000000</td>\n",
       "      <td>0.000000</td>\n",
       "      <td>0.000000</td>\n",
       "      <td>0.000000</td>\n",
       "      <td>0.000000</td>\n",
       "      <td>0.000000</td>\n",
       "    </tr>\n",
       "    <tr>\n",
       "      <th>1</th>\n",
       "      <td>MIR155HG</td>\n",
       "      <td>5</td>\n",
       "      <td>2</td>\n",
       "      <td>0.018837</td>\n",
       "      <td>0.032774</td>\n",
       "      <td>0.053177</td>\n",
       "      <td>0.022943</td>\n",
       "      <td>0.023924</td>\n",
       "      <td>0.021854</td>\n",
       "      <td>0.018237</td>\n",
       "      <td>...</td>\n",
       "      <td>0.000000</td>\n",
       "      <td>0.000000</td>\n",
       "      <td>0.000000</td>\n",
       "      <td>0.000000</td>\n",
       "      <td>0.000000</td>\n",
       "      <td>0.000000</td>\n",
       "      <td>0.000000</td>\n",
       "      <td>0.000000</td>\n",
       "      <td>0.000000</td>\n",
       "      <td>0.000000</td>\n",
       "    </tr>\n",
       "    <tr>\n",
       "      <th>2</th>\n",
       "      <td>HOXA10-AS</td>\n",
       "      <td>3</td>\n",
       "      <td>0</td>\n",
       "      <td>0.083531</td>\n",
       "      <td>0.168411</td>\n",
       "      <td>0.215638</td>\n",
       "      <td>0.045964</td>\n",
       "      <td>0.061428</td>\n",
       "      <td>0.056320</td>\n",
       "      <td>0.055679</td>\n",
       "      <td>...</td>\n",
       "      <td>0.007058</td>\n",
       "      <td>0.005888</td>\n",
       "      <td>0.011642</td>\n",
       "      <td>0.008223</td>\n",
       "      <td>0.033499</td>\n",
       "      <td>0.009960</td>\n",
       "      <td>0.008615</td>\n",
       "      <td>0.010489</td>\n",
       "      <td>0.023354</td>\n",
       "      <td>0.005498</td>\n",
       "    </tr>\n",
       "    <tr>\n",
       "      <th>3</th>\n",
       "      <td>LINC01096</td>\n",
       "      <td>1</td>\n",
       "      <td>0</td>\n",
       "      <td>0.100355</td>\n",
       "      <td>0.086079</td>\n",
       "      <td>0.141014</td>\n",
       "      <td>0.110568</td>\n",
       "      <td>0.108286</td>\n",
       "      <td>0.088498</td>\n",
       "      <td>0.115660</td>\n",
       "      <td>...</td>\n",
       "      <td>0.000000</td>\n",
       "      <td>0.000000</td>\n",
       "      <td>0.000000</td>\n",
       "      <td>0.000000</td>\n",
       "      <td>0.000000</td>\n",
       "      <td>0.000000</td>\n",
       "      <td>0.000000</td>\n",
       "      <td>0.000000</td>\n",
       "      <td>0.000000</td>\n",
       "      <td>0.000000</td>\n",
       "    </tr>\n",
       "    <tr>\n",
       "      <th>4</th>\n",
       "      <td>ZNF750</td>\n",
       "      <td>0</td>\n",
       "      <td>4</td>\n",
       "      <td>0.872749</td>\n",
       "      <td>0.575780</td>\n",
       "      <td>0.622619</td>\n",
       "      <td>0.764322</td>\n",
       "      <td>0.806261</td>\n",
       "      <td>0.793589</td>\n",
       "      <td>0.945498</td>\n",
       "      <td>...</td>\n",
       "      <td>0.098967</td>\n",
       "      <td>0.103563</td>\n",
       "      <td>0.023202</td>\n",
       "      <td>0.026966</td>\n",
       "      <td>0.136039</td>\n",
       "      <td>0.154352</td>\n",
       "      <td>0.161679</td>\n",
       "      <td>0.297119</td>\n",
       "      <td>0.243989</td>\n",
       "      <td>0.182894</td>\n",
       "    </tr>\n",
       "    <tr>\n",
       "      <th>...</th>\n",
       "      <td>...</td>\n",
       "      <td>...</td>\n",
       "      <td>...</td>\n",
       "      <td>...</td>\n",
       "      <td>...</td>\n",
       "      <td>...</td>\n",
       "      <td>...</td>\n",
       "      <td>...</td>\n",
       "      <td>...</td>\n",
       "      <td>...</td>\n",
       "      <td>...</td>\n",
       "      <td>...</td>\n",
       "      <td>...</td>\n",
       "      <td>...</td>\n",
       "      <td>...</td>\n",
       "      <td>...</td>\n",
       "      <td>...</td>\n",
       "      <td>...</td>\n",
       "      <td>...</td>\n",
       "      <td>...</td>\n",
       "      <td>...</td>\n",
       "    </tr>\n",
       "    <tr>\n",
       "      <th>115</th>\n",
       "      <td>ZFHX4-AS1</td>\n",
       "      <td>1</td>\n",
       "      <td>0</td>\n",
       "      <td>0.766515</td>\n",
       "      <td>0.501966</td>\n",
       "      <td>0.774352</td>\n",
       "      <td>0.473385</td>\n",
       "      <td>0.611804</td>\n",
       "      <td>0.657230</td>\n",
       "      <td>0.725524</td>\n",
       "      <td>...</td>\n",
       "      <td>0.000000</td>\n",
       "      <td>0.000000</td>\n",
       "      <td>0.000000</td>\n",
       "      <td>0.000000</td>\n",
       "      <td>0.000000</td>\n",
       "      <td>0.000000</td>\n",
       "      <td>0.000000</td>\n",
       "      <td>0.000000</td>\n",
       "      <td>0.000000</td>\n",
       "      <td>0.000000</td>\n",
       "    </tr>\n",
       "    <tr>\n",
       "      <th>116</th>\n",
       "      <td>ID2-AS1</td>\n",
       "      <td>0</td>\n",
       "      <td>1</td>\n",
       "      <td>0.033502</td>\n",
       "      <td>0.032958</td>\n",
       "      <td>0.032025</td>\n",
       "      <td>0.035485</td>\n",
       "      <td>0.031133</td>\n",
       "      <td>0.033926</td>\n",
       "      <td>0.030371</td>\n",
       "      <td>...</td>\n",
       "      <td>0.000000</td>\n",
       "      <td>0.000000</td>\n",
       "      <td>0.000000</td>\n",
       "      <td>0.000000</td>\n",
       "      <td>0.000000</td>\n",
       "      <td>0.000000</td>\n",
       "      <td>0.000000</td>\n",
       "      <td>0.000000</td>\n",
       "      <td>0.000000</td>\n",
       "      <td>0.000000</td>\n",
       "    </tr>\n",
       "    <tr>\n",
       "      <th>117</th>\n",
       "      <td>SOX2</td>\n",
       "      <td>2</td>\n",
       "      <td>0</td>\n",
       "      <td>0.031184</td>\n",
       "      <td>0.030708</td>\n",
       "      <td>0.035240</td>\n",
       "      <td>0.050303</td>\n",
       "      <td>0.030586</td>\n",
       "      <td>0.028688</td>\n",
       "      <td>0.031640</td>\n",
       "      <td>...</td>\n",
       "      <td>0.000000</td>\n",
       "      <td>0.000000</td>\n",
       "      <td>0.000000</td>\n",
       "      <td>0.000000</td>\n",
       "      <td>0.000000</td>\n",
       "      <td>0.000000</td>\n",
       "      <td>0.000000</td>\n",
       "      <td>0.000000</td>\n",
       "      <td>0.000000</td>\n",
       "      <td>0.000000</td>\n",
       "    </tr>\n",
       "    <tr>\n",
       "      <th>118</th>\n",
       "      <td>SOX2-OT</td>\n",
       "      <td>7</td>\n",
       "      <td>0</td>\n",
       "      <td>0.081243</td>\n",
       "      <td>0.172528</td>\n",
       "      <td>0.107685</td>\n",
       "      <td>0.190108</td>\n",
       "      <td>0.270755</td>\n",
       "      <td>0.299801</td>\n",
       "      <td>0.059507</td>\n",
       "      <td>...</td>\n",
       "      <td>0.240169</td>\n",
       "      <td>0.271113</td>\n",
       "      <td>0.027868</td>\n",
       "      <td>0.044118</td>\n",
       "      <td>0.058039</td>\n",
       "      <td>0.223091</td>\n",
       "      <td>0.273940</td>\n",
       "      <td>0.316434</td>\n",
       "      <td>0.016145</td>\n",
       "      <td>0.028542</td>\n",
       "    </tr>\n",
       "    <tr>\n",
       "      <th>119</th>\n",
       "      <td>PAX8-AS1</td>\n",
       "      <td>1</td>\n",
       "      <td>0</td>\n",
       "      <td>0.506248</td>\n",
       "      <td>0.590798</td>\n",
       "      <td>0.679217</td>\n",
       "      <td>0.673392</td>\n",
       "      <td>0.591145</td>\n",
       "      <td>0.606983</td>\n",
       "      <td>0.474201</td>\n",
       "      <td>...</td>\n",
       "      <td>0.042207</td>\n",
       "      <td>0.098800</td>\n",
       "      <td>0.406245</td>\n",
       "      <td>0.433265</td>\n",
       "      <td>0.093371</td>\n",
       "      <td>0.129064</td>\n",
       "      <td>0.078649</td>\n",
       "      <td>0.124370</td>\n",
       "      <td>0.436320</td>\n",
       "      <td>0.427167</td>\n",
       "    </tr>\n",
       "  </tbody>\n",
       "</table>\n",
       "<p>120 rows × 31 columns</p>\n",
       "</div>"
      ],
      "text/plain": [
       "        lncRNA num_up_regulated num_down_regulated  Normal_mean  BLCA_mean  \\\n",
       "0       FENDRR                0                 17     0.150327   0.233614   \n",
       "1     MIR155HG                5                  2     0.018837   0.032774   \n",
       "2    HOXA10-AS                3                  0     0.083531   0.168411   \n",
       "3    LINC01096                1                  0     0.100355   0.086079   \n",
       "4       ZNF750                0                  4     0.872749   0.575780   \n",
       "..         ...              ...                ...          ...        ...   \n",
       "115  ZFHX4-AS1                1                  0     0.766515   0.501966   \n",
       "116    ID2-AS1                0                  1     0.033502   0.032958   \n",
       "117       SOX2                2                  0     0.031184   0.030708   \n",
       "118    SOX2-OT                7                  0     0.081243   0.172528   \n",
       "119   PAX8-AS1                1                  0     0.506248   0.590798   \n",
       "\n",
       "     BRCA_mean  COAD_mean  ESCA_mean  HNSC_mean  KIRC_mean  ...  ESCA_std  \\\n",
       "0     0.125174   0.497928   0.345182   0.311720   0.093627  ...  0.000000   \n",
       "1     0.053177   0.022943   0.023924   0.021854   0.018237  ...  0.000000   \n",
       "2     0.215638   0.045964   0.061428   0.056320   0.055679  ...  0.007058   \n",
       "3     0.141014   0.110568   0.108286   0.088498   0.115660  ...  0.000000   \n",
       "4     0.622619   0.764322   0.806261   0.793589   0.945498  ...  0.098967   \n",
       "..         ...        ...        ...        ...        ...  ...       ...   \n",
       "115   0.774352   0.473385   0.611804   0.657230   0.725524  ...  0.000000   \n",
       "116   0.032025   0.035485   0.031133   0.033926   0.030371  ...  0.000000   \n",
       "117   0.035240   0.050303   0.030586   0.028688   0.031640  ...  0.000000   \n",
       "118   0.107685   0.190108   0.270755   0.299801   0.059507  ...  0.240169   \n",
       "119   0.679217   0.673392   0.591145   0.606983   0.474201  ...  0.042207   \n",
       "\n",
       "     HNSC_std  KIRC_std  KIRP_std  LIHC_std  LUAD_std  LUSC_std  PRAD_std  \\\n",
       "0    0.000000  0.000000  0.000000  0.000000  0.000000  0.000000  0.000000   \n",
       "1    0.000000  0.000000  0.000000  0.000000  0.000000  0.000000  0.000000   \n",
       "2    0.005888  0.011642  0.008223  0.033499  0.009960  0.008615  0.010489   \n",
       "3    0.000000  0.000000  0.000000  0.000000  0.000000  0.000000  0.000000   \n",
       "4    0.103563  0.023202  0.026966  0.136039  0.154352  0.161679  0.297119   \n",
       "..        ...       ...       ...       ...       ...       ...       ...   \n",
       "115  0.000000  0.000000  0.000000  0.000000  0.000000  0.000000  0.000000   \n",
       "116  0.000000  0.000000  0.000000  0.000000  0.000000  0.000000  0.000000   \n",
       "117  0.000000  0.000000  0.000000  0.000000  0.000000  0.000000  0.000000   \n",
       "118  0.271113  0.027868  0.044118  0.058039  0.223091  0.273940  0.316434   \n",
       "119  0.098800  0.406245  0.433265  0.093371  0.129064  0.078649  0.124370   \n",
       "\n",
       "     THCA_std  UCEC_std  \n",
       "0    0.000000  0.000000  \n",
       "1    0.000000  0.000000  \n",
       "2    0.023354  0.005498  \n",
       "3    0.000000  0.000000  \n",
       "4    0.243989  0.182894  \n",
       "..        ...       ...  \n",
       "115  0.000000  0.000000  \n",
       "116  0.000000  0.000000  \n",
       "117  0.000000  0.000000  \n",
       "118  0.016145  0.028542  \n",
       "119  0.436320  0.427167  \n",
       "\n",
       "[120 rows x 31 columns]"
      ]
     },
     "execution_count": 79,
     "metadata": {},
     "output_type": "execute_result"
    }
   ],
   "source": [
    "# add methylation info\n",
    "data = data.merge(lncRNA_and_beta_values, on = 'lncRNA')\n",
    "data\n",
    "\n",
    "# here we lose 3 lncRNAs, probably as they arn't in our "
   ]
  },
  {
   "cell_type": "code",
   "execution_count": null,
   "metadata": {},
   "outputs": [],
   "source": []
  },
  {
   "cell_type": "code",
   "execution_count": 82,
   "metadata": {},
   "outputs": [],
   "source": [
    "# add fraction of up regulation info\n",
    "def safe_divide(a, b):\n",
    "    if b == 0:\n",
    "        return np.nan\n",
    "    else:\n",
    "        return a/b\n",
    "    \n",
    "data['fraction_up_regulated'] = list(map(safe_divide, data['num_up_regulated'], data['num_up_regulated'] + data['num_down_regulated']))"
   ]
  },
  {
   "cell_type": "code",
   "execution_count": null,
   "metadata": {},
   "outputs": [],
   "source": [
    "import seaborn as sb\n",
    "import matplotlib.pyplot as plt\n"
   ]
  },
  {
   "cell_type": "code",
   "execution_count": 85,
   "metadata": {},
   "outputs": [
    {
     "data": {
      "text/html": [
       "<div>\n",
       "<style scoped>\n",
       "    .dataframe tbody tr th:only-of-type {\n",
       "        vertical-align: middle;\n",
       "    }\n",
       "\n",
       "    .dataframe tbody tr th {\n",
       "        vertical-align: top;\n",
       "    }\n",
       "\n",
       "    .dataframe thead th {\n",
       "        text-align: right;\n",
       "    }\n",
       "</style>\n",
       "<table border=\"1\" class=\"dataframe\">\n",
       "  <thead>\n",
       "    <tr style=\"text-align: right;\">\n",
       "      <th></th>\n",
       "      <th>lncRNA</th>\n",
       "      <th>num_up_regulated</th>\n",
       "      <th>num_down_regulated</th>\n",
       "      <th>Normal_mean</th>\n",
       "      <th>BLCA_mean</th>\n",
       "      <th>BRCA_mean</th>\n",
       "      <th>COAD_mean</th>\n",
       "      <th>ESCA_mean</th>\n",
       "      <th>HNSC_mean</th>\n",
       "      <th>KIRC_mean</th>\n",
       "      <th>...</th>\n",
       "      <th>HNSC_std</th>\n",
       "      <th>KIRC_std</th>\n",
       "      <th>KIRP_std</th>\n",
       "      <th>LIHC_std</th>\n",
       "      <th>LUAD_std</th>\n",
       "      <th>LUSC_std</th>\n",
       "      <th>PRAD_std</th>\n",
       "      <th>THCA_std</th>\n",
       "      <th>UCEC_std</th>\n",
       "      <th>fraction_up_regulated</th>\n",
       "    </tr>\n",
       "  </thead>\n",
       "  <tbody>\n",
       "    <tr>\n",
       "      <th>0</th>\n",
       "      <td>FENDRR</td>\n",
       "      <td>0</td>\n",
       "      <td>17</td>\n",
       "      <td>0.150327</td>\n",
       "      <td>0.233614</td>\n",
       "      <td>0.125174</td>\n",
       "      <td>0.497928</td>\n",
       "      <td>0.345182</td>\n",
       "      <td>0.311720</td>\n",
       "      <td>0.093627</td>\n",
       "      <td>...</td>\n",
       "      <td>0.000000</td>\n",
       "      <td>0.000000</td>\n",
       "      <td>0.000000</td>\n",
       "      <td>0.000000</td>\n",
       "      <td>0.000000</td>\n",
       "      <td>0.000000</td>\n",
       "      <td>0.000000</td>\n",
       "      <td>0.000000</td>\n",
       "      <td>0.000000</td>\n",
       "      <td>0.000000</td>\n",
       "    </tr>\n",
       "    <tr>\n",
       "      <th>1</th>\n",
       "      <td>MIR155HG</td>\n",
       "      <td>5</td>\n",
       "      <td>2</td>\n",
       "      <td>0.018837</td>\n",
       "      <td>0.032774</td>\n",
       "      <td>0.053177</td>\n",
       "      <td>0.022943</td>\n",
       "      <td>0.023924</td>\n",
       "      <td>0.021854</td>\n",
       "      <td>0.018237</td>\n",
       "      <td>...</td>\n",
       "      <td>0.000000</td>\n",
       "      <td>0.000000</td>\n",
       "      <td>0.000000</td>\n",
       "      <td>0.000000</td>\n",
       "      <td>0.000000</td>\n",
       "      <td>0.000000</td>\n",
       "      <td>0.000000</td>\n",
       "      <td>0.000000</td>\n",
       "      <td>0.000000</td>\n",
       "      <td>0.714286</td>\n",
       "    </tr>\n",
       "    <tr>\n",
       "      <th>2</th>\n",
       "      <td>HOXA10-AS</td>\n",
       "      <td>3</td>\n",
       "      <td>0</td>\n",
       "      <td>0.083531</td>\n",
       "      <td>0.168411</td>\n",
       "      <td>0.215638</td>\n",
       "      <td>0.045964</td>\n",
       "      <td>0.061428</td>\n",
       "      <td>0.056320</td>\n",
       "      <td>0.055679</td>\n",
       "      <td>...</td>\n",
       "      <td>0.005888</td>\n",
       "      <td>0.011642</td>\n",
       "      <td>0.008223</td>\n",
       "      <td>0.033499</td>\n",
       "      <td>0.009960</td>\n",
       "      <td>0.008615</td>\n",
       "      <td>0.010489</td>\n",
       "      <td>0.023354</td>\n",
       "      <td>0.005498</td>\n",
       "      <td>1.000000</td>\n",
       "    </tr>\n",
       "    <tr>\n",
       "      <th>3</th>\n",
       "      <td>LINC01096</td>\n",
       "      <td>1</td>\n",
       "      <td>0</td>\n",
       "      <td>0.100355</td>\n",
       "      <td>0.086079</td>\n",
       "      <td>0.141014</td>\n",
       "      <td>0.110568</td>\n",
       "      <td>0.108286</td>\n",
       "      <td>0.088498</td>\n",
       "      <td>0.115660</td>\n",
       "      <td>...</td>\n",
       "      <td>0.000000</td>\n",
       "      <td>0.000000</td>\n",
       "      <td>0.000000</td>\n",
       "      <td>0.000000</td>\n",
       "      <td>0.000000</td>\n",
       "      <td>0.000000</td>\n",
       "      <td>0.000000</td>\n",
       "      <td>0.000000</td>\n",
       "      <td>0.000000</td>\n",
       "      <td>1.000000</td>\n",
       "    </tr>\n",
       "    <tr>\n",
       "      <th>4</th>\n",
       "      <td>ZNF750</td>\n",
       "      <td>0</td>\n",
       "      <td>4</td>\n",
       "      <td>0.872749</td>\n",
       "      <td>0.575780</td>\n",
       "      <td>0.622619</td>\n",
       "      <td>0.764322</td>\n",
       "      <td>0.806261</td>\n",
       "      <td>0.793589</td>\n",
       "      <td>0.945498</td>\n",
       "      <td>...</td>\n",
       "      <td>0.103563</td>\n",
       "      <td>0.023202</td>\n",
       "      <td>0.026966</td>\n",
       "      <td>0.136039</td>\n",
       "      <td>0.154352</td>\n",
       "      <td>0.161679</td>\n",
       "      <td>0.297119</td>\n",
       "      <td>0.243989</td>\n",
       "      <td>0.182894</td>\n",
       "      <td>0.000000</td>\n",
       "    </tr>\n",
       "    <tr>\n",
       "      <th>...</th>\n",
       "      <td>...</td>\n",
       "      <td>...</td>\n",
       "      <td>...</td>\n",
       "      <td>...</td>\n",
       "      <td>...</td>\n",
       "      <td>...</td>\n",
       "      <td>...</td>\n",
       "      <td>...</td>\n",
       "      <td>...</td>\n",
       "      <td>...</td>\n",
       "      <td>...</td>\n",
       "      <td>...</td>\n",
       "      <td>...</td>\n",
       "      <td>...</td>\n",
       "      <td>...</td>\n",
       "      <td>...</td>\n",
       "      <td>...</td>\n",
       "      <td>...</td>\n",
       "      <td>...</td>\n",
       "      <td>...</td>\n",
       "      <td>...</td>\n",
       "    </tr>\n",
       "    <tr>\n",
       "      <th>115</th>\n",
       "      <td>ZFHX4-AS1</td>\n",
       "      <td>1</td>\n",
       "      <td>0</td>\n",
       "      <td>0.766515</td>\n",
       "      <td>0.501966</td>\n",
       "      <td>0.774352</td>\n",
       "      <td>0.473385</td>\n",
       "      <td>0.611804</td>\n",
       "      <td>0.657230</td>\n",
       "      <td>0.725524</td>\n",
       "      <td>...</td>\n",
       "      <td>0.000000</td>\n",
       "      <td>0.000000</td>\n",
       "      <td>0.000000</td>\n",
       "      <td>0.000000</td>\n",
       "      <td>0.000000</td>\n",
       "      <td>0.000000</td>\n",
       "      <td>0.000000</td>\n",
       "      <td>0.000000</td>\n",
       "      <td>0.000000</td>\n",
       "      <td>1.000000</td>\n",
       "    </tr>\n",
       "    <tr>\n",
       "      <th>116</th>\n",
       "      <td>ID2-AS1</td>\n",
       "      <td>0</td>\n",
       "      <td>1</td>\n",
       "      <td>0.033502</td>\n",
       "      <td>0.032958</td>\n",
       "      <td>0.032025</td>\n",
       "      <td>0.035485</td>\n",
       "      <td>0.031133</td>\n",
       "      <td>0.033926</td>\n",
       "      <td>0.030371</td>\n",
       "      <td>...</td>\n",
       "      <td>0.000000</td>\n",
       "      <td>0.000000</td>\n",
       "      <td>0.000000</td>\n",
       "      <td>0.000000</td>\n",
       "      <td>0.000000</td>\n",
       "      <td>0.000000</td>\n",
       "      <td>0.000000</td>\n",
       "      <td>0.000000</td>\n",
       "      <td>0.000000</td>\n",
       "      <td>0.000000</td>\n",
       "    </tr>\n",
       "    <tr>\n",
       "      <th>117</th>\n",
       "      <td>SOX2</td>\n",
       "      <td>2</td>\n",
       "      <td>0</td>\n",
       "      <td>0.031184</td>\n",
       "      <td>0.030708</td>\n",
       "      <td>0.035240</td>\n",
       "      <td>0.050303</td>\n",
       "      <td>0.030586</td>\n",
       "      <td>0.028688</td>\n",
       "      <td>0.031640</td>\n",
       "      <td>...</td>\n",
       "      <td>0.000000</td>\n",
       "      <td>0.000000</td>\n",
       "      <td>0.000000</td>\n",
       "      <td>0.000000</td>\n",
       "      <td>0.000000</td>\n",
       "      <td>0.000000</td>\n",
       "      <td>0.000000</td>\n",
       "      <td>0.000000</td>\n",
       "      <td>0.000000</td>\n",
       "      <td>1.000000</td>\n",
       "    </tr>\n",
       "    <tr>\n",
       "      <th>118</th>\n",
       "      <td>SOX2-OT</td>\n",
       "      <td>7</td>\n",
       "      <td>0</td>\n",
       "      <td>0.081243</td>\n",
       "      <td>0.172528</td>\n",
       "      <td>0.107685</td>\n",
       "      <td>0.190108</td>\n",
       "      <td>0.270755</td>\n",
       "      <td>0.299801</td>\n",
       "      <td>0.059507</td>\n",
       "      <td>...</td>\n",
       "      <td>0.271113</td>\n",
       "      <td>0.027868</td>\n",
       "      <td>0.044118</td>\n",
       "      <td>0.058039</td>\n",
       "      <td>0.223091</td>\n",
       "      <td>0.273940</td>\n",
       "      <td>0.316434</td>\n",
       "      <td>0.016145</td>\n",
       "      <td>0.028542</td>\n",
       "      <td>1.000000</td>\n",
       "    </tr>\n",
       "    <tr>\n",
       "      <th>119</th>\n",
       "      <td>PAX8-AS1</td>\n",
       "      <td>1</td>\n",
       "      <td>0</td>\n",
       "      <td>0.506248</td>\n",
       "      <td>0.590798</td>\n",
       "      <td>0.679217</td>\n",
       "      <td>0.673392</td>\n",
       "      <td>0.591145</td>\n",
       "      <td>0.606983</td>\n",
       "      <td>0.474201</td>\n",
       "      <td>...</td>\n",
       "      <td>0.098800</td>\n",
       "      <td>0.406245</td>\n",
       "      <td>0.433265</td>\n",
       "      <td>0.093371</td>\n",
       "      <td>0.129064</td>\n",
       "      <td>0.078649</td>\n",
       "      <td>0.124370</td>\n",
       "      <td>0.436320</td>\n",
       "      <td>0.427167</td>\n",
       "      <td>1.000000</td>\n",
       "    </tr>\n",
       "  </tbody>\n",
       "</table>\n",
       "<p>120 rows × 32 columns</p>\n",
       "</div>"
      ],
      "text/plain": [
       "        lncRNA num_up_regulated num_down_regulated  Normal_mean  BLCA_mean  \\\n",
       "0       FENDRR                0                 17     0.150327   0.233614   \n",
       "1     MIR155HG                5                  2     0.018837   0.032774   \n",
       "2    HOXA10-AS                3                  0     0.083531   0.168411   \n",
       "3    LINC01096                1                  0     0.100355   0.086079   \n",
       "4       ZNF750                0                  4     0.872749   0.575780   \n",
       "..         ...              ...                ...          ...        ...   \n",
       "115  ZFHX4-AS1                1                  0     0.766515   0.501966   \n",
       "116    ID2-AS1                0                  1     0.033502   0.032958   \n",
       "117       SOX2                2                  0     0.031184   0.030708   \n",
       "118    SOX2-OT                7                  0     0.081243   0.172528   \n",
       "119   PAX8-AS1                1                  0     0.506248   0.590798   \n",
       "\n",
       "     BRCA_mean  COAD_mean  ESCA_mean  HNSC_mean  KIRC_mean  ...  HNSC_std  \\\n",
       "0     0.125174   0.497928   0.345182   0.311720   0.093627  ...  0.000000   \n",
       "1     0.053177   0.022943   0.023924   0.021854   0.018237  ...  0.000000   \n",
       "2     0.215638   0.045964   0.061428   0.056320   0.055679  ...  0.005888   \n",
       "3     0.141014   0.110568   0.108286   0.088498   0.115660  ...  0.000000   \n",
       "4     0.622619   0.764322   0.806261   0.793589   0.945498  ...  0.103563   \n",
       "..         ...        ...        ...        ...        ...  ...       ...   \n",
       "115   0.774352   0.473385   0.611804   0.657230   0.725524  ...  0.000000   \n",
       "116   0.032025   0.035485   0.031133   0.033926   0.030371  ...  0.000000   \n",
       "117   0.035240   0.050303   0.030586   0.028688   0.031640  ...  0.000000   \n",
       "118   0.107685   0.190108   0.270755   0.299801   0.059507  ...  0.271113   \n",
       "119   0.679217   0.673392   0.591145   0.606983   0.474201  ...  0.098800   \n",
       "\n",
       "     KIRC_std  KIRP_std  LIHC_std  LUAD_std  LUSC_std  PRAD_std  THCA_std  \\\n",
       "0    0.000000  0.000000  0.000000  0.000000  0.000000  0.000000  0.000000   \n",
       "1    0.000000  0.000000  0.000000  0.000000  0.000000  0.000000  0.000000   \n",
       "2    0.011642  0.008223  0.033499  0.009960  0.008615  0.010489  0.023354   \n",
       "3    0.000000  0.000000  0.000000  0.000000  0.000000  0.000000  0.000000   \n",
       "4    0.023202  0.026966  0.136039  0.154352  0.161679  0.297119  0.243989   \n",
       "..        ...       ...       ...       ...       ...       ...       ...   \n",
       "115  0.000000  0.000000  0.000000  0.000000  0.000000  0.000000  0.000000   \n",
       "116  0.000000  0.000000  0.000000  0.000000  0.000000  0.000000  0.000000   \n",
       "117  0.000000  0.000000  0.000000  0.000000  0.000000  0.000000  0.000000   \n",
       "118  0.027868  0.044118  0.058039  0.223091  0.273940  0.316434  0.016145   \n",
       "119  0.406245  0.433265  0.093371  0.129064  0.078649  0.124370  0.436320   \n",
       "\n",
       "     UCEC_std  fraction_up_regulated  \n",
       "0    0.000000               0.000000  \n",
       "1    0.000000               0.714286  \n",
       "2    0.005498               1.000000  \n",
       "3    0.000000               1.000000  \n",
       "4    0.182894               0.000000  \n",
       "..        ...                    ...  \n",
       "115  0.000000               1.000000  \n",
       "116  0.000000               0.000000  \n",
       "117  0.000000               1.000000  \n",
       "118  0.028542               1.000000  \n",
       "119  0.427167               1.000000  \n",
       "\n",
       "[120 rows x 32 columns]"
      ]
     },
     "execution_count": 85,
     "metadata": {},
     "output_type": "execute_result"
    }
   ],
   "source": [
    "data\n",
    "if split_up_by_cancer:\n",
    "    data.to_csv('data_lncRNA_beta_and_regulation_split_by_cancer.csv')\n",
    "else:\n",
    "    data.to_csv('data_lncRNA_beta_and_regulation.csv')"
   ]
  },
  {
   "cell_type": "markdown",
   "metadata": {},
   "source": [
    "# Adding hallmark info"
   ]
  },
  {
   "cell_type": "code",
   "execution_count": 86,
   "metadata": {},
   "outputs": [
    {
     "data": {
      "text/plain": [
       "10      Further analyses confirmed that A1BG AS1 expre...\n",
       "112     ADAMTS9-AS1 significantly influences tumor cel...\n",
       "113     The ceRNA network was constructed with 30 lncR...\n",
       "455     Multivariable Cox regression analysis was used...\n",
       "798     A reverse transcriptase-qPCR assay showed that...\n",
       "                              ...                        \n",
       "9290    The expression of ZNF674-AS1 in the HCC cell l...\n",
       "9292    In this study, we report that ZNF750 is exclus...\n",
       "9293    In this study, we report that ZNF750 is exclus...\n",
       "9294    In this study, we report that ZNF750 is exclus...\n",
       "9295    In this study, we report that ZNF750 is exclus...\n",
       "Name: function description, Length: 1349, dtype: object"
      ]
     },
     "execution_count": 86,
     "metadata": {},
     "output_type": "execute_result"
    }
   ],
   "source": [
    "lncRNAs_found['function description'] # need to extract hallmark info from this"
   ]
  },
  {
   "cell_type": "code",
   "execution_count": 87,
   "metadata": {},
   "outputs": [
    {
     "data": {
      "text/plain": [
       "10      None\n",
       "112     None\n",
       "113     None\n",
       "455     None\n",
       "798     None\n",
       "        ... \n",
       "9290    None\n",
       "9292    None\n",
       "9293    None\n",
       "9294    None\n",
       "9295    None\n",
       "Length: 1349, dtype: object"
      ]
     },
     "execution_count": 87,
     "metadata": {},
     "output_type": "execute_result"
    }
   ],
   "source": [
    "# paragraph is one string of text, which can contain multiple sentences\n",
    "def find_mentioned_hallmarks(paragraph):\n",
    "    def is_in(hallmark):\n",
    "        return (hallmark in paragraph)\n",
    "    import numpy as np\n",
    "    hallmark_keywords = np.array(['self-sufficiency in growth signals', 'prolifer', 'invasi', 'metasta', 'angiogenesis', 'apoptosis', 'cell cycle arrest', 'growth arrest', 'cell cycle progression', 'migrat', 'cell cycle', 'oncogen', 'tumor suppress', 'growth', ' emt', 'autophag', 'methylat', 'metaboli', 'immun'])\n",
    "    hallmarks_in = np.array(list(map(is_in, hallmark_keywords)))\n",
    "#     print(hallmarks_in)\n",
    "    return(hallmark_keywords[hallmarks_in])\n",
    "    \n",
    "\n",
    "# for the lnc2cancer database: (lncRNAs_found)\n",
    "def add_hallmarks(row):\n",
    "    p = row['function description'].lower()\n",
    "    \n",
    "    hallmarks = find_mentioned_hallmarks(p)\n",
    "    for h in hallmarks:\n",
    "        if not (h in data.columns):\n",
    "            data[h] = 0\n",
    "        data.loc[data['lncRNA'] == row['LncRNA name'], h] = data.loc[data['lncRNA'] == row['LncRNA name'], h] + 1    \n",
    "\n",
    "        \n",
    "lncRNAs_found.apply(add_hallmarks, axis = 1)\n"
   ]
  },
  {
   "cell_type": "code",
   "execution_count": 88,
   "metadata": {},
   "outputs": [
    {
     "data": {
      "text/html": [
       "<div>\n",
       "<style scoped>\n",
       "    .dataframe tbody tr th:only-of-type {\n",
       "        vertical-align: middle;\n",
       "    }\n",
       "\n",
       "    .dataframe tbody tr th {\n",
       "        vertical-align: top;\n",
       "    }\n",
       "\n",
       "    .dataframe thead th {\n",
       "        text-align: right;\n",
       "    }\n",
       "</style>\n",
       "<table border=\"1\" class=\"dataframe\">\n",
       "  <thead>\n",
       "    <tr style=\"text-align: right;\">\n",
       "      <th></th>\n",
       "      <th>LncRNA</th>\n",
       "      <th>tissue</th>\n",
       "      <th>cancer type</th>\n",
       "      <th>expression level</th>\n",
       "      <th>oncogene/suppress gene</th>\n",
       "      <th>pathway</th>\n",
       "      <th>binding gene/factor</th>\n",
       "      <th>associated gene/factor</th>\n",
       "      <th>proliferation</th>\n",
       "      <th>apoptosis</th>\n",
       "      <th>migration</th>\n",
       "      <th>EMT</th>\n",
       "      <th>invasion</th>\n",
       "      <th>metastasis</th>\n",
       "      <th>prognosis</th>\n",
       "      <th>tag</th>\n",
       "      <th>PMID</th>\n",
       "    </tr>\n",
       "  </thead>\n",
       "  <tbody>\n",
       "    <tr>\n",
       "      <th>120</th>\n",
       "      <td>CAHM</td>\n",
       "      <td>colorectum</td>\n",
       "      <td>colorectal cancer</td>\n",
       "      <td>down</td>\n",
       "      <td>/</td>\n",
       "      <td>NaN</td>\n",
       "      <td>NaN</td>\n",
       "      <td>NaN</td>\n",
       "      <td>NaN</td>\n",
       "      <td>NaN</td>\n",
       "      <td>NaN</td>\n",
       "      <td>NaN</td>\n",
       "      <td>NaN</td>\n",
       "      <td>NaN</td>\n",
       "      <td>NaN</td>\n",
       "      <td>epigenetic modification</td>\n",
       "      <td>24799664</td>\n",
       "    </tr>\n",
       "    <tr>\n",
       "      <th>122</th>\n",
       "      <td>CASC11</td>\n",
       "      <td>colorectum</td>\n",
       "      <td>colorectal cancer</td>\n",
       "      <td>up</td>\n",
       "      <td>onco</td>\n",
       "      <td>WNT/β-catenin signaling</td>\n",
       "      <td>+c-Myc</td>\n",
       "      <td>hnRNP-K+</td>\n",
       "      <td>+</td>\n",
       "      <td>NaN</td>\n",
       "      <td>NaN</td>\n",
       "      <td>NaN</td>\n",
       "      <td>NaN</td>\n",
       "      <td>+</td>\n",
       "      <td>NaN</td>\n",
       "      <td>NaN</td>\n",
       "      <td>27012187</td>\n",
       "    </tr>\n",
       "    <tr>\n",
       "      <th>123</th>\n",
       "      <td>CASC15</td>\n",
       "      <td>others</td>\n",
       "      <td>melanoma</td>\n",
       "      <td>up</td>\n",
       "      <td>onco</td>\n",
       "      <td>NaN</td>\n",
       "      <td>NaN</td>\n",
       "      <td>NaN</td>\n",
       "      <td>+</td>\n",
       "      <td>NaN</td>\n",
       "      <td>NaN</td>\n",
       "      <td>NaN</td>\n",
       "      <td>+</td>\n",
       "      <td>NaN</td>\n",
       "      <td>-</td>\n",
       "      <td>NaN</td>\n",
       "      <td>26016895</td>\n",
       "    </tr>\n",
       "    <tr>\n",
       "      <th>184</th>\n",
       "      <td>DLX6-AS1</td>\n",
       "      <td>lung</td>\n",
       "      <td>lung adenocarcinoma</td>\n",
       "      <td>up</td>\n",
       "      <td>/</td>\n",
       "      <td>NaN</td>\n",
       "      <td>NaN</td>\n",
       "      <td>DLX6+</td>\n",
       "      <td>NaN</td>\n",
       "      <td>NaN</td>\n",
       "      <td>NaN</td>\n",
       "      <td>NaN</td>\n",
       "      <td>NaN</td>\n",
       "      <td>NaN</td>\n",
       "      <td>NaN</td>\n",
       "      <td>NaN</td>\n",
       "      <td>26052251</td>\n",
       "    </tr>\n",
       "    <tr>\n",
       "      <th>197</th>\n",
       "      <td>EWSAT1</td>\n",
       "      <td>bone</td>\n",
       "      <td>Ewing sarcoma</td>\n",
       "      <td>/</td>\n",
       "      <td>onco</td>\n",
       "      <td>NaN</td>\n",
       "      <td>HNRNPK</td>\n",
       "      <td>+EWS,-FLI1</td>\n",
       "      <td>+</td>\n",
       "      <td>NaN</td>\n",
       "      <td>NaN</td>\n",
       "      <td>NaN</td>\n",
       "      <td>NaN</td>\n",
       "      <td>NaN</td>\n",
       "      <td>NaN</td>\n",
       "      <td>NaN</td>\n",
       "      <td>25401475</td>\n",
       "    </tr>\n",
       "    <tr>\n",
       "      <th>...</th>\n",
       "      <td>...</td>\n",
       "      <td>...</td>\n",
       "      <td>...</td>\n",
       "      <td>...</td>\n",
       "      <td>...</td>\n",
       "      <td>...</td>\n",
       "      <td>...</td>\n",
       "      <td>...</td>\n",
       "      <td>...</td>\n",
       "      <td>...</td>\n",
       "      <td>...</td>\n",
       "      <td>...</td>\n",
       "      <td>...</td>\n",
       "      <td>...</td>\n",
       "      <td>...</td>\n",
       "      <td>...</td>\n",
       "      <td>...</td>\n",
       "    </tr>\n",
       "    <tr>\n",
       "      <th>1062</th>\n",
       "      <td>ZFAS1</td>\n",
       "      <td>liver</td>\n",
       "      <td>hepatic cancer</td>\n",
       "      <td>up</td>\n",
       "      <td>onco</td>\n",
       "      <td>NaN</td>\n",
       "      <td>miR-150</td>\n",
       "      <td>ZEB1+,MMP14+,MMP16+</td>\n",
       "      <td>NaN</td>\n",
       "      <td>NaN</td>\n",
       "      <td>NaN</td>\n",
       "      <td>NaN</td>\n",
       "      <td>-</td>\n",
       "      <td>-</td>\n",
       "      <td>-</td>\n",
       "      <td>NaN</td>\n",
       "      <td>26069248</td>\n",
       "    </tr>\n",
       "    <tr>\n",
       "      <th>1063</th>\n",
       "      <td>ZFAS1</td>\n",
       "      <td>colorectum</td>\n",
       "      <td>colorectal cancer</td>\n",
       "      <td>up</td>\n",
       "      <td>onco</td>\n",
       "      <td>NaN</td>\n",
       "      <td>miR-590-3p</td>\n",
       "      <td>cyclin B1+,p53+,PARP-</td>\n",
       "      <td>+</td>\n",
       "      <td>NaN</td>\n",
       "      <td>NaN</td>\n",
       "      <td>NaN</td>\n",
       "      <td>NaN</td>\n",
       "      <td>NaN</td>\n",
       "      <td>NaN</td>\n",
       "      <td>NaN</td>\n",
       "      <td>26506418</td>\n",
       "    </tr>\n",
       "    <tr>\n",
       "      <th>1064</th>\n",
       "      <td>ZFAS1</td>\n",
       "      <td>stomach</td>\n",
       "      <td>gastric cancer</td>\n",
       "      <td>up</td>\n",
       "      <td>onco</td>\n",
       "      <td>NaN</td>\n",
       "      <td>EZH2, LSD1 and CoREST</td>\n",
       "      <td>NaN</td>\n",
       "      <td>+</td>\n",
       "      <td>-</td>\n",
       "      <td>NaN</td>\n",
       "      <td>NaN</td>\n",
       "      <td>NaN</td>\n",
       "      <td>NaN</td>\n",
       "      <td>-</td>\n",
       "      <td>NaN</td>\n",
       "      <td>27246976</td>\n",
       "    </tr>\n",
       "    <tr>\n",
       "      <th>1065</th>\n",
       "      <td>ZFAS1</td>\n",
       "      <td>colorectum</td>\n",
       "      <td>colorectal cancer</td>\n",
       "      <td>up</td>\n",
       "      <td>onco</td>\n",
       "      <td>NaN</td>\n",
       "      <td>NaN</td>\n",
       "      <td>NaN</td>\n",
       "      <td>+</td>\n",
       "      <td>NaN</td>\n",
       "      <td>NaN</td>\n",
       "      <td>NaN</td>\n",
       "      <td>+</td>\n",
       "      <td>+</td>\n",
       "      <td>-</td>\n",
       "      <td>NaN</td>\n",
       "      <td>27461828</td>\n",
       "    </tr>\n",
       "    <tr>\n",
       "      <th>1066</th>\n",
       "      <td>ZMAT1</td>\n",
       "      <td>stomach</td>\n",
       "      <td>gastric cancer</td>\n",
       "      <td>down</td>\n",
       "      <td>/</td>\n",
       "      <td>NaN</td>\n",
       "      <td>NaN</td>\n",
       "      <td>NaN</td>\n",
       "      <td>NaN</td>\n",
       "      <td>NaN</td>\n",
       "      <td>NaN</td>\n",
       "      <td>NaN</td>\n",
       "      <td>NaN</td>\n",
       "      <td>NaN</td>\n",
       "      <td>NaN</td>\n",
       "      <td>NaN</td>\n",
       "      <td>26191264</td>\n",
       "    </tr>\n",
       "  </tbody>\n",
       "</table>\n",
       "<p>219 rows × 17 columns</p>\n",
       "</div>"
      ],
      "text/plain": [
       "        LncRNA      tissue          cancer type expression level  \\\n",
       "120       CAHM  colorectum    colorectal cancer             down   \n",
       "122     CASC11  colorectum    colorectal cancer               up   \n",
       "123     CASC15      others             melanoma               up   \n",
       "184   DLX6-AS1        lung  lung adenocarcinoma               up   \n",
       "197     EWSAT1        bone        Ewing sarcoma                /   \n",
       "...        ...         ...                  ...              ...   \n",
       "1062     ZFAS1       liver       hepatic cancer               up   \n",
       "1063     ZFAS1  colorectum    colorectal cancer               up   \n",
       "1064     ZFAS1     stomach       gastric cancer               up   \n",
       "1065     ZFAS1  colorectum    colorectal cancer               up   \n",
       "1066     ZMAT1     stomach       gastric cancer             down   \n",
       "\n",
       "     oncogene/suppress gene                  pathway    binding gene/factor  \\\n",
       "120                       /                      NaN                    NaN   \n",
       "122                    onco  WNT/β-catenin signaling                 +c-Myc   \n",
       "123                    onco                      NaN                    NaN   \n",
       "184                       /                      NaN                    NaN   \n",
       "197                    onco                      NaN                 HNRNPK   \n",
       "...                     ...                      ...                    ...   \n",
       "1062                   onco                      NaN                miR-150   \n",
       "1063                   onco                      NaN             miR-590-3p   \n",
       "1064                   onco                      NaN  EZH2, LSD1 and CoREST   \n",
       "1065                   onco                      NaN                    NaN   \n",
       "1066                      /                      NaN                    NaN   \n",
       "\n",
       "     associated gene/factor proliferation apoptosis migration  EMT invasion  \\\n",
       "120                     NaN           NaN       NaN       NaN  NaN      NaN   \n",
       "122                hnRNP-K+             +       NaN       NaN  NaN      NaN   \n",
       "123                     NaN             +       NaN       NaN  NaN        +   \n",
       "184                   DLX6+           NaN       NaN       NaN  NaN      NaN   \n",
       "197              +EWS,-FLI1             +       NaN       NaN  NaN      NaN   \n",
       "...                     ...           ...       ...       ...  ...      ...   \n",
       "1062    ZEB1+,MMP14+,MMP16+           NaN       NaN       NaN  NaN        -   \n",
       "1063  cyclin B1+,p53+,PARP-             +       NaN       NaN  NaN      NaN   \n",
       "1064                    NaN             +         -       NaN  NaN      NaN   \n",
       "1065                    NaN             +       NaN       NaN  NaN        +   \n",
       "1066                    NaN           NaN       NaN       NaN  NaN      NaN   \n",
       "\n",
       "     metastasis prognosis                      tag      PMID  \n",
       "120         NaN       NaN  epigenetic modification  24799664  \n",
       "122           +       NaN                      NaN  27012187  \n",
       "123         NaN         -                      NaN  26016895  \n",
       "184         NaN       NaN                      NaN  26052251  \n",
       "197         NaN       NaN                      NaN  25401475  \n",
       "...         ...       ...                      ...       ...  \n",
       "1062          -         -                      NaN  26069248  \n",
       "1063        NaN       NaN                      NaN  26506418  \n",
       "1064        NaN         -                      NaN  27246976  \n",
       "1065          +         -                      NaN  27461828  \n",
       "1066        NaN       NaN                      NaN  26191264  \n",
       "\n",
       "[219 rows x 17 columns]"
      ]
     },
     "execution_count": 88,
     "metadata": {},
     "output_type": "execute_result"
    },
    {
     "data": {
      "text/plain": [
       "120     None\n",
       "122     None\n",
       "123     None\n",
       "184     None\n",
       "197     None\n",
       "        ... \n",
       "1062    None\n",
       "1063    None\n",
       "1064    None\n",
       "1065    None\n",
       "1066    None\n",
       "Length: 219, dtype: object"
      ]
     },
     "execution_count": 88,
     "metadata": {},
     "output_type": "execute_result"
    }
   ],
   "source": [
    "lncRNAs_found_CR\n",
    "hallmark_cols = ['proliferation', 'apoptosis', 'migration', 'EMT', 'invasion', 'metastasis', 'prognosis']\n",
    "to_rename = ['prolifer', 'apoptosis', 'migrat', ' emt', 'invasi', 'metasta', 'prognosis']\n",
    "data['prognosis'] = 0 # the only one we don't have already\n",
    "\n",
    "# for the CRLncRNA database: (lncRNAs_found_CR)\n",
    "def add_hallmarks_CR(row):\n",
    "    for col, renamed in zip(hallmark_cols, to_rename):\n",
    "        if (str(row[col]) != 'nan'):\n",
    "#             print(data.loc[data['lncRNA'] == row['LncRNA'], renamed])\n",
    "            data.loc[data['lncRNA'] == row['LncRNA'], renamed] = data.loc[data['lncRNA'] == row['LncRNA'], renamed] + 1    \n",
    "        \n",
    "        \n",
    "lncRNAs_found_CR.apply(add_hallmarks_CR, axis = 1)\n",
    "\n",
    "data = data.rename(columns = {' emt': 'EMT'})\n"
   ]
  },
  {
   "cell_type": "code",
   "execution_count": 89,
   "metadata": {},
   "outputs": [
    {
     "data": {
      "text/html": [
       "<div>\n",
       "<style scoped>\n",
       "    .dataframe tbody tr th:only-of-type {\n",
       "        vertical-align: middle;\n",
       "    }\n",
       "\n",
       "    .dataframe tbody tr th {\n",
       "        vertical-align: top;\n",
       "    }\n",
       "\n",
       "    .dataframe thead th {\n",
       "        text-align: right;\n",
       "    }\n",
       "</style>\n",
       "<table border=\"1\" class=\"dataframe\">\n",
       "  <thead>\n",
       "    <tr style=\"text-align: right;\">\n",
       "      <th></th>\n",
       "      <th>lncRNA</th>\n",
       "      <th>num_up_regulated</th>\n",
       "      <th>num_down_regulated</th>\n",
       "      <th>Normal_mean</th>\n",
       "      <th>BLCA_mean</th>\n",
       "      <th>BRCA_mean</th>\n",
       "      <th>COAD_mean</th>\n",
       "      <th>ESCA_mean</th>\n",
       "      <th>HNSC_mean</th>\n",
       "      <th>KIRC_mean</th>\n",
       "      <th>...</th>\n",
       "      <th>EMT</th>\n",
       "      <th>immun</th>\n",
       "      <th>cell cycle progression</th>\n",
       "      <th>oncogen</th>\n",
       "      <th>tumor suppress</th>\n",
       "      <th>growth arrest</th>\n",
       "      <th>metaboli</th>\n",
       "      <th>autophag</th>\n",
       "      <th>angiogenesis</th>\n",
       "      <th>prognosis</th>\n",
       "    </tr>\n",
       "  </thead>\n",
       "  <tbody>\n",
       "    <tr>\n",
       "      <th>0</th>\n",
       "      <td>FENDRR</td>\n",
       "      <td>0</td>\n",
       "      <td>17</td>\n",
       "      <td>0.150327</td>\n",
       "      <td>0.233614</td>\n",
       "      <td>0.125174</td>\n",
       "      <td>0.497928</td>\n",
       "      <td>0.345182</td>\n",
       "      <td>0.311720</td>\n",
       "      <td>0.093627</td>\n",
       "      <td>...</td>\n",
       "      <td>0</td>\n",
       "      <td>1</td>\n",
       "      <td>0</td>\n",
       "      <td>1</td>\n",
       "      <td>0</td>\n",
       "      <td>1</td>\n",
       "      <td>0</td>\n",
       "      <td>0</td>\n",
       "      <td>0</td>\n",
       "      <td>1</td>\n",
       "    </tr>\n",
       "    <tr>\n",
       "      <th>1</th>\n",
       "      <td>MIR155HG</td>\n",
       "      <td>5</td>\n",
       "      <td>2</td>\n",
       "      <td>0.018837</td>\n",
       "      <td>0.032774</td>\n",
       "      <td>0.053177</td>\n",
       "      <td>0.022943</td>\n",
       "      <td>0.023924</td>\n",
       "      <td>0.021854</td>\n",
       "      <td>0.018237</td>\n",
       "      <td>...</td>\n",
       "      <td>1</td>\n",
       "      <td>0</td>\n",
       "      <td>0</td>\n",
       "      <td>0</td>\n",
       "      <td>1</td>\n",
       "      <td>0</td>\n",
       "      <td>0</td>\n",
       "      <td>0</td>\n",
       "      <td>0</td>\n",
       "      <td>0</td>\n",
       "    </tr>\n",
       "    <tr>\n",
       "      <th>2</th>\n",
       "      <td>HOXA10-AS</td>\n",
       "      <td>3</td>\n",
       "      <td>0</td>\n",
       "      <td>0.083531</td>\n",
       "      <td>0.168411</td>\n",
       "      <td>0.215638</td>\n",
       "      <td>0.045964</td>\n",
       "      <td>0.061428</td>\n",
       "      <td>0.056320</td>\n",
       "      <td>0.055679</td>\n",
       "      <td>...</td>\n",
       "      <td>1</td>\n",
       "      <td>0</td>\n",
       "      <td>0</td>\n",
       "      <td>1</td>\n",
       "      <td>0</td>\n",
       "      <td>0</td>\n",
       "      <td>0</td>\n",
       "      <td>0</td>\n",
       "      <td>0</td>\n",
       "      <td>0</td>\n",
       "    </tr>\n",
       "    <tr>\n",
       "      <th>3</th>\n",
       "      <td>LINC01096</td>\n",
       "      <td>1</td>\n",
       "      <td>0</td>\n",
       "      <td>0.100355</td>\n",
       "      <td>0.086079</td>\n",
       "      <td>0.141014</td>\n",
       "      <td>0.110568</td>\n",
       "      <td>0.108286</td>\n",
       "      <td>0.088498</td>\n",
       "      <td>0.115660</td>\n",
       "      <td>...</td>\n",
       "      <td>0</td>\n",
       "      <td>0</td>\n",
       "      <td>0</td>\n",
       "      <td>0</td>\n",
       "      <td>0</td>\n",
       "      <td>0</td>\n",
       "      <td>0</td>\n",
       "      <td>0</td>\n",
       "      <td>0</td>\n",
       "      <td>0</td>\n",
       "    </tr>\n",
       "    <tr>\n",
       "      <th>4</th>\n",
       "      <td>ZNF750</td>\n",
       "      <td>0</td>\n",
       "      <td>4</td>\n",
       "      <td>0.872749</td>\n",
       "      <td>0.575780</td>\n",
       "      <td>0.622619</td>\n",
       "      <td>0.764322</td>\n",
       "      <td>0.806261</td>\n",
       "      <td>0.793589</td>\n",
       "      <td>0.945498</td>\n",
       "      <td>...</td>\n",
       "      <td>0</td>\n",
       "      <td>0</td>\n",
       "      <td>0</td>\n",
       "      <td>0</td>\n",
       "      <td>0</td>\n",
       "      <td>0</td>\n",
       "      <td>0</td>\n",
       "      <td>0</td>\n",
       "      <td>0</td>\n",
       "      <td>0</td>\n",
       "    </tr>\n",
       "    <tr>\n",
       "      <th>...</th>\n",
       "      <td>...</td>\n",
       "      <td>...</td>\n",
       "      <td>...</td>\n",
       "      <td>...</td>\n",
       "      <td>...</td>\n",
       "      <td>...</td>\n",
       "      <td>...</td>\n",
       "      <td>...</td>\n",
       "      <td>...</td>\n",
       "      <td>...</td>\n",
       "      <td>...</td>\n",
       "      <td>...</td>\n",
       "      <td>...</td>\n",
       "      <td>...</td>\n",
       "      <td>...</td>\n",
       "      <td>...</td>\n",
       "      <td>...</td>\n",
       "      <td>...</td>\n",
       "      <td>...</td>\n",
       "      <td>...</td>\n",
       "      <td>...</td>\n",
       "    </tr>\n",
       "    <tr>\n",
       "      <th>115</th>\n",
       "      <td>ZFHX4-AS1</td>\n",
       "      <td>1</td>\n",
       "      <td>0</td>\n",
       "      <td>0.766515</td>\n",
       "      <td>0.501966</td>\n",
       "      <td>0.774352</td>\n",
       "      <td>0.473385</td>\n",
       "      <td>0.611804</td>\n",
       "      <td>0.657230</td>\n",
       "      <td>0.725524</td>\n",
       "      <td>...</td>\n",
       "      <td>0</td>\n",
       "      <td>0</td>\n",
       "      <td>0</td>\n",
       "      <td>0</td>\n",
       "      <td>0</td>\n",
       "      <td>0</td>\n",
       "      <td>0</td>\n",
       "      <td>0</td>\n",
       "      <td>0</td>\n",
       "      <td>0</td>\n",
       "    </tr>\n",
       "    <tr>\n",
       "      <th>116</th>\n",
       "      <td>ID2-AS1</td>\n",
       "      <td>0</td>\n",
       "      <td>1</td>\n",
       "      <td>0.033502</td>\n",
       "      <td>0.032958</td>\n",
       "      <td>0.032025</td>\n",
       "      <td>0.035485</td>\n",
       "      <td>0.031133</td>\n",
       "      <td>0.033926</td>\n",
       "      <td>0.030371</td>\n",
       "      <td>...</td>\n",
       "      <td>0</td>\n",
       "      <td>0</td>\n",
       "      <td>0</td>\n",
       "      <td>0</td>\n",
       "      <td>0</td>\n",
       "      <td>0</td>\n",
       "      <td>0</td>\n",
       "      <td>0</td>\n",
       "      <td>0</td>\n",
       "      <td>0</td>\n",
       "    </tr>\n",
       "    <tr>\n",
       "      <th>117</th>\n",
       "      <td>SOX2</td>\n",
       "      <td>2</td>\n",
       "      <td>0</td>\n",
       "      <td>0.031184</td>\n",
       "      <td>0.030708</td>\n",
       "      <td>0.035240</td>\n",
       "      <td>0.050303</td>\n",
       "      <td>0.030586</td>\n",
       "      <td>0.028688</td>\n",
       "      <td>0.031640</td>\n",
       "      <td>...</td>\n",
       "      <td>1</td>\n",
       "      <td>0</td>\n",
       "      <td>0</td>\n",
       "      <td>0</td>\n",
       "      <td>0</td>\n",
       "      <td>0</td>\n",
       "      <td>0</td>\n",
       "      <td>0</td>\n",
       "      <td>0</td>\n",
       "      <td>0</td>\n",
       "    </tr>\n",
       "    <tr>\n",
       "      <th>118</th>\n",
       "      <td>SOX2-OT</td>\n",
       "      <td>7</td>\n",
       "      <td>0</td>\n",
       "      <td>0.081243</td>\n",
       "      <td>0.172528</td>\n",
       "      <td>0.107685</td>\n",
       "      <td>0.190108</td>\n",
       "      <td>0.270755</td>\n",
       "      <td>0.299801</td>\n",
       "      <td>0.059507</td>\n",
       "      <td>...</td>\n",
       "      <td>0</td>\n",
       "      <td>0</td>\n",
       "      <td>0</td>\n",
       "      <td>2</td>\n",
       "      <td>0</td>\n",
       "      <td>0</td>\n",
       "      <td>0</td>\n",
       "      <td>0</td>\n",
       "      <td>0</td>\n",
       "      <td>0</td>\n",
       "    </tr>\n",
       "    <tr>\n",
       "      <th>119</th>\n",
       "      <td>PAX8-AS1</td>\n",
       "      <td>1</td>\n",
       "      <td>0</td>\n",
       "      <td>0.506248</td>\n",
       "      <td>0.590798</td>\n",
       "      <td>0.679217</td>\n",
       "      <td>0.673392</td>\n",
       "      <td>0.591145</td>\n",
       "      <td>0.606983</td>\n",
       "      <td>0.474201</td>\n",
       "      <td>...</td>\n",
       "      <td>0</td>\n",
       "      <td>0</td>\n",
       "      <td>0</td>\n",
       "      <td>0</td>\n",
       "      <td>0</td>\n",
       "      <td>0</td>\n",
       "      <td>0</td>\n",
       "      <td>0</td>\n",
       "      <td>0</td>\n",
       "      <td>0</td>\n",
       "    </tr>\n",
       "  </tbody>\n",
       "</table>\n",
       "<p>120 rows × 51 columns</p>\n",
       "</div>"
      ],
      "text/plain": [
       "        lncRNA num_up_regulated num_down_regulated  Normal_mean  BLCA_mean  \\\n",
       "0       FENDRR                0                 17     0.150327   0.233614   \n",
       "1     MIR155HG                5                  2     0.018837   0.032774   \n",
       "2    HOXA10-AS                3                  0     0.083531   0.168411   \n",
       "3    LINC01096                1                  0     0.100355   0.086079   \n",
       "4       ZNF750                0                  4     0.872749   0.575780   \n",
       "..         ...              ...                ...          ...        ...   \n",
       "115  ZFHX4-AS1                1                  0     0.766515   0.501966   \n",
       "116    ID2-AS1                0                  1     0.033502   0.032958   \n",
       "117       SOX2                2                  0     0.031184   0.030708   \n",
       "118    SOX2-OT                7                  0     0.081243   0.172528   \n",
       "119   PAX8-AS1                1                  0     0.506248   0.590798   \n",
       "\n",
       "     BRCA_mean  COAD_mean  ESCA_mean  HNSC_mean  KIRC_mean  ...  EMT  immun  \\\n",
       "0     0.125174   0.497928   0.345182   0.311720   0.093627  ...    0      1   \n",
       "1     0.053177   0.022943   0.023924   0.021854   0.018237  ...    1      0   \n",
       "2     0.215638   0.045964   0.061428   0.056320   0.055679  ...    1      0   \n",
       "3     0.141014   0.110568   0.108286   0.088498   0.115660  ...    0      0   \n",
       "4     0.622619   0.764322   0.806261   0.793589   0.945498  ...    0      0   \n",
       "..         ...        ...        ...        ...        ...  ...  ...    ...   \n",
       "115   0.774352   0.473385   0.611804   0.657230   0.725524  ...    0      0   \n",
       "116   0.032025   0.035485   0.031133   0.033926   0.030371  ...    0      0   \n",
       "117   0.035240   0.050303   0.030586   0.028688   0.031640  ...    1      0   \n",
       "118   0.107685   0.190108   0.270755   0.299801   0.059507  ...    0      0   \n",
       "119   0.679217   0.673392   0.591145   0.606983   0.474201  ...    0      0   \n",
       "\n",
       "     cell cycle progression  oncogen  tumor suppress  growth arrest  metaboli  \\\n",
       "0                         0        1               0              1         0   \n",
       "1                         0        0               1              0         0   \n",
       "2                         0        1               0              0         0   \n",
       "3                         0        0               0              0         0   \n",
       "4                         0        0               0              0         0   \n",
       "..                      ...      ...             ...            ...       ...   \n",
       "115                       0        0               0              0         0   \n",
       "116                       0        0               0              0         0   \n",
       "117                       0        0               0              0         0   \n",
       "118                       0        2               0              0         0   \n",
       "119                       0        0               0              0         0   \n",
       "\n",
       "     autophag  angiogenesis  prognosis  \n",
       "0           0             0          1  \n",
       "1           0             0          0  \n",
       "2           0             0          0  \n",
       "3           0             0          0  \n",
       "4           0             0          0  \n",
       "..        ...           ...        ...  \n",
       "115         0             0          0  \n",
       "116         0             0          0  \n",
       "117         0             0          0  \n",
       "118         0             0          0  \n",
       "119         0             0          0  \n",
       "\n",
       "[120 rows x 51 columns]"
      ]
     },
     "execution_count": 89,
     "metadata": {},
     "output_type": "execute_result"
    }
   ],
   "source": [
    "data\n",
    "if split_up_by_cancer:\n",
    "    data.to_csv('data_lncRNA_beta_and_regulation_split_by_cancer_with_hallmarks.csv')"
   ]
  },
  {
   "cell_type": "code",
   "execution_count": 90,
   "metadata": {},
   "outputs": [],
   "source": [
    "# turn the lncRNA and hallmarks into a .sif file\n",
    "sif_data = data[['lncRNA', 'methylat', 'metasta', 'prolifer', 'invasi',\n",
    "       'apoptosis', 'migrat', 'growth', 'cell cycle arrest', 'cell cycle',\n",
    "       'EMT', 'immun', 'tumor suppress', 'angiogenesis', 'oncogen',\n",
    "       'cell cycle progression', 'autophag', 'metaboli', 'prognosis']]\n",
    "\n",
    "def get_sif_for_row(i):\n",
    "    hms = sif_data.columns[1:19][sif_data.iloc[i, 1:19] > 0] \n",
    "    hms = list(map(lambda s: s.replace(' ', '_'), hms)) # replaces spaces with _ (WARNING: not tested yet! might error!)\n",
    "    to_add = list(map(lambda hm: sif_data.iloc[i, 0] + ' edge ' + hm, hms)) # the lncRNA, edge, and then the hallmark\n",
    "    return(to_add)\n",
    "\n",
    "sif_lines = list(map(get_sif_for_row, range(sif_data.shape[0]))) # for every row number"
   ]
  },
  {
   "cell_type": "code",
   "execution_count": 91,
   "metadata": {},
   "outputs": [
    {
     "data": {
      "text/plain": [
       "['FENDRR edge methylat',\n",
       " 'FENDRR edge metasta',\n",
       " 'FENDRR edge prolifer',\n",
       " 'FENDRR edge invasi',\n",
       " 'FENDRR edge apoptosis',\n",
       " 'FENDRR edge migrat',\n",
       " 'FENDRR edge growth',\n",
       " 'FENDRR edge immun',\n",
       " 'FENDRR edge oncogen',\n",
       " 'FENDRR edge prognosis',\n",
       " 'MIR155HG edge methylat',\n",
       " 'MIR155HG edge metasta',\n",
       " 'MIR155HG edge prolifer',\n",
       " 'MIR155HG edge invasi',\n",
       " 'MIR155HG edge apoptosis',\n",
       " 'MIR155HG edge migrat',\n",
       " 'MIR155HG edge growth',\n",
       " 'MIR155HG edge EMT',\n",
       " 'MIR155HG edge tumor_suppress',\n",
       " 'HOXA10-AS edge metasta',\n",
       " 'HOXA10-AS edge prolifer',\n",
       " 'HOXA10-AS edge apoptosis',\n",
       " 'HOXA10-AS edge growth',\n",
       " 'HOXA10-AS edge EMT',\n",
       " 'HOXA10-AS edge oncogen',\n",
       " 'ZNF750 edge migrat',\n",
       " 'HOXA13 edge migrat',\n",
       " 'LINC00261 edge metasta',\n",
       " 'LINC00261 edge prolifer',\n",
       " 'LINC00261 edge invasi',\n",
       " 'LINC00261 edge apoptosis',\n",
       " 'LINC00261 edge migrat',\n",
       " 'LINC00261 edge growth',\n",
       " 'LINC00261 edge EMT',\n",
       " 'LINC00261 edge prognosis',\n",
       " 'FRMD6-AS2 edge invasi',\n",
       " 'FRMD6-AS2 edge migrat',\n",
       " 'FRMD6-AS2 edge growth',\n",
       " 'LINC00174 edge prolifer',\n",
       " 'LINC00174 edge invasi',\n",
       " 'LINC00174 edge apoptosis',\n",
       " 'LINC00174 edge migrat',\n",
       " 'LINC00174 edge growth',\n",
       " 'LINC00174 edge oncogen',\n",
       " 'HOXC-AS1 edge metasta',\n",
       " 'HOXC-AS1 edge prolifer',\n",
       " 'HOXC-AS1 edge apoptosis',\n",
       " 'HOXC-AS1 edge growth',\n",
       " 'HOXC-AS1 edge EMT',\n",
       " 'GHRLOS edge metasta',\n",
       " 'LINC00968 edge prolifer',\n",
       " 'LINC00968 edge invasi',\n",
       " 'LINC00968 edge apoptosis',\n",
       " 'LINC00968 edge migrat',\n",
       " 'LINC00968 edge growth',\n",
       " 'GSEC edge migrat',\n",
       " 'NBR2 edge metasta',\n",
       " 'NBR2 edge prolifer',\n",
       " 'NBR2 edge invasi',\n",
       " 'NBR2 edge migrat',\n",
       " 'NBR2 edge EMT',\n",
       " 'LINC00526 edge prolifer',\n",
       " 'LINC00526 edge invasi',\n",
       " 'LINC00526 edge migrat',\n",
       " 'EMX2OS edge prolifer',\n",
       " 'EMX2OS edge invasi',\n",
       " 'EMX2OS edge growth',\n",
       " 'HAGLR edge methylat',\n",
       " 'HAGLR edge growth',\n",
       " 'STARD13 edge apoptosis',\n",
       " 'GATA6-AS1 edge invasi',\n",
       " 'GATA6-AS1 edge migrat',\n",
       " 'PCAT1 edge metasta',\n",
       " 'PCAT1 edge prolifer',\n",
       " 'PCAT1 edge invasi',\n",
       " 'PCAT1 edge apoptosis',\n",
       " 'PCAT1 edge migrat',\n",
       " 'PCAT1 edge growth',\n",
       " 'PCAT1 edge cell_cycle',\n",
       " 'PCAT1 edge oncogen',\n",
       " 'PCAT1 edge prognosis',\n",
       " 'FTX edge metasta',\n",
       " 'FTX edge prolifer',\n",
       " 'FTX edge invasi',\n",
       " 'FTX edge apoptosis',\n",
       " 'FTX edge migrat',\n",
       " 'FTX edge growth',\n",
       " 'FTX edge cell_cycle',\n",
       " 'FTX edge oncogen',\n",
       " 'FTX edge cell_cycle_progression',\n",
       " 'FTX edge metaboli',\n",
       " 'FTX edge prognosis',\n",
       " 'HOXC-AS3 edge prolifer',\n",
       " 'HOXC-AS3 edge invasi',\n",
       " 'HOXC-AS3 edge migrat',\n",
       " 'HOXC-AS3 edge immun',\n",
       " 'SLC7A11-AS1 edge growth',\n",
       " 'LINC00336 edge oncogen',\n",
       " 'HMGA2 edge migrat',\n",
       " 'HOXD-AS2 edge prolifer',\n",
       " 'HOXD-AS2 edge growth',\n",
       " 'HOXD-AS2 edge cell_cycle',\n",
       " 'NR2F1-AS1 edge metasta',\n",
       " 'NR2F1-AS1 edge prolifer',\n",
       " 'NR2F1-AS1 edge invasi',\n",
       " 'NR2F1-AS1 edge apoptosis',\n",
       " 'NR2F1-AS1 edge migrat',\n",
       " 'NR2F1-AS1 edge EMT',\n",
       " 'LINC02595 edge oncogen',\n",
       " 'MEF2C-AS1 edge metasta',\n",
       " 'MEF2C-AS1 edge prolifer',\n",
       " 'MEF2C-AS1 edge invasi',\n",
       " 'SSTR5-AS1 edge methylat',\n",
       " 'SSTR5-AS1 edge prolifer',\n",
       " 'SSTR5-AS1 edge invasi',\n",
       " 'SSTR5-AS1 edge apoptosis',\n",
       " 'SSTR5-AS1 edge migrat',\n",
       " 'VIM-AS1 edge metasta',\n",
       " 'VIM-AS1 edge prolifer',\n",
       " 'VIM-AS1 edge invasi',\n",
       " 'VIM-AS1 edge apoptosis',\n",
       " 'VIM-AS1 edge migrat',\n",
       " 'VIM-AS1 edge growth',\n",
       " 'VIM-AS1 edge cell_cycle',\n",
       " 'VIM-AS1 edge EMT',\n",
       " 'CASC15 edge methylat',\n",
       " 'CASC15 edge metasta',\n",
       " 'CASC15 edge prolifer',\n",
       " 'CASC15 edge invasi',\n",
       " 'CASC15 edge apoptosis',\n",
       " 'CASC15 edge migrat',\n",
       " 'CASC15 edge growth',\n",
       " 'CASC15 edge cell_cycle_arrest',\n",
       " 'CASC15 edge cell_cycle',\n",
       " 'CASC15 edge EMT',\n",
       " 'CASC15 edge immun',\n",
       " 'CASC15 edge prognosis',\n",
       " 'MIR7-3HG edge prolifer',\n",
       " 'MIR7-3HG edge apoptosis',\n",
       " 'LINC00461 edge metasta',\n",
       " 'LINC00461 edge prolifer',\n",
       " 'LINC00461 edge invasi',\n",
       " 'LINC00461 edge apoptosis',\n",
       " 'LINC00461 edge migrat',\n",
       " 'LINC00461 edge oncogen',\n",
       " 'HOXA-AS2 edge metasta',\n",
       " 'HOXA-AS2 edge prolifer',\n",
       " 'HOXA-AS2 edge invasi',\n",
       " 'HOXA-AS2 edge apoptosis',\n",
       " 'HOXA-AS2 edge migrat',\n",
       " 'HOXA-AS2 edge growth',\n",
       " 'HOXA-AS2 edge cell_cycle',\n",
       " 'HOXA-AS2 edge EMT',\n",
       " 'HOXA-AS2 edge oncogen',\n",
       " 'HOXA-AS2 edge prognosis',\n",
       " 'LINC00880 edge prolifer',\n",
       " 'LINC00880 edge invasi',\n",
       " 'LINC00880 edge apoptosis',\n",
       " 'LINC00880 edge migrat',\n",
       " 'PROX1-AS1 edge prolifer',\n",
       " 'PROX1-AS1 edge invasi',\n",
       " 'PROX1-AS1 edge migrat',\n",
       " 'LMCD1-AS1 edge prolifer',\n",
       " 'LMCD1-AS1 edge invasi',\n",
       " 'LMCD1-AS1 edge migrat',\n",
       " 'LMCD1-AS1 edge growth',\n",
       " 'LMCD1-AS1 edge EMT',\n",
       " 'LINC00511 edge methylat',\n",
       " 'LINC00511 edge metasta',\n",
       " 'LINC00511 edge prolifer',\n",
       " 'LINC00511 edge invasi',\n",
       " 'LINC00511 edge apoptosis',\n",
       " 'LINC00511 edge migrat',\n",
       " 'LINC00511 edge growth',\n",
       " 'LINC00511 edge cell_cycle_arrest',\n",
       " 'LINC00511 edge cell_cycle',\n",
       " 'LINC00511 edge EMT',\n",
       " 'LINC00511 edge oncogen',\n",
       " 'DAPK1 edge metasta',\n",
       " 'ZFAS1 edge metasta',\n",
       " 'ZFAS1 edge prolifer',\n",
       " 'ZFAS1 edge invasi',\n",
       " 'ZFAS1 edge apoptosis',\n",
       " 'ZFAS1 edge migrat',\n",
       " 'ZFAS1 edge growth',\n",
       " 'ZFAS1 edge cell_cycle_arrest',\n",
       " 'ZFAS1 edge cell_cycle',\n",
       " 'ZFAS1 edge EMT',\n",
       " 'ZFAS1 edge immun',\n",
       " 'ZFAS1 edge tumor_suppress',\n",
       " 'ZFAS1 edge angiogenesis',\n",
       " 'ZFAS1 edge oncogen',\n",
       " 'ZFAS1 edge cell_cycle_progression',\n",
       " 'ZFAS1 edge prognosis',\n",
       " 'PVT1 edge methylat',\n",
       " 'PVT1 edge metasta',\n",
       " 'PVT1 edge prolifer',\n",
       " 'PVT1 edge invasi',\n",
       " 'PVT1 edge apoptosis',\n",
       " 'PVT1 edge migrat',\n",
       " 'PVT1 edge growth',\n",
       " 'PVT1 edge cell_cycle_arrest',\n",
       " 'PVT1 edge cell_cycle',\n",
       " 'PVT1 edge EMT',\n",
       " 'PVT1 edge immun',\n",
       " 'PVT1 edge tumor_suppress',\n",
       " 'PVT1 edge angiogenesis',\n",
       " 'PVT1 edge oncogen',\n",
       " 'PVT1 edge cell_cycle_progression',\n",
       " 'PVT1 edge autophag',\n",
       " 'PVT1 edge metaboli',\n",
       " 'PVT1 edge prognosis',\n",
       " 'ZNF674-AS1 edge metasta',\n",
       " 'GAB2 edge prolifer',\n",
       " 'LINC01121 edge prolifer',\n",
       " 'LINC01121 edge invasi',\n",
       " 'LINC01121 edge apoptosis',\n",
       " 'LINC01121 edge migrat',\n",
       " 'SNHG14 edge methylat',\n",
       " 'SNHG14 edge metasta',\n",
       " 'SNHG14 edge prolifer',\n",
       " 'SNHG14 edge invasi',\n",
       " 'SNHG14 edge apoptosis',\n",
       " 'SNHG14 edge migrat',\n",
       " 'SNHG14 edge growth',\n",
       " 'SNHG14 edge cell_cycle_arrest',\n",
       " 'SNHG14 edge cell_cycle',\n",
       " 'SNHG14 edge EMT',\n",
       " 'SNHG14 edge immun',\n",
       " 'SNHG14 edge oncogen',\n",
       " 'JPX edge metasta',\n",
       " 'JPX edge prolifer',\n",
       " 'JPX edge invasi',\n",
       " 'JPX edge apoptosis',\n",
       " 'JPX edge migrat',\n",
       " 'JPX edge growth',\n",
       " 'JPX edge EMT',\n",
       " 'JPX edge oncogen',\n",
       " 'LINC01006 edge prolifer',\n",
       " 'LINC01006 edge invasi',\n",
       " 'LINC01006 edge migrat',\n",
       " 'ZEB1-AS1 edge methylat',\n",
       " 'ZEB1-AS1 edge metasta',\n",
       " 'ZEB1-AS1 edge prolifer',\n",
       " 'ZEB1-AS1 edge invasi',\n",
       " 'ZEB1-AS1 edge apoptosis',\n",
       " 'ZEB1-AS1 edge migrat',\n",
       " 'ZEB1-AS1 edge growth',\n",
       " 'ZEB1-AS1 edge cell_cycle',\n",
       " 'ZEB1-AS1 edge EMT',\n",
       " 'ZEB1-AS1 edge immun',\n",
       " 'ZEB1-AS1 edge oncogen',\n",
       " 'MAGI2-AS3 edge metasta',\n",
       " 'MAGI2-AS3 edge prolifer',\n",
       " 'MAGI2-AS3 edge invasi',\n",
       " 'MAGI2-AS3 edge apoptosis',\n",
       " 'MAGI2-AS3 edge migrat',\n",
       " 'MAGI2-AS3 edge growth',\n",
       " 'MAGI2-AS3 edge tumor_suppress',\n",
       " 'OIP5-AS1 edge metasta',\n",
       " 'OIP5-AS1 edge prolifer',\n",
       " 'OIP5-AS1 edge invasi',\n",
       " 'OIP5-AS1 edge apoptosis',\n",
       " 'OIP5-AS1 edge migrat',\n",
       " 'OIP5-AS1 edge growth',\n",
       " 'OIP5-AS1 edge cell_cycle_arrest',\n",
       " 'OIP5-AS1 edge cell_cycle',\n",
       " 'OIP5-AS1 edge EMT',\n",
       " 'OIP5-AS1 edge oncogen',\n",
       " 'RPSAP52 edge growth',\n",
       " 'RPSAP52 edge cell_cycle',\n",
       " 'KRT7 edge metasta',\n",
       " 'PDCD4-AS1 edge tumor_suppress',\n",
       " 'PTCSC2 edge cell_cycle',\n",
       " 'GATA3-AS1 edge metasta',\n",
       " 'GATA3-AS1 edge migrat',\n",
       " 'GATA3-AS1 edge growth',\n",
       " 'HHIP-AS1 edge metasta',\n",
       " 'HHIP-AS1 edge prolifer',\n",
       " 'HHIP-AS1 edge invasi',\n",
       " 'HHIP-AS1 edge apoptosis',\n",
       " 'HHIP-AS1 edge migrat',\n",
       " 'INHBA-AS1 edge prolifer',\n",
       " 'INHBA-AS1 edge invasi',\n",
       " 'INHBA-AS1 edge migrat',\n",
       " 'CAHM edge methylat',\n",
       " 'ZEB1 edge metasta',\n",
       " 'ZEB1 edge prolifer',\n",
       " 'ZEB1 edge invasi',\n",
       " 'ZEB1 edge apoptosis',\n",
       " 'ZEB1 edge migrat',\n",
       " 'ZEB1 edge EMT',\n",
       " 'PEG10 edge metasta',\n",
       " 'PEG10 edge prolifer',\n",
       " 'PEG10 edge invasi',\n",
       " 'PEG10 edge apoptosis',\n",
       " 'PEG10 edge migrat',\n",
       " 'PEG10 edge growth',\n",
       " 'PEG10 edge tumor_suppress',\n",
       " 'PEG10 edge prognosis',\n",
       " 'HOXA11-AS edge metasta',\n",
       " 'HOXA11-AS edge prolifer',\n",
       " 'HOXA11-AS edge invasi',\n",
       " 'HOXA11-AS edge apoptosis',\n",
       " 'HOXA11-AS edge migrat',\n",
       " 'HOXA11-AS edge growth',\n",
       " 'HOXA11-AS edge cell_cycle_arrest',\n",
       " 'HOXA11-AS edge cell_cycle',\n",
       " 'HOXA11-AS edge EMT',\n",
       " 'HOXA11-AS edge immun',\n",
       " 'HOXA11-AS edge tumor_suppress',\n",
       " 'HOXA11-AS edge oncogen',\n",
       " 'HOXA11-AS edge cell_cycle_progression',\n",
       " 'LIFR-AS1 edge prolifer',\n",
       " 'LIFR-AS1 edge invasi',\n",
       " 'LIFR-AS1 edge apoptosis',\n",
       " 'LIFR-AS1 edge migrat',\n",
       " 'LIFR-AS1 edge growth',\n",
       " 'LINC00667 edge prolifer',\n",
       " 'LINC00667 edge migrat',\n",
       " 'LINC00667 edge angiogenesis',\n",
       " 'STAT3 edge prolifer',\n",
       " 'STAT3 edge apoptosis',\n",
       " 'STAT3 edge migrat',\n",
       " 'STAT3 edge cell_cycle',\n",
       " 'ADAMTS9-AS1 edge prolifer',\n",
       " 'ADAMTS9-AS1 edge growth',\n",
       " 'HOTAIR edge methylat',\n",
       " 'HOTAIR edge metasta',\n",
       " 'HOTAIR edge prolifer',\n",
       " 'HOTAIR edge invasi',\n",
       " 'HOTAIR edge apoptosis',\n",
       " 'HOTAIR edge migrat',\n",
       " 'HOTAIR edge growth',\n",
       " 'HOTAIR edge cell_cycle_arrest',\n",
       " 'HOTAIR edge cell_cycle',\n",
       " 'HOTAIR edge EMT',\n",
       " 'HOTAIR edge immun',\n",
       " 'HOTAIR edge tumor_suppress',\n",
       " 'HOTAIR edge angiogenesis',\n",
       " 'HOTAIR edge oncogen',\n",
       " 'HOTAIR edge cell_cycle_progression',\n",
       " 'HOTAIR edge autophag',\n",
       " 'HOTAIR edge metaboli',\n",
       " 'HOTAIR edge prognosis',\n",
       " 'TRIM52-AS1 edge prolifer',\n",
       " 'TRIM52-AS1 edge apoptosis',\n",
       " 'TRIM52-AS1 edge migrat',\n",
       " 'CES1P1 edge prolifer',\n",
       " 'CES1P1 edge apoptosis',\n",
       " 'ITPRIPL1 edge methylat',\n",
       " 'LINC00311 edge prolifer',\n",
       " 'LINC00311 edge invasi',\n",
       " 'LINC00311 edge migrat',\n",
       " 'SATB2-AS1 edge methylat',\n",
       " 'SATB2-AS1 edge metasta',\n",
       " 'SATB2-AS1 edge prolifer',\n",
       " 'SATB2-AS1 edge growth',\n",
       " 'SATB2-AS1 edge cell_cycle',\n",
       " 'SATB2-AS1 edge immun',\n",
       " 'HCG11 edge metasta',\n",
       " 'HCG11 edge prolifer',\n",
       " 'HCG11 edge invasi',\n",
       " 'HCG11 edge apoptosis',\n",
       " 'HCG11 edge migrat',\n",
       " 'HCG11 edge growth',\n",
       " 'HCG11 edge cell_cycle_arrest',\n",
       " 'HCG11 edge cell_cycle',\n",
       " 'HCG11 edge autophag',\n",
       " 'HCG11 edge prognosis',\n",
       " 'SNHG17 edge metasta',\n",
       " 'SNHG17 edge prolifer',\n",
       " 'SNHG17 edge invasi',\n",
       " 'SNHG17 edge apoptosis',\n",
       " 'SNHG17 edge migrat',\n",
       " 'SNHG17 edge growth',\n",
       " 'SNHG17 edge cell_cycle',\n",
       " 'SNHG17 edge oncogen',\n",
       " 'SNHG17 edge cell_cycle_progression',\n",
       " 'TUBB2A edge metasta',\n",
       " 'TUBB2A edge growth',\n",
       " 'PRDM16 edge methylat',\n",
       " 'FER1L4 edge metasta',\n",
       " 'FER1L4 edge prolifer',\n",
       " 'FER1L4 edge invasi',\n",
       " 'FER1L4 edge apoptosis',\n",
       " 'FER1L4 edge migrat',\n",
       " 'FER1L4 edge growth',\n",
       " 'FER1L4 edge cell_cycle_arrest',\n",
       " 'FER1L4 edge cell_cycle',\n",
       " 'FER1L4 edge EMT',\n",
       " 'FER1L4 edge tumor_suppress',\n",
       " 'FER1L4 edge prognosis',\n",
       " 'CCND2-AS1 edge prolifer',\n",
       " 'CCND2-AS1 edge invasi',\n",
       " 'CCND2-AS1 edge migrat',\n",
       " 'CCND2-AS1 edge growth',\n",
       " 'SOX9-AS1 edge metasta',\n",
       " 'CASC11 edge metasta',\n",
       " 'CASC11 edge prolifer',\n",
       " 'CASC11 edge invasi',\n",
       " 'CASC11 edge apoptosis',\n",
       " 'CASC11 edge migrat',\n",
       " 'CASC11 edge growth',\n",
       " 'CASC11 edge cell_cycle_arrest',\n",
       " 'CASC11 edge cell_cycle',\n",
       " 'GATA2-AS1 edge prolifer',\n",
       " 'NEAT1 edge methylat',\n",
       " 'NEAT1 edge metasta',\n",
       " 'NEAT1 edge prolifer',\n",
       " 'NEAT1 edge invasi',\n",
       " 'NEAT1 edge apoptosis',\n",
       " 'NEAT1 edge migrat',\n",
       " 'NEAT1 edge growth',\n",
       " 'NEAT1 edge cell_cycle_arrest',\n",
       " 'NEAT1 edge cell_cycle',\n",
       " 'NEAT1 edge EMT',\n",
       " 'NEAT1 edge immun',\n",
       " 'NEAT1 edge tumor_suppress',\n",
       " 'NEAT1 edge oncogen',\n",
       " 'NEAT1 edge cell_cycle_progression',\n",
       " 'NEAT1 edge prognosis',\n",
       " 'SMIM10L2A edge prognosis',\n",
       " 'MYC edge metasta',\n",
       " 'CANT1 edge methylat',\n",
       " 'CANT1 edge metasta',\n",
       " 'NCOR2 edge prolifer',\n",
       " 'NCOR2 edge apoptosis',\n",
       " 'NCOR2 edge migrat',\n",
       " 'LINC00629 edge prolifer',\n",
       " 'LINC00629 edge invasi',\n",
       " 'LINC00629 edge migrat',\n",
       " 'LINC00629 edge growth',\n",
       " 'DLX6-AS1 edge methylat',\n",
       " 'DLX6-AS1 edge metasta',\n",
       " 'DLX6-AS1 edge prolifer',\n",
       " 'DLX6-AS1 edge invasi',\n",
       " 'DLX6-AS1 edge apoptosis',\n",
       " 'DLX6-AS1 edge migrat',\n",
       " 'DLX6-AS1 edge growth',\n",
       " 'DLX6-AS1 edge cell_cycle',\n",
       " 'DLX6-AS1 edge EMT',\n",
       " 'DLX6-AS1 edge oncogen',\n",
       " 'DLX6-AS1 edge cell_cycle_progression',\n",
       " 'EWSAT1 edge metasta',\n",
       " 'EWSAT1 edge prolifer',\n",
       " 'EWSAT1 edge invasi',\n",
       " 'EWSAT1 edge migrat',\n",
       " 'EWSAT1 edge growth',\n",
       " 'HOXA-AS3 edge prolifer',\n",
       " 'HOXA-AS3 edge invasi',\n",
       " 'HOXA-AS3 edge migrat',\n",
       " 'HOXB-AS3 edge prolifer',\n",
       " 'HOXB-AS3 edge apoptosis',\n",
       " 'HOXB-AS3 edge growth',\n",
       " 'HOXB-AS3 edge cell_cycle_arrest',\n",
       " 'HOXB-AS3 edge cell_cycle',\n",
       " 'HOXB-AS3 edge oncogen',\n",
       " 'HOXB-AS3 edge cell_cycle_progression',\n",
       " 'HOXB-AS3 edge metaboli',\n",
       " 'A1BG-AS1 edge prolifer',\n",
       " 'A1BG-AS1 edge invasi',\n",
       " 'A1BG-AS1 edge migrat',\n",
       " 'SND1 edge apoptosis',\n",
       " 'SND1 edge cell_cycle',\n",
       " 'GMDS-DT edge metasta',\n",
       " 'PAXIP1-AS1 edge invasi',\n",
       " 'PAXIP1-AS1 edge migrat',\n",
       " 'PAXIP1-AS1 edge growth',\n",
       " 'PAXIP1-AS1 edge angiogenesis',\n",
       " 'ZMAT1 edge metasta',\n",
       " 'ZMAT1 edge invasi',\n",
       " 'FOXCUT edge metasta',\n",
       " 'FOXCUT edge prolifer',\n",
       " 'FOXCUT edge invasi',\n",
       " 'FOXCUT edge apoptosis',\n",
       " 'FOXCUT edge migrat',\n",
       " 'FOXCUT edge prognosis',\n",
       " 'DRAIC edge invasi',\n",
       " 'DRAIC edge migrat',\n",
       " 'DRAIC edge growth',\n",
       " 'DRAIC edge immun',\n",
       " 'DRAIC edge tumor_suppress',\n",
       " 'DRAIC edge oncogen',\n",
       " 'SNHG15 edge metasta',\n",
       " 'SNHG15 edge prolifer',\n",
       " 'SNHG15 edge invasi',\n",
       " 'SNHG15 edge apoptosis',\n",
       " 'SNHG15 edge migrat',\n",
       " 'SNHG15 edge growth',\n",
       " 'SNHG15 edge cell_cycle_arrest',\n",
       " 'SNHG15 edge cell_cycle',\n",
       " 'SNHG15 edge immun',\n",
       " 'SNHG15 edge tumor_suppress',\n",
       " 'SNHG15 edge angiogenesis',\n",
       " 'SNHG15 edge oncogen',\n",
       " 'SNHG15 edge autophag',\n",
       " 'SNHG15 edge prognosis',\n",
       " 'SMAD5-AS1 edge prolifer',\n",
       " 'SMAD5-AS1 edge invasi',\n",
       " 'SMAD5-AS1 edge apoptosis',\n",
       " 'SMAD5-AS1 edge migrat',\n",
       " 'SMAD5-AS1 edge growth',\n",
       " 'SMAD5-AS1 edge EMT',\n",
       " 'DHRS4-AS1 edge metasta',\n",
       " 'DHRS4-AS1 edge prolifer',\n",
       " 'DHRS4-AS1 edge invasi',\n",
       " 'DHRS4-AS1 edge apoptosis',\n",
       " 'DHRS4-AS1 edge cell_cycle',\n",
       " 'DHRS4-AS1 edge cell_cycle_progression',\n",
       " 'HOTTIP edge methylat',\n",
       " 'HOTTIP edge metasta',\n",
       " 'HOTTIP edge prolifer',\n",
       " 'HOTTIP edge invasi',\n",
       " 'HOTTIP edge apoptosis',\n",
       " 'HOTTIP edge migrat',\n",
       " 'HOTTIP edge growth',\n",
       " 'HOTTIP edge cell_cycle_arrest',\n",
       " 'HOTTIP edge cell_cycle',\n",
       " 'HOTTIP edge EMT',\n",
       " 'HOTTIP edge immun',\n",
       " 'HOTTIP edge tumor_suppress',\n",
       " 'HOTTIP edge oncogen',\n",
       " 'HOTTIP edge cell_cycle_progression',\n",
       " 'HOTTIP edge prognosis',\n",
       " 'ZFHX4-AS1 edge prolifer',\n",
       " 'ZFHX4-AS1 edge invasi',\n",
       " 'ZFHX4-AS1 edge apoptosis',\n",
       " 'ZFHX4-AS1 edge migrat',\n",
       " 'ZFHX4-AS1 edge growth',\n",
       " 'ZFHX4-AS1 edge cell_cycle',\n",
       " 'ID2-AS1 edge metasta',\n",
       " 'ID2-AS1 edge invasi',\n",
       " 'ID2-AS1 edge migrat',\n",
       " 'SOX2 edge prolifer',\n",
       " 'SOX2 edge invasi',\n",
       " 'SOX2 edge apoptosis',\n",
       " 'SOX2 edge growth',\n",
       " 'SOX2 edge EMT',\n",
       " 'SOX2-OT edge metasta',\n",
       " 'SOX2-OT edge prolifer',\n",
       " 'SOX2-OT edge invasi',\n",
       " 'SOX2-OT edge apoptosis',\n",
       " 'SOX2-OT edge migrat',\n",
       " 'SOX2-OT edge cell_cycle',\n",
       " 'SOX2-OT edge oncogen']"
      ]
     },
     "execution_count": 91,
     "metadata": {},
     "output_type": "execute_result"
    },
    {
     "data": {
      "text/plain": [
       "20"
      ]
     },
     "execution_count": 91,
     "metadata": {},
     "output_type": "execute_result"
    },
    {
     "data": {
      "text/plain": [
       "1"
      ]
     },
     "execution_count": 91,
     "metadata": {},
     "output_type": "execute_result"
    },
    {
     "data": {
      "text/plain": [
       "19"
      ]
     },
     "execution_count": 91,
     "metadata": {},
     "output_type": "execute_result"
    },
    {
     "data": {
      "text/plain": [
       "1"
      ]
     },
     "execution_count": 91,
     "metadata": {},
     "output_type": "execute_result"
    },
    {
     "data": {
      "text/plain": [
       "20"
      ]
     },
     "execution_count": 91,
     "metadata": {},
     "output_type": "execute_result"
    },
    {
     "data": {
      "text/plain": [
       "1"
      ]
     },
     "execution_count": 91,
     "metadata": {},
     "output_type": "execute_result"
    },
    {
     "data": {
      "text/plain": [
       "18"
      ]
     },
     "execution_count": 91,
     "metadata": {},
     "output_type": "execute_result"
    },
    {
     "data": {
      "text/plain": [
       "1"
      ]
     },
     "execution_count": 91,
     "metadata": {},
     "output_type": "execute_result"
    },
    {
     "data": {
      "text/plain": [
       "21"
      ]
     },
     "execution_count": 91,
     "metadata": {},
     "output_type": "execute_result"
    },
    {
     "data": {
      "text/plain": [
       "1"
      ]
     },
     "execution_count": 91,
     "metadata": {},
     "output_type": "execute_result"
    },
    {
     "data": {
      "text/plain": [
       "18"
      ]
     },
     "execution_count": 91,
     "metadata": {},
     "output_type": "execute_result"
    },
    {
     "data": {
      "text/plain": [
       "1"
      ]
     },
     "execution_count": 91,
     "metadata": {},
     "output_type": "execute_result"
    },
    {
     "data": {
      "text/plain": [
       "18"
      ]
     },
     "execution_count": 91,
     "metadata": {},
     "output_type": "execute_result"
    },
    {
     "data": {
      "text/plain": [
       "1"
      ]
     },
     "execution_count": 91,
     "metadata": {},
     "output_type": "execute_result"
    },
    {
     "data": {
      "text/plain": [
       "17"
      ]
     },
     "execution_count": 91,
     "metadata": {},
     "output_type": "execute_result"
    },
    {
     "data": {
      "text/plain": [
       "1"
      ]
     },
     "execution_count": 91,
     "metadata": {},
     "output_type": "execute_result"
    },
    {
     "data": {
      "text/plain": [
       "19"
      ]
     },
     "execution_count": 91,
     "metadata": {},
     "output_type": "execute_result"
    },
    {
     "data": {
      "text/plain": [
       "1"
      ]
     },
     "execution_count": 91,
     "metadata": {},
     "output_type": "execute_result"
    },
    {
     "data": {
      "text/plain": [
       "21"
      ]
     },
     "execution_count": 91,
     "metadata": {},
     "output_type": "execute_result"
    },
    {
     "data": {
      "text/plain": [
       "1"
      ]
     },
     "execution_count": 91,
     "metadata": {},
     "output_type": "execute_result"
    },
    {
     "data": {
      "text/plain": [
       "22"
      ]
     },
     "execution_count": 91,
     "metadata": {},
     "output_type": "execute_result"
    },
    {
     "data": {
      "text/plain": [
       "1"
      ]
     },
     "execution_count": 91,
     "metadata": {},
     "output_type": "execute_result"
    },
    {
     "data": {
      "text/plain": [
       "21"
      ]
     },
     "execution_count": 91,
     "metadata": {},
     "output_type": "execute_result"
    },
    {
     "data": {
      "text/plain": [
       "1"
      ]
     },
     "execution_count": 91,
     "metadata": {},
     "output_type": "execute_result"
    },
    {
     "data": {
      "text/plain": [
       "22"
      ]
     },
     "execution_count": 91,
     "metadata": {},
     "output_type": "execute_result"
    },
    {
     "data": {
      "text/plain": [
       "1"
      ]
     },
     "execution_count": 91,
     "metadata": {},
     "output_type": "execute_result"
    },
    {
     "data": {
      "text/plain": [
       "20"
      ]
     },
     "execution_count": 91,
     "metadata": {},
     "output_type": "execute_result"
    },
    {
     "data": {
      "text/plain": [
       "1"
      ]
     },
     "execution_count": 91,
     "metadata": {},
     "output_type": "execute_result"
    },
    {
     "data": {
      "text/plain": [
       "23"
      ]
     },
     "execution_count": 91,
     "metadata": {},
     "output_type": "execute_result"
    },
    {
     "data": {
      "text/plain": [
       "1"
      ]
     },
     "execution_count": 91,
     "metadata": {},
     "output_type": "execute_result"
    },
    {
     "data": {
      "text/plain": [
       "20"
      ]
     },
     "execution_count": 91,
     "metadata": {},
     "output_type": "execute_result"
    },
    {
     "data": {
      "text/plain": [
       "1"
      ]
     },
     "execution_count": 91,
     "metadata": {},
     "output_type": "execute_result"
    },
    {
     "data": {
      "text/plain": [
       "20"
      ]
     },
     "execution_count": 91,
     "metadata": {},
     "output_type": "execute_result"
    },
    {
     "data": {
      "text/plain": [
       "1"
      ]
     },
     "execution_count": 91,
     "metadata": {},
     "output_type": "execute_result"
    },
    {
     "data": {
      "text/plain": [
       "17"
      ]
     },
     "execution_count": 91,
     "metadata": {},
     "output_type": "execute_result"
    },
    {
     "data": {
      "text/plain": [
       "1"
      ]
     },
     "execution_count": 91,
     "metadata": {},
     "output_type": "execute_result"
    },
    {
     "data": {
      "text/plain": [
       "28"
      ]
     },
     "execution_count": 91,
     "metadata": {},
     "output_type": "execute_result"
    },
    {
     "data": {
      "text/plain": [
       "1"
      ]
     },
     "execution_count": 91,
     "metadata": {},
     "output_type": "execute_result"
    },
    {
     "data": {
      "text/plain": [
       "22"
      ]
     },
     "execution_count": 91,
     "metadata": {},
     "output_type": "execute_result"
    },
    {
     "data": {
      "text/plain": [
       "1"
      ]
     },
     "execution_count": 91,
     "metadata": {},
     "output_type": "execute_result"
    },
    {
     "data": {
      "text/plain": [
       "23"
      ]
     },
     "execution_count": 91,
     "metadata": {},
     "output_type": "execute_result"
    },
    {
     "data": {
      "text/plain": [
       "1"
      ]
     },
     "execution_count": 91,
     "metadata": {},
     "output_type": "execute_result"
    },
    {
     "data": {
      "text/plain": [
       "24"
      ]
     },
     "execution_count": 91,
     "metadata": {},
     "output_type": "execute_result"
    },
    {
     "data": {
      "text/plain": [
       "1"
      ]
     },
     "execution_count": 91,
     "metadata": {},
     "output_type": "execute_result"
    },
    {
     "data": {
      "text/plain": [
       "21"
      ]
     },
     "execution_count": 91,
     "metadata": {},
     "output_type": "execute_result"
    },
    {
     "data": {
      "text/plain": [
       "1"
      ]
     },
     "execution_count": 91,
     "metadata": {},
     "output_type": "execute_result"
    },
    {
     "data": {
      "text/plain": [
       "18"
      ]
     },
     "execution_count": 91,
     "metadata": {},
     "output_type": "execute_result"
    },
    {
     "data": {
      "text/plain": [
       "1"
      ]
     },
     "execution_count": 91,
     "metadata": {},
     "output_type": "execute_result"
    },
    {
     "data": {
      "text/plain": [
       "22"
      ]
     },
     "execution_count": 91,
     "metadata": {},
     "output_type": "execute_result"
    },
    {
     "data": {
      "text/plain": [
       "1"
      ]
     },
     "execution_count": 91,
     "metadata": {},
     "output_type": "execute_result"
    },
    {
     "data": {
      "text/plain": [
       "18"
      ]
     },
     "execution_count": 91,
     "metadata": {},
     "output_type": "execute_result"
    },
    {
     "data": {
      "text/plain": [
       "1"
      ]
     },
     "execution_count": 91,
     "metadata": {},
     "output_type": "execute_result"
    },
    {
     "data": {
      "text/plain": [
       "18"
      ]
     },
     "execution_count": 91,
     "metadata": {},
     "output_type": "execute_result"
    },
    {
     "data": {
      "text/plain": [
       "1"
      ]
     },
     "execution_count": 91,
     "metadata": {},
     "output_type": "execute_result"
    },
    {
     "data": {
      "text/plain": [
       "22"
      ]
     },
     "execution_count": 91,
     "metadata": {},
     "output_type": "execute_result"
    },
    {
     "data": {
      "text/plain": [
       "1"
      ]
     },
     "execution_count": 91,
     "metadata": {},
     "output_type": "execute_result"
    },
    {
     "data": {
      "text/plain": [
       "23"
      ]
     },
     "execution_count": 91,
     "metadata": {},
     "output_type": "execute_result"
    },
    {
     "data": {
      "text/plain": [
       "1"
      ]
     },
     "execution_count": 91,
     "metadata": {},
     "output_type": "execute_result"
    },
    {
     "data": {
      "text/plain": [
       "21"
      ]
     },
     "execution_count": 91,
     "metadata": {},
     "output_type": "execute_result"
    },
    {
     "data": {
      "text/plain": [
       "1"
      ]
     },
     "execution_count": 91,
     "metadata": {},
     "output_type": "execute_result"
    },
    {
     "data": {
      "text/plain": [
       "24"
      ]
     },
     "execution_count": 91,
     "metadata": {},
     "output_type": "execute_result"
    },
    {
     "data": {
      "text/plain": [
       "1"
      ]
     },
     "execution_count": 91,
     "metadata": {},
     "output_type": "execute_result"
    },
    {
     "data": {
      "text/plain": [
       "21"
      ]
     },
     "execution_count": 91,
     "metadata": {},
     "output_type": "execute_result"
    },
    {
     "data": {
      "text/plain": [
       "1"
      ]
     },
     "execution_count": 91,
     "metadata": {},
     "output_type": "execute_result"
    },
    {
     "data": {
      "text/plain": [
       "21"
      ]
     },
     "execution_count": 91,
     "metadata": {},
     "output_type": "execute_result"
    },
    {
     "data": {
      "text/plain": [
       "1"
      ]
     },
     "execution_count": 91,
     "metadata": {},
     "output_type": "execute_result"
    },
    {
     "data": {
      "text/plain": [
       "18"
      ]
     },
     "execution_count": 91,
     "metadata": {},
     "output_type": "execute_result"
    },
    {
     "data": {
      "text/plain": [
       "1"
      ]
     },
     "execution_count": 91,
     "metadata": {},
     "output_type": "execute_result"
    },
    {
     "data": {
      "text/plain": [
       "24"
      ]
     },
     "execution_count": 91,
     "metadata": {},
     "output_type": "execute_result"
    },
    {
     "data": {
      "text/plain": [
       "1"
      ]
     },
     "execution_count": 91,
     "metadata": {},
     "output_type": "execute_result"
    },
    {
     "data": {
      "text/plain": [
       "21"
      ]
     },
     "execution_count": 91,
     "metadata": {},
     "output_type": "execute_result"
    },
    {
     "data": {
      "text/plain": [
       "1"
      ]
     },
     "execution_count": 91,
     "metadata": {},
     "output_type": "execute_result"
    },
    {
     "data": {
      "text/plain": [
       "21"
      ]
     },
     "execution_count": 91,
     "metadata": {},
     "output_type": "execute_result"
    },
    {
     "data": {
      "text/plain": [
       "1"
      ]
     },
     "execution_count": 91,
     "metadata": {},
     "output_type": "execute_result"
    },
    {
     "data": {
      "text/plain": [
       "21"
      ]
     },
     "execution_count": 91,
     "metadata": {},
     "output_type": "execute_result"
    },
    {
     "data": {
      "text/plain": [
       "1"
      ]
     },
     "execution_count": 91,
     "metadata": {},
     "output_type": "execute_result"
    },
    {
     "data": {
      "text/plain": [
       "23"
      ]
     },
     "execution_count": 91,
     "metadata": {},
     "output_type": "execute_result"
    },
    {
     "data": {
      "text/plain": [
       "1"
      ]
     },
     "execution_count": 91,
     "metadata": {},
     "output_type": "execute_result"
    },
    {
     "data": {
      "text/plain": [
       "21"
      ]
     },
     "execution_count": 91,
     "metadata": {},
     "output_type": "execute_result"
    },
    {
     "data": {
      "text/plain": [
       "1"
      ]
     },
     "execution_count": 91,
     "metadata": {},
     "output_type": "execute_result"
    },
    {
     "data": {
      "text/plain": [
       "24"
      ]
     },
     "execution_count": 91,
     "metadata": {},
     "output_type": "execute_result"
    },
    {
     "data": {
      "text/plain": [
       "1"
      ]
     },
     "execution_count": 91,
     "metadata": {},
     "output_type": "execute_result"
    },
    {
     "data": {
      "text/plain": [
       "21"
      ]
     },
     "execution_count": 91,
     "metadata": {},
     "output_type": "execute_result"
    },
    {
     "data": {
      "text/plain": [
       "1"
      ]
     },
     "execution_count": 91,
     "metadata": {},
     "output_type": "execute_result"
    },
    {
     "data": {
      "text/plain": [
       "21"
      ]
     },
     "execution_count": 91,
     "metadata": {},
     "output_type": "execute_result"
    },
    {
     "data": {
      "text/plain": [
       "1"
      ]
     },
     "execution_count": 91,
     "metadata": {},
     "output_type": "execute_result"
    },
    {
     "data": {
      "text/plain": [
       "22"
      ]
     },
     "execution_count": 91,
     "metadata": {},
     "output_type": "execute_result"
    },
    {
     "data": {
      "text/plain": [
       "1"
      ]
     },
     "execution_count": 91,
     "metadata": {},
     "output_type": "execute_result"
    },
    {
     "data": {
      "text/plain": [
       "21"
      ]
     },
     "execution_count": 91,
     "metadata": {},
     "output_type": "execute_result"
    },
    {
     "data": {
      "text/plain": [
       "1"
      ]
     },
     "execution_count": 91,
     "metadata": {},
     "output_type": "execute_result"
    },
    {
     "data": {
      "text/plain": [
       "22"
      ]
     },
     "execution_count": 91,
     "metadata": {},
     "output_type": "execute_result"
    },
    {
     "data": {
      "text/plain": [
       "1"
      ]
     },
     "execution_count": 91,
     "metadata": {},
     "output_type": "execute_result"
    },
    {
     "data": {
      "text/plain": [
       "23"
      ]
     },
     "execution_count": 91,
     "metadata": {},
     "output_type": "execute_result"
    },
    {
     "data": {
      "text/plain": [
       "1"
      ]
     },
     "execution_count": 91,
     "metadata": {},
     "output_type": "execute_result"
    },
    {
     "data": {
      "text/plain": [
       "20"
      ]
     },
     "execution_count": 91,
     "metadata": {},
     "output_type": "execute_result"
    },
    {
     "data": {
      "text/plain": [
       "1"
      ]
     },
     "execution_count": 91,
     "metadata": {},
     "output_type": "execute_result"
    },
    {
     "data": {
      "text/plain": [
       "17"
      ]
     },
     "execution_count": 91,
     "metadata": {},
     "output_type": "execute_result"
    },
    {
     "data": {
      "text/plain": [
       "1"
      ]
     },
     "execution_count": 91,
     "metadata": {},
     "output_type": "execute_result"
    },
    {
     "data": {
      "text/plain": [
       "19"
      ]
     },
     "execution_count": 91,
     "metadata": {},
     "output_type": "execute_result"
    },
    {
     "data": {
      "text/plain": [
       "1"
      ]
     },
     "execution_count": 91,
     "metadata": {},
     "output_type": "execute_result"
    },
    {
     "data": {
      "text/plain": [
       "23"
      ]
     },
     "execution_count": 91,
     "metadata": {},
     "output_type": "execute_result"
    },
    {
     "data": {
      "text/plain": [
       "1"
      ]
     },
     "execution_count": 91,
     "metadata": {},
     "output_type": "execute_result"
    },
    {
     "data": {
      "text/plain": [
       "21"
      ]
     },
     "execution_count": 91,
     "metadata": {},
     "output_type": "execute_result"
    },
    {
     "data": {
      "text/plain": [
       "1"
      ]
     },
     "execution_count": 91,
     "metadata": {},
     "output_type": "execute_result"
    },
    {
     "data": {
      "text/plain": [
       "24"
      ]
     },
     "execution_count": 91,
     "metadata": {},
     "output_type": "execute_result"
    },
    {
     "data": {
      "text/plain": [
       "1"
      ]
     },
     "execution_count": 91,
     "metadata": {},
     "output_type": "execute_result"
    },
    {
     "data": {
      "text/plain": [
       "21"
      ]
     },
     "execution_count": 91,
     "metadata": {},
     "output_type": "execute_result"
    },
    {
     "data": {
      "text/plain": [
       "1"
      ]
     },
     "execution_count": 91,
     "metadata": {},
     "output_type": "execute_result"
    },
    {
     "data": {
      "text/plain": [
       "21"
      ]
     },
     "execution_count": 91,
     "metadata": {},
     "output_type": "execute_result"
    },
    {
     "data": {
      "text/plain": [
       "1"
      ]
     },
     "execution_count": 91,
     "metadata": {},
     "output_type": "execute_result"
    },
    {
     "data": {
      "text/plain": [
       "16"
      ]
     },
     "execution_count": 91,
     "metadata": {},
     "output_type": "execute_result"
    },
    {
     "data": {
      "text/plain": [
       "1"
      ]
     },
     "execution_count": 91,
     "metadata": {},
     "output_type": "execute_result"
    },
    {
     "data": {
      "text/plain": [
       "17"
      ]
     },
     "execution_count": 91,
     "metadata": {},
     "output_type": "execute_result"
    },
    {
     "data": {
      "text/plain": [
       "1"
      ]
     },
     "execution_count": 91,
     "metadata": {},
     "output_type": "execute_result"
    },
    {
     "data": {
      "text/plain": [
       "18"
      ]
     },
     "execution_count": 91,
     "metadata": {},
     "output_type": "execute_result"
    },
    {
     "data": {
      "text/plain": [
       "1"
      ]
     },
     "execution_count": 91,
     "metadata": {},
     "output_type": "execute_result"
    },
    {
     "data": {
      "text/plain": [
       "16"
      ]
     },
     "execution_count": 91,
     "metadata": {},
     "output_type": "execute_result"
    },
    {
     "data": {
      "text/plain": [
       "1"
      ]
     },
     "execution_count": 91,
     "metadata": {},
     "output_type": "execute_result"
    },
    {
     "data": {
      "text/plain": [
       "16"
      ]
     },
     "execution_count": 91,
     "metadata": {},
     "output_type": "execute_result"
    },
    {
     "data": {
      "text/plain": [
       "1"
      ]
     },
     "execution_count": 91,
     "metadata": {},
     "output_type": "execute_result"
    },
    {
     "data": {
      "text/plain": [
       "13"
      ]
     },
     "execution_count": 91,
     "metadata": {},
     "output_type": "execute_result"
    },
    {
     "data": {
      "text/plain": [
       "1"
      ]
     },
     "execution_count": 91,
     "metadata": {},
     "output_type": "execute_result"
    },
    {
     "data": {
      "text/plain": [
       "23"
      ]
     },
     "execution_count": 91,
     "metadata": {},
     "output_type": "execute_result"
    },
    {
     "data": {
      "text/plain": [
       "1"
      ]
     },
     "execution_count": 91,
     "metadata": {},
     "output_type": "execute_result"
    },
    {
     "data": {
      "text/plain": [
       "21"
      ]
     },
     "execution_count": 91,
     "metadata": {},
     "output_type": "execute_result"
    },
    {
     "data": {
      "text/plain": [
       "1"
      ]
     },
     "execution_count": 91,
     "metadata": {},
     "output_type": "execute_result"
    },
    {
     "data": {
      "text/plain": [
       "21"
      ]
     },
     "execution_count": 91,
     "metadata": {},
     "output_type": "execute_result"
    },
    {
     "data": {
      "text/plain": [
       "1"
      ]
     },
     "execution_count": 91,
     "metadata": {},
     "output_type": "execute_result"
    },
    {
     "data": {
      "text/plain": [
       "20"
      ]
     },
     "execution_count": 91,
     "metadata": {},
     "output_type": "execute_result"
    },
    {
     "data": {
      "text/plain": [
       "1"
      ]
     },
     "execution_count": 91,
     "metadata": {},
     "output_type": "execute_result"
    },
    {
     "data": {
      "text/plain": [
       "18"
      ]
     },
     "execution_count": 91,
     "metadata": {},
     "output_type": "execute_result"
    },
    {
     "data": {
      "text/plain": [
       "1"
      ]
     },
     "execution_count": 91,
     "metadata": {},
     "output_type": "execute_result"
    },
    {
     "data": {
      "text/plain": [
       "18"
      ]
     },
     "execution_count": 91,
     "metadata": {},
     "output_type": "execute_result"
    },
    {
     "data": {
      "text/plain": [
       "1"
      ]
     },
     "execution_count": 91,
     "metadata": {},
     "output_type": "execute_result"
    },
    {
     "data": {
      "text/plain": [
       "19"
      ]
     },
     "execution_count": 91,
     "metadata": {},
     "output_type": "execute_result"
    },
    {
     "data": {
      "text/plain": [
       "1"
      ]
     },
     "execution_count": 91,
     "metadata": {},
     "output_type": "execute_result"
    },
    {
     "data": {
      "text/plain": [
       "17"
      ]
     },
     "execution_count": 91,
     "metadata": {},
     "output_type": "execute_result"
    },
    {
     "data": {
      "text/plain": [
       "1"
      ]
     },
     "execution_count": 91,
     "metadata": {},
     "output_type": "execute_result"
    },
    {
     "data": {
      "text/plain": [
       "22"
      ]
     },
     "execution_count": 91,
     "metadata": {},
     "output_type": "execute_result"
    },
    {
     "data": {
      "text/plain": [
       "1"
      ]
     },
     "execution_count": 91,
     "metadata": {},
     "output_type": "execute_result"
    },
    {
     "data": {
      "text/plain": [
       "21"
      ]
     },
     "execution_count": 91,
     "metadata": {},
     "output_type": "execute_result"
    },
    {
     "data": {
      "text/plain": [
       "1"
      ]
     },
     "execution_count": 91,
     "metadata": {},
     "output_type": "execute_result"
    },
    {
     "data": {
      "text/plain": [
       "21"
      ]
     },
     "execution_count": 91,
     "metadata": {},
     "output_type": "execute_result"
    },
    {
     "data": {
      "text/plain": [
       "1"
      ]
     },
     "execution_count": 91,
     "metadata": {},
     "output_type": "execute_result"
    },
    {
     "data": {
      "text/plain": [
       "18"
      ]
     },
     "execution_count": 91,
     "metadata": {},
     "output_type": "execute_result"
    },
    {
     "data": {
      "text/plain": [
       "1"
      ]
     },
     "execution_count": 91,
     "metadata": {},
     "output_type": "execute_result"
    },
    {
     "data": {
      "text/plain": [
       "19"
      ]
     },
     "execution_count": 91,
     "metadata": {},
     "output_type": "execute_result"
    },
    {
     "data": {
      "text/plain": [
       "1"
      ]
     },
     "execution_count": 91,
     "metadata": {},
     "output_type": "execute_result"
    },
    {
     "data": {
      "text/plain": [
       "17"
      ]
     },
     "execution_count": 91,
     "metadata": {},
     "output_type": "execute_result"
    },
    {
     "data": {
      "text/plain": [
       "1"
      ]
     },
     "execution_count": 91,
     "metadata": {},
     "output_type": "execute_result"
    },
    {
     "data": {
      "text/plain": [
       "20"
      ]
     },
     "execution_count": 91,
     "metadata": {},
     "output_type": "execute_result"
    },
    {
     "data": {
      "text/plain": [
       "1"
      ]
     },
     "execution_count": 91,
     "metadata": {},
     "output_type": "execute_result"
    },
    {
     "data": {
      "text/plain": [
       "17"
      ]
     },
     "execution_count": 91,
     "metadata": {},
     "output_type": "execute_result"
    },
    {
     "data": {
      "text/plain": [
       "1"
      ]
     },
     "execution_count": 91,
     "metadata": {},
     "output_type": "execute_result"
    },
    {
     "data": {
      "text/plain": [
       "17"
      ]
     },
     "execution_count": 91,
     "metadata": {},
     "output_type": "execute_result"
    },
    {
     "data": {
      "text/plain": [
       "1"
      ]
     },
     "execution_count": 91,
     "metadata": {},
     "output_type": "execute_result"
    },
    {
     "data": {
      "text/plain": [
       "21"
      ]
     },
     "execution_count": 91,
     "metadata": {},
     "output_type": "execute_result"
    },
    {
     "data": {
      "text/plain": [
       "1"
      ]
     },
     "execution_count": 91,
     "metadata": {},
     "output_type": "execute_result"
    },
    {
     "data": {
      "text/plain": [
       "18"
      ]
     },
     "execution_count": 91,
     "metadata": {},
     "output_type": "execute_result"
    },
    {
     "data": {
      "text/plain": [
       "1"
      ]
     },
     "execution_count": 91,
     "metadata": {},
     "output_type": "execute_result"
    },
    {
     "data": {
      "text/plain": [
       "20"
      ]
     },
     "execution_count": 91,
     "metadata": {},
     "output_type": "execute_result"
    },
    {
     "data": {
      "text/plain": [
       "1"
      ]
     },
     "execution_count": 91,
     "metadata": {},
     "output_type": "execute_result"
    },
    {
     "data": {
      "text/plain": [
       "16"
      ]
     },
     "execution_count": 91,
     "metadata": {},
     "output_type": "execute_result"
    },
    {
     "data": {
      "text/plain": [
       "1"
      ]
     },
     "execution_count": 91,
     "metadata": {},
     "output_type": "execute_result"
    },
    {
     "data": {
      "text/plain": [
       "17"
      ]
     },
     "execution_count": 91,
     "metadata": {},
     "output_type": "execute_result"
    },
    {
     "data": {
      "text/plain": [
       "1"
      ]
     },
     "execution_count": 91,
     "metadata": {},
     "output_type": "execute_result"
    },
    {
     "data": {
      "text/plain": [
       "15"
      ]
     },
     "execution_count": 91,
     "metadata": {},
     "output_type": "execute_result"
    },
    {
     "data": {
      "text/plain": [
       "1"
      ]
     },
     "execution_count": 91,
     "metadata": {},
     "output_type": "execute_result"
    },
    {
     "data": {
      "text/plain": [
       "18"
      ]
     },
     "execution_count": 91,
     "metadata": {},
     "output_type": "execute_result"
    },
    {
     "data": {
      "text/plain": [
       "1"
      ]
     },
     "execution_count": 91,
     "metadata": {},
     "output_type": "execute_result"
    },
    {
     "data": {
      "text/plain": [
       "15"
      ]
     },
     "execution_count": 91,
     "metadata": {},
     "output_type": "execute_result"
    },
    {
     "data": {
      "text/plain": [
       "1"
      ]
     },
     "execution_count": 91,
     "metadata": {},
     "output_type": "execute_result"
    },
    {
     "data": {
      "text/plain": [
       "15"
      ]
     },
     "execution_count": 91,
     "metadata": {},
     "output_type": "execute_result"
    },
    {
     "data": {
      "text/plain": [
       "1"
      ]
     },
     "execution_count": 91,
     "metadata": {},
     "output_type": "execute_result"
    },
    {
     "data": {
      "text/plain": [
       "19"
      ]
     },
     "execution_count": 91,
     "metadata": {},
     "output_type": "execute_result"
    },
    {
     "data": {
      "text/plain": [
       "1"
      ]
     },
     "execution_count": 91,
     "metadata": {},
     "output_type": "execute_result"
    },
    {
     "data": {
      "text/plain": [
       "16"
      ]
     },
     "execution_count": 91,
     "metadata": {},
     "output_type": "execute_result"
    },
    {
     "data": {
      "text/plain": [
       "1"
      ]
     },
     "execution_count": 91,
     "metadata": {},
     "output_type": "execute_result"
    },
    {
     "data": {
      "text/plain": [
       "31"
      ]
     },
     "execution_count": 91,
     "metadata": {},
     "output_type": "execute_result"
    },
    {
     "data": {
      "text/plain": [
       "1"
      ]
     },
     "execution_count": 91,
     "metadata": {},
     "output_type": "execute_result"
    },
    {
     "data": {
      "text/plain": [
       "17"
      ]
     },
     "execution_count": 91,
     "metadata": {},
     "output_type": "execute_result"
    },
    {
     "data": {
      "text/plain": [
       "1"
      ]
     },
     "execution_count": 91,
     "metadata": {},
     "output_type": "execute_result"
    },
    {
     "data": {
      "text/plain": [
       "18"
      ]
     },
     "execution_count": 91,
     "metadata": {},
     "output_type": "execute_result"
    },
    {
     "data": {
      "text/plain": [
       "1"
      ]
     },
     "execution_count": 91,
     "metadata": {},
     "output_type": "execute_result"
    },
    {
     "data": {
      "text/plain": [
       "22"
      ]
     },
     "execution_count": 91,
     "metadata": {},
     "output_type": "execute_result"
    },
    {
     "data": {
      "text/plain": [
       "1"
      ]
     },
     "execution_count": 91,
     "metadata": {},
     "output_type": "execute_result"
    },
    {
     "data": {
      "text/plain": [
       "20"
      ]
     },
     "execution_count": 91,
     "metadata": {},
     "output_type": "execute_result"
    },
    {
     "data": {
      "text/plain": [
       "1"
      ]
     },
     "execution_count": 91,
     "metadata": {},
     "output_type": "execute_result"
    },
    {
     "data": {
      "text/plain": [
       "20"
      ]
     },
     "execution_count": 91,
     "metadata": {},
     "output_type": "execute_result"
    },
    {
     "data": {
      "text/plain": [
       "1"
      ]
     },
     "execution_count": 91,
     "metadata": {},
     "output_type": "execute_result"
    },
    {
     "data": {
      "text/plain": [
       "19"
      ]
     },
     "execution_count": 91,
     "metadata": {},
     "output_type": "execute_result"
    },
    {
     "data": {
      "text/plain": [
       "1"
      ]
     },
     "execution_count": 91,
     "metadata": {},
     "output_type": "execute_result"
    },
    {
     "data": {
      "text/plain": [
       "23"
      ]
     },
     "execution_count": 91,
     "metadata": {},
     "output_type": "execute_result"
    },
    {
     "data": {
      "text/plain": [
       "1"
      ]
     },
     "execution_count": 91,
     "metadata": {},
     "output_type": "execute_result"
    },
    {
     "data": {
      "text/plain": [
       "22"
      ]
     },
     "execution_count": 91,
     "metadata": {},
     "output_type": "execute_result"
    },
    {
     "data": {
      "text/plain": [
       "1"
      ]
     },
     "execution_count": 91,
     "metadata": {},
     "output_type": "execute_result"
    },
    {
     "data": {
      "text/plain": [
       "17"
      ]
     },
     "execution_count": 91,
     "metadata": {},
     "output_type": "execute_result"
    },
    {
     "data": {
      "text/plain": [
       "1"
      ]
     },
     "execution_count": 91,
     "metadata": {},
     "output_type": "execute_result"
    },
    {
     "data": {
      "text/plain": [
       "22"
      ]
     },
     "execution_count": 91,
     "metadata": {},
     "output_type": "execute_result"
    },
    {
     "data": {
      "text/plain": [
       "1"
      ]
     },
     "execution_count": 91,
     "metadata": {},
     "output_type": "execute_result"
    },
    {
     "data": {
      "text/plain": [
       "20"
      ]
     },
     "execution_count": 91,
     "metadata": {},
     "output_type": "execute_result"
    },
    {
     "data": {
      "text/plain": [
       "1"
      ]
     },
     "execution_count": 91,
     "metadata": {},
     "output_type": "execute_result"
    },
    {
     "data": {
      "text/plain": [
       "24"
      ]
     },
     "execution_count": 91,
     "metadata": {},
     "output_type": "execute_result"
    },
    {
     "data": {
      "text/plain": [
       "1"
      ]
     },
     "execution_count": 91,
     "metadata": {},
     "output_type": "execute_result"
    },
    {
     "data": {
      "text/plain": [
       "22"
      ]
     },
     "execution_count": 91,
     "metadata": {},
     "output_type": "execute_result"
    },
    {
     "data": {
      "text/plain": [
       "1"
      ]
     },
     "execution_count": 91,
     "metadata": {},
     "output_type": "execute_result"
    },
    {
     "data": {
      "text/plain": [
       "23"
      ]
     },
     "execution_count": 91,
     "metadata": {},
     "output_type": "execute_result"
    },
    {
     "data": {
      "text/plain": [
       "1"
      ]
     },
     "execution_count": 91,
     "metadata": {},
     "output_type": "execute_result"
    },
    {
     "data": {
      "text/plain": [
       "21"
      ]
     },
     "execution_count": 91,
     "metadata": {},
     "output_type": "execute_result"
    },
    {
     "data": {
      "text/plain": [
       "1"
      ]
     },
     "execution_count": 91,
     "metadata": {},
     "output_type": "execute_result"
    },
    {
     "data": {
      "text/plain": [
       "24"
      ]
     },
     "execution_count": 91,
     "metadata": {},
     "output_type": "execute_result"
    },
    {
     "data": {
      "text/plain": [
       "1"
      ]
     },
     "execution_count": 91,
     "metadata": {},
     "output_type": "execute_result"
    },
    {
     "data": {
      "text/plain": [
       "21"
      ]
     },
     "execution_count": 91,
     "metadata": {},
     "output_type": "execute_result"
    },
    {
     "data": {
      "text/plain": [
       "1"
      ]
     },
     "execution_count": 91,
     "metadata": {},
     "output_type": "execute_result"
    },
    {
     "data": {
      "text/plain": [
       "18"
      ]
     },
     "execution_count": 91,
     "metadata": {},
     "output_type": "execute_result"
    },
    {
     "data": {
      "text/plain": [
       "1"
      ]
     },
     "execution_count": 91,
     "metadata": {},
     "output_type": "execute_result"
    },
    {
     "data": {
      "text/plain": [
       "22"
      ]
     },
     "execution_count": 91,
     "metadata": {},
     "output_type": "execute_result"
    },
    {
     "data": {
      "text/plain": [
       "1"
      ]
     },
     "execution_count": 91,
     "metadata": {},
     "output_type": "execute_result"
    },
    {
     "data": {
      "text/plain": [
       "22"
      ]
     },
     "execution_count": 91,
     "metadata": {},
     "output_type": "execute_result"
    },
    {
     "data": {
      "text/plain": [
       "1"
      ]
     },
     "execution_count": 91,
     "metadata": {},
     "output_type": "execute_result"
    },
    {
     "data": {
      "text/plain": [
       "23"
      ]
     },
     "execution_count": 91,
     "metadata": {},
     "output_type": "execute_result"
    },
    {
     "data": {
      "text/plain": [
       "1"
      ]
     },
     "execution_count": 91,
     "metadata": {},
     "output_type": "execute_result"
    },
    {
     "data": {
      "text/plain": [
       "21"
      ]
     },
     "execution_count": 91,
     "metadata": {},
     "output_type": "execute_result"
    },
    {
     "data": {
      "text/plain": [
       "1"
      ]
     },
     "execution_count": 91,
     "metadata": {},
     "output_type": "execute_result"
    },
    {
     "data": {
      "text/plain": [
       "23"
      ]
     },
     "execution_count": 91,
     "metadata": {},
     "output_type": "execute_result"
    },
    {
     "data": {
      "text/plain": [
       "1"
      ]
     },
     "execution_count": 91,
     "metadata": {},
     "output_type": "execute_result"
    },
    {
     "data": {
      "text/plain": [
       "23"
      ]
     },
     "execution_count": 91,
     "metadata": {},
     "output_type": "execute_result"
    },
    {
     "data": {
      "text/plain": [
       "1"
      ]
     },
     "execution_count": 91,
     "metadata": {},
     "output_type": "execute_result"
    },
    {
     "data": {
      "text/plain": [
       "21"
      ]
     },
     "execution_count": 91,
     "metadata": {},
     "output_type": "execute_result"
    },
    {
     "data": {
      "text/plain": [
       "1"
      ]
     },
     "execution_count": 91,
     "metadata": {},
     "output_type": "execute_result"
    },
    {
     "data": {
      "text/plain": [
       "24"
      ]
     },
     "execution_count": 91,
     "metadata": {},
     "output_type": "execute_result"
    },
    {
     "data": {
      "text/plain": [
       "1"
      ]
     },
     "execution_count": 91,
     "metadata": {},
     "output_type": "execute_result"
    },
    {
     "data": {
      "text/plain": [
       "21"
      ]
     },
     "execution_count": 91,
     "metadata": {},
     "output_type": "execute_result"
    },
    {
     "data": {
      "text/plain": [
       "1"
      ]
     },
     "execution_count": 91,
     "metadata": {},
     "output_type": "execute_result"
    },
    {
     "data": {
      "text/plain": [
       "20"
      ]
     },
     "execution_count": 91,
     "metadata": {},
     "output_type": "execute_result"
    },
    {
     "data": {
      "text/plain": [
       "1"
      ]
     },
     "execution_count": 91,
     "metadata": {},
     "output_type": "execute_result"
    },
    {
     "data": {
      "text/plain": [
       "21"
      ]
     },
     "execution_count": 91,
     "metadata": {},
     "output_type": "execute_result"
    },
    {
     "data": {
      "text/plain": [
       "1"
      ]
     },
     "execution_count": 91,
     "metadata": {},
     "output_type": "execute_result"
    },
    {
     "data": {
      "text/plain": [
       "19"
      ]
     },
     "execution_count": 91,
     "metadata": {},
     "output_type": "execute_result"
    },
    {
     "data": {
      "text/plain": [
       "1"
      ]
     },
     "execution_count": 91,
     "metadata": {},
     "output_type": "execute_result"
    },
    {
     "data": {
      "text/plain": [
       "22"
      ]
     },
     "execution_count": 91,
     "metadata": {},
     "output_type": "execute_result"
    },
    {
     "data": {
      "text/plain": [
       "1"
      ]
     },
     "execution_count": 91,
     "metadata": {},
     "output_type": "execute_result"
    },
    {
     "data": {
      "text/plain": [
       "19"
      ]
     },
     "execution_count": 91,
     "metadata": {},
     "output_type": "execute_result"
    },
    {
     "data": {
      "text/plain": [
       "1"
      ]
     },
     "execution_count": 91,
     "metadata": {},
     "output_type": "execute_result"
    },
    {
     "data": {
      "text/plain": [
       "19"
      ]
     },
     "execution_count": 91,
     "metadata": {},
     "output_type": "execute_result"
    },
    {
     "data": {
      "text/plain": [
       "1"
      ]
     },
     "execution_count": 91,
     "metadata": {},
     "output_type": "execute_result"
    },
    {
     "data": {
      "text/plain": [
       "23"
      ]
     },
     "execution_count": 91,
     "metadata": {},
     "output_type": "execute_result"
    },
    {
     "data": {
      "text/plain": [
       "1"
      ]
     },
     "execution_count": 91,
     "metadata": {},
     "output_type": "execute_result"
    },
    {
     "data": {
      "text/plain": [
       "16"
      ]
     },
     "execution_count": 91,
     "metadata": {},
     "output_type": "execute_result"
    },
    {
     "data": {
      "text/plain": [
       "1"
      ]
     },
     "execution_count": 91,
     "metadata": {},
     "output_type": "execute_result"
    },
    {
     "data": {
      "text/plain": [
       "20"
      ]
     },
     "execution_count": 91,
     "metadata": {},
     "output_type": "execute_result"
    },
    {
     "data": {
      "text/plain": [
       "1"
      ]
     },
     "execution_count": 91,
     "metadata": {},
     "output_type": "execute_result"
    },
    {
     "data": {
      "text/plain": [
       "19"
      ]
     },
     "execution_count": 91,
     "metadata": {},
     "output_type": "execute_result"
    },
    {
     "data": {
      "text/plain": [
       "1"
      ]
     },
     "execution_count": 91,
     "metadata": {},
     "output_type": "execute_result"
    },
    {
     "data": {
      "text/plain": [
       "20"
      ]
     },
     "execution_count": 91,
     "metadata": {},
     "output_type": "execute_result"
    },
    {
     "data": {
      "text/plain": [
       "1"
      ]
     },
     "execution_count": 91,
     "metadata": {},
     "output_type": "execute_result"
    },
    {
     "data": {
      "text/plain": [
       "18"
      ]
     },
     "execution_count": 91,
     "metadata": {},
     "output_type": "execute_result"
    },
    {
     "data": {
      "text/plain": [
       "1"
      ]
     },
     "execution_count": 91,
     "metadata": {},
     "output_type": "execute_result"
    },
    {
     "data": {
      "text/plain": [
       "21"
      ]
     },
     "execution_count": 91,
     "metadata": {},
     "output_type": "execute_result"
    },
    {
     "data": {
      "text/plain": [
       "1"
      ]
     },
     "execution_count": 91,
     "metadata": {},
     "output_type": "execute_result"
    },
    {
     "data": {
      "text/plain": [
       "18"
      ]
     },
     "execution_count": 91,
     "metadata": {},
     "output_type": "execute_result"
    },
    {
     "data": {
      "text/plain": [
       "1"
      ]
     },
     "execution_count": 91,
     "metadata": {},
     "output_type": "execute_result"
    },
    {
     "data": {
      "text/plain": [
       "18"
      ]
     },
     "execution_count": 91,
     "metadata": {},
     "output_type": "execute_result"
    },
    {
     "data": {
      "text/plain": [
       "1"
      ]
     },
     "execution_count": 91,
     "metadata": {},
     "output_type": "execute_result"
    },
    {
     "data": {
      "text/plain": [
       "29"
      ]
     },
     "execution_count": 91,
     "metadata": {},
     "output_type": "execute_result"
    },
    {
     "data": {
      "text/plain": [
       "1"
      ]
     },
     "execution_count": 91,
     "metadata": {},
     "output_type": "execute_result"
    },
    {
     "data": {
      "text/plain": [
       "22"
      ]
     },
     "execution_count": 91,
     "metadata": {},
     "output_type": "execute_result"
    },
    {
     "data": {
      "text/plain": [
       "1"
      ]
     },
     "execution_count": 91,
     "metadata": {},
     "output_type": "execute_result"
    },
    {
     "data": {
      "text/plain": [
       "15"
      ]
     },
     "execution_count": 91,
     "metadata": {},
     "output_type": "execute_result"
    },
    {
     "data": {
      "text/plain": [
       "1"
      ]
     },
     "execution_count": 91,
     "metadata": {},
     "output_type": "execute_result"
    },
    {
     "data": {
      "text/plain": [
       "17"
      ]
     },
     "execution_count": 91,
     "metadata": {},
     "output_type": "execute_result"
    },
    {
     "data": {
      "text/plain": [
       "1"
      ]
     },
     "execution_count": 91,
     "metadata": {},
     "output_type": "execute_result"
    },
    {
     "data": {
      "text/plain": [
       "21"
      ]
     },
     "execution_count": 91,
     "metadata": {},
     "output_type": "execute_result"
    },
    {
     "data": {
      "text/plain": [
       "1"
      ]
     },
     "execution_count": 91,
     "metadata": {},
     "output_type": "execute_result"
    },
    {
     "data": {
      "text/plain": [
       "22"
      ]
     },
     "execution_count": 91,
     "metadata": {},
     "output_type": "execute_result"
    },
    {
     "data": {
      "text/plain": [
       "1"
      ]
     },
     "execution_count": 91,
     "metadata": {},
     "output_type": "execute_result"
    },
    {
     "data": {
      "text/plain": [
       "23"
      ]
     },
     "execution_count": 91,
     "metadata": {},
     "output_type": "execute_result"
    },
    {
     "data": {
      "text/plain": [
       "1"
      ]
     },
     "execution_count": 91,
     "metadata": {},
     "output_type": "execute_result"
    },
    {
     "data": {
      "text/plain": [
       "22"
      ]
     },
     "execution_count": 91,
     "metadata": {},
     "output_type": "execute_result"
    },
    {
     "data": {
      "text/plain": [
       "1"
      ]
     },
     "execution_count": 91,
     "metadata": {},
     "output_type": "execute_result"
    },
    {
     "data": {
      "text/plain": [
       "23"
      ]
     },
     "execution_count": 91,
     "metadata": {},
     "output_type": "execute_result"
    },
    {
     "data": {
      "text/plain": [
       "1"
      ]
     },
     "execution_count": 91,
     "metadata": {},
     "output_type": "execute_result"
    },
    {
     "data": {
      "text/plain": [
       "21"
      ]
     },
     "execution_count": 91,
     "metadata": {},
     "output_type": "execute_result"
    },
    {
     "data": {
      "text/plain": [
       "1"
      ]
     },
     "execution_count": 91,
     "metadata": {},
     "output_type": "execute_result"
    },
    {
     "data": {
      "text/plain": [
       "24"
      ]
     },
     "execution_count": 91,
     "metadata": {},
     "output_type": "execute_result"
    },
    {
     "data": {
      "text/plain": [
       "1"
      ]
     },
     "execution_count": 91,
     "metadata": {},
     "output_type": "execute_result"
    },
    {
     "data": {
      "text/plain": [
       "21"
      ]
     },
     "execution_count": 91,
     "metadata": {},
     "output_type": "execute_result"
    },
    {
     "data": {
      "text/plain": [
       "1"
      ]
     },
     "execution_count": 91,
     "metadata": {},
     "output_type": "execute_result"
    },
    {
     "data": {
      "text/plain": [
       "22"
      ]
     },
     "execution_count": 91,
     "metadata": {},
     "output_type": "execute_result"
    },
    {
     "data": {
      "text/plain": [
       "1"
      ]
     },
     "execution_count": 91,
     "metadata": {},
     "output_type": "execute_result"
    },
    {
     "data": {
      "text/plain": [
       "21"
      ]
     },
     "execution_count": 91,
     "metadata": {},
     "output_type": "execute_result"
    },
    {
     "data": {
      "text/plain": [
       "1"
      ]
     },
     "execution_count": 91,
     "metadata": {},
     "output_type": "execute_result"
    },
    {
     "data": {
      "text/plain": [
       "22"
      ]
     },
     "execution_count": 91,
     "metadata": {},
     "output_type": "execute_result"
    },
    {
     "data": {
      "text/plain": [
       "1"
      ]
     },
     "execution_count": 91,
     "metadata": {},
     "output_type": "execute_result"
    },
    {
     "data": {
      "text/plain": [
       "20"
      ]
     },
     "execution_count": 91,
     "metadata": {},
     "output_type": "execute_result"
    },
    {
     "data": {
      "text/plain": [
       "1"
      ]
     },
     "execution_count": 91,
     "metadata": {},
     "output_type": "execute_result"
    },
    {
     "data": {
      "text/plain": [
       "23"
      ]
     },
     "execution_count": 91,
     "metadata": {},
     "output_type": "execute_result"
    },
    {
     "data": {
      "text/plain": [
       "1"
      ]
     },
     "execution_count": 91,
     "metadata": {},
     "output_type": "execute_result"
    },
    {
     "data": {
      "text/plain": [
       "20"
      ]
     },
     "execution_count": 91,
     "metadata": {},
     "output_type": "execute_result"
    },
    {
     "data": {
      "text/plain": [
       "1"
      ]
     },
     "execution_count": 91,
     "metadata": {},
     "output_type": "execute_result"
    },
    {
     "data": {
      "text/plain": [
       "20"
      ]
     },
     "execution_count": 91,
     "metadata": {},
     "output_type": "execute_result"
    },
    {
     "data": {
      "text/plain": [
       "1"
      ]
     },
     "execution_count": 91,
     "metadata": {},
     "output_type": "execute_result"
    },
    {
     "data": {
      "text/plain": [
       "24"
      ]
     },
     "execution_count": 91,
     "metadata": {},
     "output_type": "execute_result"
    },
    {
     "data": {
      "text/plain": [
       "1"
      ]
     },
     "execution_count": 91,
     "metadata": {},
     "output_type": "execute_result"
    },
    {
     "data": {
      "text/plain": [
       "17"
      ]
     },
     "execution_count": 91,
     "metadata": {},
     "output_type": "execute_result"
    },
    {
     "data": {
      "text/plain": [
       "1"
      ]
     },
     "execution_count": 91,
     "metadata": {},
     "output_type": "execute_result"
    },
    {
     "data": {
      "text/plain": [
       "21"
      ]
     },
     "execution_count": 91,
     "metadata": {},
     "output_type": "execute_result"
    },
    {
     "data": {
      "text/plain": [
       "1"
      ]
     },
     "execution_count": 91,
     "metadata": {},
     "output_type": "execute_result"
    },
    {
     "data": {
      "text/plain": [
       "23"
      ]
     },
     "execution_count": 91,
     "metadata": {},
     "output_type": "execute_result"
    },
    {
     "data": {
      "text/plain": [
       "1"
      ]
     },
     "execution_count": 91,
     "metadata": {},
     "output_type": "execute_result"
    },
    {
     "data": {
      "text/plain": [
       "23"
      ]
     },
     "execution_count": 91,
     "metadata": {},
     "output_type": "execute_result"
    },
    {
     "data": {
      "text/plain": [
       "1"
      ]
     },
     "execution_count": 91,
     "metadata": {},
     "output_type": "execute_result"
    },
    {
     "data": {
      "text/plain": [
       "21"
      ]
     },
     "execution_count": 91,
     "metadata": {},
     "output_type": "execute_result"
    },
    {
     "data": {
      "text/plain": [
       "1"
      ]
     },
     "execution_count": 91,
     "metadata": {},
     "output_type": "execute_result"
    },
    {
     "data": {
      "text/plain": [
       "24"
      ]
     },
     "execution_count": 91,
     "metadata": {},
     "output_type": "execute_result"
    },
    {
     "data": {
      "text/plain": [
       "1"
      ]
     },
     "execution_count": 91,
     "metadata": {},
     "output_type": "execute_result"
    },
    {
     "data": {
      "text/plain": [
       "21"
      ]
     },
     "execution_count": 91,
     "metadata": {},
     "output_type": "execute_result"
    },
    {
     "data": {
      "text/plain": [
       "1"
      ]
     },
     "execution_count": 91,
     "metadata": {},
     "output_type": "execute_result"
    },
    {
     "data": {
      "text/plain": [
       "23"
      ]
     },
     "execution_count": 91,
     "metadata": {},
     "output_type": "execute_result"
    },
    {
     "data": {
      "text/plain": [
       "1"
      ]
     },
     "execution_count": 91,
     "metadata": {},
     "output_type": "execute_result"
    },
    {
     "data": {
      "text/plain": [
       "21"
      ]
     },
     "execution_count": 91,
     "metadata": {},
     "output_type": "execute_result"
    },
    {
     "data": {
      "text/plain": [
       "1"
      ]
     },
     "execution_count": 91,
     "metadata": {},
     "output_type": "execute_result"
    },
    {
     "data": {
      "text/plain": [
       "21"
      ]
     },
     "execution_count": 91,
     "metadata": {},
     "output_type": "execute_result"
    },
    {
     "data": {
      "text/plain": [
       "1"
      ]
     },
     "execution_count": 91,
     "metadata": {},
     "output_type": "execute_result"
    },
    {
     "data": {
      "text/plain": [
       "23"
      ]
     },
     "execution_count": 91,
     "metadata": {},
     "output_type": "execute_result"
    },
    {
     "data": {
      "text/plain": [
       "1"
      ]
     },
     "execution_count": 91,
     "metadata": {},
     "output_type": "execute_result"
    },
    {
     "data": {
      "text/plain": [
       "21"
      ]
     },
     "execution_count": 91,
     "metadata": {},
     "output_type": "execute_result"
    },
    {
     "data": {
      "text/plain": [
       "1"
      ]
     },
     "execution_count": 91,
     "metadata": {},
     "output_type": "execute_result"
    },
    {
     "data": {
      "text/plain": [
       "21"
      ]
     },
     "execution_count": 91,
     "metadata": {},
     "output_type": "execute_result"
    },
    {
     "data": {
      "text/plain": [
       "1"
      ]
     },
     "execution_count": 91,
     "metadata": {},
     "output_type": "execute_result"
    },
    {
     "data": {
      "text/plain": [
       "21"
      ]
     },
     "execution_count": 91,
     "metadata": {},
     "output_type": "execute_result"
    },
    {
     "data": {
      "text/plain": [
       "1"
      ]
     },
     "execution_count": 91,
     "metadata": {},
     "output_type": "execute_result"
    },
    {
     "data": {
      "text/plain": [
       "18"
      ]
     },
     "execution_count": 91,
     "metadata": {},
     "output_type": "execute_result"
    },
    {
     "data": {
      "text/plain": [
       "1"
      ]
     },
     "execution_count": 91,
     "metadata": {},
     "output_type": "execute_result"
    },
    {
     "data": {
      "text/plain": [
       "23"
      ]
     },
     "execution_count": 91,
     "metadata": {},
     "output_type": "execute_result"
    },
    {
     "data": {
      "text/plain": [
       "1"
      ]
     },
     "execution_count": 91,
     "metadata": {},
     "output_type": "execute_result"
    },
    {
     "data": {
      "text/plain": [
       "22"
      ]
     },
     "execution_count": 91,
     "metadata": {},
     "output_type": "execute_result"
    },
    {
     "data": {
      "text/plain": [
       "1"
      ]
     },
     "execution_count": 91,
     "metadata": {},
     "output_type": "execute_result"
    },
    {
     "data": {
      "text/plain": [
       "23"
      ]
     },
     "execution_count": 91,
     "metadata": {},
     "output_type": "execute_result"
    },
    {
     "data": {
      "text/plain": [
       "1"
      ]
     },
     "execution_count": 91,
     "metadata": {},
     "output_type": "execute_result"
    },
    {
     "data": {
      "text/plain": [
       "21"
      ]
     },
     "execution_count": 91,
     "metadata": {},
     "output_type": "execute_result"
    },
    {
     "data": {
      "text/plain": [
       "1"
      ]
     },
     "execution_count": 91,
     "metadata": {},
     "output_type": "execute_result"
    },
    {
     "data": {
      "text/plain": [
       "24"
      ]
     },
     "execution_count": 91,
     "metadata": {},
     "output_type": "execute_result"
    },
    {
     "data": {
      "text/plain": [
       "1"
      ]
     },
     "execution_count": 91,
     "metadata": {},
     "output_type": "execute_result"
    },
    {
     "data": {
      "text/plain": [
       "21"
      ]
     },
     "execution_count": 91,
     "metadata": {},
     "output_type": "execute_result"
    },
    {
     "data": {
      "text/plain": [
       "1"
      ]
     },
     "execution_count": 91,
     "metadata": {},
     "output_type": "execute_result"
    },
    {
     "data": {
      "text/plain": [
       "21"
      ]
     },
     "execution_count": 91,
     "metadata": {},
     "output_type": "execute_result"
    },
    {
     "data": {
      "text/plain": [
       "1"
      ]
     },
     "execution_count": 91,
     "metadata": {},
     "output_type": "execute_result"
    },
    {
     "data": {
      "text/plain": [
       "32"
      ]
     },
     "execution_count": 91,
     "metadata": {},
     "output_type": "execute_result"
    },
    {
     "data": {
      "text/plain": [
       "1"
      ]
     },
     "execution_count": 91,
     "metadata": {},
     "output_type": "execute_result"
    },
    {
     "data": {
      "text/plain": [
       "25"
      ]
     },
     "execution_count": 91,
     "metadata": {},
     "output_type": "execute_result"
    },
    {
     "data": {
      "text/plain": [
       "1"
      ]
     },
     "execution_count": 91,
     "metadata": {},
     "output_type": "execute_result"
    },
    {
     "data": {
      "text/plain": [
       "18"
      ]
     },
     "execution_count": 91,
     "metadata": {},
     "output_type": "execute_result"
    },
    {
     "data": {
      "text/plain": [
       "1"
      ]
     },
     "execution_count": 91,
     "metadata": {},
     "output_type": "execute_result"
    },
    {
     "data": {
      "text/plain": [
       "22"
      ]
     },
     "execution_count": 91,
     "metadata": {},
     "output_type": "execute_result"
    },
    {
     "data": {
      "text/plain": [
       "1"
      ]
     },
     "execution_count": 91,
     "metadata": {},
     "output_type": "execute_result"
    },
    {
     "data": {
      "text/plain": [
       "18"
      ]
     },
     "execution_count": 91,
     "metadata": {},
     "output_type": "execute_result"
    },
    {
     "data": {
      "text/plain": [
       "1"
      ]
     },
     "execution_count": 91,
     "metadata": {},
     "output_type": "execute_result"
    },
    {
     "data": {
      "text/plain": [
       "18"
      ]
     },
     "execution_count": 91,
     "metadata": {},
     "output_type": "execute_result"
    },
    {
     "data": {
      "text/plain": [
       "1"
      ]
     },
     "execution_count": 91,
     "metadata": {},
     "output_type": "execute_result"
    },
    {
     "data": {
      "text/plain": [
       "19"
      ]
     },
     "execution_count": 91,
     "metadata": {},
     "output_type": "execute_result"
    },
    {
     "data": {
      "text/plain": [
       "1"
      ]
     },
     "execution_count": 91,
     "metadata": {},
     "output_type": "execute_result"
    },
    {
     "data": {
      "text/plain": [
       "17"
      ]
     },
     "execution_count": 91,
     "metadata": {},
     "output_type": "execute_result"
    },
    {
     "data": {
      "text/plain": [
       "1"
      ]
     },
     "execution_count": 91,
     "metadata": {},
     "output_type": "execute_result"
    },
    {
     "data": {
      "text/plain": [
       "20"
      ]
     },
     "execution_count": 91,
     "metadata": {},
     "output_type": "execute_result"
    },
    {
     "data": {
      "text/plain": [
       "1"
      ]
     },
     "execution_count": 91,
     "metadata": {},
     "output_type": "execute_result"
    },
    {
     "data": {
      "text/plain": [
       "17"
      ]
     },
     "execution_count": 91,
     "metadata": {},
     "output_type": "execute_result"
    },
    {
     "data": {
      "text/plain": [
       "1"
      ]
     },
     "execution_count": 91,
     "metadata": {},
     "output_type": "execute_result"
    },
    {
     "data": {
      "text/plain": [
       "17"
      ]
     },
     "execution_count": 91,
     "metadata": {},
     "output_type": "execute_result"
    },
    {
     "data": {
      "text/plain": [
       "1"
      ]
     },
     "execution_count": 91,
     "metadata": {},
     "output_type": "execute_result"
    },
    {
     "data": {
      "text/plain": [
       "28"
      ]
     },
     "execution_count": 91,
     "metadata": {},
     "output_type": "execute_result"
    },
    {
     "data": {
      "text/plain": [
       "1"
      ]
     },
     "execution_count": 91,
     "metadata": {},
     "output_type": "execute_result"
    },
    {
     "data": {
      "text/plain": [
       "21"
      ]
     },
     "execution_count": 91,
     "metadata": {},
     "output_type": "execute_result"
    },
    {
     "data": {
      "text/plain": [
       "1"
      ]
     },
     "execution_count": 91,
     "metadata": {},
     "output_type": "execute_result"
    },
    {
     "data": {
      "text/plain": [
       "14"
      ]
     },
     "execution_count": 91,
     "metadata": {},
     "output_type": "execute_result"
    },
    {
     "data": {
      "text/plain": [
       "1"
      ]
     },
     "execution_count": 91,
     "metadata": {},
     "output_type": "execute_result"
    },
    {
     "data": {
      "text/plain": [
       "16"
      ]
     },
     "execution_count": 91,
     "metadata": {},
     "output_type": "execute_result"
    },
    {
     "data": {
      "text/plain": [
       "1"
      ]
     },
     "execution_count": 91,
     "metadata": {},
     "output_type": "execute_result"
    },
    {
     "data": {
      "text/plain": [
       "25"
      ]
     },
     "execution_count": 91,
     "metadata": {},
     "output_type": "execute_result"
    },
    {
     "data": {
      "text/plain": [
       "1"
      ]
     },
     "execution_count": 91,
     "metadata": {},
     "output_type": "execute_result"
    },
    {
     "data": {
      "text/plain": [
       "23"
      ]
     },
     "execution_count": 91,
     "metadata": {},
     "output_type": "execute_result"
    },
    {
     "data": {
      "text/plain": [
       "1"
      ]
     },
     "execution_count": 91,
     "metadata": {},
     "output_type": "execute_result"
    },
    {
     "data": {
      "text/plain": [
       "18"
      ]
     },
     "execution_count": 91,
     "metadata": {},
     "output_type": "execute_result"
    },
    {
     "data": {
      "text/plain": [
       "1"
      ]
     },
     "execution_count": 91,
     "metadata": {},
     "output_type": "execute_result"
    },
    {
     "data": {
      "text/plain": [
       "33"
      ]
     },
     "execution_count": 91,
     "metadata": {},
     "output_type": "execute_result"
    },
    {
     "data": {
      "text/plain": [
       "1"
      ]
     },
     "execution_count": 91,
     "metadata": {},
     "output_type": "execute_result"
    },
    {
     "data": {
      "text/plain": [
       "20"
      ]
     },
     "execution_count": 91,
     "metadata": {},
     "output_type": "execute_result"
    },
    {
     "data": {
      "text/plain": [
       "1"
      ]
     },
     "execution_count": 91,
     "metadata": {},
     "output_type": "execute_result"
    },
    {
     "data": {
      "text/plain": [
       "18"
      ]
     },
     "execution_count": 91,
     "metadata": {},
     "output_type": "execute_result"
    },
    {
     "data": {
      "text/plain": [
       "1"
      ]
     },
     "execution_count": 91,
     "metadata": {},
     "output_type": "execute_result"
    },
    {
     "data": {
      "text/plain": [
       "17"
      ]
     },
     "execution_count": 91,
     "metadata": {},
     "output_type": "execute_result"
    },
    {
     "data": {
      "text/plain": [
       "1"
      ]
     },
     "execution_count": 91,
     "metadata": {},
     "output_type": "execute_result"
    },
    {
     "data": {
      "text/plain": [
       "18"
      ]
     },
     "execution_count": 91,
     "metadata": {},
     "output_type": "execute_result"
    },
    {
     "data": {
      "text/plain": [
       "1"
      ]
     },
     "execution_count": 91,
     "metadata": {},
     "output_type": "execute_result"
    },
    {
     "data": {
      "text/plain": [
       "16"
      ]
     },
     "execution_count": 91,
     "metadata": {},
     "output_type": "execute_result"
    },
    {
     "data": {
      "text/plain": [
       "1"
      ]
     },
     "execution_count": 91,
     "metadata": {},
     "output_type": "execute_result"
    },
    {
     "data": {
      "text/plain": [
       "19"
      ]
     },
     "execution_count": 91,
     "metadata": {},
     "output_type": "execute_result"
    },
    {
     "data": {
      "text/plain": [
       "1"
      ]
     },
     "execution_count": 91,
     "metadata": {},
     "output_type": "execute_result"
    },
    {
     "data": {
      "text/plain": [
       "16"
      ]
     },
     "execution_count": 91,
     "metadata": {},
     "output_type": "execute_result"
    },
    {
     "data": {
      "text/plain": [
       "1"
      ]
     },
     "execution_count": 91,
     "metadata": {},
     "output_type": "execute_result"
    },
    {
     "data": {
      "text/plain": [
       "16"
      ]
     },
     "execution_count": 91,
     "metadata": {},
     "output_type": "execute_result"
    },
    {
     "data": {
      "text/plain": [
       "1"
      ]
     },
     "execution_count": 91,
     "metadata": {},
     "output_type": "execute_result"
    },
    {
     "data": {
      "text/plain": [
       "27"
      ]
     },
     "execution_count": 91,
     "metadata": {},
     "output_type": "execute_result"
    },
    {
     "data": {
      "text/plain": [
       "1"
      ]
     },
     "execution_count": 91,
     "metadata": {},
     "output_type": "execute_result"
    },
    {
     "data": {
      "text/plain": [
       "20"
      ]
     },
     "execution_count": 91,
     "metadata": {},
     "output_type": "execute_result"
    },
    {
     "data": {
      "text/plain": [
       "1"
      ]
     },
     "execution_count": 91,
     "metadata": {},
     "output_type": "execute_result"
    },
    {
     "data": {
      "text/plain": [
       "13"
      ]
     },
     "execution_count": 91,
     "metadata": {},
     "output_type": "execute_result"
    },
    {
     "data": {
      "text/plain": [
       "1"
      ]
     },
     "execution_count": 91,
     "metadata": {},
     "output_type": "execute_result"
    },
    {
     "data": {
      "text/plain": [
       "15"
      ]
     },
     "execution_count": 91,
     "metadata": {},
     "output_type": "execute_result"
    },
    {
     "data": {
      "text/plain": [
       "1"
      ]
     },
     "execution_count": 91,
     "metadata": {},
     "output_type": "execute_result"
    },
    {
     "data": {
      "text/plain": [
       "24"
      ]
     },
     "execution_count": 91,
     "metadata": {},
     "output_type": "execute_result"
    },
    {
     "data": {
      "text/plain": [
       "1"
      ]
     },
     "execution_count": 91,
     "metadata": {},
     "output_type": "execute_result"
    },
    {
     "data": {
      "text/plain": [
       "22"
      ]
     },
     "execution_count": 91,
     "metadata": {},
     "output_type": "execute_result"
    },
    {
     "data": {
      "text/plain": [
       "1"
      ]
     },
     "execution_count": 91,
     "metadata": {},
     "output_type": "execute_result"
    },
    {
     "data": {
      "text/plain": [
       "17"
      ]
     },
     "execution_count": 91,
     "metadata": {},
     "output_type": "execute_result"
    },
    {
     "data": {
      "text/plain": [
       "1"
      ]
     },
     "execution_count": 91,
     "metadata": {},
     "output_type": "execute_result"
    },
    {
     "data": {
      "text/plain": [
       "32"
      ]
     },
     "execution_count": 91,
     "metadata": {},
     "output_type": "execute_result"
    },
    {
     "data": {
      "text/plain": [
       "1"
      ]
     },
     "execution_count": 91,
     "metadata": {},
     "output_type": "execute_result"
    },
    {
     "data": {
      "text/plain": [
       "18"
      ]
     },
     "execution_count": 91,
     "metadata": {},
     "output_type": "execute_result"
    },
    {
     "data": {
      "text/plain": [
       "1"
      ]
     },
     "execution_count": 91,
     "metadata": {},
     "output_type": "execute_result"
    },
    {
     "data": {
      "text/plain": [
       "18"
      ]
     },
     "execution_count": 91,
     "metadata": {},
     "output_type": "execute_result"
    },
    {
     "data": {
      "text/plain": [
       "1"
      ]
     },
     "execution_count": 91,
     "metadata": {},
     "output_type": "execute_result"
    },
    {
     "data": {
      "text/plain": [
       "19"
      ]
     },
     "execution_count": 91,
     "metadata": {},
     "output_type": "execute_result"
    },
    {
     "data": {
      "text/plain": [
       "1"
      ]
     },
     "execution_count": 91,
     "metadata": {},
     "output_type": "execute_result"
    },
    {
     "data": {
      "text/plain": [
       "23"
      ]
     },
     "execution_count": 91,
     "metadata": {},
     "output_type": "execute_result"
    },
    {
     "data": {
      "text/plain": [
       "1"
      ]
     },
     "execution_count": 91,
     "metadata": {},
     "output_type": "execute_result"
    },
    {
     "data": {
      "text/plain": [
       "18"
      ]
     },
     "execution_count": 91,
     "metadata": {},
     "output_type": "execute_result"
    },
    {
     "data": {
      "text/plain": [
       "1"
      ]
     },
     "execution_count": 91,
     "metadata": {},
     "output_type": "execute_result"
    },
    {
     "data": {
      "text/plain": [
       "23"
      ]
     },
     "execution_count": 91,
     "metadata": {},
     "output_type": "execute_result"
    },
    {
     "data": {
      "text/plain": [
       "1"
      ]
     },
     "execution_count": 91,
     "metadata": {},
     "output_type": "execute_result"
    },
    {
     "data": {
      "text/plain": [
       "21"
      ]
     },
     "execution_count": 91,
     "metadata": {},
     "output_type": "execute_result"
    },
    {
     "data": {
      "text/plain": [
       "1"
      ]
     },
     "execution_count": 91,
     "metadata": {},
     "output_type": "execute_result"
    },
    {
     "data": {
      "text/plain": [
       "24"
      ]
     },
     "execution_count": 91,
     "metadata": {},
     "output_type": "execute_result"
    },
    {
     "data": {
      "text/plain": [
       "1"
      ]
     },
     "execution_count": 91,
     "metadata": {},
     "output_type": "execute_result"
    },
    {
     "data": {
      "text/plain": [
       "21"
      ]
     },
     "execution_count": 91,
     "metadata": {},
     "output_type": "execute_result"
    },
    {
     "data": {
      "text/plain": [
       "1"
      ]
     },
     "execution_count": 91,
     "metadata": {},
     "output_type": "execute_result"
    },
    {
     "data": {
      "text/plain": [
       "20"
      ]
     },
     "execution_count": 91,
     "metadata": {},
     "output_type": "execute_result"
    },
    {
     "data": {
      "text/plain": [
       "1"
      ]
     },
     "execution_count": 91,
     "metadata": {},
     "output_type": "execute_result"
    },
    {
     "data": {
      "text/plain": [
       "19"
      ]
     },
     "execution_count": 91,
     "metadata": {},
     "output_type": "execute_result"
    },
    {
     "data": {
      "text/plain": [
       "1"
      ]
     },
     "execution_count": 91,
     "metadata": {},
     "output_type": "execute_result"
    },
    {
     "data": {
      "text/plain": [
       "20"
      ]
     },
     "execution_count": 91,
     "metadata": {},
     "output_type": "execute_result"
    },
    {
     "data": {
      "text/plain": [
       "1"
      ]
     },
     "execution_count": 91,
     "metadata": {},
     "output_type": "execute_result"
    },
    {
     "data": {
      "text/plain": [
       "18"
      ]
     },
     "execution_count": 91,
     "metadata": {},
     "output_type": "execute_result"
    },
    {
     "data": {
      "text/plain": [
       "1"
      ]
     },
     "execution_count": 91,
     "metadata": {},
     "output_type": "execute_result"
    },
    {
     "data": {
      "text/plain": [
       "21"
      ]
     },
     "execution_count": 91,
     "metadata": {},
     "output_type": "execute_result"
    },
    {
     "data": {
      "text/plain": [
       "1"
      ]
     },
     "execution_count": 91,
     "metadata": {},
     "output_type": "execute_result"
    },
    {
     "data": {
      "text/plain": [
       "18"
      ]
     },
     "execution_count": 91,
     "metadata": {},
     "output_type": "execute_result"
    },
    {
     "data": {
      "text/plain": [
       "1"
      ]
     },
     "execution_count": 91,
     "metadata": {},
     "output_type": "execute_result"
    },
    {
     "data": {
      "text/plain": [
       "18"
      ]
     },
     "execution_count": 91,
     "metadata": {},
     "output_type": "execute_result"
    },
    {
     "data": {
      "text/plain": [
       "1"
      ]
     },
     "execution_count": 91,
     "metadata": {},
     "output_type": "execute_result"
    },
    {
     "data": {
      "text/plain": [
       "29"
      ]
     },
     "execution_count": 91,
     "metadata": {},
     "output_type": "execute_result"
    },
    {
     "data": {
      "text/plain": [
       "1"
      ]
     },
     "execution_count": 91,
     "metadata": {},
     "output_type": "execute_result"
    },
    {
     "data": {
      "text/plain": [
       "22"
      ]
     },
     "execution_count": 91,
     "metadata": {},
     "output_type": "execute_result"
    },
    {
     "data": {
      "text/plain": [
       "1"
      ]
     },
     "execution_count": 91,
     "metadata": {},
     "output_type": "execute_result"
    },
    {
     "data": {
      "text/plain": [
       "15"
      ]
     },
     "execution_count": 91,
     "metadata": {},
     "output_type": "execute_result"
    },
    {
     "data": {
      "text/plain": [
       "1"
      ]
     },
     "execution_count": 91,
     "metadata": {},
     "output_type": "execute_result"
    },
    {
     "data": {
      "text/plain": [
       "17"
      ]
     },
     "execution_count": 91,
     "metadata": {},
     "output_type": "execute_result"
    },
    {
     "data": {
      "text/plain": [
       "1"
      ]
     },
     "execution_count": 91,
     "metadata": {},
     "output_type": "execute_result"
    },
    {
     "data": {
      "text/plain": [
       "19"
      ]
     },
     "execution_count": 91,
     "metadata": {},
     "output_type": "execute_result"
    },
    {
     "data": {
      "text/plain": [
       "1"
      ]
     },
     "execution_count": 91,
     "metadata": {},
     "output_type": "execute_result"
    },
    {
     "data": {
      "text/plain": [
       "16"
      ]
     },
     "execution_count": 91,
     "metadata": {},
     "output_type": "execute_result"
    },
    {
     "data": {
      "text/plain": [
       "1"
      ]
     },
     "execution_count": 91,
     "metadata": {},
     "output_type": "execute_result"
    },
    {
     "data": {
      "text/plain": [
       "17"
      ]
     },
     "execution_count": 91,
     "metadata": {},
     "output_type": "execute_result"
    },
    {
     "data": {
      "text/plain": [
       "1"
      ]
     },
     "execution_count": 91,
     "metadata": {},
     "output_type": "execute_result"
    },
    {
     "data": {
      "text/plain": [
       "15"
      ]
     },
     "execution_count": 91,
     "metadata": {},
     "output_type": "execute_result"
    },
    {
     "data": {
      "text/plain": [
       "1"
      ]
     },
     "execution_count": 91,
     "metadata": {},
     "output_type": "execute_result"
    },
    {
     "data": {
      "text/plain": [
       "18"
      ]
     },
     "execution_count": 91,
     "metadata": {},
     "output_type": "execute_result"
    },
    {
     "data": {
      "text/plain": [
       "1"
      ]
     },
     "execution_count": 91,
     "metadata": {},
     "output_type": "execute_result"
    },
    {
     "data": {
      "text/plain": [
       "15"
      ]
     },
     "execution_count": 91,
     "metadata": {},
     "output_type": "execute_result"
    },
    {
     "data": {
      "text/plain": [
       "1"
      ]
     },
     "execution_count": 91,
     "metadata": {},
     "output_type": "execute_result"
    },
    {
     "data": {
      "text/plain": [
       "15"
      ]
     },
     "execution_count": 91,
     "metadata": {},
     "output_type": "execute_result"
    },
    {
     "data": {
      "text/plain": [
       "1"
      ]
     },
     "execution_count": 91,
     "metadata": {},
     "output_type": "execute_result"
    },
    {
     "data": {
      "text/plain": [
       "12"
      ]
     },
     "execution_count": 91,
     "metadata": {},
     "output_type": "execute_result"
    },
    {
     "data": {
      "text/plain": [
       "1"
      ]
     },
     "execution_count": 91,
     "metadata": {},
     "output_type": "execute_result"
    },
    {
     "data": {
      "text/plain": [
       "16"
      ]
     },
     "execution_count": 91,
     "metadata": {},
     "output_type": "execute_result"
    },
    {
     "data": {
      "text/plain": [
       "1"
      ]
     },
     "execution_count": 91,
     "metadata": {},
     "output_type": "execute_result"
    },
    {
     "data": {
      "text/plain": [
       "23"
      ]
     },
     "execution_count": 91,
     "metadata": {},
     "output_type": "execute_result"
    },
    {
     "data": {
      "text/plain": [
       "1"
      ]
     },
     "execution_count": 91,
     "metadata": {},
     "output_type": "execute_result"
    },
    {
     "data": {
      "text/plain": [
       "21"
      ]
     },
     "execution_count": 91,
     "metadata": {},
     "output_type": "execute_result"
    },
    {
     "data": {
      "text/plain": [
       "1"
      ]
     },
     "execution_count": 91,
     "metadata": {},
     "output_type": "execute_result"
    },
    {
     "data": {
      "text/plain": [
       "21"
      ]
     },
     "execution_count": 91,
     "metadata": {},
     "output_type": "execute_result"
    },
    {
     "data": {
      "text/plain": [
       "1"
      ]
     },
     "execution_count": 91,
     "metadata": {},
     "output_type": "execute_result"
    },
    {
     "data": {
      "text/plain": [
       "22"
      ]
     },
     "execution_count": 91,
     "metadata": {},
     "output_type": "execute_result"
    },
    {
     "data": {
      "text/plain": [
       "1"
      ]
     },
     "execution_count": 91,
     "metadata": {},
     "output_type": "execute_result"
    },
    {
     "data": {
      "text/plain": [
       "21"
      ]
     },
     "execution_count": 91,
     "metadata": {},
     "output_type": "execute_result"
    },
    {
     "data": {
      "text/plain": [
       "1"
      ]
     },
     "execution_count": 91,
     "metadata": {},
     "output_type": "execute_result"
    },
    {
     "data": {
      "text/plain": [
       "22"
      ]
     },
     "execution_count": 91,
     "metadata": {},
     "output_type": "execute_result"
    },
    {
     "data": {
      "text/plain": [
       "1"
      ]
     },
     "execution_count": 91,
     "metadata": {},
     "output_type": "execute_result"
    },
    {
     "data": {
      "text/plain": [
       "20"
      ]
     },
     "execution_count": 91,
     "metadata": {},
     "output_type": "execute_result"
    },
    {
     "data": {
      "text/plain": [
       "1"
      ]
     },
     "execution_count": 91,
     "metadata": {},
     "output_type": "execute_result"
    },
    {
     "data": {
      "text/plain": [
       "23"
      ]
     },
     "execution_count": 91,
     "metadata": {},
     "output_type": "execute_result"
    },
    {
     "data": {
      "text/plain": [
       "1"
      ]
     },
     "execution_count": 91,
     "metadata": {},
     "output_type": "execute_result"
    },
    {
     "data": {
      "text/plain": [
       "20"
      ]
     },
     "execution_count": 91,
     "metadata": {},
     "output_type": "execute_result"
    },
    {
     "data": {
      "text/plain": [
       "1"
      ]
     },
     "execution_count": 91,
     "metadata": {},
     "output_type": "execute_result"
    },
    {
     "data": {
      "text/plain": [
       "20"
      ]
     },
     "execution_count": 91,
     "metadata": {},
     "output_type": "execute_result"
    },
    {
     "data": {
      "text/plain": [
       "1"
      ]
     },
     "execution_count": 91,
     "metadata": {},
     "output_type": "execute_result"
    },
    {
     "data": {
      "text/plain": [
       "24"
      ]
     },
     "execution_count": 91,
     "metadata": {},
     "output_type": "execute_result"
    },
    {
     "data": {
      "text/plain": [
       "1"
      ]
     },
     "execution_count": 91,
     "metadata": {},
     "output_type": "execute_result"
    },
    {
     "data": {
      "text/plain": [
       "17"
      ]
     },
     "execution_count": 91,
     "metadata": {},
     "output_type": "execute_result"
    },
    {
     "data": {
      "text/plain": [
       "1"
      ]
     },
     "execution_count": 91,
     "metadata": {},
     "output_type": "execute_result"
    },
    {
     "data": {
      "text/plain": [
       "19"
      ]
     },
     "execution_count": 91,
     "metadata": {},
     "output_type": "execute_result"
    },
    {
     "data": {
      "text/plain": [
       "1"
      ]
     },
     "execution_count": 91,
     "metadata": {},
     "output_type": "execute_result"
    },
    {
     "data": {
      "text/plain": [
       "21"
      ]
     },
     "execution_count": 91,
     "metadata": {},
     "output_type": "execute_result"
    },
    {
     "data": {
      "text/plain": [
       "1"
      ]
     },
     "execution_count": 91,
     "metadata": {},
     "output_type": "execute_result"
    },
    {
     "data": {
      "text/plain": [
       "22"
      ]
     },
     "execution_count": 91,
     "metadata": {},
     "output_type": "execute_result"
    },
    {
     "data": {
      "text/plain": [
       "1"
      ]
     },
     "execution_count": 91,
     "metadata": {},
     "output_type": "execute_result"
    },
    {
     "data": {
      "text/plain": [
       "23"
      ]
     },
     "execution_count": 91,
     "metadata": {},
     "output_type": "execute_result"
    },
    {
     "data": {
      "text/plain": [
       "1"
      ]
     },
     "execution_count": 91,
     "metadata": {},
     "output_type": "execute_result"
    },
    {
     "data": {
      "text/plain": [
       "21"
      ]
     },
     "execution_count": 91,
     "metadata": {},
     "output_type": "execute_result"
    },
    {
     "data": {
      "text/plain": [
       "1"
      ]
     },
     "execution_count": 91,
     "metadata": {},
     "output_type": "execute_result"
    },
    {
     "data": {
      "text/plain": [
       "24"
      ]
     },
     "execution_count": 91,
     "metadata": {},
     "output_type": "execute_result"
    },
    {
     "data": {
      "text/plain": [
       "1"
      ]
     },
     "execution_count": 91,
     "metadata": {},
     "output_type": "execute_result"
    },
    {
     "data": {
      "text/plain": [
       "21"
      ]
     },
     "execution_count": 91,
     "metadata": {},
     "output_type": "execute_result"
    },
    {
     "data": {
      "text/plain": [
       "1"
      ]
     },
     "execution_count": 91,
     "metadata": {},
     "output_type": "execute_result"
    },
    {
     "data": {
      "text/plain": [
       "21"
      ]
     },
     "execution_count": 91,
     "metadata": {},
     "output_type": "execute_result"
    },
    {
     "data": {
      "text/plain": [
       "1"
      ]
     },
     "execution_count": 91,
     "metadata": {},
     "output_type": "execute_result"
    },
    {
     "data": {
      "text/plain": [
       "29"
      ]
     },
     "execution_count": 91,
     "metadata": {},
     "output_type": "execute_result"
    },
    {
     "data": {
      "text/plain": [
       "1"
      ]
     },
     "execution_count": 91,
     "metadata": {},
     "output_type": "execute_result"
    },
    {
     "data": {
      "text/plain": [
       "21"
      ]
     },
     "execution_count": 91,
     "metadata": {},
     "output_type": "execute_result"
    },
    {
     "data": {
      "text/plain": [
       "1"
      ]
     },
     "execution_count": 91,
     "metadata": {},
     "output_type": "execute_result"
    },
    {
     "data": {
      "text/plain": [
       "22"
      ]
     },
     "execution_count": 91,
     "metadata": {},
     "output_type": "execute_result"
    },
    {
     "data": {
      "text/plain": [
       "1"
      ]
     },
     "execution_count": 91,
     "metadata": {},
     "output_type": "execute_result"
    },
    {
     "data": {
      "text/plain": [
       "20"
      ]
     },
     "execution_count": 91,
     "metadata": {},
     "output_type": "execute_result"
    },
    {
     "data": {
      "text/plain": [
       "1"
      ]
     },
     "execution_count": 91,
     "metadata": {},
     "output_type": "execute_result"
    },
    {
     "data": {
      "text/plain": [
       "23"
      ]
     },
     "execution_count": 91,
     "metadata": {},
     "output_type": "execute_result"
    },
    {
     "data": {
      "text/plain": [
       "1"
      ]
     },
     "execution_count": 91,
     "metadata": {},
     "output_type": "execute_result"
    },
    {
     "data": {
      "text/plain": [
       "20"
      ]
     },
     "execution_count": 91,
     "metadata": {},
     "output_type": "execute_result"
    },
    {
     "data": {
      "text/plain": [
       "1"
      ]
     },
     "execution_count": 91,
     "metadata": {},
     "output_type": "execute_result"
    },
    {
     "data": {
      "text/plain": [
       "20"
      ]
     },
     "execution_count": 91,
     "metadata": {},
     "output_type": "execute_result"
    },
    {
     "data": {
      "text/plain": [
       "1"
      ]
     },
     "execution_count": 91,
     "metadata": {},
     "output_type": "execute_result"
    },
    {
     "data": {
      "text/plain": [
       "31"
      ]
     },
     "execution_count": 91,
     "metadata": {},
     "output_type": "execute_result"
    },
    {
     "data": {
      "text/plain": [
       "1"
      ]
     },
     "execution_count": 91,
     "metadata": {},
     "output_type": "execute_result"
    },
    {
     "data": {
      "text/plain": [
       "24"
      ]
     },
     "execution_count": 91,
     "metadata": {},
     "output_type": "execute_result"
    },
    {
     "data": {
      "text/plain": [
       "1"
      ]
     },
     "execution_count": 91,
     "metadata": {},
     "output_type": "execute_result"
    },
    {
     "data": {
      "text/plain": [
       "17"
      ]
     },
     "execution_count": 91,
     "metadata": {},
     "output_type": "execute_result"
    },
    {
     "data": {
      "text/plain": [
       "1"
      ]
     },
     "execution_count": 91,
     "metadata": {},
     "output_type": "execute_result"
    },
    {
     "data": {
      "text/plain": [
       "21"
      ]
     },
     "execution_count": 91,
     "metadata": {},
     "output_type": "execute_result"
    },
    {
     "data": {
      "text/plain": [
       "1"
      ]
     },
     "execution_count": 91,
     "metadata": {},
     "output_type": "execute_result"
    },
    {
     "data": {
      "text/plain": [
       "19"
      ]
     },
     "execution_count": 91,
     "metadata": {},
     "output_type": "execute_result"
    },
    {
     "data": {
      "text/plain": [
       "1"
      ]
     },
     "execution_count": 91,
     "metadata": {},
     "output_type": "execute_result"
    },
    {
     "data": {
      "text/plain": [
       "23"
      ]
     },
     "execution_count": 91,
     "metadata": {},
     "output_type": "execute_result"
    },
    {
     "data": {
      "text/plain": [
       "1"
      ]
     },
     "execution_count": 91,
     "metadata": {},
     "output_type": "execute_result"
    },
    {
     "data": {
      "text/plain": [
       "17"
      ]
     },
     "execution_count": 91,
     "metadata": {},
     "output_type": "execute_result"
    },
    {
     "data": {
      "text/plain": [
       "1"
      ]
     },
     "execution_count": 91,
     "metadata": {},
     "output_type": "execute_result"
    },
    {
     "data": {
      "text/plain": [
       "29"
      ]
     },
     "execution_count": 91,
     "metadata": {},
     "output_type": "execute_result"
    },
    {
     "data": {
      "text/plain": [
       "1"
      ]
     },
     "execution_count": 91,
     "metadata": {},
     "output_type": "execute_result"
    },
    {
     "data": {
      "text/plain": [
       "22"
      ]
     },
     "execution_count": 91,
     "metadata": {},
     "output_type": "execute_result"
    },
    {
     "data": {
      "text/plain": [
       "1"
      ]
     },
     "execution_count": 91,
     "metadata": {},
     "output_type": "execute_result"
    },
    {
     "data": {
      "text/plain": [
       "22"
      ]
     },
     "execution_count": 91,
     "metadata": {},
     "output_type": "execute_result"
    },
    {
     "data": {
      "text/plain": [
       "1"
      ]
     },
     "execution_count": 91,
     "metadata": {},
     "output_type": "execute_result"
    },
    {
     "data": {
      "text/plain": [
       "21"
      ]
     },
     "execution_count": 91,
     "metadata": {},
     "output_type": "execute_result"
    },
    {
     "data": {
      "text/plain": [
       "1"
      ]
     },
     "execution_count": 91,
     "metadata": {},
     "output_type": "execute_result"
    },
    {
     "data": {
      "text/plain": [
       "21"
      ]
     },
     "execution_count": 91,
     "metadata": {},
     "output_type": "execute_result"
    },
    {
     "data": {
      "text/plain": [
       "1"
      ]
     },
     "execution_count": 91,
     "metadata": {},
     "output_type": "execute_result"
    },
    {
     "data": {
      "text/plain": [
       "21"
      ]
     },
     "execution_count": 91,
     "metadata": {},
     "output_type": "execute_result"
    },
    {
     "data": {
      "text/plain": [
       "1"
      ]
     },
     "execution_count": 91,
     "metadata": {},
     "output_type": "execute_result"
    },
    {
     "data": {
      "text/plain": [
       "22"
      ]
     },
     "execution_count": 91,
     "metadata": {},
     "output_type": "execute_result"
    },
    {
     "data": {
      "text/plain": [
       "1"
      ]
     },
     "execution_count": 91,
     "metadata": {},
     "output_type": "execute_result"
    },
    {
     "data": {
      "text/plain": [
       "20"
      ]
     },
     "execution_count": 91,
     "metadata": {},
     "output_type": "execute_result"
    },
    {
     "data": {
      "text/plain": [
       "1"
      ]
     },
     "execution_count": 91,
     "metadata": {},
     "output_type": "execute_result"
    },
    {
     "data": {
      "text/plain": [
       "23"
      ]
     },
     "execution_count": 91,
     "metadata": {},
     "output_type": "execute_result"
    },
    {
     "data": {
      "text/plain": [
       "1"
      ]
     },
     "execution_count": 91,
     "metadata": {},
     "output_type": "execute_result"
    },
    {
     "data": {
      "text/plain": [
       "20"
      ]
     },
     "execution_count": 91,
     "metadata": {},
     "output_type": "execute_result"
    },
    {
     "data": {
      "text/plain": [
       "1"
      ]
     },
     "execution_count": 91,
     "metadata": {},
     "output_type": "execute_result"
    },
    {
     "data": {
      "text/plain": [
       "23"
      ]
     },
     "execution_count": 91,
     "metadata": {},
     "output_type": "execute_result"
    },
    {
     "data": {
      "text/plain": [
       "1"
      ]
     },
     "execution_count": 91,
     "metadata": {},
     "output_type": "execute_result"
    },
    {
     "data": {
      "text/plain": [
       "21"
      ]
     },
     "execution_count": 91,
     "metadata": {},
     "output_type": "execute_result"
    },
    {
     "data": {
      "text/plain": [
       "1"
      ]
     },
     "execution_count": 91,
     "metadata": {},
     "output_type": "execute_result"
    },
    {
     "data": {
      "text/plain": [
       "21"
      ]
     },
     "execution_count": 91,
     "metadata": {},
     "output_type": "execute_result"
    },
    {
     "data": {
      "text/plain": [
       "1"
      ]
     },
     "execution_count": 91,
     "metadata": {},
     "output_type": "execute_result"
    },
    {
     "data": {
      "text/plain": [
       "18"
      ]
     },
     "execution_count": 91,
     "metadata": {},
     "output_type": "execute_result"
    },
    {
     "data": {
      "text/plain": [
       "1"
      ]
     },
     "execution_count": 91,
     "metadata": {},
     "output_type": "execute_result"
    },
    {
     "data": {
      "text/plain": [
       "17"
      ]
     },
     "execution_count": 91,
     "metadata": {},
     "output_type": "execute_result"
    },
    {
     "data": {
      "text/plain": [
       "1"
      ]
     },
     "execution_count": 91,
     "metadata": {},
     "output_type": "execute_result"
    },
    {
     "data": {
      "text/plain": [
       "18"
      ]
     },
     "execution_count": 91,
     "metadata": {},
     "output_type": "execute_result"
    },
    {
     "data": {
      "text/plain": [
       "1"
      ]
     },
     "execution_count": 91,
     "metadata": {},
     "output_type": "execute_result"
    },
    {
     "data": {
      "text/plain": [
       "16"
      ]
     },
     "execution_count": 91,
     "metadata": {},
     "output_type": "execute_result"
    },
    {
     "data": {
      "text/plain": [
       "1"
      ]
     },
     "execution_count": 91,
     "metadata": {},
     "output_type": "execute_result"
    },
    {
     "data": {
      "text/plain": [
       "19"
      ]
     },
     "execution_count": 91,
     "metadata": {},
     "output_type": "execute_result"
    },
    {
     "data": {
      "text/plain": [
       "1"
      ]
     },
     "execution_count": 91,
     "metadata": {},
     "output_type": "execute_result"
    },
    {
     "data": {
      "text/plain": [
       "16"
      ]
     },
     "execution_count": 91,
     "metadata": {},
     "output_type": "execute_result"
    },
    {
     "data": {
      "text/plain": [
       "1"
      ]
     },
     "execution_count": 91,
     "metadata": {},
     "output_type": "execute_result"
    },
    {
     "data": {
      "text/plain": [
       "13"
      ]
     },
     "execution_count": 91,
     "metadata": {},
     "output_type": "execute_result"
    },
    {
     "data": {
      "text/plain": [
       "1"
      ]
     },
     "execution_count": 91,
     "metadata": {},
     "output_type": "execute_result"
    },
    {
     "data": {
      "text/plain": [
       "18"
      ]
     },
     "execution_count": 91,
     "metadata": {},
     "output_type": "execute_result"
    },
    {
     "data": {
      "text/plain": [
       "1"
      ]
     },
     "execution_count": 91,
     "metadata": {},
     "output_type": "execute_result"
    },
    {
     "data": {
      "text/plain": [
       "19"
      ]
     },
     "execution_count": 91,
     "metadata": {},
     "output_type": "execute_result"
    },
    {
     "data": {
      "text/plain": [
       "1"
      ]
     },
     "execution_count": 91,
     "metadata": {},
     "output_type": "execute_result"
    },
    {
     "data": {
      "text/plain": [
       "17"
      ]
     },
     "execution_count": 91,
     "metadata": {},
     "output_type": "execute_result"
    },
    {
     "data": {
      "text/plain": [
       "1"
      ]
     },
     "execution_count": 91,
     "metadata": {},
     "output_type": "execute_result"
    },
    {
     "data": {
      "text/plain": [
       "20"
      ]
     },
     "execution_count": 91,
     "metadata": {},
     "output_type": "execute_result"
    },
    {
     "data": {
      "text/plain": [
       "1"
      ]
     },
     "execution_count": 91,
     "metadata": {},
     "output_type": "execute_result"
    },
    {
     "data": {
      "text/plain": [
       "17"
      ]
     },
     "execution_count": 91,
     "metadata": {},
     "output_type": "execute_result"
    },
    {
     "data": {
      "text/plain": [
       "1"
      ]
     },
     "execution_count": 91,
     "metadata": {},
     "output_type": "execute_result"
    },
    {
     "data": {
      "text/plain": [
       "17"
      ]
     },
     "execution_count": 91,
     "metadata": {},
     "output_type": "execute_result"
    },
    {
     "data": {
      "text/plain": [
       "1"
      ]
     },
     "execution_count": 91,
     "metadata": {},
     "output_type": "execute_result"
    },
    {
     "data": {
      "text/plain": [
       "25"
      ]
     },
     "execution_count": 91,
     "metadata": {},
     "output_type": "execute_result"
    },
    {
     "data": {
      "text/plain": [
       "1"
      ]
     },
     "execution_count": 91,
     "metadata": {},
     "output_type": "execute_result"
    },
    {
     "data": {
      "text/plain": [
       "20"
      ]
     },
     "execution_count": 91,
     "metadata": {},
     "output_type": "execute_result"
    },
    {
     "data": {
      "text/plain": [
       "1"
      ]
     },
     "execution_count": 91,
     "metadata": {},
     "output_type": "execute_result"
    },
    {
     "data": {
      "text/plain": [
       "22"
      ]
     },
     "execution_count": 91,
     "metadata": {},
     "output_type": "execute_result"
    },
    {
     "data": {
      "text/plain": [
       "1"
      ]
     },
     "execution_count": 91,
     "metadata": {},
     "output_type": "execute_result"
    },
    {
     "data": {
      "text/plain": [
       "23"
      ]
     },
     "execution_count": 91,
     "metadata": {},
     "output_type": "execute_result"
    },
    {
     "data": {
      "text/plain": [
       "1"
      ]
     },
     "execution_count": 91,
     "metadata": {},
     "output_type": "execute_result"
    },
    {
     "data": {
      "text/plain": [
       "21"
      ]
     },
     "execution_count": 91,
     "metadata": {},
     "output_type": "execute_result"
    },
    {
     "data": {
      "text/plain": [
       "1"
      ]
     },
     "execution_count": 91,
     "metadata": {},
     "output_type": "execute_result"
    },
    {
     "data": {
      "text/plain": [
       "24"
      ]
     },
     "execution_count": 91,
     "metadata": {},
     "output_type": "execute_result"
    },
    {
     "data": {
      "text/plain": [
       "1"
      ]
     },
     "execution_count": 91,
     "metadata": {},
     "output_type": "execute_result"
    },
    {
     "data": {
      "text/plain": [
       "21"
      ]
     },
     "execution_count": 91,
     "metadata": {},
     "output_type": "execute_result"
    },
    {
     "data": {
      "text/plain": [
       "1"
      ]
     },
     "execution_count": 91,
     "metadata": {},
     "output_type": "execute_result"
    },
    {
     "data": {
      "text/plain": [
       "21"
      ]
     },
     "execution_count": 91,
     "metadata": {},
     "output_type": "execute_result"
    },
    {
     "data": {
      "text/plain": [
       "1"
      ]
     },
     "execution_count": 91,
     "metadata": {},
     "output_type": "execute_result"
    },
    {
     "data": {
      "text/plain": [
       "32"
      ]
     },
     "execution_count": 91,
     "metadata": {},
     "output_type": "execute_result"
    },
    {
     "data": {
      "text/plain": [
       "1"
      ]
     },
     "execution_count": 91,
     "metadata": {},
     "output_type": "execute_result"
    },
    {
     "data": {
      "text/plain": [
       "25"
      ]
     },
     "execution_count": 91,
     "metadata": {},
     "output_type": "execute_result"
    },
    {
     "data": {
      "text/plain": [
       "1"
      ]
     },
     "execution_count": 91,
     "metadata": {},
     "output_type": "execute_result"
    },
    {
     "data": {
      "text/plain": [
       "18"
      ]
     },
     "execution_count": 91,
     "metadata": {},
     "output_type": "execute_result"
    },
    {
     "data": {
      "text/plain": [
       "1"
      ]
     },
     "execution_count": 91,
     "metadata": {},
     "output_type": "execute_result"
    },
    {
     "data": {
      "text/plain": [
       "20"
      ]
     },
     "execution_count": 91,
     "metadata": {},
     "output_type": "execute_result"
    },
    {
     "data": {
      "text/plain": [
       "1"
      ]
     },
     "execution_count": 91,
     "metadata": {},
     "output_type": "execute_result"
    },
    {
     "data": {
      "text/plain": [
       "29"
      ]
     },
     "execution_count": 91,
     "metadata": {},
     "output_type": "execute_result"
    },
    {
     "data": {
      "text/plain": [
       "1"
      ]
     },
     "execution_count": 91,
     "metadata": {},
     "output_type": "execute_result"
    },
    {
     "data": {
      "text/plain": [
       "22"
      ]
     },
     "execution_count": 91,
     "metadata": {},
     "output_type": "execute_result"
    },
    {
     "data": {
      "text/plain": [
       "1"
      ]
     },
     "execution_count": 91,
     "metadata": {},
     "output_type": "execute_result"
    },
    {
     "data": {
      "text/plain": [
       "37"
      ]
     },
     "execution_count": 91,
     "metadata": {},
     "output_type": "execute_result"
    },
    {
     "data": {
      "text/plain": [
       "1"
      ]
     },
     "execution_count": 91,
     "metadata": {},
     "output_type": "execute_result"
    },
    {
     "data": {
      "text/plain": [
       "22"
      ]
     },
     "execution_count": 91,
     "metadata": {},
     "output_type": "execute_result"
    },
    {
     "data": {
      "text/plain": [
       "1"
      ]
     },
     "execution_count": 91,
     "metadata": {},
     "output_type": "execute_result"
    },
    {
     "data": {
      "text/plain": [
       "20"
      ]
     },
     "execution_count": 91,
     "metadata": {},
     "output_type": "execute_result"
    },
    {
     "data": {
      "text/plain": [
       "1"
      ]
     },
     "execution_count": 91,
     "metadata": {},
     "output_type": "execute_result"
    },
    {
     "data": {
      "text/plain": [
       "23"
      ]
     },
     "execution_count": 91,
     "metadata": {},
     "output_type": "execute_result"
    },
    {
     "data": {
      "text/plain": [
       "1"
      ]
     },
     "execution_count": 91,
     "metadata": {},
     "output_type": "execute_result"
    },
    {
     "data": {
      "text/plain": [
       "20"
      ]
     },
     "execution_count": 91,
     "metadata": {},
     "output_type": "execute_result"
    },
    {
     "data": {
      "text/plain": [
       "1"
      ]
     },
     "execution_count": 91,
     "metadata": {},
     "output_type": "execute_result"
    },
    {
     "data": {
      "text/plain": [
       "20"
      ]
     },
     "execution_count": 91,
     "metadata": {},
     "output_type": "execute_result"
    },
    {
     "data": {
      "text/plain": [
       "1"
      ]
     },
     "execution_count": 91,
     "metadata": {},
     "output_type": "execute_result"
    },
    {
     "data": {
      "text/plain": [
       "23"
      ]
     },
     "execution_count": 91,
     "metadata": {},
     "output_type": "execute_result"
    },
    {
     "data": {
      "text/plain": [
       "1"
      ]
     },
     "execution_count": 91,
     "metadata": {},
     "output_type": "execute_result"
    },
    {
     "data": {
      "text/plain": [
       "21"
      ]
     },
     "execution_count": 91,
     "metadata": {},
     "output_type": "execute_result"
    },
    {
     "data": {
      "text/plain": [
       "1"
      ]
     },
     "execution_count": 91,
     "metadata": {},
     "output_type": "execute_result"
    },
    {
     "data": {
      "text/plain": [
       "27"
      ]
     },
     "execution_count": 91,
     "metadata": {},
     "output_type": "execute_result"
    },
    {
     "data": {
      "text/plain": [
       "1"
      ]
     },
     "execution_count": 91,
     "metadata": {},
     "output_type": "execute_result"
    },
    {
     "data": {
      "text/plain": [
       "19"
      ]
     },
     "execution_count": 91,
     "metadata": {},
     "output_type": "execute_result"
    },
    {
     "data": {
      "text/plain": [
       "1"
      ]
     },
     "execution_count": 91,
     "metadata": {},
     "output_type": "execute_result"
    },
    {
     "data": {
      "text/plain": [
       "20"
      ]
     },
     "execution_count": 91,
     "metadata": {},
     "output_type": "execute_result"
    },
    {
     "data": {
      "text/plain": [
       "1"
      ]
     },
     "execution_count": 91,
     "metadata": {},
     "output_type": "execute_result"
    },
    {
     "data": {
      "text/plain": [
       "17"
      ]
     },
     "execution_count": 91,
     "metadata": {},
     "output_type": "execute_result"
    },
    {
     "data": {
      "text/plain": [
       "1"
      ]
     },
     "execution_count": 91,
     "metadata": {},
     "output_type": "execute_result"
    },
    {
     "data": {
      "text/plain": [
       "21"
      ]
     },
     "execution_count": 91,
     "metadata": {},
     "output_type": "execute_result"
    },
    {
     "data": {
      "text/plain": [
       "1"
      ]
     },
     "execution_count": 91,
     "metadata": {},
     "output_type": "execute_result"
    },
    {
     "data": {
      "text/plain": [
       "25"
      ]
     },
     "execution_count": 91,
     "metadata": {},
     "output_type": "execute_result"
    },
    {
     "data": {
      "text/plain": [
       "1"
      ]
     },
     "execution_count": 91,
     "metadata": {},
     "output_type": "execute_result"
    },
    {
     "data": {
      "text/plain": [
       "23"
      ]
     },
     "execution_count": 91,
     "metadata": {},
     "output_type": "execute_result"
    },
    {
     "data": {
      "text/plain": [
       "1"
      ]
     },
     "execution_count": 91,
     "metadata": {},
     "output_type": "execute_result"
    },
    {
     "data": {
      "text/plain": [
       "20"
      ]
     },
     "execution_count": 91,
     "metadata": {},
     "output_type": "execute_result"
    },
    {
     "data": {
      "text/plain": [
       "1"
      ]
     },
     "execution_count": 91,
     "metadata": {},
     "output_type": "execute_result"
    },
    {
     "data": {
      "text/plain": [
       "19"
      ]
     },
     "execution_count": 91,
     "metadata": {},
     "output_type": "execute_result"
    },
    {
     "data": {
      "text/plain": [
       "1"
      ]
     },
     "execution_count": 91,
     "metadata": {},
     "output_type": "execute_result"
    },
    {
     "data": {
      "text/plain": [
       "20"
      ]
     },
     "execution_count": 91,
     "metadata": {},
     "output_type": "execute_result"
    },
    {
     "data": {
      "text/plain": [
       "1"
      ]
     },
     "execution_count": 91,
     "metadata": {},
     "output_type": "execute_result"
    },
    {
     "data": {
      "text/plain": [
       "18"
      ]
     },
     "execution_count": 91,
     "metadata": {},
     "output_type": "execute_result"
    },
    {
     "data": {
      "text/plain": [
       "1"
      ]
     },
     "execution_count": 91,
     "metadata": {},
     "output_type": "execute_result"
    },
    {
     "data": {
      "text/plain": [
       "21"
      ]
     },
     "execution_count": 91,
     "metadata": {},
     "output_type": "execute_result"
    },
    {
     "data": {
      "text/plain": [
       "1"
      ]
     },
     "execution_count": 91,
     "metadata": {},
     "output_type": "execute_result"
    },
    {
     "data": {
      "text/plain": [
       "18"
      ]
     },
     "execution_count": 91,
     "metadata": {},
     "output_type": "execute_result"
    },
    {
     "data": {
      "text/plain": [
       "1"
      ]
     },
     "execution_count": 91,
     "metadata": {},
     "output_type": "execute_result"
    },
    {
     "data": {
      "text/plain": [
       "18"
      ]
     },
     "execution_count": 91,
     "metadata": {},
     "output_type": "execute_result"
    },
    {
     "data": {
      "text/plain": [
       "1"
      ]
     },
     "execution_count": 91,
     "metadata": {},
     "output_type": "execute_result"
    },
    {
     "data": {
      "text/plain": [
       "29"
      ]
     },
     "execution_count": 91,
     "metadata": {},
     "output_type": "execute_result"
    },
    {
     "data": {
      "text/plain": [
       "1"
      ]
     },
     "execution_count": 91,
     "metadata": {},
     "output_type": "execute_result"
    },
    {
     "data": {
      "text/plain": [
       "22"
      ]
     },
     "execution_count": 91,
     "metadata": {},
     "output_type": "execute_result"
    },
    {
     "data": {
      "text/plain": [
       "1"
      ]
     },
     "execution_count": 91,
     "metadata": {},
     "output_type": "execute_result"
    },
    {
     "data": {
      "text/plain": [
       "15"
      ]
     },
     "execution_count": 91,
     "metadata": {},
     "output_type": "execute_result"
    },
    {
     "data": {
      "text/plain": [
       "1"
      ]
     },
     "execution_count": 91,
     "metadata": {},
     "output_type": "execute_result"
    },
    {
     "data": {
      "text/plain": [
       "17"
      ]
     },
     "execution_count": 91,
     "metadata": {},
     "output_type": "execute_result"
    },
    {
     "data": {
      "text/plain": [
       "1"
      ]
     },
     "execution_count": 91,
     "metadata": {},
     "output_type": "execute_result"
    },
    {
     "data": {
      "text/plain": [
       "26"
      ]
     },
     "execution_count": 91,
     "metadata": {},
     "output_type": "execute_result"
    },
    {
     "data": {
      "text/plain": [
       "1"
      ]
     },
     "execution_count": 91,
     "metadata": {},
     "output_type": "execute_result"
    },
    {
     "data": {
      "text/plain": [
       "24"
      ]
     },
     "execution_count": 91,
     "metadata": {},
     "output_type": "execute_result"
    },
    {
     "data": {
      "text/plain": [
       "1"
      ]
     },
     "execution_count": 91,
     "metadata": {},
     "output_type": "execute_result"
    },
    {
     "data": {
      "text/plain": [
       "19"
      ]
     },
     "execution_count": 91,
     "metadata": {},
     "output_type": "execute_result"
    },
    {
     "data": {
      "text/plain": [
       "1"
      ]
     },
     "execution_count": 91,
     "metadata": {},
     "output_type": "execute_result"
    },
    {
     "data": {
      "text/plain": [
       "34"
      ]
     },
     "execution_count": 91,
     "metadata": {},
     "output_type": "execute_result"
    },
    {
     "data": {
      "text/plain": [
       "1"
      ]
     },
     "execution_count": 91,
     "metadata": {},
     "output_type": "execute_result"
    },
    {
     "data": {
      "text/plain": [
       "20"
      ]
     },
     "execution_count": 91,
     "metadata": {},
     "output_type": "execute_result"
    },
    {
     "data": {
      "text/plain": [
       "1"
      ]
     },
     "execution_count": 91,
     "metadata": {},
     "output_type": "execute_result"
    },
    {
     "data": {
      "text/plain": [
       "20"
      ]
     },
     "execution_count": 91,
     "metadata": {},
     "output_type": "execute_result"
    },
    {
     "data": {
      "text/plain": [
       "1"
      ]
     },
     "execution_count": 91,
     "metadata": {},
     "output_type": "execute_result"
    },
    {
     "data": {
      "text/plain": [
       "21"
      ]
     },
     "execution_count": 91,
     "metadata": {},
     "output_type": "execute_result"
    },
    {
     "data": {
      "text/plain": [
       "1"
      ]
     },
     "execution_count": 91,
     "metadata": {},
     "output_type": "execute_result"
    },
    {
     "data": {
      "text/plain": [
       "24"
      ]
     },
     "execution_count": 91,
     "metadata": {},
     "output_type": "execute_result"
    },
    {
     "data": {
      "text/plain": [
       "1"
      ]
     },
     "execution_count": 91,
     "metadata": {},
     "output_type": "execute_result"
    },
    {
     "data": {
      "text/plain": [
       "25"
      ]
     },
     "execution_count": 91,
     "metadata": {},
     "output_type": "execute_result"
    },
    {
     "data": {
      "text/plain": [
       "1"
      ]
     },
     "execution_count": 91,
     "metadata": {},
     "output_type": "execute_result"
    },
    {
     "data": {
      "text/plain": [
       "22"
      ]
     },
     "execution_count": 91,
     "metadata": {},
     "output_type": "execute_result"
    },
    {
     "data": {
      "text/plain": [
       "1"
      ]
     },
     "execution_count": 91,
     "metadata": {},
     "output_type": "execute_result"
    },
    {
     "data": {
      "text/plain": [
       "20"
      ]
     },
     "execution_count": 91,
     "metadata": {},
     "output_type": "execute_result"
    },
    {
     "data": {
      "text/plain": [
       "1"
      ]
     },
     "execution_count": 91,
     "metadata": {},
     "output_type": "execute_result"
    },
    {
     "data": {
      "text/plain": [
       "21"
      ]
     },
     "execution_count": 91,
     "metadata": {},
     "output_type": "execute_result"
    },
    {
     "data": {
      "text/plain": [
       "1"
      ]
     },
     "execution_count": 91,
     "metadata": {},
     "output_type": "execute_result"
    },
    {
     "data": {
      "text/plain": [
       "22"
      ]
     },
     "execution_count": 91,
     "metadata": {},
     "output_type": "execute_result"
    },
    {
     "data": {
      "text/plain": [
       "1"
      ]
     },
     "execution_count": 91,
     "metadata": {},
     "output_type": "execute_result"
    },
    {
     "data": {
      "text/plain": [
       "23"
      ]
     },
     "execution_count": 91,
     "metadata": {},
     "output_type": "execute_result"
    },
    {
     "data": {
      "text/plain": [
       "1"
      ]
     },
     "execution_count": 91,
     "metadata": {},
     "output_type": "execute_result"
    },
    {
     "data": {
      "text/plain": [
       "21"
      ]
     },
     "execution_count": 91,
     "metadata": {},
     "output_type": "execute_result"
    },
    {
     "data": {
      "text/plain": [
       "1"
      ]
     },
     "execution_count": 91,
     "metadata": {},
     "output_type": "execute_result"
    },
    {
     "data": {
      "text/plain": [
       "21"
      ]
     },
     "execution_count": 91,
     "metadata": {},
     "output_type": "execute_result"
    },
    {
     "data": {
      "text/plain": [
       "1"
      ]
     },
     "execution_count": 91,
     "metadata": {},
     "output_type": "execute_result"
    },
    {
     "data": {
      "text/plain": [
       "23"
      ]
     },
     "execution_count": 91,
     "metadata": {},
     "output_type": "execute_result"
    },
    {
     "data": {
      "text/plain": [
       "1"
      ]
     },
     "execution_count": 91,
     "metadata": {},
     "output_type": "execute_result"
    },
    {
     "data": {
      "text/plain": [
       "22"
      ]
     },
     "execution_count": 91,
     "metadata": {},
     "output_type": "execute_result"
    },
    {
     "data": {
      "text/plain": [
       "1"
      ]
     },
     "execution_count": 91,
     "metadata": {},
     "output_type": "execute_result"
    },
    {
     "data": {
      "text/plain": [
       "23"
      ]
     },
     "execution_count": 91,
     "metadata": {},
     "output_type": "execute_result"
    },
    {
     "data": {
      "text/plain": [
       "1"
      ]
     },
     "execution_count": 91,
     "metadata": {},
     "output_type": "execute_result"
    },
    {
     "data": {
      "text/plain": [
       "21"
      ]
     },
     "execution_count": 91,
     "metadata": {},
     "output_type": "execute_result"
    },
    {
     "data": {
      "text/plain": [
       "1"
      ]
     },
     "execution_count": 91,
     "metadata": {},
     "output_type": "execute_result"
    },
    {
     "data": {
      "text/plain": [
       "25"
      ]
     },
     "execution_count": 91,
     "metadata": {},
     "output_type": "execute_result"
    },
    {
     "data": {
      "text/plain": [
       "1"
      ]
     },
     "execution_count": 91,
     "metadata": {},
     "output_type": "execute_result"
    },
    {
     "data": {
      "text/plain": [
       "20"
      ]
     },
     "execution_count": 91,
     "metadata": {},
     "output_type": "execute_result"
    },
    {
     "data": {
      "text/plain": [
       "1"
      ]
     },
     "execution_count": 91,
     "metadata": {},
     "output_type": "execute_result"
    },
    {
     "data": {
      "text/plain": [
       "18"
      ]
     },
     "execution_count": 91,
     "metadata": {},
     "output_type": "execute_result"
    },
    {
     "data": {
      "text/plain": [
       "1"
      ]
     },
     "execution_count": 91,
     "metadata": {},
     "output_type": "execute_result"
    },
    {
     "data": {
      "text/plain": [
       "19"
      ]
     },
     "execution_count": 91,
     "metadata": {},
     "output_type": "execute_result"
    },
    {
     "data": {
      "text/plain": [
       "1"
      ]
     },
     "execution_count": 91,
     "metadata": {},
     "output_type": "execute_result"
    },
    {
     "data": {
      "text/plain": [
       "17"
      ]
     },
     "execution_count": 91,
     "metadata": {},
     "output_type": "execute_result"
    },
    {
     "data": {
      "text/plain": [
       "1"
      ]
     },
     "execution_count": 91,
     "metadata": {},
     "output_type": "execute_result"
    },
    {
     "data": {
      "text/plain": [
       "20"
      ]
     },
     "execution_count": 91,
     "metadata": {},
     "output_type": "execute_result"
    },
    {
     "data": {
      "text/plain": [
       "1"
      ]
     },
     "execution_count": 91,
     "metadata": {},
     "output_type": "execute_result"
    },
    {
     "data": {
      "text/plain": [
       "17"
      ]
     },
     "execution_count": 91,
     "metadata": {},
     "output_type": "execute_result"
    },
    {
     "data": {
      "text/plain": [
       "1"
      ]
     },
     "execution_count": 91,
     "metadata": {},
     "output_type": "execute_result"
    },
    {
     "data": {
      "text/plain": [
       "17"
      ]
     },
     "execution_count": 91,
     "metadata": {},
     "output_type": "execute_result"
    },
    {
     "data": {
      "text/plain": [
       "1"
      ]
     },
     "execution_count": 91,
     "metadata": {},
     "output_type": "execute_result"
    },
    {
     "data": {
      "text/plain": [
       "28"
      ]
     },
     "execution_count": 91,
     "metadata": {},
     "output_type": "execute_result"
    },
    {
     "data": {
      "text/plain": [
       "1"
      ]
     },
     "execution_count": 91,
     "metadata": {},
     "output_type": "execute_result"
    },
    {
     "data": {
      "text/plain": [
       "21"
      ]
     },
     "execution_count": 91,
     "metadata": {},
     "output_type": "execute_result"
    },
    {
     "data": {
      "text/plain": [
       "1"
      ]
     },
     "execution_count": 91,
     "metadata": {},
     "output_type": "execute_result"
    },
    {
     "data": {
      "text/plain": [
       "19"
      ]
     },
     "execution_count": 91,
     "metadata": {},
     "output_type": "execute_result"
    },
    {
     "data": {
      "text/plain": [
       "1"
      ]
     },
     "execution_count": 91,
     "metadata": {},
     "output_type": "execute_result"
    },
    {
     "data": {
      "text/plain": [
       "20"
      ]
     },
     "execution_count": 91,
     "metadata": {},
     "output_type": "execute_result"
    },
    {
     "data": {
      "text/plain": [
       "1"
      ]
     },
     "execution_count": 91,
     "metadata": {},
     "output_type": "execute_result"
    },
    {
     "data": {
      "text/plain": [
       "19"
      ]
     },
     "execution_count": 91,
     "metadata": {},
     "output_type": "execute_result"
    },
    {
     "data": {
      "text/plain": [
       "1"
      ]
     },
     "execution_count": 91,
     "metadata": {},
     "output_type": "execute_result"
    },
    {
     "data": {
      "text/plain": [
       "20"
      ]
     },
     "execution_count": 91,
     "metadata": {},
     "output_type": "execute_result"
    },
    {
     "data": {
      "text/plain": [
       "1"
      ]
     },
     "execution_count": 91,
     "metadata": {},
     "output_type": "execute_result"
    },
    {
     "data": {
      "text/plain": [
       "18"
      ]
     },
     "execution_count": 91,
     "metadata": {},
     "output_type": "execute_result"
    },
    {
     "data": {
      "text/plain": [
       "1"
      ]
     },
     "execution_count": 91,
     "metadata": {},
     "output_type": "execute_result"
    },
    {
     "data": {
      "text/plain": [
       "21"
      ]
     },
     "execution_count": 91,
     "metadata": {},
     "output_type": "execute_result"
    },
    {
     "data": {
      "text/plain": [
       "1"
      ]
     },
     "execution_count": 91,
     "metadata": {},
     "output_type": "execute_result"
    },
    {
     "data": {
      "text/plain": [
       "18"
      ]
     },
     "execution_count": 91,
     "metadata": {},
     "output_type": "execute_result"
    },
    {
     "data": {
      "text/plain": [
       "1"
      ]
     },
     "execution_count": 91,
     "metadata": {},
     "output_type": "execute_result"
    },
    {
     "data": {
      "text/plain": [
       "18"
      ]
     },
     "execution_count": 91,
     "metadata": {},
     "output_type": "execute_result"
    },
    {
     "data": {
      "text/plain": [
       "1"
      ]
     },
     "execution_count": 91,
     "metadata": {},
     "output_type": "execute_result"
    },
    {
     "data": {
      "text/plain": [
       "22"
      ]
     },
     "execution_count": 91,
     "metadata": {},
     "output_type": "execute_result"
    },
    {
     "data": {
      "text/plain": [
       "1"
      ]
     },
     "execution_count": 91,
     "metadata": {},
     "output_type": "execute_result"
    },
    {
     "data": {
      "text/plain": [
       "19"
      ]
     },
     "execution_count": 91,
     "metadata": {},
     "output_type": "execute_result"
    },
    {
     "data": {
      "text/plain": [
       "1"
      ]
     },
     "execution_count": 91,
     "metadata": {},
     "output_type": "execute_result"
    },
    {
     "data": {
      "text/plain": [
       "34"
      ]
     },
     "execution_count": 91,
     "metadata": {},
     "output_type": "execute_result"
    },
    {
     "data": {
      "text/plain": [
       "1"
      ]
     },
     "execution_count": 91,
     "metadata": {},
     "output_type": "execute_result"
    },
    {
     "data": {
      "text/plain": [
       "19"
      ]
     },
     "execution_count": 91,
     "metadata": {},
     "output_type": "execute_result"
    },
    {
     "data": {
      "text/plain": [
       "1"
      ]
     },
     "execution_count": 91,
     "metadata": {},
     "output_type": "execute_result"
    },
    {
     "data": {
      "text/plain": [
       "18"
      ]
     },
     "execution_count": 91,
     "metadata": {},
     "output_type": "execute_result"
    },
    {
     "data": {
      "text/plain": [
       "1"
      ]
     },
     "execution_count": 91,
     "metadata": {},
     "output_type": "execute_result"
    },
    {
     "data": {
      "text/plain": [
       "20"
      ]
     },
     "execution_count": 91,
     "metadata": {},
     "output_type": "execute_result"
    },
    {
     "data": {
      "text/plain": [
       "1"
      ]
     },
     "execution_count": 91,
     "metadata": {},
     "output_type": "execute_result"
    },
    {
     "data": {
      "text/plain": [
       "19"
      ]
     },
     "execution_count": 91,
     "metadata": {},
     "output_type": "execute_result"
    },
    {
     "data": {
      "text/plain": [
       "1"
      ]
     },
     "execution_count": 91,
     "metadata": {},
     "output_type": "execute_result"
    },
    {
     "data": {
      "text/plain": [
       "20"
      ]
     },
     "execution_count": 91,
     "metadata": {},
     "output_type": "execute_result"
    },
    {
     "data": {
      "text/plain": [
       "1"
      ]
     },
     "execution_count": 91,
     "metadata": {},
     "output_type": "execute_result"
    },
    {
     "data": {
      "text/plain": [
       "18"
      ]
     },
     "execution_count": 91,
     "metadata": {},
     "output_type": "execute_result"
    },
    {
     "data": {
      "text/plain": [
       "1"
      ]
     },
     "execution_count": 91,
     "metadata": {},
     "output_type": "execute_result"
    },
    {
     "data": {
      "text/plain": [
       "21"
      ]
     },
     "execution_count": 91,
     "metadata": {},
     "output_type": "execute_result"
    },
    {
     "data": {
      "text/plain": [
       "1"
      ]
     },
     "execution_count": 91,
     "metadata": {},
     "output_type": "execute_result"
    },
    {
     "data": {
      "text/plain": [
       "18"
      ]
     },
     "execution_count": 91,
     "metadata": {},
     "output_type": "execute_result"
    },
    {
     "data": {
      "text/plain": [
       "1"
      ]
     },
     "execution_count": 91,
     "metadata": {},
     "output_type": "execute_result"
    },
    {
     "data": {
      "text/plain": [
       "18"
      ]
     },
     "execution_count": 91,
     "metadata": {},
     "output_type": "execute_result"
    },
    {
     "data": {
      "text/plain": [
       "1"
      ]
     },
     "execution_count": 91,
     "metadata": {},
     "output_type": "execute_result"
    },
    {
     "data": {
      "text/plain": [
       "29"
      ]
     },
     "execution_count": 91,
     "metadata": {},
     "output_type": "execute_result"
    },
    {
     "data": {
      "text/plain": [
       "1"
      ]
     },
     "execution_count": 91,
     "metadata": {},
     "output_type": "execute_result"
    },
    {
     "data": {
      "text/plain": [
       "22"
      ]
     },
     "execution_count": 91,
     "metadata": {},
     "output_type": "execute_result"
    },
    {
     "data": {
      "text/plain": [
       "1"
      ]
     },
     "execution_count": 91,
     "metadata": {},
     "output_type": "execute_result"
    },
    {
     "data": {
      "text/plain": [
       "15"
      ]
     },
     "execution_count": 91,
     "metadata": {},
     "output_type": "execute_result"
    },
    {
     "data": {
      "text/plain": [
       "1"
      ]
     },
     "execution_count": 91,
     "metadata": {},
     "output_type": "execute_result"
    },
    {
     "data": {
      "text/plain": [
       "26"
      ]
     },
     "execution_count": 91,
     "metadata": {},
     "output_type": "execute_result"
    },
    {
     "data": {
      "text/plain": [
       "1"
      ]
     },
     "execution_count": 91,
     "metadata": {},
     "output_type": "execute_result"
    },
    {
     "data": {
      "text/plain": [
       "21"
      ]
     },
     "execution_count": 91,
     "metadata": {},
     "output_type": "execute_result"
    },
    {
     "data": {
      "text/plain": [
       "1"
      ]
     },
     "execution_count": 91,
     "metadata": {},
     "output_type": "execute_result"
    },
    {
     "data": {
      "text/plain": [
       "23"
      ]
     },
     "execution_count": 91,
     "metadata": {},
     "output_type": "execute_result"
    },
    {
     "data": {
      "text/plain": [
       "1"
      ]
     },
     "execution_count": 91,
     "metadata": {},
     "output_type": "execute_result"
    },
    {
     "data": {
      "text/plain": [
       "21"
      ]
     },
     "execution_count": 91,
     "metadata": {},
     "output_type": "execute_result"
    },
    {
     "data": {
      "text/plain": [
       "1"
      ]
     },
     "execution_count": 91,
     "metadata": {},
     "output_type": "execute_result"
    },
    {
     "data": {
      "text/plain": [
       "21"
      ]
     },
     "execution_count": 91,
     "metadata": {},
     "output_type": "execute_result"
    },
    {
     "data": {
      "text/plain": [
       "1"
      ]
     },
     "execution_count": 91,
     "metadata": {},
     "output_type": "execute_result"
    },
    {
     "data": {
      "text/plain": [
       "21"
      ]
     },
     "execution_count": 91,
     "metadata": {},
     "output_type": "execute_result"
    },
    {
     "data": {
      "text/plain": [
       "1"
      ]
     },
     "execution_count": 91,
     "metadata": {},
     "output_type": "execute_result"
    },
    {
     "data": {
      "text/plain": [
       "21"
      ]
     },
     "execution_count": 91,
     "metadata": {},
     "output_type": "execute_result"
    },
    {
     "data": {
      "text/plain": [
       "1"
      ]
     },
     "execution_count": 91,
     "metadata": {},
     "output_type": "execute_result"
    },
    {
     "data": {
      "text/plain": [
       "19"
      ]
     },
     "execution_count": 91,
     "metadata": {},
     "output_type": "execute_result"
    },
    {
     "data": {
      "text/plain": [
       "1"
      ]
     },
     "execution_count": 91,
     "metadata": {},
     "output_type": "execute_result"
    },
    {
     "data": {
      "text/plain": [
       "20"
      ]
     },
     "execution_count": 91,
     "metadata": {},
     "output_type": "execute_result"
    },
    {
     "data": {
      "text/plain": [
       "1"
      ]
     },
     "execution_count": 91,
     "metadata": {},
     "output_type": "execute_result"
    },
    {
     "data": {
      "text/plain": [
       "18"
      ]
     },
     "execution_count": 91,
     "metadata": {},
     "output_type": "execute_result"
    },
    {
     "data": {
      "text/plain": [
       "1"
      ]
     },
     "execution_count": 91,
     "metadata": {},
     "output_type": "execute_result"
    },
    {
     "data": {
      "text/plain": [
       "21"
      ]
     },
     "execution_count": 91,
     "metadata": {},
     "output_type": "execute_result"
    },
    {
     "data": {
      "text/plain": [
       "1"
      ]
     },
     "execution_count": 91,
     "metadata": {},
     "output_type": "execute_result"
    },
    {
     "data": {
      "text/plain": [
       "18"
      ]
     },
     "execution_count": 91,
     "metadata": {},
     "output_type": "execute_result"
    },
    {
     "data": {
      "text/plain": [
       "1"
      ]
     },
     "execution_count": 91,
     "metadata": {},
     "output_type": "execute_result"
    },
    {
     "data": {
      "text/plain": [
       "18"
      ]
     },
     "execution_count": 91,
     "metadata": {},
     "output_type": "execute_result"
    },
    {
     "data": {
      "text/plain": [
       "1"
      ]
     },
     "execution_count": 91,
     "metadata": {},
     "output_type": "execute_result"
    },
    {
     "data": {
      "text/plain": [
       "29"
      ]
     },
     "execution_count": 91,
     "metadata": {},
     "output_type": "execute_result"
    },
    {
     "data": {
      "text/plain": [
       "1"
      ]
     },
     "execution_count": 91,
     "metadata": {},
     "output_type": "execute_result"
    },
    {
     "data": {
      "text/plain": [
       "22"
      ]
     },
     "execution_count": 91,
     "metadata": {},
     "output_type": "execute_result"
    },
    {
     "data": {
      "text/plain": [
       "1"
      ]
     },
     "execution_count": 91,
     "metadata": {},
     "output_type": "execute_result"
    },
    {
     "data": {
      "text/plain": [
       "23"
      ]
     },
     "execution_count": 91,
     "metadata": {},
     "output_type": "execute_result"
    },
    {
     "data": {
      "text/plain": [
       "1"
      ]
     },
     "execution_count": 91,
     "metadata": {},
     "output_type": "execute_result"
    },
    {
     "data": {
      "text/plain": [
       "19"
      ]
     },
     "execution_count": 91,
     "metadata": {},
     "output_type": "execute_result"
    },
    {
     "data": {
      "text/plain": [
       "1"
      ]
     },
     "execution_count": 91,
     "metadata": {},
     "output_type": "execute_result"
    },
    {
     "data": {
      "text/plain": [
       "18"
      ]
     },
     "execution_count": 91,
     "metadata": {},
     "output_type": "execute_result"
    },
    {
     "data": {
      "text/plain": [
       "1"
      ]
     },
     "execution_count": 91,
     "metadata": {},
     "output_type": "execute_result"
    },
    {
     "data": {
      "text/plain": [
       "19"
      ]
     },
     "execution_count": 91,
     "metadata": {},
     "output_type": "execute_result"
    },
    {
     "data": {
      "text/plain": [
       "1"
      ]
     },
     "execution_count": 91,
     "metadata": {},
     "output_type": "execute_result"
    },
    {
     "data": {
      "text/plain": [
       "17"
      ]
     },
     "execution_count": 91,
     "metadata": {},
     "output_type": "execute_result"
    },
    {
     "data": {
      "text/plain": [
       "1"
      ]
     },
     "execution_count": 91,
     "metadata": {},
     "output_type": "execute_result"
    },
    {
     "data": {
      "text/plain": [
       "20"
      ]
     },
     "execution_count": 91,
     "metadata": {},
     "output_type": "execute_result"
    },
    {
     "data": {
      "text/plain": [
       "1"
      ]
     },
     "execution_count": 91,
     "metadata": {},
     "output_type": "execute_result"
    },
    {
     "data": {
      "text/plain": [
       "17"
      ]
     },
     "execution_count": 91,
     "metadata": {},
     "output_type": "execute_result"
    },
    {
     "data": {
      "text/plain": [
       "1"
      ]
     },
     "execution_count": 91,
     "metadata": {},
     "output_type": "execute_result"
    },
    {
     "data": {
      "text/plain": [
       "17"
      ]
     },
     "execution_count": 91,
     "metadata": {},
     "output_type": "execute_result"
    },
    {
     "data": {
      "text/plain": [
       "1"
      ]
     },
     "execution_count": 91,
     "metadata": {},
     "output_type": "execute_result"
    },
    {
     "data": {
      "text/plain": [
       "28"
      ]
     },
     "execution_count": 91,
     "metadata": {},
     "output_type": "execute_result"
    },
    {
     "data": {
      "text/plain": [
       "1"
      ]
     },
     "execution_count": 91,
     "metadata": {},
     "output_type": "execute_result"
    },
    {
     "data": {
      "text/plain": [
       "21"
      ]
     },
     "execution_count": 91,
     "metadata": {},
     "output_type": "execute_result"
    },
    {
     "data": {
      "text/plain": [
       "1"
      ]
     },
     "execution_count": 91,
     "metadata": {},
     "output_type": "execute_result"
    },
    {
     "data": {
      "text/plain": [
       "14"
      ]
     },
     "execution_count": 91,
     "metadata": {},
     "output_type": "execute_result"
    },
    {
     "data": {
      "text/plain": [
       "1"
      ]
     },
     "execution_count": 91,
     "metadata": {},
     "output_type": "execute_result"
    },
    {
     "data": {
      "text/plain": [
       "16"
      ]
     },
     "execution_count": 91,
     "metadata": {},
     "output_type": "execute_result"
    },
    {
     "data": {
      "text/plain": [
       "1"
      ]
     },
     "execution_count": 91,
     "metadata": {},
     "output_type": "execute_result"
    },
    {
     "data": {
      "text/plain": [
       "25"
      ]
     },
     "execution_count": 91,
     "metadata": {},
     "output_type": "execute_result"
    },
    {
     "data": {
      "text/plain": [
       "1"
      ]
     },
     "execution_count": 91,
     "metadata": {},
     "output_type": "execute_result"
    },
    {
     "data": {
      "text/plain": [
       "18"
      ]
     },
     "execution_count": 91,
     "metadata": {},
     "output_type": "execute_result"
    },
    {
     "data": {
      "text/plain": [
       "1"
      ]
     },
     "execution_count": 91,
     "metadata": {},
     "output_type": "execute_result"
    },
    {
     "data": {
      "text/plain": [
       "33"
      ]
     },
     "execution_count": 91,
     "metadata": {},
     "output_type": "execute_result"
    },
    {
     "data": {
      "text/plain": [
       "1"
      ]
     },
     "execution_count": 91,
     "metadata": {},
     "output_type": "execute_result"
    },
    {
     "data": {
      "text/plain": [
       "20"
      ]
     },
     "execution_count": 91,
     "metadata": {},
     "output_type": "execute_result"
    },
    {
     "data": {
      "text/plain": [
       "1"
      ]
     },
     "execution_count": 91,
     "metadata": {},
     "output_type": "execute_result"
    },
    {
     "data": {
      "text/plain": [
       "24"
      ]
     },
     "execution_count": 91,
     "metadata": {},
     "output_type": "execute_result"
    },
    {
     "data": {
      "text/plain": [
       "1"
      ]
     },
     "execution_count": 91,
     "metadata": {},
     "output_type": "execute_result"
    },
    {
     "data": {
      "text/plain": [
       "16"
      ]
     },
     "execution_count": 91,
     "metadata": {},
     "output_type": "execute_result"
    },
    {
     "data": {
      "text/plain": [
       "1"
      ]
     },
     "execution_count": 91,
     "metadata": {},
     "output_type": "execute_result"
    },
    {
     "data": {
      "text/plain": [
       "19"
      ]
     },
     "execution_count": 91,
     "metadata": {},
     "output_type": "execute_result"
    },
    {
     "data": {
      "text/plain": [
       "1"
      ]
     },
     "execution_count": 91,
     "metadata": {},
     "output_type": "execute_result"
    },
    {
     "data": {
      "text/plain": [
       "18"
      ]
     },
     "execution_count": 91,
     "metadata": {},
     "output_type": "execute_result"
    },
    {
     "data": {
      "text/plain": [
       "1"
      ]
     },
     "execution_count": 91,
     "metadata": {},
     "output_type": "execute_result"
    },
    {
     "data": {
      "text/plain": [
       "19"
      ]
     },
     "execution_count": 91,
     "metadata": {},
     "output_type": "execute_result"
    },
    {
     "data": {
      "text/plain": [
       "1"
      ]
     },
     "execution_count": 91,
     "metadata": {},
     "output_type": "execute_result"
    },
    {
     "data": {
      "text/plain": [
       "20"
      ]
     },
     "execution_count": 91,
     "metadata": {},
     "output_type": "execute_result"
    },
    {
     "data": {
      "text/plain": [
       "1"
      ]
     },
     "execution_count": 91,
     "metadata": {},
     "output_type": "execute_result"
    },
    {
     "data": {
      "text/plain": [
       "17"
      ]
     },
     "execution_count": 91,
     "metadata": {},
     "output_type": "execute_result"
    },
    {
     "data": {
      "text/plain": [
       "1"
      ]
     },
     "execution_count": 91,
     "metadata": {},
     "output_type": "execute_result"
    },
    {
     "data": {
      "text/plain": [
       "23"
      ]
     },
     "execution_count": 91,
     "metadata": {},
     "output_type": "execute_result"
    },
    {
     "data": {
      "text/plain": [
       "1"
      ]
     },
     "execution_count": 91,
     "metadata": {},
     "output_type": "execute_result"
    },
    {
     "data": {
      "text/plain": [
       "21"
      ]
     },
     "execution_count": 91,
     "metadata": {},
     "output_type": "execute_result"
    },
    {
     "data": {
      "text/plain": [
       "1"
      ]
     },
     "execution_count": 91,
     "metadata": {},
     "output_type": "execute_result"
    },
    {
     "data": {
      "text/plain": [
       "21"
      ]
     },
     "execution_count": 91,
     "metadata": {},
     "output_type": "execute_result"
    },
    {
     "data": {
      "text/plain": [
       "1"
      ]
     },
     "execution_count": 91,
     "metadata": {},
     "output_type": "execute_result"
    },
    {
     "data": {
      "text/plain": [
       "21"
      ]
     },
     "execution_count": 91,
     "metadata": {},
     "output_type": "execute_result"
    },
    {
     "data": {
      "text/plain": [
       "1"
      ]
     },
     "execution_count": 91,
     "metadata": {},
     "output_type": "execute_result"
    },
    {
     "data": {
      "text/plain": [
       "22"
      ]
     },
     "execution_count": 91,
     "metadata": {},
     "output_type": "execute_result"
    },
    {
     "data": {
      "text/plain": [
       "1"
      ]
     },
     "execution_count": 91,
     "metadata": {},
     "output_type": "execute_result"
    },
    {
     "data": {
      "text/plain": [
       "21"
      ]
     },
     "execution_count": 91,
     "metadata": {},
     "output_type": "execute_result"
    },
    {
     "data": {
      "text/plain": [
       "1"
      ]
     },
     "execution_count": 91,
     "metadata": {},
     "output_type": "execute_result"
    },
    {
     "data": {
      "text/plain": [
       "22"
      ]
     },
     "execution_count": 91,
     "metadata": {},
     "output_type": "execute_result"
    },
    {
     "data": {
      "text/plain": [
       "1"
      ]
     },
     "execution_count": 91,
     "metadata": {},
     "output_type": "execute_result"
    },
    {
     "data": {
      "text/plain": [
       "20"
      ]
     },
     "execution_count": 91,
     "metadata": {},
     "output_type": "execute_result"
    },
    {
     "data": {
      "text/plain": [
       "1"
      ]
     },
     "execution_count": 91,
     "metadata": {},
     "output_type": "execute_result"
    },
    {
     "data": {
      "text/plain": [
       "23"
      ]
     },
     "execution_count": 91,
     "metadata": {},
     "output_type": "execute_result"
    },
    {
     "data": {
      "text/plain": [
       "1"
      ]
     },
     "execution_count": 91,
     "metadata": {},
     "output_type": "execute_result"
    },
    {
     "data": {
      "text/plain": [
       "20"
      ]
     },
     "execution_count": 91,
     "metadata": {},
     "output_type": "execute_result"
    },
    {
     "data": {
      "text/plain": [
       "1"
      ]
     },
     "execution_count": 91,
     "metadata": {},
     "output_type": "execute_result"
    },
    {
     "data": {
      "text/plain": [
       "20"
      ]
     },
     "execution_count": 91,
     "metadata": {},
     "output_type": "execute_result"
    },
    {
     "data": {
      "text/plain": [
       "1"
      ]
     },
     "execution_count": 91,
     "metadata": {},
     "output_type": "execute_result"
    },
    {
     "data": {
      "text/plain": [
       "24"
      ]
     },
     "execution_count": 91,
     "metadata": {},
     "output_type": "execute_result"
    },
    {
     "data": {
      "text/plain": [
       "1"
      ]
     },
     "execution_count": 91,
     "metadata": {},
     "output_type": "execute_result"
    },
    {
     "data": {
      "text/plain": [
       "17"
      ]
     },
     "execution_count": 91,
     "metadata": {},
     "output_type": "execute_result"
    },
    {
     "data": {
      "text/plain": [
       "1"
      ]
     },
     "execution_count": 91,
     "metadata": {},
     "output_type": "execute_result"
    },
    {
     "data": {
      "text/plain": [
       "21"
      ]
     },
     "execution_count": 91,
     "metadata": {},
     "output_type": "execute_result"
    },
    {
     "data": {
      "text/plain": [
       "1"
      ]
     },
     "execution_count": 91,
     "metadata": {},
     "output_type": "execute_result"
    },
    {
     "data": {
      "text/plain": [
       "36"
      ]
     },
     "execution_count": 91,
     "metadata": {},
     "output_type": "execute_result"
    },
    {
     "data": {
      "text/plain": [
       "1"
      ]
     },
     "execution_count": 91,
     "metadata": {},
     "output_type": "execute_result"
    },
    {
     "data": {
      "text/plain": [
       "19"
      ]
     },
     "execution_count": 91,
     "metadata": {},
     "output_type": "execute_result"
    },
    {
     "data": {
      "text/plain": [
       "1"
      ]
     },
     "execution_count": 91,
     "metadata": {},
     "output_type": "execute_result"
    },
    {
     "data": {
      "text/plain": [
       "20"
      ]
     },
     "execution_count": 91,
     "metadata": {},
     "output_type": "execute_result"
    },
    {
     "data": {
      "text/plain": [
       "1"
      ]
     },
     "execution_count": 91,
     "metadata": {},
     "output_type": "execute_result"
    },
    {
     "data": {
      "text/plain": [
       "18"
      ]
     },
     "execution_count": 91,
     "metadata": {},
     "output_type": "execute_result"
    },
    {
     "data": {
      "text/plain": [
       "1"
      ]
     },
     "execution_count": 91,
     "metadata": {},
     "output_type": "execute_result"
    },
    {
     "data": {
      "text/plain": [
       "18"
      ]
     },
     "execution_count": 91,
     "metadata": {},
     "output_type": "execute_result"
    },
    {
     "data": {
      "text/plain": [
       "1"
      ]
     },
     "execution_count": 91,
     "metadata": {},
     "output_type": "execute_result"
    },
    {
     "data": {
      "text/plain": [
       "18"
      ]
     },
     "execution_count": 91,
     "metadata": {},
     "output_type": "execute_result"
    },
    {
     "data": {
      "text/plain": [
       "1"
      ]
     },
     "execution_count": 91,
     "metadata": {},
     "output_type": "execute_result"
    },
    {
     "data": {
      "text/plain": [
       "22"
      ]
     },
     "execution_count": 91,
     "metadata": {},
     "output_type": "execute_result"
    },
    {
     "data": {
      "text/plain": [
       "1"
      ]
     },
     "execution_count": 91,
     "metadata": {},
     "output_type": "execute_result"
    },
    {
     "data": {
      "text/plain": [
       "20"
      ]
     },
     "execution_count": 91,
     "metadata": {},
     "output_type": "execute_result"
    },
    {
     "data": {
      "text/plain": [
       "1"
      ]
     },
     "execution_count": 91,
     "metadata": {},
     "output_type": "execute_result"
    },
    {
     "data": {
      "text/plain": [
       "20"
      ]
     },
     "execution_count": 91,
     "metadata": {},
     "output_type": "execute_result"
    },
    {
     "data": {
      "text/plain": [
       "1"
      ]
     },
     "execution_count": 91,
     "metadata": {},
     "output_type": "execute_result"
    },
    {
     "data": {
      "text/plain": [
       "22"
      ]
     },
     "execution_count": 91,
     "metadata": {},
     "output_type": "execute_result"
    },
    {
     "data": {
      "text/plain": [
       "1"
      ]
     },
     "execution_count": 91,
     "metadata": {},
     "output_type": "execute_result"
    },
    {
     "data": {
      "text/plain": [
       "23"
      ]
     },
     "execution_count": 91,
     "metadata": {},
     "output_type": "execute_result"
    },
    {
     "data": {
      "text/plain": [
       "1"
      ]
     },
     "execution_count": 91,
     "metadata": {},
     "output_type": "execute_result"
    },
    {
     "data": {
      "text/plain": [
       "20"
      ]
     },
     "execution_count": 91,
     "metadata": {},
     "output_type": "execute_result"
    },
    {
     "data": {
      "text/plain": [
       "1"
      ]
     },
     "execution_count": 91,
     "metadata": {},
     "output_type": "execute_result"
    },
    {
     "data": {
      "text/plain": [
       "31"
      ]
     },
     "execution_count": 91,
     "metadata": {},
     "output_type": "execute_result"
    },
    {
     "data": {
      "text/plain": [
       "1"
      ]
     },
     "execution_count": 91,
     "metadata": {},
     "output_type": "execute_result"
    },
    {
     "data": {
      "text/plain": [
       "24"
      ]
     },
     "execution_count": 91,
     "metadata": {},
     "output_type": "execute_result"
    },
    {
     "data": {
      "text/plain": [
       "1"
      ]
     },
     "execution_count": 91,
     "metadata": {},
     "output_type": "execute_result"
    },
    {
     "data": {
      "text/plain": [
       "21"
      ]
     },
     "execution_count": 91,
     "metadata": {},
     "output_type": "execute_result"
    },
    {
     "data": {
      "text/plain": [
       "1"
      ]
     },
     "execution_count": 91,
     "metadata": {},
     "output_type": "execute_result"
    },
    {
     "data": {
      "text/plain": [
       "36"
      ]
     },
     "execution_count": 91,
     "metadata": {},
     "output_type": "execute_result"
    },
    {
     "data": {
      "text/plain": [
       "1"
      ]
     },
     "execution_count": 91,
     "metadata": {},
     "output_type": "execute_result"
    },
    {
     "data": {
      "text/plain": [
       "22"
      ]
     },
     "execution_count": 91,
     "metadata": {},
     "output_type": "execute_result"
    },
    {
     "data": {
      "text/plain": [
       "1"
      ]
     },
     "execution_count": 91,
     "metadata": {},
     "output_type": "execute_result"
    },
    {
     "data": {
      "text/plain": [
       "22"
      ]
     },
     "execution_count": 91,
     "metadata": {},
     "output_type": "execute_result"
    },
    {
     "data": {
      "text/plain": [
       "1"
      ]
     },
     "execution_count": 91,
     "metadata": {},
     "output_type": "execute_result"
    },
    {
     "data": {
      "text/plain": [
       "20"
      ]
     },
     "execution_count": 91,
     "metadata": {},
     "output_type": "execute_result"
    },
    {
     "data": {
      "text/plain": [
       "1"
      ]
     },
     "execution_count": 91,
     "metadata": {},
     "output_type": "execute_result"
    },
    {
     "data": {
      "text/plain": [
       "20"
      ]
     },
     "execution_count": 91,
     "metadata": {},
     "output_type": "execute_result"
    },
    {
     "data": {
      "text/plain": [
       "1"
      ]
     },
     "execution_count": 91,
     "metadata": {},
     "output_type": "execute_result"
    },
    {
     "data": {
      "text/plain": [
       "19"
      ]
     },
     "execution_count": 91,
     "metadata": {},
     "output_type": "execute_result"
    },
    {
     "data": {
      "text/plain": [
       "1"
      ]
     },
     "execution_count": 91,
     "metadata": {},
     "output_type": "execute_result"
    },
    {
     "data": {
      "text/plain": [
       "20"
      ]
     },
     "execution_count": 91,
     "metadata": {},
     "output_type": "execute_result"
    },
    {
     "data": {
      "text/plain": [
       "1"
      ]
     },
     "execution_count": 91,
     "metadata": {},
     "output_type": "execute_result"
    },
    {
     "data": {
      "text/plain": [
       "20"
      ]
     },
     "execution_count": 91,
     "metadata": {},
     "output_type": "execute_result"
    },
    {
     "data": {
      "text/plain": [
       "1"
      ]
     },
     "execution_count": 91,
     "metadata": {},
     "output_type": "execute_result"
    },
    {
     "data": {
      "text/plain": [
       "22"
      ]
     },
     "execution_count": 91,
     "metadata": {},
     "output_type": "execute_result"
    },
    {
     "data": {
      "text/plain": [
       "1"
      ]
     },
     "execution_count": 91,
     "metadata": {},
     "output_type": "execute_result"
    },
    {
     "data": {
      "text/plain": [
       "22"
      ]
     },
     "execution_count": 91,
     "metadata": {},
     "output_type": "execute_result"
    },
    {
     "data": {
      "text/plain": [
       "1"
      ]
     },
     "execution_count": 91,
     "metadata": {},
     "output_type": "execute_result"
    },
    {
     "data": {
      "text/plain": [
       "22"
      ]
     },
     "execution_count": 91,
     "metadata": {},
     "output_type": "execute_result"
    },
    {
     "data": {
      "text/plain": [
       "1"
      ]
     },
     "execution_count": 91,
     "metadata": {},
     "output_type": "execute_result"
    },
    {
     "data": {
      "text/plain": [
       "28"
      ]
     },
     "execution_count": 91,
     "metadata": {},
     "output_type": "execute_result"
    },
    {
     "data": {
      "text/plain": [
       "1"
      ]
     },
     "execution_count": 91,
     "metadata": {},
     "output_type": "execute_result"
    },
    {
     "data": {
      "text/plain": [
       "18"
      ]
     },
     "execution_count": 91,
     "metadata": {},
     "output_type": "execute_result"
    },
    {
     "data": {
      "text/plain": [
       "1"
      ]
     },
     "execution_count": 91,
     "metadata": {},
     "output_type": "execute_result"
    },
    {
     "data": {
      "text/plain": [
       "17"
      ]
     },
     "execution_count": 91,
     "metadata": {},
     "output_type": "execute_result"
    },
    {
     "data": {
      "text/plain": [
       "1"
      ]
     },
     "execution_count": 91,
     "metadata": {},
     "output_type": "execute_result"
    },
    {
     "data": {
      "text/plain": [
       "19"
      ]
     },
     "execution_count": 91,
     "metadata": {},
     "output_type": "execute_result"
    },
    {
     "data": {
      "text/plain": [
       "1"
      ]
     },
     "execution_count": 91,
     "metadata": {},
     "output_type": "execute_result"
    },
    {
     "data": {
      "text/plain": [
       "20"
      ]
     },
     "execution_count": 91,
     "metadata": {},
     "output_type": "execute_result"
    },
    {
     "data": {
      "text/plain": [
       "1"
      ]
     },
     "execution_count": 91,
     "metadata": {},
     "output_type": "execute_result"
    },
    {
     "data": {
      "text/plain": [
       "18"
      ]
     },
     "execution_count": 91,
     "metadata": {},
     "output_type": "execute_result"
    },
    {
     "data": {
      "text/plain": [
       "1"
      ]
     },
     "execution_count": 91,
     "metadata": {},
     "output_type": "execute_result"
    },
    {
     "data": {
      "text/plain": [
       "21"
      ]
     },
     "execution_count": 91,
     "metadata": {},
     "output_type": "execute_result"
    },
    {
     "data": {
      "text/plain": [
       "1"
      ]
     },
     "execution_count": 91,
     "metadata": {},
     "output_type": "execute_result"
    },
    {
     "data": {
      "text/plain": [
       "18"
      ]
     },
     "execution_count": 91,
     "metadata": {},
     "output_type": "execute_result"
    },
    {
     "data": {
      "text/plain": [
       "1"
      ]
     },
     "execution_count": 91,
     "metadata": {},
     "output_type": "execute_result"
    },
    {
     "data": {
      "text/plain": [
       "21"
      ]
     },
     "execution_count": 91,
     "metadata": {},
     "output_type": "execute_result"
    },
    {
     "data": {
      "text/plain": [
       "1"
      ]
     },
     "execution_count": 91,
     "metadata": {},
     "output_type": "execute_result"
    },
    {
     "data": {
      "text/plain": [
       "17"
      ]
     },
     "execution_count": 91,
     "metadata": {},
     "output_type": "execute_result"
    },
    {
     "data": {
      "text/plain": [
       "1"
      ]
     },
     "execution_count": 91,
     "metadata": {},
     "output_type": "execute_result"
    },
    {
     "data": {
      "text/plain": [
       "17"
      ]
     },
     "execution_count": 91,
     "metadata": {},
     "output_type": "execute_result"
    },
    {
     "data": {
      "text/plain": [
       "1"
      ]
     },
     "execution_count": 91,
     "metadata": {},
     "output_type": "execute_result"
    },
    {
     "data": {
      "text/plain": [
       "17"
      ]
     },
     "execution_count": 91,
     "metadata": {},
     "output_type": "execute_result"
    },
    {
     "data": {
      "text/plain": [
       "1"
      ]
     },
     "execution_count": 91,
     "metadata": {},
     "output_type": "execute_result"
    },
    {
     "data": {
      "text/plain": [
       "16"
      ]
     },
     "execution_count": 91,
     "metadata": {},
     "output_type": "execute_result"
    },
    {
     "data": {
      "text/plain": [
       "1"
      ]
     },
     "execution_count": 91,
     "metadata": {},
     "output_type": "execute_result"
    },
    {
     "data": {
      "text/plain": [
       "25"
      ]
     },
     "execution_count": 91,
     "metadata": {},
     "output_type": "execute_result"
    },
    {
     "data": {
      "text/plain": [
       "1"
      ]
     },
     "execution_count": 91,
     "metadata": {},
     "output_type": "execute_result"
    },
    {
     "data": {
      "text/plain": [
       "18"
      ]
     },
     "execution_count": 91,
     "metadata": {},
     "output_type": "execute_result"
    },
    {
     "data": {
      "text/plain": [
       "1"
      ]
     },
     "execution_count": 91,
     "metadata": {},
     "output_type": "execute_result"
    },
    {
     "data": {
      "text/plain": [
       "19"
      ]
     },
     "execution_count": 91,
     "metadata": {},
     "output_type": "execute_result"
    },
    {
     "data": {
      "text/plain": [
       "1"
      ]
     },
     "execution_count": 91,
     "metadata": {},
     "output_type": "execute_result"
    },
    {
     "data": {
      "text/plain": [
       "20"
      ]
     },
     "execution_count": 91,
     "metadata": {},
     "output_type": "execute_result"
    },
    {
     "data": {
      "text/plain": [
       "1"
      ]
     },
     "execution_count": 91,
     "metadata": {},
     "output_type": "execute_result"
    },
    {
     "data": {
      "text/plain": [
       "18"
      ]
     },
     "execution_count": 91,
     "metadata": {},
     "output_type": "execute_result"
    },
    {
     "data": {
      "text/plain": [
       "1"
      ]
     },
     "execution_count": 91,
     "metadata": {},
     "output_type": "execute_result"
    },
    {
     "data": {
      "text/plain": [
       "21"
      ]
     },
     "execution_count": 91,
     "metadata": {},
     "output_type": "execute_result"
    },
    {
     "data": {
      "text/plain": [
       "1"
      ]
     },
     "execution_count": 91,
     "metadata": {},
     "output_type": "execute_result"
    },
    {
     "data": {
      "text/plain": [
       "18"
      ]
     },
     "execution_count": 91,
     "metadata": {},
     "output_type": "execute_result"
    },
    {
     "data": {
      "text/plain": [
       "1"
      ]
     },
     "execution_count": 91,
     "metadata": {},
     "output_type": "execute_result"
    },
    {
     "data": {
      "text/plain": [
       "18"
      ]
     },
     "execution_count": 91,
     "metadata": {},
     "output_type": "execute_result"
    },
    {
     "data": {
      "text/plain": [
       "1"
      ]
     },
     "execution_count": 91,
     "metadata": {},
     "output_type": "execute_result"
    },
    {
     "data": {
      "text/plain": [
       "29"
      ]
     },
     "execution_count": 91,
     "metadata": {},
     "output_type": "execute_result"
    },
    {
     "data": {
      "text/plain": [
       "1"
      ]
     },
     "execution_count": 91,
     "metadata": {},
     "output_type": "execute_result"
    },
    {
     "data": {
      "text/plain": [
       "22"
      ]
     },
     "execution_count": 91,
     "metadata": {},
     "output_type": "execute_result"
    },
    {
     "data": {
      "text/plain": [
       "1"
      ]
     },
     "execution_count": 91,
     "metadata": {},
     "output_type": "execute_result"
    },
    {
     "data": {
      "text/plain": [
       "17"
      ]
     },
     "execution_count": 91,
     "metadata": {},
     "output_type": "execute_result"
    },
    {
     "data": {
      "text/plain": [
       "1"
      ]
     },
     "execution_count": 91,
     "metadata": {},
     "output_type": "execute_result"
    },
    {
     "data": {
      "text/plain": [
       "26"
      ]
     },
     "execution_count": 91,
     "metadata": {},
     "output_type": "execute_result"
    },
    {
     "data": {
      "text/plain": [
       "1"
      ]
     },
     "execution_count": 91,
     "metadata": {},
     "output_type": "execute_result"
    },
    {
     "data": {
      "text/plain": [
       "24"
      ]
     },
     "execution_count": 91,
     "metadata": {},
     "output_type": "execute_result"
    },
    {
     "data": {
      "text/plain": [
       "1"
      ]
     },
     "execution_count": 91,
     "metadata": {},
     "output_type": "execute_result"
    },
    {
     "data": {
      "text/plain": [
       "19"
      ]
     },
     "execution_count": 91,
     "metadata": {},
     "output_type": "execute_result"
    },
    {
     "data": {
      "text/plain": [
       "1"
      ]
     },
     "execution_count": 91,
     "metadata": {},
     "output_type": "execute_result"
    },
    {
     "data": {
      "text/plain": [
       "20"
      ]
     },
     "execution_count": 91,
     "metadata": {},
     "output_type": "execute_result"
    },
    {
     "data": {
      "text/plain": [
       "1"
      ]
     },
     "execution_count": 91,
     "metadata": {},
     "output_type": "execute_result"
    },
    {
     "data": {
      "text/plain": [
       "21"
      ]
     },
     "execution_count": 91,
     "metadata": {},
     "output_type": "execute_result"
    },
    {
     "data": {
      "text/plain": [
       "1"
      ]
     },
     "execution_count": 91,
     "metadata": {},
     "output_type": "execute_result"
    },
    {
     "data": {
      "text/plain": [
       "23"
      ]
     },
     "execution_count": 91,
     "metadata": {},
     "output_type": "execute_result"
    },
    {
     "data": {
      "text/plain": [
       "1"
      ]
     },
     "execution_count": 91,
     "metadata": {},
     "output_type": "execute_result"
    },
    {
     "data": {
      "text/plain": [
       "21"
      ]
     },
     "execution_count": 91,
     "metadata": {},
     "output_type": "execute_result"
    },
    {
     "data": {
      "text/plain": [
       "1"
      ]
     },
     "execution_count": 91,
     "metadata": {},
     "output_type": "execute_result"
    },
    {
     "data": {
      "text/plain": [
       "24"
      ]
     },
     "execution_count": 91,
     "metadata": {},
     "output_type": "execute_result"
    },
    {
     "data": {
      "text/plain": [
       "1"
      ]
     },
     "execution_count": 91,
     "metadata": {},
     "output_type": "execute_result"
    },
    {
     "data": {
      "text/plain": [
       "21"
      ]
     },
     "execution_count": 91,
     "metadata": {},
     "output_type": "execute_result"
    },
    {
     "data": {
      "text/plain": [
       "1"
      ]
     },
     "execution_count": 91,
     "metadata": {},
     "output_type": "execute_result"
    },
    {
     "data": {
      "text/plain": [
       "21"
      ]
     },
     "execution_count": 91,
     "metadata": {},
     "output_type": "execute_result"
    },
    {
     "data": {
      "text/plain": [
       "1"
      ]
     },
     "execution_count": 91,
     "metadata": {},
     "output_type": "execute_result"
    },
    {
     "data": {
      "text/plain": [
       "18"
      ]
     },
     "execution_count": 91,
     "metadata": {},
     "output_type": "execute_result"
    },
    {
     "data": {
      "text/plain": [
       "1"
      ]
     },
     "execution_count": 91,
     "metadata": {},
     "output_type": "execute_result"
    },
    {
     "data": {
      "text/plain": [
       "22"
      ]
     },
     "execution_count": 91,
     "metadata": {},
     "output_type": "execute_result"
    },
    {
     "data": {
      "text/plain": [
       "1"
      ]
     },
     "execution_count": 91,
     "metadata": {},
     "output_type": "execute_result"
    },
    {
     "data": {
      "text/plain": [
       "23"
      ]
     },
     "execution_count": 91,
     "metadata": {},
     "output_type": "execute_result"
    },
    {
     "data": {
      "text/plain": [
       "1"
      ]
     },
     "execution_count": 91,
     "metadata": {},
     "output_type": "execute_result"
    },
    {
     "data": {
      "text/plain": [
       "21"
      ]
     },
     "execution_count": 91,
     "metadata": {},
     "output_type": "execute_result"
    },
    {
     "data": {
      "text/plain": [
       "1"
      ]
     },
     "execution_count": 91,
     "metadata": {},
     "output_type": "execute_result"
    },
    {
     "data": {
      "text/plain": [
       "24"
      ]
     },
     "execution_count": 91,
     "metadata": {},
     "output_type": "execute_result"
    },
    {
     "data": {
      "text/plain": [
       "1"
      ]
     },
     "execution_count": 91,
     "metadata": {},
     "output_type": "execute_result"
    },
    {
     "data": {
      "text/plain": [
       "25"
      ]
     },
     "execution_count": 91,
     "metadata": {},
     "output_type": "execute_result"
    },
    {
     "data": {
      "text/plain": [
       "1"
      ]
     },
     "execution_count": 91,
     "metadata": {},
     "output_type": "execute_result"
    },
    {
     "data": {
      "text/plain": [
       "37"
      ]
     },
     "execution_count": 91,
     "metadata": {},
     "output_type": "execute_result"
    },
    {
     "data": {
      "text/plain": [
       "1"
      ]
     },
     "execution_count": 91,
     "metadata": {},
     "output_type": "execute_result"
    },
    {
     "data": {
      "text/plain": [
       "20"
      ]
     },
     "execution_count": 91,
     "metadata": {},
     "output_type": "execute_result"
    },
    {
     "data": {
      "text/plain": [
       "1"
      ]
     },
     "execution_count": 91,
     "metadata": {},
     "output_type": "execute_result"
    },
    {
     "data": {
      "text/plain": [
       "19"
      ]
     },
     "execution_count": 91,
     "metadata": {},
     "output_type": "execute_result"
    },
    {
     "data": {
      "text/plain": [
       "1"
      ]
     },
     "execution_count": 91,
     "metadata": {},
     "output_type": "execute_result"
    },
    {
     "data": {
      "text/plain": [
       "20"
      ]
     },
     "execution_count": 91,
     "metadata": {},
     "output_type": "execute_result"
    },
    {
     "data": {
      "text/plain": [
       "1"
      ]
     },
     "execution_count": 91,
     "metadata": {},
     "output_type": "execute_result"
    },
    {
     "data": {
      "text/plain": [
       "18"
      ]
     },
     "execution_count": 91,
     "metadata": {},
     "output_type": "execute_result"
    },
    {
     "data": {
      "text/plain": [
       "1"
      ]
     },
     "execution_count": 91,
     "metadata": {},
     "output_type": "execute_result"
    },
    {
     "data": {
      "text/plain": [
       "21"
      ]
     },
     "execution_count": 91,
     "metadata": {},
     "output_type": "execute_result"
    },
    {
     "data": {
      "text/plain": [
       "1"
      ]
     },
     "execution_count": 91,
     "metadata": {},
     "output_type": "execute_result"
    },
    {
     "data": {
      "text/plain": [
       "18"
      ]
     },
     "execution_count": 91,
     "metadata": {},
     "output_type": "execute_result"
    },
    {
     "data": {
      "text/plain": [
       "1"
      ]
     },
     "execution_count": 91,
     "metadata": {},
     "output_type": "execute_result"
    },
    {
     "data": {
      "text/plain": [
       "18"
      ]
     },
     "execution_count": 91,
     "metadata": {},
     "output_type": "execute_result"
    },
    {
     "data": {
      "text/plain": [
       "1"
      ]
     },
     "execution_count": 91,
     "metadata": {},
     "output_type": "execute_result"
    },
    {
     "data": {
      "text/plain": [
       "29"
      ]
     },
     "execution_count": 91,
     "metadata": {},
     "output_type": "execute_result"
    },
    {
     "data": {
      "text/plain": [
       "1"
      ]
     },
     "execution_count": 91,
     "metadata": {},
     "output_type": "execute_result"
    },
    {
     "data": {
      "text/plain": [
       "22"
      ]
     },
     "execution_count": 91,
     "metadata": {},
     "output_type": "execute_result"
    },
    {
     "data": {
      "text/plain": [
       "1"
      ]
     },
     "execution_count": 91,
     "metadata": {},
     "output_type": "execute_result"
    },
    {
     "data": {
      "text/plain": [
       "15"
      ]
     },
     "execution_count": 91,
     "metadata": {},
     "output_type": "execute_result"
    },
    {
     "data": {
      "text/plain": [
       "1"
      ]
     },
     "execution_count": 91,
     "metadata": {},
     "output_type": "execute_result"
    },
    {
     "data": {
      "text/plain": [
       "17"
      ]
     },
     "execution_count": 91,
     "metadata": {},
     "output_type": "execute_result"
    },
    {
     "data": {
      "text/plain": [
       "1"
      ]
     },
     "execution_count": 91,
     "metadata": {},
     "output_type": "execute_result"
    },
    {
     "data": {
      "text/plain": [
       "26"
      ]
     },
     "execution_count": 91,
     "metadata": {},
     "output_type": "execute_result"
    },
    {
     "data": {
      "text/plain": [
       "1"
      ]
     },
     "execution_count": 91,
     "metadata": {},
     "output_type": "execute_result"
    },
    {
     "data": {
      "text/plain": [
       "19"
      ]
     },
     "execution_count": 91,
     "metadata": {},
     "output_type": "execute_result"
    },
    {
     "data": {
      "text/plain": [
       "1"
      ]
     },
     "execution_count": 91,
     "metadata": {},
     "output_type": "execute_result"
    },
    {
     "data": {
      "text/plain": [
       "34"
      ]
     },
     "execution_count": 91,
     "metadata": {},
     "output_type": "execute_result"
    },
    {
     "data": {
      "text/plain": [
       "1"
      ]
     },
     "execution_count": 91,
     "metadata": {},
     "output_type": "execute_result"
    },
    {
     "data": {
      "text/plain": [
       "21"
      ]
     },
     "execution_count": 91,
     "metadata": {},
     "output_type": "execute_result"
    },
    {
     "data": {
      "text/plain": [
       "1"
      ]
     },
     "execution_count": 91,
     "metadata": {},
     "output_type": "execute_result"
    },
    {
     "data": {
      "text/plain": [
       "23"
      ]
     },
     "execution_count": 91,
     "metadata": {},
     "output_type": "execute_result"
    },
    {
     "data": {
      "text/plain": [
       "1"
      ]
     },
     "execution_count": 91,
     "metadata": {},
     "output_type": "execute_result"
    },
    {
     "data": {
      "text/plain": [
       "21"
      ]
     },
     "execution_count": 91,
     "metadata": {},
     "output_type": "execute_result"
    },
    {
     "data": {
      "text/plain": [
       "1"
      ]
     },
     "execution_count": 91,
     "metadata": {},
     "output_type": "execute_result"
    },
    {
     "data": {
      "text/plain": [
       "24"
      ]
     },
     "execution_count": 91,
     "metadata": {},
     "output_type": "execute_result"
    },
    {
     "data": {
      "text/plain": [
       "1"
      ]
     },
     "execution_count": 91,
     "metadata": {},
     "output_type": "execute_result"
    },
    {
     "data": {
      "text/plain": [
       "21"
      ]
     },
     "execution_count": 91,
     "metadata": {},
     "output_type": "execute_result"
    },
    {
     "data": {
      "text/plain": [
       "1"
      ]
     },
     "execution_count": 91,
     "metadata": {},
     "output_type": "execute_result"
    },
    {
     "data": {
      "text/plain": [
       "21"
      ]
     },
     "execution_count": 91,
     "metadata": {},
     "output_type": "execute_result"
    },
    {
     "data": {
      "text/plain": [
       "1"
      ]
     },
     "execution_count": 91,
     "metadata": {},
     "output_type": "execute_result"
    },
    {
     "data": {
      "text/plain": [
       "25"
      ]
     },
     "execution_count": 91,
     "metadata": {},
     "output_type": "execute_result"
    },
    {
     "data": {
      "text/plain": [
       "1"
      ]
     },
     "execution_count": 91,
     "metadata": {},
     "output_type": "execute_result"
    },
    {
     "data": {
      "text/plain": [
       "20"
      ]
     },
     "execution_count": 91,
     "metadata": {},
     "output_type": "execute_result"
    },
    {
     "data": {
      "text/plain": [
       "1"
      ]
     },
     "execution_count": 91,
     "metadata": {},
     "output_type": "execute_result"
    },
    {
     "data": {
      "text/plain": [
       "19"
      ]
     },
     "execution_count": 91,
     "metadata": {},
     "output_type": "execute_result"
    },
    {
     "data": {
      "text/plain": [
       "1"
      ]
     },
     "execution_count": 91,
     "metadata": {},
     "output_type": "execute_result"
    },
    {
     "data": {
      "text/plain": [
       "19"
      ]
     },
     "execution_count": 91,
     "metadata": {},
     "output_type": "execute_result"
    },
    {
     "data": {
      "text/plain": [
       "1"
      ]
     },
     "execution_count": 91,
     "metadata": {},
     "output_type": "execute_result"
    },
    {
     "data": {
      "text/plain": [
       "18"
      ]
     },
     "execution_count": 91,
     "metadata": {},
     "output_type": "execute_result"
    },
    {
     "data": {
      "text/plain": [
       "1"
      ]
     },
     "execution_count": 91,
     "metadata": {},
     "output_type": "execute_result"
    },
    {
     "data": {
      "text/plain": [
       "16"
      ]
     },
     "execution_count": 91,
     "metadata": {},
     "output_type": "execute_result"
    },
    {
     "data": {
      "text/plain": [
       "1"
      ]
     },
     "execution_count": 91,
     "metadata": {},
     "output_type": "execute_result"
    },
    {
     "data": {
      "text/plain": [
       "19"
      ]
     },
     "execution_count": 91,
     "metadata": {},
     "output_type": "execute_result"
    },
    {
     "data": {
      "text/plain": [
       "1"
      ]
     },
     "execution_count": 91,
     "metadata": {},
     "output_type": "execute_result"
    },
    {
     "data": {
      "text/plain": [
       "16"
      ]
     },
     "execution_count": 91,
     "metadata": {},
     "output_type": "execute_result"
    },
    {
     "data": {
      "text/plain": [
       "1"
      ]
     },
     "execution_count": 91,
     "metadata": {},
     "output_type": "execute_result"
    },
    {
     "data": {
      "text/plain": [
       "13"
      ]
     },
     "execution_count": 91,
     "metadata": {},
     "output_type": "execute_result"
    },
    {
     "data": {
      "text/plain": [
       "1"
      ]
     },
     "execution_count": 91,
     "metadata": {},
     "output_type": "execute_result"
    },
    {
     "data": {
      "text/plain": [
       "20"
      ]
     },
     "execution_count": 91,
     "metadata": {},
     "output_type": "execute_result"
    },
    {
     "data": {
      "text/plain": [
       "1"
      ]
     },
     "execution_count": 91,
     "metadata": {},
     "output_type": "execute_result"
    },
    {
     "data": {
      "text/plain": [
       "21"
      ]
     },
     "execution_count": 91,
     "metadata": {},
     "output_type": "execute_result"
    },
    {
     "data": {
      "text/plain": [
       "1"
      ]
     },
     "execution_count": 91,
     "metadata": {},
     "output_type": "execute_result"
    },
    {
     "data": {
      "text/plain": [
       "19"
      ]
     },
     "execution_count": 91,
     "metadata": {},
     "output_type": "execute_result"
    },
    {
     "data": {
      "text/plain": [
       "1"
      ]
     },
     "execution_count": 91,
     "metadata": {},
     "output_type": "execute_result"
    },
    {
     "data": {
      "text/plain": [
       "22"
      ]
     },
     "execution_count": 91,
     "metadata": {},
     "output_type": "execute_result"
    },
    {
     "data": {
      "text/plain": [
       "1"
      ]
     },
     "execution_count": 91,
     "metadata": {},
     "output_type": "execute_result"
    },
    {
     "data": {
      "text/plain": [
       "19"
      ]
     },
     "execution_count": 91,
     "metadata": {},
     "output_type": "execute_result"
    },
    {
     "data": {
      "text/plain": [
       "1"
      ]
     },
     "execution_count": 91,
     "metadata": {},
     "output_type": "execute_result"
    },
    {
     "data": {
      "text/plain": [
       "23"
      ]
     },
     "execution_count": 91,
     "metadata": {},
     "output_type": "execute_result"
    },
    {
     "data": {
      "text/plain": [
       "1"
      ]
     },
     "execution_count": 91,
     "metadata": {},
     "output_type": "execute_result"
    },
    {
     "data": {
      "text/plain": [
       "20"
      ]
     },
     "execution_count": 91,
     "metadata": {},
     "output_type": "execute_result"
    },
    {
     "data": {
      "text/plain": [
       "1"
      ]
     },
     "execution_count": 91,
     "metadata": {},
     "output_type": "execute_result"
    }
   ],
   "source": [
    "sif_file = []\n",
    "for lines in sif_lines:\n",
    "    if len(lines) != 0:\n",
    "         sif_file.extend(lines)\n",
    "sif_file\n",
    "\n",
    "f = open(\"lncRNA_and_hallmarks.sif\", \"w\")\n",
    "for l in sif_file:\n",
    "    f.write(l)\n",
    "    f.write('\\n')\n",
    "f.close()"
   ]
  },
  {
   "cell_type": "code",
   "execution_count": 92,
   "metadata": {},
   "outputs": [
    {
     "data": {
      "text/html": [
       "<div>\n",
       "<style scoped>\n",
       "    .dataframe tbody tr th:only-of-type {\n",
       "        vertical-align: middle;\n",
       "    }\n",
       "\n",
       "    .dataframe tbody tr th {\n",
       "        vertical-align: top;\n",
       "    }\n",
       "\n",
       "    .dataframe thead th {\n",
       "        text-align: right;\n",
       "    }\n",
       "</style>\n",
       "<table border=\"1\" class=\"dataframe\">\n",
       "  <thead>\n",
       "    <tr style=\"text-align: right;\">\n",
       "      <th></th>\n",
       "      <th>lncRNA</th>\n",
       "      <th>num_up_regulated</th>\n",
       "      <th>num_down_regulated</th>\n",
       "      <th>Normal_mean</th>\n",
       "      <th>BLCA_mean</th>\n",
       "      <th>BRCA_mean</th>\n",
       "      <th>COAD_mean</th>\n",
       "      <th>ESCA_mean</th>\n",
       "      <th>HNSC_mean</th>\n",
       "      <th>KIRC_mean</th>\n",
       "      <th>...</th>\n",
       "      <th>EMT</th>\n",
       "      <th>immun</th>\n",
       "      <th>cell cycle progression</th>\n",
       "      <th>oncogen</th>\n",
       "      <th>tumor suppress</th>\n",
       "      <th>growth arrest</th>\n",
       "      <th>metaboli</th>\n",
       "      <th>autophag</th>\n",
       "      <th>angiogenesis</th>\n",
       "      <th>prognosis</th>\n",
       "    </tr>\n",
       "  </thead>\n",
       "  <tbody>\n",
       "    <tr>\n",
       "      <th>1</th>\n",
       "      <td>MIR155HG</td>\n",
       "      <td>5</td>\n",
       "      <td>2</td>\n",
       "      <td>0.018837</td>\n",
       "      <td>0.032774</td>\n",
       "      <td>0.053177</td>\n",
       "      <td>0.022943</td>\n",
       "      <td>0.023924</td>\n",
       "      <td>0.021854</td>\n",
       "      <td>0.018237</td>\n",
       "      <td>...</td>\n",
       "      <td>1</td>\n",
       "      <td>0</td>\n",
       "      <td>0</td>\n",
       "      <td>0</td>\n",
       "      <td>1</td>\n",
       "      <td>0</td>\n",
       "      <td>0</td>\n",
       "      <td>0</td>\n",
       "      <td>0</td>\n",
       "      <td>0</td>\n",
       "    </tr>\n",
       "    <tr>\n",
       "      <th>2</th>\n",
       "      <td>HOXA10-AS</td>\n",
       "      <td>3</td>\n",
       "      <td>0</td>\n",
       "      <td>0.083531</td>\n",
       "      <td>0.168411</td>\n",
       "      <td>0.215638</td>\n",
       "      <td>0.045964</td>\n",
       "      <td>0.061428</td>\n",
       "      <td>0.056320</td>\n",
       "      <td>0.055679</td>\n",
       "      <td>...</td>\n",
       "      <td>1</td>\n",
       "      <td>0</td>\n",
       "      <td>0</td>\n",
       "      <td>1</td>\n",
       "      <td>0</td>\n",
       "      <td>0</td>\n",
       "      <td>0</td>\n",
       "      <td>0</td>\n",
       "      <td>0</td>\n",
       "      <td>0</td>\n",
       "    </tr>\n",
       "    <tr>\n",
       "      <th>6</th>\n",
       "      <td>LINC00261</td>\n",
       "      <td>2</td>\n",
       "      <td>15</td>\n",
       "      <td>0.387776</td>\n",
       "      <td>0.268930</td>\n",
       "      <td>0.295492</td>\n",
       "      <td>0.445194</td>\n",
       "      <td>0.387731</td>\n",
       "      <td>0.372505</td>\n",
       "      <td>0.353937</td>\n",
       "      <td>...</td>\n",
       "      <td>5</td>\n",
       "      <td>0</td>\n",
       "      <td>0</td>\n",
       "      <td>0</td>\n",
       "      <td>0</td>\n",
       "      <td>0</td>\n",
       "      <td>0</td>\n",
       "      <td>0</td>\n",
       "      <td>0</td>\n",
       "      <td>1</td>\n",
       "    </tr>\n",
       "    <tr>\n",
       "      <th>9</th>\n",
       "      <td>HOXC-AS1</td>\n",
       "      <td>2</td>\n",
       "      <td>0</td>\n",
       "      <td>0.052598</td>\n",
       "      <td>0.145170</td>\n",
       "      <td>0.039105</td>\n",
       "      <td>0.408551</td>\n",
       "      <td>0.051315</td>\n",
       "      <td>0.138784</td>\n",
       "      <td>0.033449</td>\n",
       "      <td>...</td>\n",
       "      <td>1</td>\n",
       "      <td>0</td>\n",
       "      <td>0</td>\n",
       "      <td>0</td>\n",
       "      <td>0</td>\n",
       "      <td>0</td>\n",
       "      <td>0</td>\n",
       "      <td>0</td>\n",
       "      <td>0</td>\n",
       "      <td>0</td>\n",
       "    </tr>\n",
       "    <tr>\n",
       "      <th>15</th>\n",
       "      <td>NBR2</td>\n",
       "      <td>1</td>\n",
       "      <td>3</td>\n",
       "      <td>0.623364</td>\n",
       "      <td>0.438097</td>\n",
       "      <td>0.569988</td>\n",
       "      <td>0.511762</td>\n",
       "      <td>0.346179</td>\n",
       "      <td>0.447754</td>\n",
       "      <td>0.620063</td>\n",
       "      <td>...</td>\n",
       "      <td>2</td>\n",
       "      <td>0</td>\n",
       "      <td>0</td>\n",
       "      <td>0</td>\n",
       "      <td>0</td>\n",
       "      <td>0</td>\n",
       "      <td>0</td>\n",
       "      <td>0</td>\n",
       "      <td>0</td>\n",
       "      <td>0</td>\n",
       "    </tr>\n",
       "    <tr>\n",
       "      <th>28</th>\n",
       "      <td>NR2F1-AS1</td>\n",
       "      <td>4</td>\n",
       "      <td>1</td>\n",
       "      <td>0.357393</td>\n",
       "      <td>0.199661</td>\n",
       "      <td>0.525647</td>\n",
       "      <td>0.573689</td>\n",
       "      <td>0.344076</td>\n",
       "      <td>0.283069</td>\n",
       "      <td>0.255880</td>\n",
       "      <td>...</td>\n",
       "      <td>1</td>\n",
       "      <td>0</td>\n",
       "      <td>0</td>\n",
       "      <td>0</td>\n",
       "      <td>0</td>\n",
       "      <td>0</td>\n",
       "      <td>0</td>\n",
       "      <td>0</td>\n",
       "      <td>0</td>\n",
       "      <td>0</td>\n",
       "    </tr>\n",
       "    <tr>\n",
       "      <th>33</th>\n",
       "      <td>VIM-AS1</td>\n",
       "      <td>1</td>\n",
       "      <td>0</td>\n",
       "      <td>0.080544</td>\n",
       "      <td>0.296507</td>\n",
       "      <td>0.124400</td>\n",
       "      <td>0.140046</td>\n",
       "      <td>0.094045</td>\n",
       "      <td>0.074775</td>\n",
       "      <td>0.037007</td>\n",
       "      <td>...</td>\n",
       "      <td>1</td>\n",
       "      <td>0</td>\n",
       "      <td>0</td>\n",
       "      <td>0</td>\n",
       "      <td>0</td>\n",
       "      <td>0</td>\n",
       "      <td>0</td>\n",
       "      <td>0</td>\n",
       "      <td>0</td>\n",
       "      <td>0</td>\n",
       "    </tr>\n",
       "    <tr>\n",
       "      <th>34</th>\n",
       "      <td>CASC15</td>\n",
       "      <td>23</td>\n",
       "      <td>1</td>\n",
       "      <td>0.674498</td>\n",
       "      <td>0.554896</td>\n",
       "      <td>0.863343</td>\n",
       "      <td>0.756093</td>\n",
       "      <td>0.670388</td>\n",
       "      <td>0.662812</td>\n",
       "      <td>0.497130</td>\n",
       "      <td>...</td>\n",
       "      <td>3</td>\n",
       "      <td>2</td>\n",
       "      <td>0</td>\n",
       "      <td>0</td>\n",
       "      <td>0</td>\n",
       "      <td>0</td>\n",
       "      <td>0</td>\n",
       "      <td>0</td>\n",
       "      <td>0</td>\n",
       "      <td>1</td>\n",
       "    </tr>\n",
       "    <tr>\n",
       "      <th>37</th>\n",
       "      <td>HOXA-AS2</td>\n",
       "      <td>26</td>\n",
       "      <td>0</td>\n",
       "      <td>0.339322</td>\n",
       "      <td>0.612697</td>\n",
       "      <td>0.594869</td>\n",
       "      <td>0.249272</td>\n",
       "      <td>0.434659</td>\n",
       "      <td>0.628919</td>\n",
       "      <td>0.315512</td>\n",
       "      <td>...</td>\n",
       "      <td>2</td>\n",
       "      <td>0</td>\n",
       "      <td>0</td>\n",
       "      <td>3</td>\n",
       "      <td>0</td>\n",
       "      <td>0</td>\n",
       "      <td>0</td>\n",
       "      <td>0</td>\n",
       "      <td>0</td>\n",
       "      <td>1</td>\n",
       "    </tr>\n",
       "    <tr>\n",
       "      <th>40</th>\n",
       "      <td>LMCD1-AS1</td>\n",
       "      <td>2</td>\n",
       "      <td>1</td>\n",
       "      <td>0.893025</td>\n",
       "      <td>0.867080</td>\n",
       "      <td>0.874049</td>\n",
       "      <td>0.781766</td>\n",
       "      <td>0.854628</td>\n",
       "      <td>0.909566</td>\n",
       "      <td>0.765755</td>\n",
       "      <td>...</td>\n",
       "      <td>1</td>\n",
       "      <td>0</td>\n",
       "      <td>0</td>\n",
       "      <td>0</td>\n",
       "      <td>0</td>\n",
       "      <td>0</td>\n",
       "      <td>0</td>\n",
       "      <td>0</td>\n",
       "      <td>0</td>\n",
       "      <td>0</td>\n",
       "    </tr>\n",
       "    <tr>\n",
       "      <th>41</th>\n",
       "      <td>LINC00511</td>\n",
       "      <td>26</td>\n",
       "      <td>1</td>\n",
       "      <td>0.596270</td>\n",
       "      <td>0.842545</td>\n",
       "      <td>0.907055</td>\n",
       "      <td>0.927231</td>\n",
       "      <td>0.934182</td>\n",
       "      <td>0.923792</td>\n",
       "      <td>0.314607</td>\n",
       "      <td>...</td>\n",
       "      <td>1</td>\n",
       "      <td>0</td>\n",
       "      <td>0</td>\n",
       "      <td>6</td>\n",
       "      <td>0</td>\n",
       "      <td>0</td>\n",
       "      <td>0</td>\n",
       "      <td>0</td>\n",
       "      <td>0</td>\n",
       "      <td>0</td>\n",
       "    </tr>\n",
       "    <tr>\n",
       "      <th>45</th>\n",
       "      <td>ZFAS1</td>\n",
       "      <td>53</td>\n",
       "      <td>6</td>\n",
       "      <td>0.036730</td>\n",
       "      <td>0.033794</td>\n",
       "      <td>0.039924</td>\n",
       "      <td>0.033686</td>\n",
       "      <td>0.031201</td>\n",
       "      <td>0.034326</td>\n",
       "      <td>0.034794</td>\n",
       "      <td>...</td>\n",
       "      <td>2</td>\n",
       "      <td>2</td>\n",
       "      <td>3</td>\n",
       "      <td>9</td>\n",
       "      <td>6</td>\n",
       "      <td>0</td>\n",
       "      <td>0</td>\n",
       "      <td>0</td>\n",
       "      <td>1</td>\n",
       "      <td>3</td>\n",
       "    </tr>\n",
       "    <tr>\n",
       "      <th>47</th>\n",
       "      <td>PVT1</td>\n",
       "      <td>166</td>\n",
       "      <td>8</td>\n",
       "      <td>0.686990</td>\n",
       "      <td>0.280228</td>\n",
       "      <td>0.405820</td>\n",
       "      <td>0.765177</td>\n",
       "      <td>0.685862</td>\n",
       "      <td>0.625918</td>\n",
       "      <td>0.581102</td>\n",
       "      <td>...</td>\n",
       "      <td>4</td>\n",
       "      <td>8</td>\n",
       "      <td>3</td>\n",
       "      <td>12</td>\n",
       "      <td>2</td>\n",
       "      <td>0</td>\n",
       "      <td>3</td>\n",
       "      <td>4</td>\n",
       "      <td>4</td>\n",
       "      <td>11</td>\n",
       "    </tr>\n",
       "    <tr>\n",
       "      <th>51</th>\n",
       "      <td>SNHG14</td>\n",
       "      <td>22</td>\n",
       "      <td>1</td>\n",
       "      <td>0.561047</td>\n",
       "      <td>0.438925</td>\n",
       "      <td>0.503927</td>\n",
       "      <td>0.409623</td>\n",
       "      <td>0.332636</td>\n",
       "      <td>0.401845</td>\n",
       "      <td>0.538998</td>\n",
       "      <td>...</td>\n",
       "      <td>4</td>\n",
       "      <td>1</td>\n",
       "      <td>0</td>\n",
       "      <td>1</td>\n",
       "      <td>0</td>\n",
       "      <td>0</td>\n",
       "      <td>0</td>\n",
       "      <td>0</td>\n",
       "      <td>0</td>\n",
       "      <td>0</td>\n",
       "    </tr>\n",
       "    <tr>\n",
       "      <th>52</th>\n",
       "      <td>JPX</td>\n",
       "      <td>2</td>\n",
       "      <td>4</td>\n",
       "      <td>0.691275</td>\n",
       "      <td>0.477750</td>\n",
       "      <td>0.568867</td>\n",
       "      <td>0.610634</td>\n",
       "      <td>0.436025</td>\n",
       "      <td>0.494248</td>\n",
       "      <td>0.810601</td>\n",
       "      <td>...</td>\n",
       "      <td>1</td>\n",
       "      <td>0</td>\n",
       "      <td>0</td>\n",
       "      <td>1</td>\n",
       "      <td>0</td>\n",
       "      <td>0</td>\n",
       "      <td>0</td>\n",
       "      <td>0</td>\n",
       "      <td>0</td>\n",
       "      <td>0</td>\n",
       "    </tr>\n",
       "    <tr>\n",
       "      <th>56</th>\n",
       "      <td>ZEB1-AS1</td>\n",
       "      <td>37</td>\n",
       "      <td>0</td>\n",
       "      <td>0.216985</td>\n",
       "      <td>0.116362</td>\n",
       "      <td>0.108813</td>\n",
       "      <td>0.203482</td>\n",
       "      <td>0.154224</td>\n",
       "      <td>0.164333</td>\n",
       "      <td>0.138764</td>\n",
       "      <td>...</td>\n",
       "      <td>5</td>\n",
       "      <td>1</td>\n",
       "      <td>0</td>\n",
       "      <td>5</td>\n",
       "      <td>0</td>\n",
       "      <td>0</td>\n",
       "      <td>0</td>\n",
       "      <td>0</td>\n",
       "      <td>0</td>\n",
       "      <td>0</td>\n",
       "    </tr>\n",
       "    <tr>\n",
       "      <th>58</th>\n",
       "      <td>OIP5-AS1</td>\n",
       "      <td>24</td>\n",
       "      <td>3</td>\n",
       "      <td>0.046691</td>\n",
       "      <td>0.042226</td>\n",
       "      <td>0.041785</td>\n",
       "      <td>0.045416</td>\n",
       "      <td>0.042360</td>\n",
       "      <td>0.046677</td>\n",
       "      <td>0.043790</td>\n",
       "      <td>...</td>\n",
       "      <td>1</td>\n",
       "      <td>0</td>\n",
       "      <td>0</td>\n",
       "      <td>4</td>\n",
       "      <td>0</td>\n",
       "      <td>0</td>\n",
       "      <td>0</td>\n",
       "      <td>0</td>\n",
       "      <td>0</td>\n",
       "      <td>0</td>\n",
       "    </tr>\n",
       "    <tr>\n",
       "      <th>68</th>\n",
       "      <td>ZEB1</td>\n",
       "      <td>2</td>\n",
       "      <td>0</td>\n",
       "      <td>0.216985</td>\n",
       "      <td>0.116362</td>\n",
       "      <td>0.108813</td>\n",
       "      <td>0.203482</td>\n",
       "      <td>0.154224</td>\n",
       "      <td>0.164333</td>\n",
       "      <td>0.138764</td>\n",
       "      <td>...</td>\n",
       "      <td>1</td>\n",
       "      <td>0</td>\n",
       "      <td>0</td>\n",
       "      <td>0</td>\n",
       "      <td>0</td>\n",
       "      <td>0</td>\n",
       "      <td>0</td>\n",
       "      <td>0</td>\n",
       "      <td>0</td>\n",
       "      <td>0</td>\n",
       "    </tr>\n",
       "    <tr>\n",
       "      <th>70</th>\n",
       "      <td>HOXA11-AS</td>\n",
       "      <td>41</td>\n",
       "      <td>5</td>\n",
       "      <td>0.057071</td>\n",
       "      <td>0.064844</td>\n",
       "      <td>0.152085</td>\n",
       "      <td>0.038493</td>\n",
       "      <td>0.042252</td>\n",
       "      <td>0.053802</td>\n",
       "      <td>0.051246</td>\n",
       "      <td>...</td>\n",
       "      <td>4</td>\n",
       "      <td>1</td>\n",
       "      <td>1</td>\n",
       "      <td>7</td>\n",
       "      <td>2</td>\n",
       "      <td>0</td>\n",
       "      <td>0</td>\n",
       "      <td>0</td>\n",
       "      <td>0</td>\n",
       "      <td>0</td>\n",
       "    </tr>\n",
       "    <tr>\n",
       "      <th>75</th>\n",
       "      <td>HOTAIR</td>\n",
       "      <td>371</td>\n",
       "      <td>25</td>\n",
       "      <td>0.161935</td>\n",
       "      <td>0.236304</td>\n",
       "      <td>0.449663</td>\n",
       "      <td>0.326559</td>\n",
       "      <td>0.476729</td>\n",
       "      <td>0.377406</td>\n",
       "      <td>0.238066</td>\n",
       "      <td>...</td>\n",
       "      <td>23</td>\n",
       "      <td>5</td>\n",
       "      <td>7</td>\n",
       "      <td>9</td>\n",
       "      <td>5</td>\n",
       "      <td>0</td>\n",
       "      <td>2</td>\n",
       "      <td>11</td>\n",
       "      <td>2</td>\n",
       "      <td>41</td>\n",
       "    </tr>\n",
       "    <tr>\n",
       "      <th>86</th>\n",
       "      <td>FER1L4</td>\n",
       "      <td>3</td>\n",
       "      <td>20</td>\n",
       "      <td>0.049339</td>\n",
       "      <td>0.605888</td>\n",
       "      <td>0.090179</td>\n",
       "      <td>0.232834</td>\n",
       "      <td>0.182372</td>\n",
       "      <td>0.051564</td>\n",
       "      <td>0.063857</td>\n",
       "      <td>...</td>\n",
       "      <td>1</td>\n",
       "      <td>0</td>\n",
       "      <td>0</td>\n",
       "      <td>0</td>\n",
       "      <td>3</td>\n",
       "      <td>0</td>\n",
       "      <td>0</td>\n",
       "      <td>0</td>\n",
       "      <td>0</td>\n",
       "      <td>1</td>\n",
       "    </tr>\n",
       "    <tr>\n",
       "      <th>91</th>\n",
       "      <td>NEAT1</td>\n",
       "      <td>152</td>\n",
       "      <td>15</td>\n",
       "      <td>0.886323</td>\n",
       "      <td>0.858208</td>\n",
       "      <td>0.904327</td>\n",
       "      <td>0.927745</td>\n",
       "      <td>0.888086</td>\n",
       "      <td>0.910128</td>\n",
       "      <td>0.841548</td>\n",
       "      <td>...</td>\n",
       "      <td>8</td>\n",
       "      <td>7</td>\n",
       "      <td>3</td>\n",
       "      <td>16</td>\n",
       "      <td>6</td>\n",
       "      <td>0</td>\n",
       "      <td>0</td>\n",
       "      <td>0</td>\n",
       "      <td>0</td>\n",
       "      <td>7</td>\n",
       "    </tr>\n",
       "    <tr>\n",
       "      <th>97</th>\n",
       "      <td>DLX6-AS1</td>\n",
       "      <td>35</td>\n",
       "      <td>0</td>\n",
       "      <td>0.077000</td>\n",
       "      <td>0.063888</td>\n",
       "      <td>0.201797</td>\n",
       "      <td>0.152030</td>\n",
       "      <td>0.128915</td>\n",
       "      <td>0.062055</td>\n",
       "      <td>0.089859</td>\n",
       "      <td>...</td>\n",
       "      <td>4</td>\n",
       "      <td>0</td>\n",
       "      <td>1</td>\n",
       "      <td>2</td>\n",
       "      <td>0</td>\n",
       "      <td>0</td>\n",
       "      <td>0</td>\n",
       "      <td>0</td>\n",
       "      <td>0</td>\n",
       "      <td>0</td>\n",
       "    </tr>\n",
       "    <tr>\n",
       "      <th>109</th>\n",
       "      <td>SMAD5-AS1</td>\n",
       "      <td>3</td>\n",
       "      <td>0</td>\n",
       "      <td>0.516836</td>\n",
       "      <td>0.596605</td>\n",
       "      <td>0.670965</td>\n",
       "      <td>0.670234</td>\n",
       "      <td>0.579808</td>\n",
       "      <td>0.622473</td>\n",
       "      <td>0.565694</td>\n",
       "      <td>...</td>\n",
       "      <td>1</td>\n",
       "      <td>0</td>\n",
       "      <td>0</td>\n",
       "      <td>0</td>\n",
       "      <td>0</td>\n",
       "      <td>0</td>\n",
       "      <td>0</td>\n",
       "      <td>0</td>\n",
       "      <td>0</td>\n",
       "      <td>0</td>\n",
       "    </tr>\n",
       "    <tr>\n",
       "      <th>113</th>\n",
       "      <td>HOTTIP</td>\n",
       "      <td>58</td>\n",
       "      <td>7</td>\n",
       "      <td>0.204304</td>\n",
       "      <td>0.155723</td>\n",
       "      <td>0.332622</td>\n",
       "      <td>0.120417</td>\n",
       "      <td>0.237853</td>\n",
       "      <td>0.321501</td>\n",
       "      <td>0.214470</td>\n",
       "      <td>...</td>\n",
       "      <td>6</td>\n",
       "      <td>4</td>\n",
       "      <td>2</td>\n",
       "      <td>7</td>\n",
       "      <td>2</td>\n",
       "      <td>0</td>\n",
       "      <td>0</td>\n",
       "      <td>0</td>\n",
       "      <td>0</td>\n",
       "      <td>4</td>\n",
       "    </tr>\n",
       "    <tr>\n",
       "      <th>117</th>\n",
       "      <td>SOX2</td>\n",
       "      <td>2</td>\n",
       "      <td>0</td>\n",
       "      <td>0.031184</td>\n",
       "      <td>0.030708</td>\n",
       "      <td>0.035240</td>\n",
       "      <td>0.050303</td>\n",
       "      <td>0.030586</td>\n",
       "      <td>0.028688</td>\n",
       "      <td>0.031640</td>\n",
       "      <td>...</td>\n",
       "      <td>1</td>\n",
       "      <td>0</td>\n",
       "      <td>0</td>\n",
       "      <td>0</td>\n",
       "      <td>0</td>\n",
       "      <td>0</td>\n",
       "      <td>0</td>\n",
       "      <td>0</td>\n",
       "      <td>0</td>\n",
       "      <td>0</td>\n",
       "    </tr>\n",
       "  </tbody>\n",
       "</table>\n",
       "<p>26 rows × 51 columns</p>\n",
       "</div>"
      ],
      "text/plain": [
       "        lncRNA num_up_regulated num_down_regulated  Normal_mean  BLCA_mean  \\\n",
       "1     MIR155HG                5                  2     0.018837   0.032774   \n",
       "2    HOXA10-AS                3                  0     0.083531   0.168411   \n",
       "6    LINC00261                2                 15     0.387776   0.268930   \n",
       "9     HOXC-AS1                2                  0     0.052598   0.145170   \n",
       "15        NBR2                1                  3     0.623364   0.438097   \n",
       "28   NR2F1-AS1                4                  1     0.357393   0.199661   \n",
       "33     VIM-AS1                1                  0     0.080544   0.296507   \n",
       "34      CASC15               23                  1     0.674498   0.554896   \n",
       "37    HOXA-AS2               26                  0     0.339322   0.612697   \n",
       "40   LMCD1-AS1                2                  1     0.893025   0.867080   \n",
       "41   LINC00511               26                  1     0.596270   0.842545   \n",
       "45       ZFAS1               53                  6     0.036730   0.033794   \n",
       "47        PVT1              166                  8     0.686990   0.280228   \n",
       "51      SNHG14               22                  1     0.561047   0.438925   \n",
       "52         JPX                2                  4     0.691275   0.477750   \n",
       "56    ZEB1-AS1               37                  0     0.216985   0.116362   \n",
       "58    OIP5-AS1               24                  3     0.046691   0.042226   \n",
       "68        ZEB1                2                  0     0.216985   0.116362   \n",
       "70   HOXA11-AS               41                  5     0.057071   0.064844   \n",
       "75      HOTAIR              371                 25     0.161935   0.236304   \n",
       "86      FER1L4                3                 20     0.049339   0.605888   \n",
       "91       NEAT1              152                 15     0.886323   0.858208   \n",
       "97    DLX6-AS1               35                  0     0.077000   0.063888   \n",
       "109  SMAD5-AS1                3                  0     0.516836   0.596605   \n",
       "113     HOTTIP               58                  7     0.204304   0.155723   \n",
       "117       SOX2                2                  0     0.031184   0.030708   \n",
       "\n",
       "     BRCA_mean  COAD_mean  ESCA_mean  HNSC_mean  KIRC_mean  ...  EMT  immun  \\\n",
       "1     0.053177   0.022943   0.023924   0.021854   0.018237  ...    1      0   \n",
       "2     0.215638   0.045964   0.061428   0.056320   0.055679  ...    1      0   \n",
       "6     0.295492   0.445194   0.387731   0.372505   0.353937  ...    5      0   \n",
       "9     0.039105   0.408551   0.051315   0.138784   0.033449  ...    1      0   \n",
       "15    0.569988   0.511762   0.346179   0.447754   0.620063  ...    2      0   \n",
       "28    0.525647   0.573689   0.344076   0.283069   0.255880  ...    1      0   \n",
       "33    0.124400   0.140046   0.094045   0.074775   0.037007  ...    1      0   \n",
       "34    0.863343   0.756093   0.670388   0.662812   0.497130  ...    3      2   \n",
       "37    0.594869   0.249272   0.434659   0.628919   0.315512  ...    2      0   \n",
       "40    0.874049   0.781766   0.854628   0.909566   0.765755  ...    1      0   \n",
       "41    0.907055   0.927231   0.934182   0.923792   0.314607  ...    1      0   \n",
       "45    0.039924   0.033686   0.031201   0.034326   0.034794  ...    2      2   \n",
       "47    0.405820   0.765177   0.685862   0.625918   0.581102  ...    4      8   \n",
       "51    0.503927   0.409623   0.332636   0.401845   0.538998  ...    4      1   \n",
       "52    0.568867   0.610634   0.436025   0.494248   0.810601  ...    1      0   \n",
       "56    0.108813   0.203482   0.154224   0.164333   0.138764  ...    5      1   \n",
       "58    0.041785   0.045416   0.042360   0.046677   0.043790  ...    1      0   \n",
       "68    0.108813   0.203482   0.154224   0.164333   0.138764  ...    1      0   \n",
       "70    0.152085   0.038493   0.042252   0.053802   0.051246  ...    4      1   \n",
       "75    0.449663   0.326559   0.476729   0.377406   0.238066  ...   23      5   \n",
       "86    0.090179   0.232834   0.182372   0.051564   0.063857  ...    1      0   \n",
       "91    0.904327   0.927745   0.888086   0.910128   0.841548  ...    8      7   \n",
       "97    0.201797   0.152030   0.128915   0.062055   0.089859  ...    4      0   \n",
       "109   0.670965   0.670234   0.579808   0.622473   0.565694  ...    1      0   \n",
       "113   0.332622   0.120417   0.237853   0.321501   0.214470  ...    6      4   \n",
       "117   0.035240   0.050303   0.030586   0.028688   0.031640  ...    1      0   \n",
       "\n",
       "     cell cycle progression  oncogen  tumor suppress  growth arrest  metaboli  \\\n",
       "1                         0        0               1              0         0   \n",
       "2                         0        1               0              0         0   \n",
       "6                         0        0               0              0         0   \n",
       "9                         0        0               0              0         0   \n",
       "15                        0        0               0              0         0   \n",
       "28                        0        0               0              0         0   \n",
       "33                        0        0               0              0         0   \n",
       "34                        0        0               0              0         0   \n",
       "37                        0        3               0              0         0   \n",
       "40                        0        0               0              0         0   \n",
       "41                        0        6               0              0         0   \n",
       "45                        3        9               6              0         0   \n",
       "47                        3       12               2              0         3   \n",
       "51                        0        1               0              0         0   \n",
       "52                        0        1               0              0         0   \n",
       "56                        0        5               0              0         0   \n",
       "58                        0        4               0              0         0   \n",
       "68                        0        0               0              0         0   \n",
       "70                        1        7               2              0         0   \n",
       "75                        7        9               5              0         2   \n",
       "86                        0        0               3              0         0   \n",
       "91                        3       16               6              0         0   \n",
       "97                        1        2               0              0         0   \n",
       "109                       0        0               0              0         0   \n",
       "113                       2        7               2              0         0   \n",
       "117                       0        0               0              0         0   \n",
       "\n",
       "     autophag  angiogenesis  prognosis  \n",
       "1           0             0          0  \n",
       "2           0             0          0  \n",
       "6           0             0          1  \n",
       "9           0             0          0  \n",
       "15          0             0          0  \n",
       "28          0             0          0  \n",
       "33          0             0          0  \n",
       "34          0             0          1  \n",
       "37          0             0          1  \n",
       "40          0             0          0  \n",
       "41          0             0          0  \n",
       "45          0             1          3  \n",
       "47          4             4         11  \n",
       "51          0             0          0  \n",
       "52          0             0          0  \n",
       "56          0             0          0  \n",
       "58          0             0          0  \n",
       "68          0             0          0  \n",
       "70          0             0          0  \n",
       "75         11             2         41  \n",
       "86          0             0          1  \n",
       "91          0             0          7  \n",
       "97          0             0          0  \n",
       "109         0             0          0  \n",
       "113         0             0          4  \n",
       "117         0             0          0  \n",
       "\n",
       "[26 rows x 51 columns]"
      ]
     },
     "execution_count": 92,
     "metadata": {},
     "output_type": "execute_result"
    }
   ],
   "source": [
    "hallmark = 'EMT'\n",
    "data.loc[data[hallmark] > 0]"
   ]
  }
 ],
 "metadata": {
  "kernelspec": {
   "display_name": "Python 3",
   "language": "python",
   "name": "python3"
  },
  "language_info": {
   "codemirror_mode": {
    "name": "ipython",
    "version": 3
   },
   "file_extension": ".py",
   "mimetype": "text/x-python",
   "name": "python",
   "nbconvert_exporter": "python",
   "pygments_lexer": "ipython3",
   "version": "3.6.8"
  }
 },
 "nbformat": 4,
 "nbformat_minor": 2
}
