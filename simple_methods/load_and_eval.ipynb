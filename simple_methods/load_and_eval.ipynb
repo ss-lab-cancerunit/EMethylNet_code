{
 "cells": [
  {
   "cell_type": "markdown",
   "metadata": {},
   "source": [
    "# Load and eval"
   ]
  },
  {
   "cell_type": "code",
   "execution_count": 1,
   "metadata": {},
   "outputs": [],
   "source": [
    "cancer_type = 'LUAD'\n",
    "classifier_type = 'LR'"
   ]
  },
  {
   "cell_type": "code",
   "execution_count": 2,
   "metadata": {},
   "outputs": [
    {
     "name": "stdout",
     "output_type": "stream",
     "text": [
      "path is  /Tank/methylation-patterns-code/methylation-patterns-izzy/\n"
     ]
    }
   ],
   "source": [
    "# adding this path so we can import get_train_and_test\n",
    "import sys\n",
    "path = '../'\n",
    "sys.path.append(path)\n",
    "from Evaluate import load_and_eval\n",
    "root_path = path"
   ]
  },
  {
   "cell_type": "code",
   "execution_count": 8,
   "metadata": {},
   "outputs": [
    {
     "name": "stdout",
     "output_type": "stream",
     "text": [
      "Getting values and diagnoses from: \n",
      "/Tank/methylation-patterns-code/methylation-patterns-izzy/data_preprocessing/dataset/pandas/m_values/TCGA-LUAD.csv\n",
      "/Tank/methylation-patterns-code/methylation-patterns-izzy/data_preprocessing/dataset/pandas/diagnoses/TCGA-LUAD.csv\n",
      "m_value and diagnoses shapes:\n",
      "(278001, 507)\n",
      "(507,)\n",
      "Acc, conf mat:\n",
      "0.9921259842519685\n",
      "[[  8   0]\n",
      " [  1 118]]\n",
      "precision, recall, f1 for each class:\n",
      "[0.88888889 1.        ] [1.         0.99159664] [0.94117647 0.99578059]\n",
      "matthews correlation coeficient\n",
      "0.9388393016701052\n",
      "roc_auc for each class:  [1. 1.]\n",
      "        name                                    values\n",
      "0   Accuracy                                  0.992126\n",
      "1  Precision                 [0.8888888888888888, 1.0]\n",
      "2     Recall                 [1.0, 0.9915966386554622]\n",
      "3         f1  [0.9411764705882353, 0.9957805907172996]\n",
      "4        mcc                                  0.938839\n",
      "5    roc_auc                                [1.0, 1.0]\n",
      "num classes is:  2\n",
      "          Normal      LUAD\n",
      "0.000000   0.000       NaN\n",
      "0.000000   0.125       NaN\n",
      "0.000000   1.000       NaN\n",
      "0.932773   1.000       NaN\n",
      "0.949580   1.000       NaN\n",
      "0.957983   1.000       NaN\n",
      "0.974790   1.000       NaN\n",
      "1.000000   1.000       NaN\n",
      "0.000000     NaN  0.000000\n",
      "0.000000     NaN  0.025210\n",
      "0.000000     NaN  0.042017\n",
      "0.000000     NaN  0.050420\n",
      "0.000000     NaN  0.067227\n",
      "0.000000     NaN  1.000000\n",
      "1.000000     NaN  1.000000\n",
      "          Normal  LUAD\n",
      "1.000000     1.0   NaN\n",
      "0.875000     1.0   NaN\n",
      "0.750000     1.0   NaN\n",
      "0.625000     1.0   NaN\n",
      "0.500000     1.0   NaN\n",
      "...          ...   ...\n",
      "0.067227     NaN   1.0\n",
      "0.050420     NaN   1.0\n",
      "0.042017     NaN   1.0\n",
      "0.025210     NaN   1.0\n",
      "0.000000     NaN   1.0\n",
      "\n",
      "[125 rows x 2 columns]\n"
     ]
    },
    {
     "data": {
      "image/png": "[encoded data removed]",
      "text/plain": [
       "<Figure size 432x288 with 1 Axes>"
      ]
     },
     "metadata": {},
     "output_type": "display_data"
    }
   ],
   "source": [
    "# load_and_eval('saved_models/xgboost_model_.pkl', 'test_data_indices_XGBoost_', 'xgboost_', cancer_code='', use_small=False, remove_inf = True)\n",
    "if classifier_type == 'LR':\n",
    "    load_and_eval('saved_models/LR_model_'+cancer_type + '.pkl', 'test_data_indices_LR_'+cancer_type, 'LR_'+cancer_type, cancer_code=cancer_type, use_small=False, remove_inf = True)\n",
    "elif classifier_type == 'SVM':\n",
    "    load_and_eval('saved_models/SVM_model_'+cancer_type + '.pkl', 'test_data_indices_SVM_'+cancer_type, 'SVM_'+cancer_type, cancer_code=cancer_type, use_small=False, remove_inf = True)"
   ]
  },
  {
   "cell_type": "code",
   "execution_count": 7,
   "metadata": {},
   "outputs": [
    {
     "data": {
      "text/plain": [
       "<module 'Evaluate' from '/Tank/methylation-patterns-code/methylation-patterns-izzy/Evaluate.py'>"
      ]
     },
     "execution_count": 7,
     "metadata": {},
     "output_type": "execute_result"
    }
   ],
   "source": []
  },
  {
   "cell_type": "code",
   "execution_count": null,
   "metadata": {},
   "outputs": [],
   "source": []
  }
 ],
 "metadata": {
  "kernelspec": {
   "display_name": "Python 3",
   "language": "python",
   "name": "python3"
  },
  "language_info": {
   "codemirror_mode": {
    "name": "ipython",
    "version": 3
   },
   "file_extension": ".py",
   "mimetype": "text/x-python",
   "name": "python",
   "nbconvert_exporter": "python",
   "pygments_lexer": "ipython3",
   "version": "3.8.2"
  }
 },
 "nbformat": 4,
 "nbformat_minor": 4
}
