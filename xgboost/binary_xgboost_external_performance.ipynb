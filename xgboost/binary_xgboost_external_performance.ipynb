{
 "cells": [
  {
   "cell_type": "markdown",
   "metadata": {},
   "source": [
    "# Binary XGBoost best and worst external performance\n",
    "\n",
    "Evaluates the two binary XGBoost models that have the best and worst classification performance for the external datasets. This is BRCA (Breast invasive carcinoma) and COAD (Colon adenocarcinoma) (if you want figures of different cancer types, just change cancer_types). Generates confusion matrices, ROC curves and precision-recall curves.\n",
    "\n",
    "Generates the files in the figure_folder"
   ]
  },
  {
   "cell_type": "code",
   "execution_count": 1,
   "metadata": {},
   "outputs": [],
   "source": [
    "cancer_types = ['BRCA', 'COAD']\n",
    "\n",
    "figure_folder = 'binary_xgboost_external_figs/'"
   ]
  },
  {
   "cell_type": "markdown",
   "metadata": {},
   "source": [
    "Add the Evaluate module to path and make figure folder:"
   ]
  },
  {
   "cell_type": "code",
   "execution_count": 2,
   "metadata": {},
   "outputs": [
    {
     "name": "stdout",
     "output_type": "stream",
     "text": [
      "path is  /Tank/methylation-patterns-code/methylation-patterns-izzy/\n"
     ]
    }
   ],
   "source": [
    "# adding this path so we can import Evaluate\n",
    "import sys\n",
    "import os\n",
    "\n",
    "cwd = os.getcwd() # get the current path, and only take up to methylation-patterns-izzy (discarding the end bit)\n",
    "file = 'methylation-patterns-izzy'\n",
    "end = cwd.find(file) + len(file) + 1 # find start of file in path, add on its lenth to go to the end, and add on 1 to get the /\n",
    "path = cwd[0:end]\n",
    "print(\"path is \", path)\n",
    "sys.path.append(path)\n",
    "\n",
    "from Evaluate import load_and_eval\n",
    "root_path = path\n",
    "\n",
    "if not (figure_folder.strip('/') in os.listdir()):\n",
    "    os.mkdir(figure_folder)"
   ]
  },
  {
   "cell_type": "code",
   "execution_count": 3,
   "metadata": {},
   "outputs": [
    {
     "data": {
      "text/plain": [
       "<module 'Evaluate' from '/Tank/methylation-patterns-code/methylation-patterns-izzy/Evaluate.py'>"
      ]
     },
     "execution_count": 3,
     "metadata": {},
     "output_type": "execute_result"
    }
   ],
   "source": [
    "import importlib\n",
    "import Evaluate\n",
    "importlib.reload(Evaluate)"
   ]
  },
  {
   "cell_type": "markdown",
   "metadata": {},
   "source": [
    "Use the load and eval function for each cancer type:"
   ]
  },
  {
   "cell_type": "code",
   "execution_count": 4,
   "metadata": {},
   "outputs": [
    {
     "name": "stdout",
     "output_type": "stream",
     "text": [
      "Using path  ../new_data/breast_cancer/m_values_from_raw_training_imputation_constant.csv\n",
      "(57, 277551)\n",
      "(57,)\n"
     ]
    },
    {
     "name": "stderr",
     "output_type": "stream",
     "text": [
      "/home/in268/.local/lib/python3.7/site-packages/sklearn/utils/deprecation.py:143: FutureWarning: The sklearn.preprocessing.label module is  deprecated in version 0.22 and will be removed in version 0.24. The corresponding classes / functions should instead be imported from sklearn.preprocessing. Anything that cannot be imported from sklearn.preprocessing is now part of the private API.\n",
      "  warnings.warn(message, FutureWarning)\n",
      "/home/in268/.local/lib/python3.7/site-packages/sklearn/base.py:334: UserWarning: Trying to unpickle estimator LabelEncoder from version 0.21.3 when using version 0.23.2. This might lead to breaking code or invalid results. Use at your own risk.\n",
      "  UserWarning)\n"
     ]
    },
    {
     "name": "stdout",
     "output_type": "stream",
     "text": [
      "[0. 0. 0. 0. 0. 0. 0. 0. 0. 0. 0. 0. 0. 0. 0. 0. 0. 1. 1. 1. 1. 1. 1. 1.\n",
      " 1. 1. 1. 1. 1. 1. 1. 1. 1. 1. 1. 1. 1. 1. 1. 1. 1. 1. 1. 1. 1. 1. 1. 1.\n",
      " 1. 1. 1. 1. 1. 1. 1. 1. 1.]\n",
      "[0 0 0 0 0 0 0 0 0 0 0 0 0 1 0 0 0 1 1 1 1 1 1 1 1 1 1 1 1 1 1 1 1 1 1 1 1\n",
      " 1 1 1 1 1 1 1 1 1 1 1 1 1 1 1 1 1 1 1 1]\n",
      "Acc, conf mat:\n",
      "0.9824561403508771\n",
      "[[16  1]\n",
      " [ 0 40]]\n",
      "precision, recall, f1 for each class:\n",
      "[1.         0.97560976] [0.94117647 1.        ] [0.96969697 0.98765432]\n",
      "matthews correlation coeficient\n",
      "0.958238460361173\n",
      "roc_auc for each class:  [1. 1.]\n",
      "        name                                    values\n",
      "0   Accuracy                                  0.982456\n",
      "1  Precision                  [1.0, 0.975609756097561]\n",
      "2     Recall                 [0.9411764705882353, 1.0]\n",
      "3         f1  [0.9696969696969697, 0.9876543209876543]\n",
      "4        mcc                                  0.958238\n",
      "5    roc_auc                                [1.0, 1.0]\n",
      "num classes is:  2\n",
      "         Normal   BRCA\n",
      "0.000  0.000000    NaN\n",
      "0.000  0.058824    NaN\n",
      "0.000  1.000000    NaN\n",
      "0.400  1.000000    NaN\n",
      "0.475  1.000000    NaN\n",
      "0.650  1.000000    NaN\n",
      "1.000  1.000000    NaN\n",
      "0.000       NaN  0.000\n",
      "0.000       NaN  0.350\n",
      "0.000       NaN  0.525\n",
      "0.000       NaN  0.600\n",
      "0.000       NaN  1.000\n",
      "1.000       NaN  1.000\n",
      "          Normal  BRCA\n",
      "1.000000     1.0   NaN\n",
      "0.941176     1.0   NaN\n",
      "0.882353     1.0   NaN\n",
      "0.823529     1.0   NaN\n",
      "0.764706     1.0   NaN\n",
      "0.705882     1.0   NaN\n",
      "0.647059     1.0   NaN\n",
      "0.588235     1.0   NaN\n",
      "0.529412     1.0   NaN\n",
      "0.470588     1.0   NaN\n",
      "0.411765     1.0   NaN\n",
      "0.352941     1.0   NaN\n",
      "0.294118     1.0   NaN\n",
      "0.235294     1.0   NaN\n",
      "0.176471     1.0   NaN\n",
      "0.117647     1.0   NaN\n",
      "0.058824     1.0   NaN\n",
      "0.000000     1.0   NaN\n",
      "1.000000     NaN   1.0\n",
      "0.975000     NaN   1.0\n",
      "0.950000     NaN   1.0\n",
      "0.925000     NaN   1.0\n",
      "0.900000     NaN   1.0\n",
      "0.875000     NaN   1.0\n",
      "0.850000     NaN   1.0\n",
      "0.825000     NaN   1.0\n",
      "0.800000     NaN   1.0\n",
      "0.775000     NaN   1.0\n",
      "0.750000     NaN   1.0\n",
      "0.725000     NaN   1.0\n",
      "0.700000     NaN   1.0\n",
      "0.675000     NaN   1.0\n",
      "0.650000     NaN   1.0\n",
      "0.625000     NaN   1.0\n",
      "0.600000     NaN   1.0\n",
      "0.525000     NaN   1.0\n",
      "0.500000     NaN   1.0\n",
      "0.475000     NaN   1.0\n",
      "0.450000     NaN   1.0\n",
      "0.425000     NaN   1.0\n",
      "0.400000     NaN   1.0\n",
      "0.375000     NaN   1.0\n",
      "0.350000     NaN   1.0\n",
      "0.000000     NaN   1.0\n",
      "Using path  ../new_data/colorectal carcinoma (COAD)/m_values_from_raw_training_imputation_constant.csv\n",
      "(29, 277945)\n",
      "(29,)\n"
     ]
    },
    {
     "name": "stderr",
     "output_type": "stream",
     "text": [
      "/home/in268/.local/lib/python3.7/site-packages/sklearn/base.py:334: UserWarning: Trying to unpickle estimator LabelEncoder from version 0.21.3 when using version 0.23.2. This might lead to breaking code or invalid results. Use at your own risk.\n",
      "  UserWarning)\n"
     ]
    },
    {
     "name": "stdout",
     "output_type": "stream",
     "text": [
      "[0. 0. 0. 0. 0. 0. 0. 0. 0. 0. 0. 0. 0. 0. 0. 0. 0. 0. 0. 0. 1. 1. 1. 1.\n",
      " 1. 1. 1. 1. 1.]\n",
      "[0 0 0 0 0 1 0 1 0 1 0 1 1 1 1 1 1 1 1 1 1 1 1 1 1 1 1 1 1]\n",
      "Acc, conf mat:\n",
      "0.5862068965517241\n",
      "[[ 8 12]\n",
      " [ 0  9]]\n",
      "precision, recall, f1 for each class:\n",
      "[1.         0.42857143] [0.4 1. ] [0.57142857 0.6       ]\n",
      "matthews correlation coeficient\n",
      "0.41403933560541256\n",
      "roc_auc for each class:  [0.75833333 0.75833333]\n",
      "        name                                    values\n",
      "0   Accuracy                                  0.586207\n",
      "1  Precision                [1.0, 0.42857142857142855]\n",
      "2     Recall                                [0.4, 1.0]\n",
      "3         f1                 [0.5714285714285715, 0.6]\n",
      "4        mcc                                  0.414039\n",
      "5    roc_auc  [0.7583333333333333, 0.7583333333333333]\n",
      "num classes is:  2\n",
      "          Normal      COAD\n",
      "0.000000    0.00       NaN\n",
      "0.000000    0.05       NaN\n",
      "0.000000    0.35       NaN\n",
      "0.000000    0.40       NaN\n",
      "0.111111    0.40       NaN\n",
      "0.111111    0.50       NaN\n",
      "0.222222    0.50       NaN\n",
      "0.222222    0.55       NaN\n",
      "0.333333    0.55       NaN\n",
      "0.333333    0.60       NaN\n",
      "0.333333    0.70       NaN\n",
      "0.333333    0.85       NaN\n",
      "0.555556    0.85       NaN\n",
      "0.888889    0.95       NaN\n",
      "1.000000    1.00       NaN\n",
      "0.000000     NaN  0.000000\n",
      "0.050000     NaN  0.111111\n",
      "0.150000     NaN  0.444444\n",
      "0.150000     NaN  0.666667\n",
      "0.300000     NaN  0.666667\n",
      "0.400000     NaN  0.666667\n",
      "0.450000     NaN  0.666667\n",
      "0.450000     NaN  0.777778\n",
      "0.500000     NaN  0.777778\n",
      "0.500000     NaN  0.888889\n",
      "0.600000     NaN  0.888889\n",
      "0.600000     NaN  1.000000\n",
      "0.650000     NaN  1.000000\n",
      "0.950000     NaN  1.000000\n",
      "1.000000     NaN  1.000000\n",
      "            Normal      COAD\n",
      "1.000000  0.689655       NaN\n",
      "0.950000  0.703704       NaN\n",
      "0.850000  0.772727       NaN\n",
      "0.850000  0.809524       NaN\n",
      "0.850000  0.850000       NaN\n",
      "0.700000  0.823529       NaN\n",
      "0.600000  0.800000       NaN\n",
      "0.550000  0.785714       NaN\n",
      "0.550000  0.846154       NaN\n",
      "0.500000  0.833333       NaN\n",
      "0.500000  0.909091       NaN\n",
      "0.450000  0.900000       NaN\n",
      "0.400000  0.888889       NaN\n",
      "0.400000  1.000000       NaN\n",
      "0.350000  1.000000       NaN\n",
      "0.050000  1.000000       NaN\n",
      "0.000000  1.000000       NaN\n",
      "1.000000       NaN  0.428571\n",
      "0.888889       NaN  0.400000\n",
      "0.888889       NaN  0.421053\n",
      "0.888889       NaN  0.444444\n",
      "0.777778       NaN  0.411765\n",
      "0.777778       NaN  0.437500\n",
      "0.666667       NaN  0.400000\n",
      "0.666667       NaN  0.428571\n",
      "0.666667       NaN  0.500000\n",
      "0.666667       NaN  0.666667\n",
      "0.555556       NaN  0.625000\n",
      "0.444444       NaN  0.571429\n",
      "0.111111       NaN  0.500000\n",
      "0.000000       NaN  1.000000\n"
     ]
    }
   ],
   "source": [
    "def Evaluate_external(cancer_type):\n",
    "    model_path = '../xgboost/saved_models/xgboost_model_' + cancer_type + '.pkl'\n",
    "    \n",
    "    folder_dict = {'BRCA' : 'breast_cancer/', 'ESCA': 'Esophageal squamous cell carcinoma (ESCA)/', 'COAD': 'colorectal carcinoma (COAD)/', 'PRAD' : 'prostate CA ICGC/', 'THCA' : 'Thyroid (THCA)/', 'HNSC' : 'Head and neck  squamous cell carcinoma (HNSC)/', 'KIRC' : 'clear cell renal cell carcinoma (KIRC)/', 'LIHC' : 'hepatocellular carcinoma (LIHC)/', 'PRAD2': 'prostate 2/', 'PRAD_meta': 'metastasis/prostate/'}\n",
    "    folder_name = folder_dict[cancer_type]\n",
    "    \n",
    "    # load the data\n",
    "    import sys\n",
    "    sys.path.append('/Tank/methylation-patterns-code/methylation-patterns-izzy/')\n",
    "    from get_train_and_test import get_external_data\n",
    "    m_values, diagnoses = get_external_data(cancer_type, multiclass = False, remove_inf = True, has_header = False, use_raw = True, root_path = '../new_data/'+folder_name, use_training_imputation = True)\n",
    "    \n",
    "    # import model\n",
    "    import joblib\n",
    "    model = joblib.load(model_path)\n",
    "    \n",
    "    # Evaluate\n",
    "    from Evaluate import print_evaluation\n",
    "    print_evaluation(model, m_values, diagnoses, 'xgboost_external_' + cancer_type, cancer_type = cancer_type, save_folder = figure_folder)\n",
    "\n",
    "    confidence = model.predict_proba(m_values)\n",
    "    import numpy as np\n",
    "    num_classes = len(np.unique(diagnoses, axis=0))\n",
    "    print(\"num classes is: \", num_classes)\n",
    "\n",
    "    from Evaluate import plot_curve\n",
    "    plot_curve('roc', diagnoses, confidence, num_classes, 'xgboost_external_' + cancer_type, cancer_type = cancer_type, save_folder=figure_folder)\n",
    "    plot_curve('precision_recall', diagnoses, confidence, num_classes, 'xgboost_external_' + cancer_type, cancer_type = cancer_type, save_folder=figure_folder)\n",
    "\n",
    "for cancer_type in cancer_types:\n",
    "    Evaluate_external(cancer_type)"
   ]
  },
  {
   "cell_type": "code",
   "execution_count": 8,
   "metadata": {},
   "outputs": [
    {
     "name": "stderr",
     "output_type": "stream",
     "text": [
      "/home/in268/.local/lib/python3.7/site-packages/sklearn/base.py:334: UserWarning: Trying to unpickle estimator LabelEncoder from version 0.21.3 when using version 0.23.2. This might lead to breaking code or invalid results. Use at your own risk.\n",
      "  UserWarning)\n"
     ]
    },
    {
     "name": "stdout",
     "output_type": "stream",
     "text": [
      " Can just quote:  ['1.0', '1.0']\n",
      " Can just quote:  ['0.886926228774606', '0.5402589739599544']\n",
      " Can just quote:  ['1.0', '1.0']\n",
      " Can just quote:  ['0.9415466568403369', '0.9784381779692856']\n",
      " Can just quote:  ['nan', '1.0']\n",
      " Can just quote:  ['0.9971011863444185', '0.9964938585886505']\n",
      " Can just quote:  ['nan', '1.0']\n",
      " Can just quote:  ['nan', '1.0']\n",
      " Can just quote:  ['0.9169740482543043', '0.9706197225506844']\n"
     ]
    }
   ],
   "source": [
    "# getting pr and roc auc bar plots:\n",
    "import sys\n",
    "sys.path.append('/Tank/methylation-patterns-code/methylation-patterns-izzy/')\n",
    "from get_train_and_test import get_external_data\n",
    "    \n",
    "cancer_types_external = ['BRCA', 'COAD', 'ESCA', 'ESCA2', 'HNSC', 'KIRC', 'LIHC', 'PRAD', 'THCA']\n",
    "cancer_types_all_cancer = ['HNSC', 'LIHC', 'PRAD'] # these are only cancer so the roc curve can't be found\n",
    "\n",
    "folder_dict = {'BRCA' : 'breast_cancer/', 'ESCA': 'Esophageal squamous cell carcinoma (ESCA)/', 'ESCA2': 'ESCA_from_Ganesh/', 'COAD': 'colorectal carcinoma (COAD)/', 'PRAD' : 'prostate CA ICGC/', 'THCA' : 'Thyroid (THCA)/', 'HNSC' : 'Head and neck  squamous cell carcinoma (HNSC)/', 'KIRC' : 'clear cell renal cell carcinoma (KIRC)/', 'LIHC' : 'hepatocellular carcinoma (LIHC)/', 'PRAD2': 'prostate 2/', 'PRAD_meta': 'metastasis/prostate/'}\n",
    "auc_0s = []\n",
    "auc_1s = []\n",
    "roc_aucs = []\n",
    "\n",
    "import Evaluate\n",
    "from Evaluate import get_pr_auc, get_roc_auc\n",
    "for cancer_type in cancer_types_external:\n",
    "#     auc_0, auc_1 = get_pr_auc(cancer_type, '../xgboost/figs/metrics_xgboost_' + cancer_type + '.csv', model_path = '', Xtest = None, ytest = None)\n",
    "    \n",
    "    import joblib\n",
    "    if cancer_type == 'ESCA2':\n",
    "        model = joblib.load('../xgboost/saved_models/xgboost_model_ESCA.pkl')\n",
    "    else:\n",
    "        model = joblib.load('../xgboost/saved_models/xgboost_model_' + cancer_type + '.pkl')\n",
    "    \n",
    "    folder_name = folder_dict[cancer_type]\n",
    "    \n",
    "    if cancer_type == 'ESCA2':\n",
    "        metrics_path = '../new_data/' + folder_name + 'figs/metrics_GSE72874_xgboost_binary.csv'\n",
    "    else:\n",
    "        metrics_path = '../new_data/' + folder_name + 'figs/metrics_xgboost_binary_training_imputation_constant.csv'\n",
    "    \n",
    "    from Evaluate import get_pr_auc, get_roc_auc\n",
    "    try: # quickly do a first try without getting data: (for if we already have it stored in metrics)\n",
    "        auc_0, auc_1 = get_pr_auc(cancer_type, metrics_path, model_path = '', Xtest = None, ytest = None)\n",
    "        \n",
    "    except:\n",
    "        if cancer_type == 'ESCA2':\n",
    "            Xtest, ytest = get_external_data(cancer_type, multiclass = False, remove_inf = True, has_header = False, use_raw = False, root_path = '../new_data/'+folder_name, use_training_imputation = False)\n",
    "        elif cancer_type == 'THCA':\n",
    "            Xtest, ytest = get_external_data(cancer_type, multiclass = False, remove_inf = True, has_header = False, use_raw = False, root_path = '../new_data/'+folder_name, use_training_imputation = True)\n",
    "        else:\n",
    "            Xtest, ytest = get_external_data(cancer_type, multiclass = False, remove_inf = True, has_header = False, use_raw = True, root_path = '../new_data/'+folder_name, use_training_imputation = True)\n",
    "\n",
    "        diagnoses_test = ytest\n",
    "        predictions_one_hot = model.predict_proba(Xtest)\n",
    "\n",
    "        auc_0, auc_1 = get_pr_auc(cancer_type, metrics_path, model_path = '../xgboost/saved_models/xgboost_model_' + cancer_type + '.pkl', Xtest = Xtest, ytest = ytest)\n",
    "        \n",
    "    auc_0s.append(auc_0)\n",
    "    auc_1s.append(auc_1)\n",
    "    \n",
    "    if not (cancer_type in cancer_types_all_cancer): # if there are normal samples available we have a roc stat\n",
    "        roc_auc = get_roc_auc(cancer_type, metrics_path)\n",
    "        roc_aucs.append(roc_auc)\n",
    "    else: # in the three cases where this is True (PRAD, LIHC, HNSC), all cancer samples are classified correctly as cancer. So the ROC curve cannot be computed \n",
    "        import numpy as np\n",
    "        roc_aucs.append(np.nan)\n",
    "    \n",
    "    "
   ]
  },
  {
   "cell_type": "code",
   "execution_count": 28,
   "metadata": {},
   "outputs": [
    {
     "data": {
      "text/plain": [
       "2"
      ]
     },
     "execution_count": 28,
     "metadata": {},
     "output_type": "execute_result"
    },
    {
     "data": {
      "text/plain": [
       "3"
      ]
     },
     "execution_count": 28,
     "metadata": {},
     "output_type": "execute_result"
    }
   ],
   "source": [
    "# average the two ESCA datasets (using macro average)\n",
    "esca_index = np.where(np.array(cancer_types_external) == 'ESCA')[0][0]\n",
    "esca2_index = np.where(np.array(cancer_types_external) == 'ESCA2')[0][0]\n",
    "esca_index\n",
    "esca2_index\n",
    "# work out average:\n",
    "auc_0s_av = (auc_0s[esca_index] + auc_0s[esca2_index])/2\n",
    "auc_1s_av = (auc_1s[esca_index] + auc_1s[esca2_index])/2\n",
    "roc_aucs_av = (roc_aucs[esca_index] + roc_aucs[esca2_index])/2\n",
    "# put average in esca_index\n",
    "auc_0s[esca_index] = auc_0s_av\n",
    "auc_1s[esca_index] = auc_1s_av\n",
    "roc_aucs[esca_index] = roc_aucs_av\n",
    "# remove esca2_index\n",
    "del auc_0s[esca2_index]\n",
    "del auc_1s[esca2_index]\n",
    "del roc_aucs[esca2_index]\n",
    "del cancer_types_external[esca2_index]"
   ]
  },
  {
   "cell_type": "code",
   "execution_count": 29,
   "metadata": {},
   "outputs": [
    {
     "data": {
      "text/plain": [
       "[1.0,\n",
       " 0.886926228774606,\n",
       " 0.9707733284201685,\n",
       " nan,\n",
       " 0.9971011863444185,\n",
       " nan,\n",
       " nan,\n",
       " 0.9169740482543043]"
      ]
     },
     "execution_count": 29,
     "metadata": {},
     "output_type": "execute_result"
    },
    {
     "data": {
      "text/plain": [
       "[1.0,\n",
       " 0.5402589739599544,\n",
       " 0.9892190889846428,\n",
       " 1.0,\n",
       " 0.9964938585886505,\n",
       " 1.0,\n",
       " 1.0,\n",
       " 0.9706197225506844]"
      ]
     },
     "execution_count": 29,
     "metadata": {},
     "output_type": "execute_result"
    },
    {
     "data": {
      "text/plain": [
       "[1.0, 0.75833333, 0.9820800000000001, nan, 0.99669187, nan, nan, 0.95905607]"
      ]
     },
     "execution_count": 29,
     "metadata": {},
     "output_type": "execute_result"
    }
   ],
   "source": [
    "auc_0s\n",
    "auc_1s\n",
    "roc_aucs"
   ]
  },
  {
   "cell_type": "code",
   "execution_count": 32,
   "metadata": {},
   "outputs": [
    {
     "data": {
      "text/plain": [
       "<module 'Evaluate' from '/Tank/methylation-patterns-code/methylation-patterns-izzy/Evaluate.py'>"
      ]
     },
     "execution_count": 32,
     "metadata": {},
     "output_type": "execute_result"
    },
    {
     "data": {
      "image/png": "[encoded data removed]",
      "text/plain": [
       "<Figure size 432x288 with 1 Axes>"
      ]
     },
     "metadata": {
      "needs_background": "light"
     },
     "output_type": "display_data"
    },
    {
     "data": {
      "image/png": "[encoded data removed]",
      "text/plain": [
       "<Figure size 432x288 with 1 Axes>"
      ]
     },
     "metadata": {
      "needs_background": "light"
     },
     "output_type": "display_data"
    }
   ],
   "source": [
    "# plot them:\n",
    "import importlib\n",
    "import Evaluate\n",
    "importlib.reload(Evaluate)\n",
    "\n",
    "from Evaluate import plot_pr_and_roc_auc_bars\n",
    "plot_pr_and_roc_auc_bars(cancer_types_external, auc_0s, auc_1s, roc_aucs, figure_folder + 'PR_bar_plot_xgboost_binary_external.svg', figure_folder+ 'ROC_bar_plot_xgboost_binary_external.svg')\n"
   ]
  },
  {
   "cell_type": "code",
   "execution_count": null,
   "metadata": {},
   "outputs": [],
   "source": []
  },
  {
   "cell_type": "code",
   "execution_count": null,
   "metadata": {},
   "outputs": [],
   "source": []
  }
 ],
 "metadata": {
  "kernelspec": {
   "display_name": "Python 3",
   "language": "python",
   "name": "python3"
  },
  "language_info": {
   "codemirror_mode": {
    "name": "ipython",
    "version": 3
   },
   "file_extension": ".py",
   "mimetype": "text/x-python",
   "name": "python",
   "nbconvert_exporter": "python",
   "pygments_lexer": "ipython3",
   "version": "3.6.8"
  }
 },
 "nbformat": 4,
 "nbformat_minor": 4
}
