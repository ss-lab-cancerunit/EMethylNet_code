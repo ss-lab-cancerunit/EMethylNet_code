{
 "cells": [
  {
   "cell_type": "markdown",
   "metadata": {},
   "source": [
    "# Multiclass xgboost performance figures\n",
    "\n",
    "Evaluates the multiclass XGBoost model on the TCGA test set. Generates confusion matrices, ROC curves and precision-recall curves in the folder figure_folder."
   ]
  },
  {
   "cell_type": "code",
   "execution_count": 2,
   "metadata": {},
   "outputs": [],
   "source": [
    "figure_folder = 'multiclass_xgboost_figs/'"
   ]
  },
  {
   "cell_type": "markdown",
   "metadata": {},
   "source": [
    "Add the Evaluate module to path and make figure folder:"
   ]
  },
  {
   "cell_type": "code",
   "execution_count": 3,
   "metadata": {},
   "outputs": [
    {
     "name": "stdout",
     "output_type": "stream",
     "text": [
      "path is  /Tank/methylation-patterns-code/methylation-patterns-izzy/\n"
     ]
    }
   ],
   "source": [
    "# adding this path so we can import Evaluate\n",
    "import sys\n",
    "import os\n",
    "\n",
    "cwd = os.getcwd() # get the current path, and only take up to methylation-patterns-izzy (discarding the end bit)\n",
    "file = 'methylation-patterns-izzy'\n",
    "end = cwd.find(file) + len(file) + 1 # find start of file in path, add on its lenth to go to the end, and add on 1 to get the /\n",
    "path = cwd[0:end]\n",
    "print(\"path is \", path)\n",
    "sys.path.append(path)\n",
    "\n",
    "from Evaluate import load_and_eval\n",
    "root_path = path\n",
    "\n",
    "if not (figure_folder.strip('/') in os.listdir()):\n",
    "    os.mkdir(figure_folder)"
   ]
  },
  {
   "cell_type": "markdown",
   "metadata": {},
   "source": [
    "Use the load and eval function:\n",
    "\n",
    "This is expected to take a while as the TCGA dataset is quite large. (there is room for optimisation in the load_and_eval function if you want to make it quicker)"
   ]
  },
  {
   "cell_type": "code",
   "execution_count": 3,
   "metadata": {},
   "outputs": [
    {
     "name": "stdout",
     "output_type": "stream",
     "text": [
      "Getting values and diagnoses from: \n",
      "/Tank/methylation-patterns-code/methylation-patterns-izzy/data_preprocessing/dataset/pandas/m_values/TCGA-all.csv\n",
      "/Tank/methylation-patterns-code/methylation-patterns-izzy/data_preprocessing/dataset/pandas/diagnoses/TCGA-all.csv\n",
      "m_value and diagnoses shapes:\n",
      "(276016, 6224)\n",
      "(6224,)\n",
      "num classes is:  14\n",
      "Acc, conf mat:\n",
      "0.9820051413881749\n",
      "[[166   2   2   0   1   0   0   0   0   0   1   2   2   0]\n",
      " [  0 102   0   0   0   1   0   0   0   0   1   0   0   0]\n",
      " [  1   0 197   0   0   0   0   0   0   0   0   0   0   0]\n",
      " [  1   0   0  78   0   0   0   0   0   0   0   0   0   0]\n",
      " [  0   0   0   0  46   0   0   0   0   0   0   0   0   0]\n",
      " [  1   0   1   0   0 130   0   0   0   0   0   0   0   0]\n",
      " [  0   0   0   0   0   0  81   0   0   0   0   0   0   0]\n",
      " [  0   0   0   0   0   0   5  64   0   0   0   0   0   0]\n",
      " [  1   0   0   0   0   0   0   0  94   0   0   0   0   0]\n",
      " [  0   0   0   0   0   0   0   0   0 119   0   0   0   0]\n",
      " [  0   0   0   0   0   1   0   0   0   0  90   0   0   1]\n",
      " [  2   0   0   0   0   0   0   0   0   0   0 124   0   0]\n",
      " [  2   0   0   0   0   0   0   0   0   0   0   0 127   0]\n",
      " [  0   0   0   0   0   0   0   0   0   0   0   0   0 110]]\n",
      "precision, recall, f1 for each class:\n",
      "[0.95402299 0.98076923 0.985      1.         0.9787234  0.98484848\n",
      " 0.94186047 1.         1.         1.         0.97826087 0.98412698\n",
      " 0.98449612 0.99099099] [0.94318182 0.98076923 0.99494949 0.98734177 1.         0.98484848\n",
      " 1.         0.92753623 0.98947368 1.         0.97826087 0.98412698\n",
      " 0.98449612 1.        ] [0.94857143 0.98076923 0.98994975 0.99363057 0.98924731 0.98484848\n",
      " 0.97005988 0.96240602 0.99470899 1.         0.97826087 0.98412698\n",
      " 0.98449612 0.99547511]\n",
      "matthews correlation coeficient\n",
      "0.9804473364344573\n",
      "roc_auc for each class:  [0.99717968 0.99985431 0.99980661 1.         0.99995681 0.99990956\n",
      " 0.99976564 0.99872323 1.         1.         0.99982923 0.9991786\n",
      " 0.99986419 1.        ]\n",
      "        name                                             values\n",
      "0   Accuracy                                           0.982005\n",
      "1  Precision  [0.9540229885057471, 0.9807692307692307, 0.985...\n",
      "2     Recall  [0.9431818181818182, 0.9807692307692307, 0.994...\n",
      "3         f1  [0.9485714285714286, 0.9807692307692307, 0.989...\n",
      "4        mcc                                           0.980447\n",
      "5    roc_auc  [0.9971796772068511, 0.9998543123543124, 0.999...\n",
      "       Normal  BLCA  BRCA  COAD  ESCA  HNSC  KIRC  KIRP  LIHC  LUAD  LUSC  \\\n",
      "0.0  0.000000   NaN   NaN   NaN   NaN   NaN   NaN   NaN   NaN   NaN   NaN   \n",
      "0.0  0.005682   NaN   NaN   NaN   NaN   NaN   NaN   NaN   NaN   NaN   NaN   \n",
      "0.0  0.045455   NaN   NaN   NaN   NaN   NaN   NaN   NaN   NaN   NaN   NaN   \n",
      "0.0  0.056818   NaN   NaN   NaN   NaN   NaN   NaN   NaN   NaN   NaN   NaN   \n",
      "0.0  0.153409   NaN   NaN   NaN   NaN   NaN   NaN   NaN   NaN   NaN   NaN   \n",
      "..        ...   ...   ...   ...   ...   ...   ...   ...   ...   ...   ...   \n",
      "0.0       NaN   NaN   NaN   NaN   NaN   NaN   NaN   NaN   NaN   NaN   NaN   \n",
      "0.0       NaN   NaN   NaN   NaN   NaN   NaN   NaN   NaN   NaN   NaN   NaN   \n",
      "0.0       NaN   NaN   NaN   NaN   NaN   NaN   NaN   NaN   NaN   NaN   NaN   \n",
      "0.0       NaN   NaN   NaN   NaN   NaN   NaN   NaN   NaN   NaN   NaN   NaN   \n",
      "1.0       NaN   NaN   NaN   NaN   NaN   NaN   NaN   NaN   NaN   NaN   NaN   \n",
      "\n",
      "     PRAD  THCA      UCEC  \n",
      "0.0   NaN   NaN       NaN  \n",
      "0.0   NaN   NaN       NaN  \n",
      "0.0   NaN   NaN       NaN  \n",
      "0.0   NaN   NaN       NaN  \n",
      "0.0   NaN   NaN       NaN  \n",
      "..    ...   ...       ...  \n",
      "0.0   NaN   NaN  0.281818  \n",
      "0.0   NaN   NaN  0.400000  \n",
      "0.0   NaN   NaN  0.418182  \n",
      "0.0   NaN   NaN  1.000000  \n",
      "1.0   NaN   NaN  1.000000  \n",
      "\n",
      "[164 rows x 14 columns]\n",
      "            Normal  BLCA  BRCA  COAD  ESCA  HNSC  KIRC  KIRP  LIHC  LUAD  \\\n",
      "1.000000  0.577049   NaN   NaN   NaN   NaN   NaN   NaN   NaN   NaN   NaN   \n",
      "0.994318  0.575658   NaN   NaN   NaN   NaN   NaN   NaN   NaN   NaN   NaN   \n",
      "0.994318  0.577558   NaN   NaN   NaN   NaN   NaN   NaN   NaN   NaN   NaN   \n",
      "0.994318  0.579470   NaN   NaN   NaN   NaN   NaN   NaN   NaN   NaN   NaN   \n",
      "0.994318  0.581395   NaN   NaN   NaN   NaN   NaN   NaN   NaN   NaN   NaN   \n",
      "...            ...   ...   ...   ...   ...   ...   ...   ...   ...   ...   \n",
      "0.036364       NaN   NaN   NaN   NaN   NaN   NaN   NaN   NaN   NaN   NaN   \n",
      "0.027273       NaN   NaN   NaN   NaN   NaN   NaN   NaN   NaN   NaN   NaN   \n",
      "0.018182       NaN   NaN   NaN   NaN   NaN   NaN   NaN   NaN   NaN   NaN   \n",
      "0.009091       NaN   NaN   NaN   NaN   NaN   NaN   NaN   NaN   NaN   NaN   \n",
      "0.000000       NaN   NaN   NaN   NaN   NaN   NaN   NaN   NaN   NaN   NaN   \n",
      "\n",
      "          LUSC  PRAD  THCA  UCEC  \n",
      "1.000000   NaN   NaN   NaN   NaN  \n",
      "0.994318   NaN   NaN   NaN   NaN  \n",
      "0.994318   NaN   NaN   NaN   NaN  \n",
      "0.994318   NaN   NaN   NaN   NaN  \n",
      "0.994318   NaN   NaN   NaN   NaN  \n",
      "...        ...   ...   ...   ...  \n",
      "0.036364   NaN   NaN   NaN   1.0  \n",
      "0.027273   NaN   NaN   NaN   1.0  \n",
      "0.018182   NaN   NaN   NaN   1.0  \n",
      "0.009091   NaN   NaN   NaN   1.0  \n",
      "0.000000   NaN   NaN   NaN   1.0  \n",
      "\n",
      "[1907 rows x 14 columns]\n"
     ]
    }
   ],
   "source": [
    "load_and_eval('../xgboost/depth3est800lr189/xgboost_model_.pkl', '../xgboost/depth3est800lr189/test_data_indices_XGBoost_', 'xgboost_multiclass', cancer_code='', use_small=False, remove_inf = True, folder_name=figure_folder)"
   ]
  },
  {
   "cell_type": "code",
   "execution_count": null,
   "metadata": {},
   "outputs": [],
   "source": [
    "# getting pr and roc auc bar plots:\n",
    "metrics_path = 'multiclass_xgboost_figs/metrics_xgboost_multiclass.csv'\n",
    "cancer_type = ''\n",
    "model_path = '../xgboost/depth3est800lr189/xgboost_model_.pkl'\n",
    "from Evaluate import load_data_from_indices\n",
    "Xtest, ytest = load_data_from_indices('../xgboost/depth3est800lr189/test_data_indices_XGBoost_', '', True)\n",
    "\n",
    "\n"
   ]
  },
  {
   "cell_type": "code",
   "execution_count": 6,
   "metadata": {},
   "outputs": [],
   "source": [
    "Xtest = None\n",
    "ytest = None"
   ]
  },
  {
   "cell_type": "code",
   "execution_count": 10,
   "metadata": {
    "scrolled": true
   },
   "outputs": [
    {
     "data": {
      "text/plain": [
       "<module 'Evaluate' from '/Tank/methylation-patterns-code/methylation-patterns-izzy/Evaluate.py'>"
      ]
     },
     "execution_count": 10,
     "metadata": {},
     "output_type": "execute_result"
    },
    {
     "name": "stdout",
     "output_type": "stream",
     "text": [
      " Can just quote:  ['0.9826003173226566', '0.9978673069313816', '0.9988368840307889', '0.9999999999999997', '0.9986067259694235', '0.9990633087752845', '0.9957316486042915', '0.9817577930796605', '1.0000000000000002', '0.9999999999999998', '0.9972495500766817', '0.9933909759389588', '0.9984145671736389', '0.9999999999999998']\n"
     ]
    },
    {
     "data": {
      "text/plain": [
       "[0.9826003173226566,\n",
       " 0.9978673069313816,\n",
       " 0.9988368840307889,\n",
       " 0.9999999999999997,\n",
       " 0.9986067259694235,\n",
       " 0.9990633087752845,\n",
       " 0.9957316486042915,\n",
       " 0.9817577930796605,\n",
       " 1.0000000000000002,\n",
       " 0.9999999999999998,\n",
       " 0.9972495500766817,\n",
       " 0.9933909759389588,\n",
       " 0.9984145671736389,\n",
       " 0.9999999999999998]"
      ]
     },
     "execution_count": 10,
     "metadata": {},
     "output_type": "execute_result"
    },
    {
     "data": {
      "image/png": "[encoded data removed]",
      "text/plain": [
       "<Figure size 432x288 with 1 Axes>"
      ]
     },
     "metadata": {
      "needs_background": "light"
     },
     "output_type": "display_data"
    },
    {
     "data": {
      "image/png": "[encoded data removed]",
      "text/plain": [
       "<Figure size 432x288 with 1 Axes>"
      ]
     },
     "metadata": {
      "needs_background": "light"
     },
     "output_type": "display_data"
    }
   ],
   "source": [
    "import importlib\n",
    "import Evaluate\n",
    "importlib.reload(Evaluate)\n",
    "\n",
    "from Evaluate import get_roc_auc, get_pr_auc, plot_pr_and_roc_auc_bars\n",
    "roc_aucs = get_roc_auc(cancer_type, metrics_path)\n",
    "\n",
    "from Evaluate import get_pr_auc\n",
    "aucs = get_pr_auc('', metrics_path, model_path, Xtest, ytest)\n",
    "aucs\n",
    "\n",
    "cancer_types = ['Normal', 'BLCA', 'BRCA', 'COAD', 'ESCA', 'HNSC', 'KIRC', 'KIRP', 'LIHC', 'LUAD', 'LUSC', 'PRAD', 'THCA', 'UCEC']\n",
    "\n",
    "plot_pr_and_roc_auc_bars(cancer_types, aucs, None, roc_aucs, pr_save_path = figure_folder + 'PR_bar_plot_xgboost_multiclass.svg', roc_save_path = figure_folder + 'ROC_bar_plot_xgboost_multiclass.svg')"
   ]
  },
  {
   "cell_type": "code",
   "execution_count": null,
   "metadata": {},
   "outputs": [],
   "source": []
  }
 ],
 "metadata": {
  "kernelspec": {
   "display_name": "Python 3",
   "language": "python",
   "name": "python3"
  },
  "language_info": {
   "codemirror_mode": {
    "name": "ipython",
    "version": 3
   },
   "file_extension": ".py",
   "mimetype": "text/x-python",
   "name": "python",
   "nbconvert_exporter": "python",
   "pygments_lexer": "ipython3",
   "version": "3.6.8"
  }
 },
 "nbformat": 4,
 "nbformat_minor": 4
}
