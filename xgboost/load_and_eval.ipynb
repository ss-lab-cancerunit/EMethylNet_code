{
 "cells": [
  {
   "cell_type": "markdown",
   "metadata": {},
   "source": [
    "# Load and eval\n",
    "\n",
    "Loads a given model and prints the test set evaluation\n"
   ]
  },
  {
   "cell_type": "code",
   "execution_count": 1,
   "metadata": {},
   "outputs": [],
   "source": [
    "cancer_type = 'LUAD'"
   ]
  },
  {
   "cell_type": "code",
   "execution_count": 2,
   "metadata": {},
   "outputs": [
    {
     "name": "stdout",
     "output_type": "stream",
     "text": [
      "path is  /Tank/methylation-patterns-code/methylation-patterns-izzy/\n"
     ]
    }
   ],
   "source": [
    "# adding this path so we can import get_train_and_test\n",
    "import sys\n",
    "path = '../'\n",
    "sys.path.append(path)\n",
    "from get_train_and_test import get_train_and_test\n",
    "root_path = path\n",
    "\n",
    "\n",
    "from Evaluate import load_and_eval\n",
    "root_path = path"
   ]
  },
  {
   "cell_type": "code",
   "execution_count": null,
   "metadata": {},
   "outputs": [],
   "source": [
    "# load_and_eval('saved_models/xgboost_model_.pkl', 'test_data_indices_XGBoost_', 'xgboost_', cancer_code='', use_small=False, remove_inf = True)\n",
    "load_and_eval('saved_models/xgboost_model_'+cancer_type + '.pkl', 'test_data_indices_XGBoost_'+cancer_type, 'xgboost_'+cancer_type, cancer_code=cancer_type, use_small=False, remove_inf = True)"
   ]
  },
  {
   "cell_type": "code",
   "execution_count": null,
   "metadata": {},
   "outputs": [],
   "source": []
  },
  {
   "cell_type": "code",
   "execution_count": null,
   "metadata": {},
   "outputs": [],
   "source": [
    "# print the feature importances:\n",
    "\n",
    "model.feature_importances_\n"
   ]
  },
  {
   "cell_type": "code",
   "execution_count": null,
   "metadata": {},
   "outputs": [],
   "source": [
    "# save the feature importances (hopefully this shouldn't overwrite existing feature importances for this model):\n",
    "\n",
    "it = 0\n",
    "lines = []\n",
    "\n",
    "for i in model.feature_importances_: # feature_importances is how important each feature (probe) is. Most of them seem to be 0, but some are > 0\n",
    "    if i > 0:\n",
    "#             print('feature nr: %d, importance: %7.5f'%(it, i))\n",
    "        lines.append('feature nr: %d, importance: %7.5f'%(it, i))\n",
    "    it += 1\n",
    "# saving lines:\n",
    "import numpy as np\n",
    "\n",
    "# finding what number we should give the file - we want to give it a number higher than all other files of this type so we don't overwrite anything\n",
    "import os\n",
    "files = os.listdir('feature_importances/')\n",
    "this_type = [file for file in files if cancer_type+'_run_' in file] # find all existing files of this type\n",
    "if this_type == []:\n",
    "    num = 0\n",
    "else:\n",
    "    nums = [file.split('_')[2].split('.')[0] for file in this_type] # get the numbers of the files\n",
    "    ints = map(int, nums)\n",
    "    num = max(ints) + 1 # go one bigger than the max to get a unique number\n",
    "    \n",
    "np.savetxt('/Tank/methylation-patterns-code/methylation-patterns-izzy/xgboost/feature_importances/'+cancer_type+'_run_'+str(num)+'.csv', lines, delimiter='\\t', fmt='%s')\n"
   ]
  },
  {
   "cell_type": "code",
   "execution_count": null,
   "metadata": {},
   "outputs": [],
   "source": []
  }
 ],
 "metadata": {
  "kernelspec": {
   "display_name": "Python 3",
   "language": "python",
   "name": "python3"
  },
  "language_info": {
   "codemirror_mode": {
    "name": "ipython",
    "version": 3
   },
   "file_extension": ".py",
   "mimetype": "text/x-python",
   "name": "python",
   "nbconvert_exporter": "python",
   "pygments_lexer": "ipython3",
   "version": "3.6.8"
  }
 },
 "nbformat": 4,
 "nbformat_minor": 4
}
