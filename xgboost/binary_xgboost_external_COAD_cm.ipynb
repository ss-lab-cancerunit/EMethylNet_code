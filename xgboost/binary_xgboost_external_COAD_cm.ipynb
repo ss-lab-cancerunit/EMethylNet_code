{
 "cells": [
  {
   "cell_type": "markdown",
   "metadata": {},
   "source": [
    "# Binary xgboost on external COAD data\n",
    "\n",
    "Generates the labelled confusion matrix for the external COAD data. Demonstrates that the worse performance is due to classifying adenomas as cancer. This is interesting."
   ]
  },
  {
   "cell_type": "code",
   "execution_count": 1,
   "metadata": {},
   "outputs": [],
   "source": [
    "cancer_type = 'COAD'\n",
    "\n",
    "figure_folder = 'binary_xgboost_external_COAD_figs/'"
   ]
  },
  {
   "cell_type": "markdown",
   "metadata": {},
   "source": [
    "Add the Evaluate module to path and make figure folder:"
   ]
  },
  {
   "cell_type": "code",
   "execution_count": 2,
   "metadata": {},
   "outputs": [
    {
     "name": "stdout",
     "output_type": "stream",
     "text": [
      "path is  /Tank/methylation-patterns-code/methylation-patterns-izzy/\n"
     ]
    }
   ],
   "source": [
    "# adding this path so we can import get_train_and_test and Evaluate\n",
    "import sys\n",
    "import os\n",
    "\n",
    "cwd = os.getcwd() # get the current path, and only take up to methylation-patterns-izzy (discarding the end bit)\n",
    "file = 'methylation-patterns-izzy'\n",
    "end = cwd.find(file) + len(file) + 1 # find start of file in path, add on its lenth to go to the end, and add on 1 to get the /\n",
    "path = cwd[0:end]\n",
    "print(\"path is \", path)\n",
    "sys.path.append(path)\n",
    "\n",
    "from Evaluate import load_and_eval\n",
    "root_path = path\n",
    "\n",
    "if not (figure_folder.strip('/') in os.listdir()):\n",
    "    os.mkdir(figure_folder)"
   ]
  },
  {
   "cell_type": "markdown",
   "metadata": {},
   "source": [
    "Load the data:"
   ]
  },
  {
   "cell_type": "code",
   "execution_count": 3,
   "metadata": {},
   "outputs": [
    {
     "name": "stdout",
     "output_type": "stream",
     "text": [
      "Using path  ../new_data/colorectal carcinoma (COAD)/m_values_from_raw_training_imputation_constant.csv\n",
      "(29, 277945)\n",
      "(29,)\n"
     ]
    }
   ],
   "source": [
    "# load the data\n",
    "import sys\n",
    "sys.path.append('/Tank/methylation-patterns-code/methylation-patterns-izzy/')\n",
    "from get_train_and_test import get_external_data\n",
    "\n",
    "m_values, diagnoses = get_external_data(cancer_type, multiclass = False, remove_inf = True, has_header = False, use_raw = True, root_path = '../new_data/colorectal carcinoma (COAD)/', use_training_imputation = True)\n"
   ]
  },
  {
   "cell_type": "markdown",
   "metadata": {},
   "source": [
    "Load model:"
   ]
  },
  {
   "cell_type": "code",
   "execution_count": 4,
   "metadata": {},
   "outputs": [],
   "source": [
    "# get model\n",
    "import joblib\n",
    "model = joblib.load('../xgboost/saved_models/xgboost_model_COAD.pkl')"
   ]
  },
  {
   "cell_type": "markdown",
   "metadata": {},
   "source": [
    "Get the predictions:"
   ]
  },
  {
   "cell_type": "code",
   "execution_count": 8,
   "metadata": {},
   "outputs": [
    {
     "name": "stdout",
     "output_type": "stream",
     "text": [
      "num classes is:  2\n"
     ]
    }
   ],
   "source": [
    "from Evaluate import print_evaluation\n",
    "\n",
    "confidence = model.predict_proba(m_values)\n",
    "import numpy as np\n",
    "num_classes = len(np.unique(diagnoses, axis=0))\n",
    "print(\"num classes is: \", num_classes)\n",
    "\n",
    "from Evaluate import make_labelled_conf_mat\n",
    "predictions = model.predict(m_values)\n"
   ]
  },
  {
   "cell_type": "markdown",
   "metadata": {},
   "source": [
    "Make the diagnoses labels - Normal, Adenoma, or Cancer"
   ]
  },
  {
   "cell_type": "code",
   "execution_count": 14,
   "metadata": {},
   "outputs": [],
   "source": [
    "import pandas as pd\n",
    "diagnosis_info = pd.read_csv('../new_data/colorectal carcinoma (COAD)/diagnosis_info.csv', sep = '\\t')\n",
    "diagnosis_label = diagnosis_info['Histological Diagnosis '] # Note: need a space after\n",
    "diagnosis_label = ['N' if d == 'Normal' else 'A' if d == 'Adenoma' else 'C' for d in diagnosis_label]\n",
    "\n",
    "# diagnosis_label\n",
    "\n",
    "diagnoses_test = diagnoses.astype('int')"
   ]
  },
  {
   "cell_type": "markdown",
   "metadata": {},
   "source": [
    "Make the confusion matrix by hand:"
   ]
  },
  {
   "cell_type": "code",
   "execution_count": 47,
   "metadata": {},
   "outputs": [],
   "source": [
    "# make matrix of size numclasses x numclasses\n",
    "import numpy as np\n",
    "mat = np.full((num_classes, num_classes), '', dtype = object)\n",
    "counts = np.full((num_classes, num_classes), 0, dtype = int)\n",
    "\n",
    "# for each sample, put it in [diagnoses_test[sample], predictions[sample]]\n",
    "# this is making the annotation\n",
    "for i in range(len(diagnoses_test)):\n",
    "    mat[diagnoses_test[i], predictions[i]] = str(mat[diagnoses_test[i], predictions[i]]) + diagnosis_label[i] + ', '\n",
    "    counts[diagnoses_test[i], predictions[i]] = counts[diagnoses_test[i], predictions[i]] + 1\n",
    "\n",
    "    if counts[diagnoses_test[i], predictions[i]] % 3 == 0: # manually putting in new lines so the text wraps (setting the annot_kws param below doesn't seem to do anything)\n",
    "        mat[diagnoses_test[i], predictions[i]] = str(mat[diagnoses_test[i], predictions[i]]) + '\\n'\n",
    "\n",
    "\n",
    "# mat\n",
    "\n",
    "# this is the base confusion matrix (you need both a base cm with numbers and the annotation for seaborn's heatmap)\n",
    "from sklearn import metrics\n",
    "conf_mat = metrics.confusion_matrix(diagnoses_test, predictions)\n",
    "   "
   ]
  },
  {
   "cell_type": "code",
   "execution_count": 48,
   "metadata": {},
   "outputs": [],
   "source": [
    "mat[0][1] = '\\n' + mat[0][1] # adding a new line at the beginning of two cells, so they are more centered in the plot\n",
    "mat[1][1] = '\\n' + mat[1][1] "
   ]
  },
  {
   "cell_type": "markdown",
   "metadata": {},
   "source": [
    "Plot it:"
   ]
  },
  {
   "cell_type": "code",
   "execution_count": 49,
   "metadata": {},
   "outputs": [
    {
     "data": {
      "text/plain": [
       "Text(0.5, 5.0, 'Predicted label')"
      ]
     },
     "execution_count": 49,
     "metadata": {},
     "output_type": "execute_result"
    },
    {
     "data": {
      "text/plain": [
       "Text(81.68, 0.5, 'True label')"
      ]
     },
     "execution_count": 49,
     "metadata": {},
     "output_type": "execute_result"
    },
    {
     "data": {
      "image/png": "[encoded data removed]",
      "text/plain": [
       "<Figure size 432x288 with 1 Axes>"
      ]
     },
     "metadata": {
      "needs_background": "light"
     },
     "output_type": "display_data"
    }
   ],
   "source": [
    "import matplotlib.pyplot as plt\n",
    "\n",
    "font = {'family' : 'normal',\n",
    "        'size'   : 22}\n",
    "import matplotlib\n",
    "matplotlib.rc('font', **font)\n",
    "\n",
    "\n",
    "import matplotlib.pyplot as plt\n",
    "plt.clf()\n",
    "import seaborn as sns\n",
    "labels = ['Normal', 'COAD']\n",
    "plot = sns.heatmap(conf_mat, annot=mat, fmt = \"\", square = True, cbar = False, cmap='Blues', linewidths=2, linecolor=\"black\", annot_kws = {\"wrap\":True, \"size\": 18}, xticklabels = labels, yticklabels = labels)\n",
    "\n",
    "plt.xlabel('Predicted label', fontdict = {'family' : 'normal',\n",
    "        'size'   : 22})\n",
    "plt.ylabel('True label', fontdict = {'family' : 'normal',\n",
    "        'size'   : 22})\n",
    "\n",
    "\n",
    "fig = plot.get_figure()\n",
    "fig.savefig(figure_folder + 'benign_vs_cancer_confusion_matrix_COAD.svg', bbox_inches=\"tight\")"
   ]
  },
  {
   "cell_type": "code",
   "execution_count": null,
   "metadata": {},
   "outputs": [],
   "source": []
  }
 ],
 "metadata": {
  "kernelspec": {
   "display_name": "Python 3",
   "language": "python",
   "name": "python3"
  },
  "language_info": {
   "codemirror_mode": {
    "name": "ipython",
    "version": 3
   },
   "file_extension": ".py",
   "mimetype": "text/x-python",
   "name": "python",
   "nbconvert_exporter": "python",
   "pygments_lexer": "ipython3",
   "version": "3.6.8"
  }
 },
 "nbformat": 4,
 "nbformat_minor": 4
}
