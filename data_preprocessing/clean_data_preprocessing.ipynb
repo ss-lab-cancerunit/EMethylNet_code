{
 "cells": [
  {
   "cell_type": "markdown",
   "metadata": {},
   "source": [
    "## Script to use after delete_na_values.R"
   ]
  },
  {
   "cell_type": "markdown",
   "metadata": {},
   "source": [
    " Takes datasets m_values matrices and converts them into more readable numpy format. Creates beta values matrices, arrays of diagnoses for samples (tumour or normal). Results will be saved in pandas format. Parralel programming methods was used to speed up calculations. "
   ]
  },
  {
   "cell_type": "code",
   "execution_count": 9,
   "metadata": {},
   "outputs": [],
   "source": [
    "cancer_types = ['BLCA', 'BRCA', 'COAD', 'ESCA', 'HNSC', 'KIRC', 'KIRP', 'LIHC', 'LUAD', 'LUSC', 'PRAD', 'THCA', 'UCEC']\n"
   ]
  },
  {
   "cell_type": "code",
   "execution_count": 10,
   "metadata": {},
   "outputs": [],
   "source": [
    "import os\n",
    "import glob\n",
    "import errno\n",
    "import re\n",
    "import numpy as np\n",
    "import pandas as pd\n",
    "import csv\n",
    "import multiprocessing as mp\n",
    "import time"
   ]
  },
  {
   "cell_type": "code",
   "execution_count": 11,
   "metadata": {},
   "outputs": [],
   "source": [
    "# paths that are used to save or read files\n",
    "\n",
    "# make sure pwd() is data_preprocessing/\n",
    "\n",
    "save_path = 'dataset/'\n",
    "barcodes_part = 'barcodes/'\n",
    "diagnoses_part = 'diagnoses/'\n",
    "beta_values_part = 'beta_values/'\n",
    "m_values_part = 'm_values/'\n",
    "pandas_part = 'pandas/'\n",
    "csv_part = '.csv'\n",
    "\n",
    "if not ('dataset' in os.listdir()):\n",
    "    os.mkdir('dataset')\n",
    "    os.mkdir('dataset/' + pandas_part)\n",
    "    os.mkdir('dataset/' + pandas_part + barcodes_part)\n",
    "    os.mkdir('dataset/' + pandas_part + diagnoses_part)\n",
    "    os.mkdir('dataset/' + pandas_part + beta_values_part)\n",
    "    os.mkdir('dataset/' + pandas_part + m_values_part)"
   ]
  },
  {
   "cell_type": "code",
   "execution_count": null,
   "metadata": {},
   "outputs": [],
   "source": []
  },
  {
   "cell_type": "code",
   "execution_count": 12,
   "metadata": {},
   "outputs": [],
   "source": [
    "# function to get diagnose from tcga barcode. \n",
    "# 1 means tumour, 0 means normal\n",
    "def get_diagnosis(barcode):\n",
    "    diagnosis_code = int(barcode.split('-')[3][:2][0]) # taking tens didget from cancer code\n",
    "    \n",
    "    if diagnosis_code ==  0: # tumour samples represented 0-9\n",
    "        return 1\n",
    "    elif diagnosis_code == 1: # normal samples represented 10-19\n",
    "        return 0\n",
    "\n",
    "# function to return a set an ndarray of diagnoses for the list of tcga barcodes\n",
    "def diagnoses(arr):\n",
    "    diagnoses_array = []\n",
    "    for a in arr:\n",
    "        diagnoses_array.append(get_diagnosis(a))\n",
    "    return np.array(diagnoses_array)"
   ]
  },
  {
   "cell_type": "code",
   "execution_count": 13,
   "metadata": {},
   "outputs": [],
   "source": [
    "# converts beta values into m m values\n",
    "def beta2m(beta):\n",
    "    return np.log2((beta)/(1-beta))\n",
    "\n",
    "# converts m values into beta values\n",
    "def m2beta(m):\n",
    "    return (np.power(2, m))/(np.power(2, m) + 1)\n",
    "\n",
    "# converts m values into beta values (but: change +inf -> 1.0 and -inf -> 0.0). \n",
    "# it should be used to solve the problem of possibility of nan appereance in beta values matrix \n",
    "def m2beta_without_nan(m):\n",
    "    if np.isinf(m):\n",
    "        if m > 0.0:\n",
    "            beta = 1.0\n",
    "        else:\n",
    "            beta = 0.0\n",
    "    else:\n",
    "        beta = (np.power(2, m))/(np.power(2, m) + 1)\n",
    "    return beta"
   ]
  },
  {
   "cell_type": "code",
   "execution_count": 14,
   "metadata": {},
   "outputs": [],
   "source": [
    "####m-value matrix to beta matrix####\n",
    "#np_m2beta = np.vectorize(m2beta) #function m2beta for a matrix\n",
    "np_m2beta_without_nan = np.vectorize(m2beta_without_nan) \n",
    "#NEW_MATRIX = np_m2beta(MATRIX)"
   ]
  },
  {
   "cell_type": "code",
   "execution_count": 15,
   "metadata": {
    "scrolled": true
   },
   "outputs": [
    {
     "name": "stdout",
     "output_type": "stream",
     "text": [
      "PROJECT: BLCA\n",
      "PROJECT: BRCA\n",
      "Got barcodes\n",
      "Got diagnoses\n",
      "Got m values\n",
      "Got barcodes\n",
      "Got diagnoses\n",
      "Got m values\n",
      "Got betas\n",
      "BLCA pandas versions saved!\n",
      "Got betas\n",
      "BRCA pandas versions saved!\n"
     ]
    }
   ],
   "source": [
    "delay = 10\n",
    "\n",
    "def process_info():\n",
    "    print('Module:' + str(__name__) + '\\n')\n",
    "    print('Parent Process id:' + str(os.getppid()) + '\\n')\n",
    "    print('Process id:' + str(os.getpid()) + '\\n\\n')\n",
    "\n",
    "# making my version of the parallel_matrices function so it is clearer for me\n",
    "# also works with the output of DataProcessingRda.Rmd, which is a slightly different format than what parallel_matrices is used to (the row names are the probes)\n",
    "# file needs to be *_m_from_rda\n",
    "def my_version(file):\n",
    "    name = 'TCGA-' + file.split('/')[-1].split('.')[0].split('_')[0] # cancer type code\n",
    "    print('PROJECT: ' + name)\n",
    "    data = pd.read_csv(file)\n",
    "    data = data.rename(columns = {\"Unnamed: 0\": \"probe\"})\n",
    "    \n",
    "    # create barcodes\n",
    "    barcodes = list(data.columns)\n",
    "    barcodes.remove('probe')\n",
    "    print(\"Got barcodes\")\n",
    "    \n",
    "    # diagnoses\n",
    "    my_diagnoses = diagnoses(barcodes)\n",
    "    print(\"Got diagnoses\")\n",
    "    \n",
    "    # m values\n",
    "    m_values = np.array(data.drop(\"probe\", axis = 1))\n",
    "    print(\"Got m values\")\n",
    "    \n",
    "    # converts m_matrix into matrix of beta values\n",
    "    beta_matrix = np_m2beta_without_nan(m_values)\n",
    "    print(\"Got betas\")\n",
    "    \n",
    "    dbv = pd.DataFrame(barcodes)\n",
    "    dd = pd.DataFrame(my_diagnoses)\n",
    "    dm = pd.DataFrame(m_values, index = data[\"probe\"]) # save wit\n",
    "    db = pd.DataFrame(beta_matrix,  index = data[\"probe\"])\n",
    "    dbv.to_csv(save_path+pandas_part+barcodes_part+name+csv_part, sep='\\t')\n",
    "    dd.to_csv(save_path+pandas_part+diagnoses_part+name+csv_part, sep='\\t')\n",
    "    dm.to_csv(save_path+pandas_part+m_values_part+name+csv_part, sep='\\t')\n",
    "    db.to_csv(save_path+pandas_part+beta_values_part+name+csv_part, sep='\\t')\n",
    "    print(name + ' pandas versions saved!')\n",
    "  \n",
    "    \n",
    "# files = [root_path + 'GDCdata/from_rda/TCGA-'+ cancer_type + '_m_from_rda' for cancer_type in [\"BRCA\", \"HNSC\", \"THCA\", \"PRAD\"]]\n",
    "# files = [root_path + 'GDCdata/from_rda/TCGA-'+ cancer_type + '_m_from_rda' for cancer_type in [\"COAD\", \"ESCA\", \"KIRC\", \"BLCA\"]]\n",
    "files = [cancer_type + '_m_from_rda' for cancer_type in cancer_types]\n",
    "\n",
    "\n",
    "pool = mp.Pool(processes = mp.cpu_count())\n",
    "results = [pool.map(my_version, (file for file in files))]"
   ]
  },
  {
   "cell_type": "code",
   "execution_count": null,
   "metadata": {},
   "outputs": [],
   "source": []
  }
 ],
 "metadata": {
  "kernelspec": {
   "display_name": "Python 3",
   "language": "python",
   "name": "python3"
  },
  "language_info": {
   "codemirror_mode": {
    "name": "ipython",
    "version": 3
   },
   "file_extension": ".py",
   "mimetype": "text/x-python",
   "name": "python",
   "nbconvert_exporter": "python",
   "pygments_lexer": "ipython3",
   "version": "3.7.5"
  }
 },
 "nbformat": 4,
 "nbformat_minor": 4
}
