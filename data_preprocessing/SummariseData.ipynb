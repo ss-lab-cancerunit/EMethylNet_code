{
 "cells": [
  {
   "cell_type": "markdown",
   "metadata": {},
   "source": [
    "# Summarise data\n",
    "Here we look at the amount of data we have, including how many normals\n"
   ]
  },
  {
   "cell_type": "code",
   "execution_count": 1,
   "metadata": {},
   "outputs": [],
   "source": [
    "cancer_types = ['BLCA', 'BRCA', 'COAD', 'ESCA', 'HNSC', 'KIRC', 'KIRP', 'LIHC', 'LUAD', 'LUSC', 'PRAD', 'THCA', 'UCEC']\n",
    "files = ['dataset/pandas/diagnoses/TCGA-' + cancer_type + '.csv' for cancer_type in cancer_types] # we only need to look at diagnoses, not m_values\n",
    "\n",
    "import pandas as pd\n",
    "diagnoses = [pd.read_csv(file, sep='\\t', index_col = 0)['0'] for file in files]"
   ]
  },
  {
   "cell_type": "code",
   "execution_count": null,
   "metadata": {},
   "outputs": [],
   "source": []
  },
  {
   "cell_type": "code",
   "execution_count": 2,
   "metadata": {},
   "outputs": [],
   "source": [
    "num_normals = [sum(diagnosis == 0) for diagnosis in diagnoses]\n",
    "num_cancers = [sum(diagnosis == 1) for diagnosis in diagnoses]\n",
    "totals = [len(diagnosis) for diagnosis in diagnoses]"
   ]
  },
  {
   "cell_type": "code",
   "execution_count": 3,
   "metadata": {},
   "outputs": [
    {
     "data": {
      "text/plain": [
       "[436, 889, 353, 202, 580, 485, 321, 430, 507, 412, 553, 571, 485]"
      ]
     },
     "execution_count": 3,
     "metadata": {},
     "output_type": "execute_result"
    }
   ],
   "source": [
    "totals"
   ]
  },
  {
   "cell_type": "code",
   "execution_count": 4,
   "metadata": {},
   "outputs": [],
   "source": [
    "import pandas as pd\n",
    "# data_summary = pd.DataFrame(data = {'Normal':num_normals, 'Cancer': num_cancers, 'Total': totals, 'Fraction': (np.array(num_normals)/np.array(num_cancers))}, index =  cancer_types).transpose()\n",
    "data_summary = pd.DataFrame(data = {'Normal':num_normals, 'Cancer': num_cancers, 'Total': totals}, index =  cancer_types).transpose()"
   ]
  },
  {
   "cell_type": "code",
   "execution_count": 5,
   "metadata": {},
   "outputs": [
    {
     "data": {
      "text/html": [
       "<div>\n",
       "<style scoped>\n",
       "    .dataframe tbody tr th:only-of-type {\n",
       "        vertical-align: middle;\n",
       "    }\n",
       "\n",
       "    .dataframe tbody tr th {\n",
       "        vertical-align: top;\n",
       "    }\n",
       "\n",
       "    .dataframe thead th {\n",
       "        text-align: right;\n",
       "    }\n",
       "</style>\n",
       "<table border=\"1\" class=\"dataframe\">\n",
       "  <thead>\n",
       "    <tr style=\"text-align: right;\">\n",
       "      <th></th>\n",
       "      <th>BLCA</th>\n",
       "      <th>BRCA</th>\n",
       "      <th>COAD</th>\n",
       "      <th>ESCA</th>\n",
       "      <th>HNSC</th>\n",
       "      <th>KIRC</th>\n",
       "      <th>KIRP</th>\n",
       "      <th>LIHC</th>\n",
       "      <th>LUAD</th>\n",
       "      <th>LUSC</th>\n",
       "      <th>PRAD</th>\n",
       "      <th>THCA</th>\n",
       "      <th>UCEC</th>\n",
       "    </tr>\n",
       "  </thead>\n",
       "  <tbody>\n",
       "    <tr>\n",
       "      <td>Normal</td>\n",
       "      <td>21</td>\n",
       "      <td>96</td>\n",
       "      <td>38</td>\n",
       "      <td>16</td>\n",
       "      <td>50</td>\n",
       "      <td>160</td>\n",
       "      <td>45</td>\n",
       "      <td>50</td>\n",
       "      <td>32</td>\n",
       "      <td>42</td>\n",
       "      <td>50</td>\n",
       "      <td>56</td>\n",
       "      <td>46</td>\n",
       "    </tr>\n",
       "    <tr>\n",
       "      <td>Cancer</td>\n",
       "      <td>415</td>\n",
       "      <td>793</td>\n",
       "      <td>315</td>\n",
       "      <td>186</td>\n",
       "      <td>530</td>\n",
       "      <td>325</td>\n",
       "      <td>276</td>\n",
       "      <td>380</td>\n",
       "      <td>475</td>\n",
       "      <td>370</td>\n",
       "      <td>503</td>\n",
       "      <td>515</td>\n",
       "      <td>439</td>\n",
       "    </tr>\n",
       "    <tr>\n",
       "      <td>Total</td>\n",
       "      <td>436</td>\n",
       "      <td>889</td>\n",
       "      <td>353</td>\n",
       "      <td>202</td>\n",
       "      <td>580</td>\n",
       "      <td>485</td>\n",
       "      <td>321</td>\n",
       "      <td>430</td>\n",
       "      <td>507</td>\n",
       "      <td>412</td>\n",
       "      <td>553</td>\n",
       "      <td>571</td>\n",
       "      <td>485</td>\n",
       "    </tr>\n",
       "  </tbody>\n",
       "</table>\n",
       "</div>"
      ],
      "text/plain": [
       "        BLCA  BRCA  COAD  ESCA  HNSC  KIRC  KIRP  LIHC  LUAD  LUSC  PRAD  \\\n",
       "Normal    21    96    38    16    50   160    45    50    32    42    50   \n",
       "Cancer   415   793   315   186   530   325   276   380   475   370   503   \n",
       "Total    436   889   353   202   580   485   321   430   507   412   553   \n",
       "\n",
       "        THCA  UCEC  \n",
       "Normal    56    46  \n",
       "Cancer   515   439  \n",
       "Total    571   485  "
      ]
     },
     "execution_count": 5,
     "metadata": {},
     "output_type": "execute_result"
    }
   ],
   "source": [
    "data_summary"
   ]
  },
  {
   "cell_type": "code",
   "execution_count": 6,
   "metadata": {},
   "outputs": [
    {
     "data": {
      "text/html": [
       "<div>\n",
       "<style scoped>\n",
       "    .dataframe tbody tr th:only-of-type {\n",
       "        vertical-align: middle;\n",
       "    }\n",
       "\n",
       "    .dataframe tbody tr th {\n",
       "        vertical-align: top;\n",
       "    }\n",
       "\n",
       "    .dataframe thead th {\n",
       "        text-align: right;\n",
       "    }\n",
       "</style>\n",
       "<table border=\"1\" class=\"dataframe\">\n",
       "  <thead>\n",
       "    <tr style=\"text-align: right;\">\n",
       "      <th></th>\n",
       "      <th>BLCA</th>\n",
       "      <th>BRCA</th>\n",
       "      <th>COAD</th>\n",
       "      <th>ESCA</th>\n",
       "      <th>HNSC</th>\n",
       "      <th>KIRC</th>\n",
       "      <th>KIRP</th>\n",
       "      <th>LIHC</th>\n",
       "      <th>LUAD</th>\n",
       "      <th>LUSC</th>\n",
       "      <th>PRAD</th>\n",
       "      <th>THCA</th>\n",
       "      <th>UCEC</th>\n",
       "      <th>Total</th>\n",
       "    </tr>\n",
       "  </thead>\n",
       "  <tbody>\n",
       "    <tr>\n",
       "      <td>Normal</td>\n",
       "      <td>21</td>\n",
       "      <td>96</td>\n",
       "      <td>38</td>\n",
       "      <td>16</td>\n",
       "      <td>50</td>\n",
       "      <td>160</td>\n",
       "      <td>45</td>\n",
       "      <td>50</td>\n",
       "      <td>32</td>\n",
       "      <td>42</td>\n",
       "      <td>50</td>\n",
       "      <td>56</td>\n",
       "      <td>46</td>\n",
       "      <td>702</td>\n",
       "    </tr>\n",
       "    <tr>\n",
       "      <td>Cancer</td>\n",
       "      <td>415</td>\n",
       "      <td>793</td>\n",
       "      <td>315</td>\n",
       "      <td>186</td>\n",
       "      <td>530</td>\n",
       "      <td>325</td>\n",
       "      <td>276</td>\n",
       "      <td>380</td>\n",
       "      <td>475</td>\n",
       "      <td>370</td>\n",
       "      <td>503</td>\n",
       "      <td>515</td>\n",
       "      <td>439</td>\n",
       "      <td>5522</td>\n",
       "    </tr>\n",
       "    <tr>\n",
       "      <td>Total</td>\n",
       "      <td>436</td>\n",
       "      <td>889</td>\n",
       "      <td>353</td>\n",
       "      <td>202</td>\n",
       "      <td>580</td>\n",
       "      <td>485</td>\n",
       "      <td>321</td>\n",
       "      <td>430</td>\n",
       "      <td>507</td>\n",
       "      <td>412</td>\n",
       "      <td>553</td>\n",
       "      <td>571</td>\n",
       "      <td>485</td>\n",
       "      <td>6224</td>\n",
       "    </tr>\n",
       "  </tbody>\n",
       "</table>\n",
       "</div>"
      ],
      "text/plain": [
       "        BLCA  BRCA  COAD  ESCA  HNSC  KIRC  KIRP  LIHC  LUAD  LUSC  PRAD  \\\n",
       "Normal    21    96    38    16    50   160    45    50    32    42    50   \n",
       "Cancer   415   793   315   186   530   325   276   380   475   370   503   \n",
       "Total    436   889   353   202   580   485   321   430   507   412   553   \n",
       "\n",
       "        THCA  UCEC  Total  \n",
       "Normal    56    46    702  \n",
       "Cancer   515   439   5522  \n",
       "Total    571   485   6224  "
      ]
     },
     "execution_count": 6,
     "metadata": {},
     "output_type": "execute_result"
    }
   ],
   "source": [
    "data_summary = data_summary.assign(Total = lambda x: x.sum(axis = 1).astype('int'))\n",
    "data_summary"
   ]
  },
  {
   "cell_type": "code",
   "execution_count": null,
   "metadata": {},
   "outputs": [],
   "source": []
  },
  {
   "cell_type": "code",
   "execution_count": 7,
   "metadata": {},
   "outputs": [],
   "source": [
    "data_summary.to_csv('data_summary.csv', sep = '\\t')"
   ]
  },
  {
   "cell_type": "code",
   "execution_count": 25,
   "metadata": {},
   "outputs": [
    {
     "data": {
      "text/html": [
       "<div>\n",
       "<style scoped>\n",
       "    .dataframe tbody tr th:only-of-type {\n",
       "        vertical-align: middle;\n",
       "    }\n",
       "\n",
       "    .dataframe tbody tr th {\n",
       "        vertical-align: top;\n",
       "    }\n",
       "\n",
       "    .dataframe thead th {\n",
       "        text-align: right;\n",
       "    }\n",
       "</style>\n",
       "<table border=\"1\" class=\"dataframe\">\n",
       "  <thead>\n",
       "    <tr style=\"text-align: right;\">\n",
       "      <th></th>\n",
       "      <th>BLCA</th>\n",
       "      <th>BRCA</th>\n",
       "      <th>COAD</th>\n",
       "      <th>ESCA</th>\n",
       "      <th>HNSC</th>\n",
       "      <th>KIRC</th>\n",
       "      <th>KIRP</th>\n",
       "      <th>LIHC</th>\n",
       "      <th>LUAD</th>\n",
       "      <th>LUSC</th>\n",
       "      <th>PRAD</th>\n",
       "      <th>THCA</th>\n",
       "      <th>UCEC</th>\n",
       "      <th>Total</th>\n",
       "    </tr>\n",
       "  </thead>\n",
       "  <tbody>\n",
       "    <tr>\n",
       "      <td>Normal</td>\n",
       "      <td>21</td>\n",
       "      <td>96</td>\n",
       "      <td>38</td>\n",
       "      <td>16</td>\n",
       "      <td>50</td>\n",
       "      <td>160</td>\n",
       "      <td>45</td>\n",
       "      <td>50</td>\n",
       "      <td>32</td>\n",
       "      <td>42</td>\n",
       "      <td>50</td>\n",
       "      <td>56</td>\n",
       "      <td>46</td>\n",
       "      <td>702</td>\n",
       "    </tr>\n",
       "    <tr>\n",
       "      <td>Cancer</td>\n",
       "      <td>415</td>\n",
       "      <td>793</td>\n",
       "      <td>315</td>\n",
       "      <td>186</td>\n",
       "      <td>530</td>\n",
       "      <td>325</td>\n",
       "      <td>276</td>\n",
       "      <td>380</td>\n",
       "      <td>475</td>\n",
       "      <td>370</td>\n",
       "      <td>503</td>\n",
       "      <td>515</td>\n",
       "      <td>439</td>\n",
       "      <td>5522</td>\n",
       "    </tr>\n",
       "    <tr>\n",
       "      <td>Total</td>\n",
       "      <td>436</td>\n",
       "      <td>889</td>\n",
       "      <td>353</td>\n",
       "      <td>202</td>\n",
       "      <td>580</td>\n",
       "      <td>485</td>\n",
       "      <td>321</td>\n",
       "      <td>430</td>\n",
       "      <td>507</td>\n",
       "      <td>412</td>\n",
       "      <td>553</td>\n",
       "      <td>571</td>\n",
       "      <td>485</td>\n",
       "      <td>6224</td>\n",
       "    </tr>\n",
       "  </tbody>\n",
       "</table>\n",
       "</div>"
      ],
      "text/plain": [
       "        BLCA  BRCA  COAD  ESCA  HNSC  KIRC  KIRP  LIHC  LUAD  LUSC  PRAD  \\\n",
       "Normal    21    96    38    16    50   160    45    50    32    42    50   \n",
       "Cancer   415   793   315   186   530   325   276   380   475   370   503   \n",
       "Total    436   889   353   202   580   485   321   430   507   412   553   \n",
       "\n",
       "        THCA  UCEC  Total  \n",
       "Normal    56    46    702  \n",
       "Cancer   515   439   5522  \n",
       "Total    571   485   6224  "
      ]
     },
     "execution_count": 25,
     "metadata": {},
     "output_type": "execute_result"
    }
   ],
   "source": [
    "data_summary"
   ]
  },
  {
   "cell_type": "code",
   "execution_count": 34,
   "metadata": {},
   "outputs": [
    {
     "data": {
      "text/plain": [
       "0.1348765246992341"
      ]
     },
     "execution_count": 34,
     "metadata": {},
     "output_type": "execute_result"
    },
    {
     "data": {
      "text/plain": [
       "BLCA     0.050602\n",
       "BRCA     0.121059\n",
       "COAD     0.120635\n",
       "ESCA     0.086022\n",
       "HNSC     0.094340\n",
       "KIRC     0.492308\n",
       "KIRP     0.163043\n",
       "LIHC     0.131579\n",
       "LUAD     0.067368\n",
       "LUSC     0.113514\n",
       "PRAD     0.099404\n",
       "THCA     0.108738\n",
       "UCEC     0.104784\n",
       "Total    0.127128\n",
       "dtype: float64"
      ]
     },
     "execution_count": 34,
     "metadata": {},
     "output_type": "execute_result"
    }
   ],
   "source": [
    "# finding the average class ratio\n",
    "\n",
    "ratios = data_summary.loc['Normal']/data_summary.loc['Cancer']\n",
    "\n",
    "import numpy as np\n",
    "av_class_ratio = np.mean(list(ratios)[0:13]) # skipping out total\n",
    "\n",
    "av_class_ratio\n",
    "\n",
    "ratios"
   ]
  },
  {
   "cell_type": "code",
   "execution_count": 40,
   "metadata": {},
   "outputs": [
    {
     "data": {
      "text/plain": [
       "0.07142857142857142"
      ]
     },
     "execution_count": 40,
     "metadata": {},
     "output_type": "execute_result"
    }
   ],
   "source": [
    "# finding the average class ratio once normals are pooled together (multiclass):\n",
    "\n",
    "num_in_classes = list(data_summary.loc['Cancer'])[0:13]\n",
    "num_in_classes.append(data_summary.loc['Normal']['Total']) # add the pooled normals class\n",
    "\n",
    "np.mean(num_in_classes/sum(num_in_classes)) # not sure if this is meaningful\n"
   ]
  },
  {
   "cell_type": "code",
   "execution_count": null,
   "metadata": {},
   "outputs": [],
   "source": []
  },
  {
   "cell_type": "code",
   "execution_count": null,
   "metadata": {},
   "outputs": [],
   "source": []
  },
  {
   "cell_type": "code",
   "execution_count": null,
   "metadata": {},
   "outputs": [],
   "source": []
  }
 ],
 "metadata": {
  "kernelspec": {
   "display_name": "Python 3",
   "language": "python",
   "name": "python3"
  },
  "language_info": {
   "codemirror_mode": {
    "name": "ipython",
    "version": 3
   },
   "file_extension": ".py",
   "mimetype": "text/x-python",
   "name": "python",
   "nbconvert_exporter": "python",
   "pygments_lexer": "ipython3",
   "version": "3.7.5"
  }
 },
 "nbformat": 4,
 "nbformat_minor": 4
}
