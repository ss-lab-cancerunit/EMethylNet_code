{
 "cells": [
  {
   "cell_type": "markdown",
   "metadata": {},
   "source": [
    "# Multiclass DNN external performance\n",
    "\n",
    "Evaluates all external datasets using the mulitclass DNN (that uses the xgboost features). Generates figures in figure_folder"
   ]
  },
  {
   "cell_type": "code",
   "execution_count": 11,
   "metadata": {},
   "outputs": [],
   "source": [
    "figure_folder = 'multiclass_DNN_external_figs/'"
   ]
  },
  {
   "cell_type": "markdown",
   "metadata": {},
   "source": [
    "Add the Evaluate module to path and make figure folder:"
   ]
  },
  {
   "cell_type": "code",
   "execution_count": 12,
   "metadata": {},
   "outputs": [
    {
     "name": "stdout",
     "output_type": "stream",
     "text": [
      "path is  /Tank/methylation-patterns-code/methylation-patterns-izzy/\n"
     ]
    }
   ],
   "source": [
    "# adding this path so we can import Evaluate\n",
    "import sys\n",
    "import os\n",
    "\n",
    "cwd = os.getcwd() # get the current path, and only take up to methylation-patterns-izzy (discarding the end bit)\n",
    "file = 'methylation-patterns-izzy'\n",
    "end = cwd.find(file) + len(file) + 1 # find start of file in path, add on its lenth to go to the end, and add on 1 to get the /\n",
    "path = cwd[0:end]\n",
    "print(\"path is \", path)\n",
    "sys.path.append(path)\n",
    "\n",
    "from Evaluate import load_and_eval\n",
    "root_path = path\n",
    "\n",
    "if not (figure_folder.strip('/') in os.listdir()):\n",
    "    os.mkdir(figure_folder)"
   ]
  },
  {
   "cell_type": "markdown",
   "metadata": {},
   "source": [
    "Get all external datasets:"
   ]
  },
  {
   "cell_type": "code",
   "execution_count": 13,
   "metadata": {},
   "outputs": [
    {
     "name": "stdout",
     "output_type": "stream",
     "text": [
      "Using path  ../new_data/breast_cancer/m_values_from_raw_training_imputation_constant.csv\n",
      "(57, 276016)\n",
      "(57,)\n",
      "Big dataset is now  (57, 276016)  and big diagnoses  57\n",
      "Using path  ../new_data/ESCA_from_Ganesh/m_values.csv\n",
      "(200, 276016)\n",
      "(200,)\n"
     ]
    },
    {
     "name": "stderr",
     "output_type": "stream",
     "text": [
      "/home/in268/.local/lib/python3.7/site-packages/ipykernel_launcher.py:21: DeprecationWarning: elementwise comparison failed; this will raise an error in the future.\n"
     ]
    },
    {
     "name": "stdout",
     "output_type": "stream",
     "text": [
      "Big dataset is now  (257, 276016)  and big diagnoses  257\n",
      "Using path  ../new_data/ESCA_from_Ganesh/m_values_OCCAMS.csv\n",
      "(114, 276016)\n",
      "(114,)\n",
      "Big dataset is now  (371, 276016)  and big diagnoses  371\n",
      "Using path  ../new_data/colorectal carcinoma (COAD)/m_values_from_raw_training_imputation_constant.csv\n",
      "(29, 276016)\n",
      "(29,)\n",
      "Big dataset is now  (400, 276016)  and big diagnoses  400\n",
      "Using path  ../new_data/prostate CA ICGC/m_values_from_raw_corrected_training_imputation_constant.csv\n",
      "(199, 276016)\n",
      "(199,)\n",
      "Big dataset is now  (599, 276016)  and big diagnoses  599\n",
      "Using path  ../new_data/Thyroid (THCA)/m_values_training_imputation_constant.csv\n",
      "(141, 276016)\n",
      "(141,)\n",
      "Big dataset is now  (740, 276016)  and big diagnoses  740\n",
      "Using path  ../new_data/Head and neck  squamous cell carcinoma (HNSC)/m_values_from_raw_training_imputation_constant.csv\n",
      "(42, 276016)\n",
      "(42,)\n",
      "Big dataset is now  (782, 276016)  and big diagnoses  782\n",
      "Using path  ../new_data/clear cell renal cell carcinoma (KIRC)/m_values_from_raw_training_imputation_constant.csv\n",
      "(92, 276016)\n",
      "(92,)\n",
      "Big dataset is now  (874, 276016)  and big diagnoses  874\n",
      "Using path  ../new_data/hepatocellular carcinoma (LIHC)/m_values_from_raw_training_imputation_constant.csv\n",
      "(66, 276016)\n",
      "(66,)\n",
      "Big dataset is now  (940, 276016)  and big diagnoses  940\n"
     ]
    }
   ],
   "source": [
    "from get_train_and_test import get_external_data\n",
    "import numpy as np\n",
    "\n",
    "def get_big_external_set():\n",
    "    big_dataset = []\n",
    "    big_diagnoses = []\n",
    "    cancer_types = ['BRCA', 'ESCA', 'COAD', 'PRAD', 'THCA', 'HNSC', 'KIRC', 'LIHC']\n",
    "    diagnoses_nums = {'BRCA' : 2, 'ESCA': 4, 'COAD': 3, 'PRAD' : 11, 'THCA' : 12, 'HNSC' : 5, 'KIRC' : 6, 'LIHC' : 8}\n",
    "    for cancer_type in cancer_types:\n",
    "        \n",
    "        # the ESCA folder is the (public) Australian dataset from Ganesh\n",
    "        folder_dict = {'BRCA' : 'breast_cancer/', 'ESCA': 'ESCA_from_Ganesh/', 'COAD': 'colorectal carcinoma (COAD)/', 'PRAD' : 'prostate CA ICGC/', 'THCA' : 'Thyroid (THCA)/', 'HNSC' : 'Head and neck  squamous cell carcinoma (HNSC)/', 'KIRC' : 'clear cell renal cell carcinoma (KIRC)/', 'LIHC' : 'hepatocellular carcinoma (LIHC)/', 'PRAD2': 'prostate 2/', 'PRAD_meta': 'metastasis/prostate/'}\n",
    "        folder_name = folder_dict[cancer_type]\n",
    "\n",
    "        use_raw = False if cancer_type in ['THCA', 'ESCA'] else True\n",
    "        use_corrected_PRAD = True if cancer_type == 'PRAD' else False\n",
    "        use_training_imputation = False if cancer_type == 'ESCA' else True\n",
    "        \n",
    "        m_values, diagnoses = get_external_data(cancer_type, multiclass = True, remove_inf = True, has_header = False, use_raw = use_raw, root_path = '../new_data/'+folder_name, use_training_imputation = use_training_imputation, use_corrected_PRAD = use_corrected_PRAD)\n",
    "        \n",
    "        if big_dataset == []:\n",
    "            big_dataset = m_values\n",
    "        else:\n",
    "            big_dataset = np.concatenate((big_dataset, m_values), axis = 0)\n",
    "            \n",
    "        diagnoses_changed = [diagnoses_nums[cancer_type] if d == 1 else 0 for d in diagnoses]\n",
    "        big_diagnoses.extend(diagnoses_changed)\n",
    "        print(\"Big dataset is now \", big_dataset.shape, \" and big diagnoses \", len(big_diagnoses))\n",
    "        \n",
    "        if cancer_type == 'ESCA': # also add the OCCAMS dataset\n",
    "            m_values, diagnoses = get_external_data(cancer_type, multiclass = True, remove_inf = True, has_header = False, use_raw = use_raw, root_path = '../new_data/'+folder_name, use_training_imputation = use_training_imputation, use_corrected_PRAD = use_corrected_PRAD, to_add = '_OCCAMS')\n",
    "            big_dataset = np.concatenate((big_dataset, m_values), axis = 0)\n",
    "            diagnoses_changed = [diagnoses_nums[cancer_type] if d == 1 else 0 for d in diagnoses]\n",
    "            big_diagnoses.extend(diagnoses_changed)\n",
    "            print(\"Big dataset is now \", big_dataset.shape, \" and big diagnoses \", len(big_diagnoses))\n",
    "            \n",
    "    return big_dataset, big_diagnoses\n",
    "\n",
    "big_dataset, big_diagnoses = get_big_external_set()"
   ]
  },
  {
   "cell_type": "markdown",
   "metadata": {},
   "source": [
    "Extract xgboost features we are using for input:"
   ]
  },
  {
   "cell_type": "code",
   "execution_count": 14,
   "metadata": {},
   "outputs": [
    {
     "data": {
      "text/plain": [
       "3388"
      ]
     },
     "execution_count": 14,
     "metadata": {},
     "output_type": "execute_result"
    },
    {
     "data": {
      "text/plain": [
       "(940, 3388)"
      ]
     },
     "execution_count": 14,
     "metadata": {},
     "output_type": "execute_result"
    }
   ],
   "source": [
    "# How to go from multiclass features to the found features: (from FoundFeatureNN.ipynb)\n",
    "\n",
    "# get the important features, found by xgboost\n",
    "import pandas as pd\n",
    "features = pd.read_csv('../xgboost/depth3est800lr189/feature_importances/_run_1.csv', header = None) # get features found by best performing multiclass xgboost\n",
    "\n",
    "feature_nums = [int(features[0][i].split(' ')[2]) for i in range(len(features[0]))]\n",
    "len(feature_nums)\n",
    "\n",
    "# load whole input data and pick out probes in feature_nums\n",
    "big_dataset = big_dataset[:, feature_nums]\n",
    "big_dataset.shape\n"
   ]
  },
  {
   "cell_type": "markdown",
   "metadata": {},
   "source": [
    "Load the DNN model:"
   ]
  },
  {
   "cell_type": "code",
   "execution_count": 15,
   "metadata": {},
   "outputs": [],
   "source": [
    "from keras.models import load_model\n",
    "model = load_model('../NNs/FoundFeatureNN/FeatureNN__best_model')"
   ]
  },
  {
   "cell_type": "markdown",
   "metadata": {},
   "source": [
    "Evaluate:"
   ]
  },
  {
   "cell_type": "code",
   "execution_count": 16,
   "metadata": {},
   "outputs": [
    {
     "name": "stdout",
     "output_type": "stream",
     "text": [
      "[0, 0, 0, 0, 0, 0, 0, 0, 0, 0, 0, 0, 0, 0, 0, 0, 0, 2, 2, 2, 2, 2, 2, 2, 2, 2, 2, 2, 2, 2, 2, 2, 2, 2, 2, 2, 2, 2, 2, 2, 2, 2, 2, 2, 2, 2, 2, 2, 2, 2, 2, 2, 2, 2, 2, 2, 2, 0, 0, 0, 0, 0, 0, 0, 0, 0, 0, 0, 0, 0, 0, 0, 0, 0, 0, 0, 0, 0, 0, 0, 0, 0, 0, 0, 0, 0, 0, 0, 0, 0, 0, 0, 0, 0, 0, 0, 0, 0, 0, 0, 0, 0, 0, 0, 0, 0, 0, 0, 0, 0, 0, 0, 0, 0, 0, 0, 0, 0, 0, 0, 0, 0, 0, 0, 0, 0, 0, 0, 0, 0, 0, 0, 4, 4, 4, 4, 4, 4, 4, 4, 4, 4, 4, 4, 4, 4, 4, 4, 4, 4, 4, 4, 4, 4, 4, 4, 4, 4, 4, 4, 4, 4, 4, 4, 4, 4, 4, 4, 4, 4, 4, 4, 4, 4, 4, 4, 4, 4, 4, 4, 4, 4, 4, 4, 4, 4, 4, 4, 4, 4, 4, 4, 4, 4, 4, 4, 4, 4, 4, 4, 4, 4, 4, 4, 4, 4, 4, 4, 4, 4, 4, 4, 4, 4, 4, 4, 4, 4, 4, 4, 4, 4, 4, 4, 4, 4, 4, 4, 4, 4, 4, 4, 4, 4, 4, 4, 4, 4, 4, 4, 4, 4, 4, 4, 4, 4, 4, 4, 4, 4, 4, 4, 4, 4, 4, 4, 4, 0, 0, 0, 0, 0, 0, 0, 0, 0, 0, 0, 0, 0, 0, 0, 0, 0, 0, 0, 0, 0, 0, 0, 0, 0, 0, 0, 0, 0, 0, 0, 0, 0, 0, 0, 0, 0, 0, 0, 4, 4, 4, 4, 4, 4, 4, 4, 4, 4, 4, 4, 4, 4, 4, 4, 4, 4, 4, 4, 4, 4, 4, 4, 4, 4, 4, 4, 4, 4, 4, 4, 4, 4, 4, 4, 4, 4, 4, 4, 4, 4, 4, 4, 4, 4, 4, 4, 4, 4, 4, 4, 4, 4, 4, 4, 4, 4, 4, 4, 4, 4, 4, 4, 4, 4, 4, 4, 4, 4, 4, 4, 4, 4, 4, 0, 0, 0, 0, 0, 0, 0, 0, 0, 0, 0, 0, 0, 0, 0, 0, 0, 0, 0, 0, 3, 3, 3, 3, 3, 3, 3, 3, 3, 11, 11, 11, 11, 11, 11, 11, 11, 11, 11, 11, 11, 11, 11, 11, 11, 11, 11, 11, 11, 11, 11, 11, 11, 11, 11, 11, 11, 11, 11, 11, 11, 11, 11, 11, 11, 11, 11, 11, 11, 11, 11, 11, 11, 11, 11, 11, 11, 11, 11, 11, 11, 11, 11, 11, 11, 11, 11, 11, 11, 11, 11, 11, 11, 11, 11, 11, 11, 11, 11, 11, 11, 11, 11, 11, 11, 11, 11, 11, 11, 11, 11, 11, 11, 11, 11, 11, 11, 11, 11, 11, 11, 11, 11, 11, 11, 11, 11, 11, 11, 11, 11, 11, 11, 11, 11, 11, 11, 11, 11, 11, 11, 11, 11, 11, 11, 11, 11, 11, 11, 11, 11, 11, 11, 11, 11, 11, 11, 11, 11, 11, 11, 11, 11, 11, 11, 11, 11, 11, 11, 11, 11, 11, 11, 11, 11, 11, 11, 11, 11, 11, 11, 11, 11, 11, 11, 11, 11, 11, 11, 11, 11, 11, 11, 11, 11, 11, 11, 11, 11, 11, 11, 11, 11, 11, 11, 11, 11, 11, 11, 11, 11, 11, 11, 11, 11, 11, 11, 11, 11, 11, 11, 11, 11, 11, 11, 11, 11, 11, 12, 0, 12, 12, 0, 12, 0, 0, 0, 0, 0, 12, 12, 0, 0, 0, 0, 0, 12, 12, 0, 0, 0, 0, 12, 12, 12, 0, 0, 12, 0, 12, 0, 12, 0, 12, 12, 12, 12, 0, 12, 0, 0, 0, 12, 0, 12, 0, 12, 0, 12, 12, 0, 12, 12, 0, 12, 0, 0, 12, 12, 0, 0, 0, 12, 0, 0, 12, 12, 12, 12, 0, 12, 12, 12, 12, 12, 0, 12, 12, 12, 0, 12, 12, 12, 12, 12, 12, 0, 12, 12, 0, 0, 12, 12, 12, 12, 12, 12, 0, 12, 0, 12, 0, 0, 0, 12, 0, 12, 12, 0, 0, 12, 0, 0, 0, 0, 0, 12, 0, 0, 0, 12, 0, 0, 12, 12, 12, 12, 0, 0, 0, 12, 12, 0, 0, 12, 12, 12, 12, 0, 5, 5, 5, 5, 5, 5, 5, 5, 5, 5, 5, 5, 5, 5, 5, 5, 5, 5, 5, 5, 5, 5, 5, 5, 5, 5, 5, 5, 5, 5, 5, 5, 5, 5, 5, 5, 5, 5, 5, 5, 5, 5, 6, 0, 6, 0, 6, 0, 6, 0, 6, 0, 6, 0, 6, 0, 6, 0, 6, 0, 6, 0, 6, 0, 6, 0, 6, 0, 6, 0, 6, 0, 6, 0, 6, 0, 6, 0, 6, 0, 6, 0, 6, 0, 6, 0, 6, 0, 6, 0, 6, 0, 6, 0, 6, 0, 6, 0, 6, 0, 6, 0, 6, 0, 6, 0, 6, 0, 6, 0, 6, 0, 6, 0, 6, 0, 6, 0, 6, 0, 6, 0, 6, 0, 6, 0, 6, 0, 6, 0, 6, 0, 6, 0, 8, 8, 8, 8, 8, 8, 8, 8, 8, 8, 8, 8, 8, 8, 8, 8, 8, 8, 8, 8, 8, 8, 8, 8, 8, 8, 8, 8, 8, 8, 8, 8, 8, 8, 8, 8, 8, 8, 8, 8, 8, 8, 8, 8, 8, 8, 8, 8, 8, 8, 8, 8, 8, 8, 8, 8, 8, 8, 8, 8, 8, 8, 8, 8, 8, 8]\n",
      "[ 0  0  0  0  0  0  0  0  0  0  0  0  0  0  0  0  0  2  2  2  2  2  9  2\n",
      "  2  2  9  2  2  2  2  9  2  2  2  2  9  2  2  2  2  9  2  2  2  2  9  2\n",
      "  2  2  2  2  9  2  2  2  2  0  0  0  0  0  0  0  0  0  0  0  4  0  0  0\n",
      "  0  0  0  0  0  0  0  0  0  0  0  4  0  0  0  0  0  0  0  0  0  0  0  0\n",
      "  0  0  0  0  4  0  0  0  0  0  0  0  0  0  0  0  0  0  0  0  0  0  4  0\n",
      "  0  0  0  0  4  0  0  0  0  0  0  0  4  4  4  4  4  4  4  4  4  4  4  4\n",
      "  4  4  4  4  4  4  4  4  4  4  4  4  4  4  4  4  4  4  4  4  4  4  4  4\n",
      "  0  4  4  4  4  4  4  4  4  4  4  4  4  4  4  4  4  4  4  4  4  4  4  4\n",
      "  4  4  4  4  4  4  4  4  4  4  4  4  4  4  4  4  3  4  4  4  4  4  4  4\n",
      "  4  4  4  4  4  4  4  4  4  4  4  4  4  0  4  4  4  4  4  4  4  4  4  4\n",
      "  4  4  4  1  4  4  4  4  4  4  4  0  4  4  0  4  4  0  0  0  0  0  0  0\n",
      "  0  0  0  0  0  0  0  0  4  0  0  0  0  0  4  0  4  0  0  0  0  4  0  0\n",
      "  0  0  0  0  0  0  0  0  4  4  4  4  4  4  4  4  4  4  4  4  4  4  4  4\n",
      "  4  4  4  4  4  4  4  4  4  4  4  0  4  4  4  4  4  4  4  4  4  4  4  4\n",
      "  4  4  4  4  4  4  4  4  4  4  4  4  4  4  4  4  4  4  4  4  4  4  4  4\n",
      "  4  4  4  4  4  4  4  3  4  4  4  9  0  9  9  9  9  9  9  9  3  9  3  3\n",
      "  3  3  3  3  3  3  3  3  3  9  3  3  9  3  3  3 11 11 11 11 11 11 11 11\n",
      " 11 11 11 11 11  9 11 11 11 11 11 11 11 11 11 11 11 11 11 11 11 11 11 11\n",
      " 11 11 11 11  9 11 11 11 11 11 11 11 11 11 11 11 11 11 11 11 11 11 11 11\n",
      " 11 11 11 11 11 11 11 11 11 11 11 11 11 11 11 11 11  9  9 11 11 11  9 11\n",
      " 11 11 11 11 11 11 11 11 11 11 11 11 11 11 11 11 11 11 11 11 11 11 11 11\n",
      " 11 11 11 11 11 11 11 11 11 11 11 11 11 11 11 11 11 11 11 11 11 11  9 11\n",
      " 11 11 11 11 11 11 11 11 11 11 11 11 11 11 11 11 11 11 11 11 11 11 11 11\n",
      " 11 11 11 11  9 11 11 11 11 11 11 11 11 11 11 11 11 11 11 11 11 11 11 11\n",
      " 11 11 11 11 11 11 11 11 11 11 11 11 11 11 11 11  9  9 11 11 11 11 11 12\n",
      "  0 12 12  0 12  0  0  0  0  0 12 12  0  0  0  0 12 12 12  0 12  0  0 12\n",
      " 12 12  0  0 12  0 12  0 12  0 12 12 12 12  0 12 12  0 12 12  0 12  0 12\n",
      "  0 12  0 12 12 12  0 12  0  0 12 12  0  0  0 12  0  0 12 12 12 12  0 12\n",
      "  9 12 12 12  0 12 12 12  0 12  8 12 12 12  9 12 12 12  0  0 12 12 12  0\n",
      " 12 12  0 12  0 12 12  0  0 12  0 12 12  0  0  9  0  0  0  0  0 12  0  0\n",
      " 12 12 12  0  0 12 12 12 12 12  0  0 12  0  0 12 12 12 12  0  5  9  9  9\n",
      "  9  9  9  9  9  9  9  9  9  9  9  9  9  9  9  9  9  9  9  5  9  5  9  5\n",
      "  9  9  9  9  9  9  9  5  9  9  9  9  9  9  6  0  6  0  6  0  6  0  9  0\n",
      "  6  0  6  0  9  0  6  0  6  0  6  0  6  0  9  0  6  0  6  0  6  0  7  0\n",
      "  6  0  6  0  9  6  9  0  6  0  6  0  6  0  6  0  0  0  9  0  6  0  1  0\n",
      "  7  0  6  0  6  0  6  9  6  0  6  0  6  0  6  0  6  0  6  0  6  0  7  0\n",
      "  9  0  6  0  6  0  7  0  6  0  8  8  8  8  8  8  8  8  8  8  8  8  8  8\n",
      "  8  8  8  8  8  8  8  8  8  8  8  8  8  8  8  8  8  8  8  8  8  8  8  8\n",
      "  8  8  8  8  8  8  8  8  8  8  8  8  8  8  8  8  8  8  8  8  8  8  8  8\n",
      "  8  8  8  8]\n",
      "Couldn't calculate roc_auc\n",
      "Acc, conf mat:\n",
      "0.8670212765957447\n",
      "[[223   0   0  10   9   0   1   0   0  10   0   0  11   0]\n",
      " [  0   0   0   0   0   0   0   0   0   0   0   0   0   0]\n",
      " [  0   0  33   0   0   0   0   0   0   7   0   0   0   0]\n",
      " [  0   0   0   7   0   0   0   0   0   2   0   0   0   0]\n",
      " [  5   1   0   2 192   0   0   0   0   0   0   0   0   0]\n",
      " [  0   0   0   0   0   5   0   0   0  37   0   0   0   0]\n",
      " [  1   1   0   0   0   0  33   4   0   7   0   0   0   0]\n",
      " [  0   0   0   0   0   0   0   0   0   0   0   0   0   0]\n",
      " [  0   0   0   0   0   0   0   0  66   0   0   0   0   0]\n",
      " [  0   0   0   0   0   0   0   0   0   0   0   0   0   0]\n",
      " [  0   0   0   0   0   0   0   0   0   0   0   0   0   0]\n",
      " [  0   0   0   0   0   0   0   0   0   9   0 190   0   0]\n",
      " [  4   0   0   0   0   0   0   0   1   3   0   0  66   0]\n",
      " [  0   0   0   0   0   0   0   0   0   0   0   0   0   0]]\n",
      "precision, recall, f1 for each class:\n",
      "[0.95708155 0.         1.         0.36842105 0.95522388 1.\n",
      " 0.97058824 0.         0.98507463 0.         1.         0.85714286] [0.84469697 0.         0.825      0.77777778 0.96       0.11904762\n",
      " 0.7173913  0.         1.         0.         0.95477387 0.89189189] [0.89738431 0.         0.90410959 0.5        0.95760599 0.21276596\n",
      " 0.825      0.         0.9924812  0.         0.97686375 0.87417219]\n",
      "matthews correlation coeficient\n",
      "0.8440682829016053\n",
      "roc_auc for each class:  None\n"
     ]
    },
    {
     "name": "stderr",
     "output_type": "stream",
     "text": [
      "/home/in268/.local/lib/python3.7/site-packages/sklearn/metrics/_classification.py:1221: UndefinedMetricWarning: Recall is ill-defined and being set to 0.0 in labels with no true samples. Use `zero_division` parameter to control this behavior.\n",
      "  _warn_prf(average, modifier, msg_start, len(result))\n"
     ]
    },
    {
     "name": "stdout",
     "output_type": "stream",
     "text": [
      "        name                                             values\n",
      "0   Accuracy                                           0.867021\n",
      "1  Precision  [0.9570815450643777, 0.0, 1.0, 0.3684210526315...\n",
      "2     Recall  [0.8446969696969697, 0.0, 0.825, 0.77777777777...\n",
      "3         f1  [0.89738430583501, 0.0, 0.9041095890410958, 0....\n",
      "4        mcc                                           0.844068\n",
      "5    roc_auc                                               None\n"
     ]
    },
    {
     "data": {
      "text/plain": [
       "array([ 0,  0,  0,  0,  0,  0,  0,  0,  0,  0,  0,  0,  0,  0,  0,  0,  0,\n",
       "        2,  2,  2,  2,  2,  9,  2,  2,  2,  9,  2,  2,  2,  2,  9,  2,  2,\n",
       "        2,  2,  9,  2,  2,  2,  2,  9,  2,  2,  2,  2,  9,  2,  2,  2,  2,\n",
       "        2,  9,  2,  2,  2,  2,  0,  0,  0,  0,  0,  0,  0,  0,  0,  0,  0,\n",
       "        4,  0,  0,  0,  0,  0,  0,  0,  0,  0,  0,  0,  0,  0,  0,  4,  0,\n",
       "        0,  0,  0,  0,  0,  0,  0,  0,  0,  0,  0,  0,  0,  0,  0,  4,  0,\n",
       "        0,  0,  0,  0,  0,  0,  0,  0,  0,  0,  0,  0,  0,  0,  0,  0,  4,\n",
       "        0,  0,  0,  0,  0,  4,  0,  0,  0,  0,  0,  0,  0,  4,  4,  4,  4,\n",
       "        4,  4,  4,  4,  4,  4,  4,  4,  4,  4,  4,  4,  4,  4,  4,  4,  4,\n",
       "        4,  4,  4,  4,  4,  4,  4,  4,  4,  4,  4,  4,  4,  4,  4,  0,  4,\n",
       "        4,  4,  4,  4,  4,  4,  4,  4,  4,  4,  4,  4,  4,  4,  4,  4,  4,\n",
       "        4,  4,  4,  4,  4,  4,  4,  4,  4,  4,  4,  4,  4,  4,  4,  4,  4,\n",
       "        4,  4,  4,  4,  3,  4,  4,  4,  4,  4,  4,  4,  4,  4,  4,  4,  4,\n",
       "        4,  4,  4,  4,  4,  4,  4,  4,  0,  4,  4,  4,  4,  4,  4,  4,  4,\n",
       "        4,  4,  4,  4,  4,  1,  4,  4,  4,  4,  4,  4,  4,  0,  4,  4,  0,\n",
       "        4,  4,  0,  0,  0,  0,  0,  0,  0,  0,  0,  0,  0,  0,  0,  0,  0,\n",
       "        4,  0,  0,  0,  0,  0,  4,  0,  4,  0,  0,  0,  0,  4,  0,  0,  0,\n",
       "        0,  0,  0,  0,  0,  0,  0,  4,  4,  4,  4,  4,  4,  4,  4,  4,  4,\n",
       "        4,  4,  4,  4,  4,  4,  4,  4,  4,  4,  4,  4,  4,  4,  4,  4,  4,\n",
       "        0,  4,  4,  4,  4,  4,  4,  4,  4,  4,  4,  4,  4,  4,  4,  4,  4,\n",
       "        4,  4,  4,  4,  4,  4,  4,  4,  4,  4,  4,  4,  4,  4,  4,  4,  4,\n",
       "        4,  4,  4,  4,  4,  4,  4,  4,  4,  4,  3,  4,  4,  4,  9,  0,  9,\n",
       "        9,  9,  9,  9,  9,  9,  3,  9,  3,  3,  3,  3,  3,  3,  3,  3,  3,\n",
       "        3,  3,  9,  3,  3,  9,  3,  3,  3, 11, 11, 11, 11, 11, 11, 11, 11,\n",
       "       11, 11, 11, 11, 11,  9, 11, 11, 11, 11, 11, 11, 11, 11, 11, 11, 11,\n",
       "       11, 11, 11, 11, 11, 11, 11, 11, 11, 11, 11,  9, 11, 11, 11, 11, 11,\n",
       "       11, 11, 11, 11, 11, 11, 11, 11, 11, 11, 11, 11, 11, 11, 11, 11, 11,\n",
       "       11, 11, 11, 11, 11, 11, 11, 11, 11, 11, 11, 11, 11, 11,  9,  9, 11,\n",
       "       11, 11,  9, 11, 11, 11, 11, 11, 11, 11, 11, 11, 11, 11, 11, 11, 11,\n",
       "       11, 11, 11, 11, 11, 11, 11, 11, 11, 11, 11, 11, 11, 11, 11, 11, 11,\n",
       "       11, 11, 11, 11, 11, 11, 11, 11, 11, 11, 11, 11, 11, 11, 11, 11,  9,\n",
       "       11, 11, 11, 11, 11, 11, 11, 11, 11, 11, 11, 11, 11, 11, 11, 11, 11,\n",
       "       11, 11, 11, 11, 11, 11, 11, 11, 11, 11, 11, 11,  9, 11, 11, 11, 11,\n",
       "       11, 11, 11, 11, 11, 11, 11, 11, 11, 11, 11, 11, 11, 11, 11, 11, 11,\n",
       "       11, 11, 11, 11, 11, 11, 11, 11, 11, 11, 11, 11, 11, 11,  9,  9, 11,\n",
       "       11, 11, 11, 11, 12,  0, 12, 12,  0, 12,  0,  0,  0,  0,  0, 12, 12,\n",
       "        0,  0,  0,  0, 12, 12, 12,  0, 12,  0,  0, 12, 12, 12,  0,  0, 12,\n",
       "        0, 12,  0, 12,  0, 12, 12, 12, 12,  0, 12, 12,  0, 12, 12,  0, 12,\n",
       "        0, 12,  0, 12,  0, 12, 12, 12,  0, 12,  0,  0, 12, 12,  0,  0,  0,\n",
       "       12,  0,  0, 12, 12, 12, 12,  0, 12,  9, 12, 12, 12,  0, 12, 12, 12,\n",
       "        0, 12,  8, 12, 12, 12,  9, 12, 12, 12,  0,  0, 12, 12, 12,  0, 12,\n",
       "       12,  0, 12,  0, 12, 12,  0,  0, 12,  0, 12, 12,  0,  0,  9,  0,  0,\n",
       "        0,  0,  0, 12,  0,  0, 12, 12, 12,  0,  0, 12, 12, 12, 12, 12,  0,\n",
       "        0, 12,  0,  0, 12, 12, 12, 12,  0,  5,  9,  9,  9,  9,  9,  9,  9,\n",
       "        9,  9,  9,  9,  9,  9,  9,  9,  9,  9,  9,  9,  9,  9,  9,  5,  9,\n",
       "        5,  9,  5,  9,  9,  9,  9,  9,  9,  9,  5,  9,  9,  9,  9,  9,  9,\n",
       "        6,  0,  6,  0,  6,  0,  6,  0,  9,  0,  6,  0,  6,  0,  9,  0,  6,\n",
       "        0,  6,  0,  6,  0,  6,  0,  9,  0,  6,  0,  6,  0,  6,  0,  7,  0,\n",
       "        6,  0,  6,  0,  9,  6,  9,  0,  6,  0,  6,  0,  6,  0,  6,  0,  0,\n",
       "        0,  9,  0,  6,  0,  1,  0,  7,  0,  6,  0,  6,  0,  6,  9,  6,  0,\n",
       "        6,  0,  6,  0,  6,  0,  6,  0,  6,  0,  6,  0,  7,  0,  9,  0,  6,\n",
       "        0,  6,  0,  7,  0,  6,  0,  8,  8,  8,  8,  8,  8,  8,  8,  8,  8,\n",
       "        8,  8,  8,  8,  8,  8,  8,  8,  8,  8,  8,  8,  8,  8,  8,  8,  8,\n",
       "        8,  8,  8,  8,  8,  8,  8,  8,  8,  8,  8,  8,  8,  8,  8,  8,  8,\n",
       "        8,  8,  8,  8,  8,  8,  8,  8,  8,  8,  8,  8,  8,  8,  8,  8,  8,\n",
       "        8,  8,  8,  8,  8])"
      ]
     },
     "execution_count": 16,
     "metadata": {},
     "output_type": "execute_result"
    },
    {
     "data": {
      "text/plain": [
       "14"
      ]
     },
     "execution_count": 16,
     "metadata": {},
     "output_type": "execute_result"
    },
    {
     "name": "stdout",
     "output_type": "stream",
     "text": [
      "            Normal  BLCA  BRCA  COAD  ESCA  HNSC  KIRC  KIRP  LIHC  LUAD  \\\n",
      "0.000000  0.000000   NaN   NaN   NaN   NaN   NaN   NaN   NaN   NaN   NaN   \n",
      "0.000000  0.003788   NaN   NaN   NaN   NaN   NaN   NaN   NaN   NaN   NaN   \n",
      "0.000000  0.121212   NaN   NaN   NaN   NaN   NaN   NaN   NaN   NaN   NaN   \n",
      "0.000000  0.128788   NaN   NaN   NaN   NaN   NaN   NaN   NaN   NaN   NaN   \n",
      "0.000000  0.193182   NaN   NaN   NaN   NaN   NaN   NaN   NaN   NaN   NaN   \n",
      "...            ...   ...   ...   ...   ...   ...   ...   ...   ...   ...   \n",
      "0.160508       NaN   NaN   NaN   NaN   NaN   NaN   NaN   NaN   NaN   NaN   \n",
      "1.000000       NaN   NaN   NaN   NaN   NaN   NaN   NaN   NaN   NaN   NaN   \n",
      "0.000000       NaN   NaN   NaN   NaN   NaN   NaN   NaN   NaN   NaN   NaN   \n",
      "0.001064       NaN   NaN   NaN   NaN   NaN   NaN   NaN   NaN   NaN   NaN   \n",
      "1.000000       NaN   NaN   NaN   NaN   NaN   NaN   NaN   NaN   NaN   NaN   \n",
      "\n",
      "          LUSC  PRAD  THCA  UCEC  \n",
      "0.000000   NaN   NaN   NaN   NaN  \n",
      "0.000000   NaN   NaN   NaN   NaN  \n",
      "0.000000   NaN   NaN   NaN   NaN  \n",
      "0.000000   NaN   NaN   NaN   NaN  \n",
      "0.000000   NaN   NaN   NaN   NaN  \n",
      "...        ...   ...   ...   ...  \n",
      "0.160508   NaN   NaN   1.0   NaN  \n",
      "1.000000   NaN   NaN   1.0   NaN  \n",
      "0.000000   NaN   NaN   NaN   NaN  \n",
      "0.001064   NaN   NaN   NaN   NaN  \n",
      "1.000000   NaN   NaN   NaN   NaN  \n",
      "\n",
      "[275 rows x 14 columns]\n"
     ]
    },
    {
     "name": "stderr",
     "output_type": "stream",
     "text": [
      "/home/in268/.local/lib/python3.7/site-packages/sklearn/metrics/_ranking.py:813: UndefinedMetricWarning: No positive samples in y_true, true positive value should be meaningless\n",
      "  UndefinedMetricWarning)\n",
      "/home/in268/.local/lib/python3.7/site-packages/sklearn/metrics/_ranking.py:681: RuntimeWarning: invalid value encountered in true_divide\n",
      "  recall = tps / tps[-1]\n"
     ]
    },
    {
     "name": "stdout",
     "output_type": "stream",
     "text": [
      "            Normal  BLCA  BRCA  COAD  ESCA  HNSC  KIRC  KIRP  LIHC  LUAD  \\\n",
      "1.000000  0.321951   NaN   NaN   NaN   NaN   NaN   NaN   NaN   NaN   NaN   \n",
      "0.996212  0.321123   NaN   NaN   NaN   NaN   NaN   NaN   NaN   NaN   NaN   \n",
      "0.996212  0.321516   NaN   NaN   NaN   NaN   NaN   NaN   NaN   NaN   NaN   \n",
      "0.996212  0.321909   NaN   NaN   NaN   NaN   NaN   NaN   NaN   NaN   NaN   \n",
      "0.996212  0.322304   NaN   NaN   NaN   NaN   NaN   NaN   NaN   NaN   NaN   \n",
      "...            ...   ...   ...   ...   ...   ...   ...   ...   ...   ...   \n",
      "0.027027       NaN   NaN   NaN   NaN   NaN   NaN   NaN   NaN   NaN   NaN   \n",
      "0.013514       NaN   NaN   NaN   NaN   NaN   NaN   NaN   NaN   NaN   NaN   \n",
      "0.000000       NaN   NaN   NaN   NaN   NaN   NaN   NaN   NaN   NaN   NaN   \n",
      "NaN            NaN   NaN   NaN   NaN   NaN   NaN   NaN   NaN   NaN   NaN   \n",
      "0.000000       NaN   NaN   NaN   NaN   NaN   NaN   NaN   NaN   NaN   NaN   \n",
      "\n",
      "          LUSC  PRAD  THCA  UCEC  \n",
      "1.000000   NaN   NaN   NaN   NaN  \n",
      "0.996212   NaN   NaN   NaN   NaN  \n",
      "0.996212   NaN   NaN   NaN   NaN  \n",
      "0.996212   NaN   NaN   NaN   NaN  \n",
      "0.996212   NaN   NaN   NaN   NaN  \n",
      "...        ...   ...   ...   ...  \n",
      "0.027027   NaN   NaN   1.0   NaN  \n",
      "0.013514   NaN   NaN   1.0   NaN  \n",
      "0.000000   NaN   NaN   1.0   NaN  \n",
      "NaN        NaN   NaN   NaN   0.0  \n",
      "0.000000   NaN   NaN   NaN   1.0  \n",
      "\n",
      "[2769 rows x 14 columns]\n"
     ]
    },
    {
     "data": {
      "image/png": "[encoded data removed]",
      "text/plain": [
       "<Figure size 432x288 with 1 Axes>"
      ]
     },
     "metadata": {},
     "output_type": "display_data"
    }
   ],
   "source": [
    "from Evaluate import print_evaluation\n",
    "\n",
    "y_pred = model.predict(big_dataset, batch_size=big_dataset.shape[0])\n",
    "print_evaluation(None, None, big_diagnoses, 'all_external_DNN', predictions=np.argmax(y_pred, axis=1), prob_predictions=y_pred, cm_labels = [0,1,2,3,4,5,6,7,8,9,10,11,12,13], small_text = True, save_folder=figure_folder)\n",
    "\n",
    "confidence = model.predict_proba(big_dataset)\n",
    "import numpy as np\n",
    "\n",
    "from Evaluate import plot_curve\n",
    "num_poss_classes = 14\n",
    "num_poss_classes\n",
    "plot_curve('roc', big_diagnoses, confidence, num_poss_classes, 'all_external_DNN', cancer_type = '', save_folder=figure_folder)\n",
    "plot_curve('precision_recall', big_diagnoses, confidence, num_poss_classes, 'all_external_DNN', cancer_type = '', save_folder=figure_folder)"
   ]
  },
  {
   "cell_type": "code",
   "execution_count": 46,
   "metadata": {},
   "outputs": [
    {
     "data": {
      "text/plain": [
       "array([ True, False,  True,  True,  True,  True,  True, False,  True,\n",
       "       False, False,  True,  True, False])"
      ]
     },
     "execution_count": 46,
     "metadata": {},
     "output_type": "execute_result"
    }
   ],
   "source": []
  },
  {
   "cell_type": "code",
   "execution_count": 53,
   "metadata": {},
   "outputs": [
    {
     "name": "stdout",
     "output_type": "stream",
     "text": [
      "[[223   0   0  10   9   0   1   0   0  10   0   0  11   0]\n",
      " [  0   0   0   0   0   0   0   0   0   0   0   0   0   0]\n",
      " [  0   0  33   0   0   0   0   0   0   7   0   0   0   0]\n",
      " [  0   0   0   7   0   0   0   0   0   2   0   0   0   0]\n",
      " [  5   1   0   2 192   0   0   0   0   0   0   0   0   0]\n",
      " [  0   0   0   0   0   5   0   0   0  37   0   0   0   0]\n",
      " [  1   1   0   0   0   0  33   4   0   7   0   0   0   0]\n",
      " [  0   0   0   0   0   0   0   0   0   0   0   0   0   0]\n",
      " [  0   0   0   0   0   0   0   0  66   0   0   0   0   0]\n",
      " [  0   0   0   0   0   0   0   0   0   0   0   0   0   0]\n",
      " [  0   0   0   0   0   0   0   0   0   0   0   0   0   0]\n",
      " [  0   0   0   0   0   0   0   0   0   9   0 190   0   0]\n",
      " [  4   0   0   0   0   0   0   0   1   3   0   0  66   0]\n",
      " [  0   0   0   0   0   0   0   0   0   0   0   0   0   0]]\n"
     ]
    },
    {
     "data": {
      "text/plain": [
       "[0.9457446808510638,\n",
       " 0.997872340425532,\n",
       " 0.9925531914893617,\n",
       " 0.9851063829787234,\n",
       " 0.9819148936170212,\n",
       " 0.9606382978723405,\n",
       " 0.9851063829787234,\n",
       " 0.9957446808510638,\n",
       " 0.9989361702127659,\n",
       " 0.9202127659574468,\n",
       " 1.0,\n",
       " 0.9904255319148936,\n",
       " 0.9797872340425532,\n",
       " 1.0]"
      ]
     },
     "execution_count": 53,
     "metadata": {},
     "output_type": "execute_result"
    },
    {
     "data": {
      "text/plain": [
       "array([0.94574468, 0.99255319, 0.98510638, 0.98191489, 0.9606383 ,\n",
       "       0.98510638, 0.99893617, 0.99042553, 0.97978723])"
      ]
     },
     "execution_count": 53,
     "metadata": {},
     "output_type": "execute_result"
    }
   ],
   "source": [
    "# getting per class accuracies\n",
    "import numpy as np\n",
    "from sklearn.metrics import confusion_matrix\n",
    "cm = confusion_matrix(big_diagnoses, np.argmax(y_pred, axis=1), labels = [0,1,2,3,4,5,6,7,8,9,10,11,12,13])\n",
    "print(cm)\n",
    "\n",
    "accs = []\n",
    "for c in range(14):\n",
    "    # code from: https://stackoverflow.com/a/65673016\n",
    "    true_negs = np.sum(np.delete(np.delete(cm, c, axis=0), c, axis=1))\n",
    "    true_pos = cm[c, c]\n",
    "    acc = (true_negs + true_pos)/np.sum(cm)\n",
    "    accs.append(acc)\n",
    "accs\n",
    "\n",
    "indices_we_care_about = np.sum(cm, axis = 1) != 0 # where there is true samples\n",
    "np.array(accs)[indices_we_care_about]\n",
    "# hmm these look pretty misleading..."
   ]
  },
  {
   "cell_type": "code",
   "execution_count": 54,
   "metadata": {},
   "outputs": [
    {
     "data": {
      "text/plain": [
       "array([ True, False,  True,  True,  True,  True,  True, False,  True,\n",
       "       False, False,  True,  True, False])"
      ]
     },
     "execution_count": 54,
     "metadata": {},
     "output_type": "execute_result"
    }
   ],
   "source": [
    "indices_we_care_about"
   ]
  },
  {
   "cell_type": "code",
   "execution_count": 10,
   "metadata": {},
   "outputs": [
    {
     "data": {
      "text/plain": [
       "<module 'Evaluate' from '/Tank/methylation-patterns-code/methylation-patterns-izzy/Evaluate.py'>"
      ]
     },
     "execution_count": 10,
     "metadata": {},
     "output_type": "execute_result"
    },
    {
     "name": "stderr",
     "output_type": "stream",
     "text": [
      "/home/in268/.local/lib/python3.7/site-packages/sklearn/metrics/_ranking.py:681: RuntimeWarning: invalid value encountered in true_divide\n",
      "  recall = tps / tps[-1]\n"
     ]
    },
    {
     "data": {
      "text/plain": [
       "(940, 6)"
      ]
     },
     "execution_count": 10,
     "metadata": {},
     "output_type": "execute_result"
    },
    {
     "data": {
      "text/plain": [
       "(940, 6)"
      ]
     },
     "execution_count": 10,
     "metadata": {},
     "output_type": "execute_result"
    },
    {
     "data": {
      "text/plain": [
       "array([0.96622288, 0.99997222, 0.99212317, 0.99656757, 0.97721525,\n",
       "       0.99463205])"
      ]
     },
     "execution_count": 10,
     "metadata": {},
     "output_type": "execute_result"
    },
    {
     "data": {
      "text/plain": [
       "[0.9662228796844181,\n",
       " nan,\n",
       " 0.9999722222222223,\n",
       " 0.9921231650554959,\n",
       " 0.9965675675675676,\n",
       " nan,\n",
       " 0.9772152514346854,\n",
       " nan,\n",
       " nan,\n",
       " nan,\n",
       " nan,\n",
       " nan,\n",
       " 0.9946320454403595,\n",
       " nan]"
      ]
     },
     "execution_count": 10,
     "metadata": {},
     "output_type": "execute_result"
    },
    {
     "data": {
      "image/png": "[encoded data removed]",
      "text/plain": [
       "<Figure size 432x288 with 1 Axes>"
      ]
     },
     "metadata": {
      "needs_background": "light"
     },
     "output_type": "display_data"
    },
    {
     "data": {
      "image/png": "[encoded data removed]",
      "text/plain": [
       "<Figure size 432x288 with 1 Axes>"
      ]
     },
     "metadata": {
      "needs_background": "light"
     },
     "output_type": "display_data"
    }
   ],
   "source": [
    "# getting pr and roc auc bar plots:\n",
    "\n",
    "import importlib\n",
    "import Evaluate\n",
    "importlib.reload(Evaluate)\n",
    "\n",
    "metrics_path = figure_folder + 'metrics_all_external_DNN.csv'\n",
    "cancer_type = ''\n",
    "model_path = '../NNs/FoundFeatureNN/FeatureNN__best_model'\n",
    "from Evaluate import load_data_from_indices, get_pr_auc, plot_pr_and_roc_auc_bars\n",
    "\n",
    "\n",
    "aucs = get_pr_auc('', metrics_path, model_path, big_dataset, big_diagnoses)\n",
    "# aucs\n",
    "\n",
    "\n",
    "# roc auc:\n",
    "\n",
    "diagnoses_one_hot = pd.get_dummies(pd.Categorical(big_diagnoses, categories = [0,1,2,3,4,5,6,7,8,9,10,11,12,13]))\n",
    "predictions_one_hot = model.predict(big_dataset)\n",
    "\n",
    "# removing the classes where we can't get the roc curve and classes not in external cancer types:\n",
    "# these are HNSC, LIHC, and PRAD:\n",
    "to_remove = ['BLCA', 'HNSC', 'LIHC', 'KIRP', 'LUAD','LUSC', 'PRAD', 'UCEC']\n",
    "cancer_types = ['Normal', 'BLCA', 'BRCA', 'COAD', 'ESCA', 'HNSC', 'KIRC', 'KIRP', 'LIHC', 'LUAD', 'LUSC', 'PRAD', 'THCA', 'UCEC']\n",
    "\n",
    "to_keep = [c for c in range(len(cancer_types)) if cancer_types[c] not in to_remove]\n",
    "\n",
    "diagnoses_one_hot = diagnoses_one_hot.loc[:, to_keep]\n",
    "predictions_one_hot = predictions_one_hot[:, to_keep]\n",
    "\n",
    "\n",
    "\n",
    "diagnoses_one_hot.shape\n",
    "predictions_one_hot.shape\n",
    "from sklearn import metrics as mets\n",
    "\n",
    "roc_auc = mets.roc_auc_score(diagnoses_one_hot, predictions_one_hot, average = None)\n",
    "roc_auc\n",
    "\n",
    "# adding back in nans to roc_auc using to_keep:\n",
    "roc_aucs = []\n",
    "i = 0\n",
    "for c in range(len(cancer_types)):\n",
    "    if c in to_keep:\n",
    "        roc_aucs.append(roc_auc[i])\n",
    "        i = i + 1\n",
    "    else:\n",
    "        roc_aucs.append(np.nan)\n",
    "\n",
    "roc_aucs\n",
    "\n",
    "plot_pr_and_roc_auc_bars(cancer_types, aucs, None, roc_aucs, pr_save_path = figure_folder + 'PR_bar_plot_xgboost_multiclass_external.svg', roc_save_path = figure_folder + 'ROC_bar_plot_xgboost_multiclass_external.svg')\n",
    "\n",
    "\n"
   ]
  },
  {
   "cell_type": "code",
   "execution_count": null,
   "metadata": {},
   "outputs": [],
   "source": []
  },
  {
   "cell_type": "code",
   "execution_count": 9,
   "metadata": {},
   "outputs": [
    {
     "data": {
      "text/plain": [
       "['Normal',\n",
       " 'BLCA',\n",
       " 'BRCA',\n",
       " 'COAD',\n",
       " 'ESCA',\n",
       " 'HNSC',\n",
       " 'KIRC',\n",
       " 'KIRP',\n",
       " 'LIHC',\n",
       " 'LUAD',\n",
       " 'LUSC',\n",
       " 'PRAD',\n",
       " 'THCA',\n",
       " 'UCEC']"
      ]
     },
     "execution_count": 9,
     "metadata": {},
     "output_type": "execute_result"
    }
   ],
   "source": [
    "cancer_types"
   ]
  },
  {
   "cell_type": "code",
   "execution_count": null,
   "metadata": {},
   "outputs": [],
   "source": []
  }
 ],
 "metadata": {
  "kernelspec": {
   "display_name": "Python 3",
   "language": "python",
   "name": "python3"
  },
  "language_info": {
   "codemirror_mode": {
    "name": "ipython",
    "version": 3
   },
   "file_extension": ".py",
   "mimetype": "text/x-python",
   "name": "python",
   "nbconvert_exporter": "python",
   "pygments_lexer": "ipython3",
   "version": "3.6.8"
  }
 },
 "nbformat": 4,
 "nbformat_minor": 4
}
